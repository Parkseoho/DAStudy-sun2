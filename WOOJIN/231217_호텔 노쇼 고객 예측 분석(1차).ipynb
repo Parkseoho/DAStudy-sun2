{
 "cells": [
  {
   "cell_type": "markdown",
   "id": "86eae928",
   "metadata": {},
   "source": [
    "# 호텔 노쇼 고객 예측 분석\n",
    "\n",
    "2023.12.16"
   ]
  },
  {
   "cell_type": "markdown",
   "id": "f9fed36a",
   "metadata": {},
   "source": [
    "---"
   ]
  },
  {
   "cell_type": "markdown",
   "id": "d1337e66",
   "metadata": {},
   "source": [
    "## 1. 프로젝트 개요"
   ]
  },
  {
   "cell_type": "markdown",
   "id": "90453dd7",
   "metadata": {},
   "source": [
    "### 1-1. 프로젝트 요약\n",
    "- 제목: 호텔 노쇼 고객 예측 분석\n",
    "- 설명: ...\n",
    "- 사용한 데이터셋\n",
    "    - [Hotel Bookings Analysis](https://www.kaggle.com/datasets/thedevastator/hotel-bookings-analysis): 호텔 예약, 취소 및 투숙객 세부 정보에 대한 포괄적인 데이터셋\n",
    "- 진행 절차 및 내용\n",
    "    - 데이터 로딩 및 컬럼별 EDA, 상관관계 확인\n",
    "    - ...\n",
    "- 사용한 스킬셋\n",
    "    - pandas, numpy\n",
    "    - matplotlib, seaborn\n",
    "    - ..."
   ]
  },
  {
   "cell_type": "markdown",
   "id": "52d7a1cc",
   "metadata": {},
   "source": [
    "### 1-2. 프로젝트 진행 배경\n",
    "\n",
    "..."
   ]
  },
  {
   "cell_type": "markdown",
   "id": "a6bdae6a",
   "metadata": {},
   "source": [
    "---"
   ]
  },
  {
   "cell_type": "markdown",
   "id": "91e2c594",
   "metadata": {},
   "source": [
    "## 2. 데이터 로딩 및 EDA"
   ]
  },
  {
   "cell_type": "markdown",
   "id": "63499328",
   "metadata": {},
   "source": [
    "### 2-1. 데이터 불러오기"
   ]
  },
  {
   "cell_type": "code",
   "execution_count": 10,
   "id": "eec0d7e3",
   "metadata": {
    "ExecuteTime": {
     "end_time": "2023-12-16T15:31:38.932388Z",
     "start_time": "2023-12-16T15:31:38.821392Z"
    }
   },
   "outputs": [],
   "source": [
    "import pandas as pd\n",
    "import numpy as np\n",
    "import matplotlib.pyplot as plt\n",
    "import seaborn as sns\n",
    "import pickle"
   ]
  },
  {
   "cell_type": "code",
   "execution_count": 3,
   "id": "956e808e",
   "metadata": {
    "ExecuteTime": {
     "end_time": "2023-12-16T15:17:54.172423Z",
     "start_time": "2023-12-16T15:17:53.777054Z"
    }
   },
   "outputs": [
    {
     "data": {
      "text/html": [
       "<div>\n",
       "<style scoped>\n",
       "    .dataframe tbody tr th:only-of-type {\n",
       "        vertical-align: middle;\n",
       "    }\n",
       "\n",
       "    .dataframe tbody tr th {\n",
       "        vertical-align: top;\n",
       "    }\n",
       "\n",
       "    .dataframe thead th {\n",
       "        text-align: right;\n",
       "    }\n",
       "</style>\n",
       "<table border=\"1\" class=\"dataframe\">\n",
       "  <thead>\n",
       "    <tr style=\"text-align: right;\">\n",
       "      <th></th>\n",
       "      <th>hotel</th>\n",
       "      <th>is_canceled</th>\n",
       "      <th>lead_time</th>\n",
       "      <th>arrival_date_year</th>\n",
       "      <th>arrival_date_month</th>\n",
       "      <th>arrival_date_week_number</th>\n",
       "      <th>arrival_date_day_of_month</th>\n",
       "      <th>stays_in_weekend_nights</th>\n",
       "      <th>stays_in_week_nights</th>\n",
       "      <th>adults</th>\n",
       "      <th>...</th>\n",
       "      <th>deposit_type</th>\n",
       "      <th>agent</th>\n",
       "      <th>company</th>\n",
       "      <th>days_in_waiting_list</th>\n",
       "      <th>customer_type</th>\n",
       "      <th>adr</th>\n",
       "      <th>required_car_parking_spaces</th>\n",
       "      <th>total_of_special_requests</th>\n",
       "      <th>reservation_status</th>\n",
       "      <th>reservation_status_date</th>\n",
       "    </tr>\n",
       "    <tr>\n",
       "      <th>index</th>\n",
       "      <th></th>\n",
       "      <th></th>\n",
       "      <th></th>\n",
       "      <th></th>\n",
       "      <th></th>\n",
       "      <th></th>\n",
       "      <th></th>\n",
       "      <th></th>\n",
       "      <th></th>\n",
       "      <th></th>\n",
       "      <th></th>\n",
       "      <th></th>\n",
       "      <th></th>\n",
       "      <th></th>\n",
       "      <th></th>\n",
       "      <th></th>\n",
       "      <th></th>\n",
       "      <th></th>\n",
       "      <th></th>\n",
       "      <th></th>\n",
       "      <th></th>\n",
       "    </tr>\n",
       "  </thead>\n",
       "  <tbody>\n",
       "    <tr>\n",
       "      <th>0</th>\n",
       "      <td>Resort Hotel</td>\n",
       "      <td>0</td>\n",
       "      <td>342</td>\n",
       "      <td>2015</td>\n",
       "      <td>July</td>\n",
       "      <td>27</td>\n",
       "      <td>1</td>\n",
       "      <td>0</td>\n",
       "      <td>0</td>\n",
       "      <td>2</td>\n",
       "      <td>...</td>\n",
       "      <td>No Deposit</td>\n",
       "      <td>NaN</td>\n",
       "      <td>NaN</td>\n",
       "      <td>0</td>\n",
       "      <td>Transient</td>\n",
       "      <td>0.00</td>\n",
       "      <td>0</td>\n",
       "      <td>0</td>\n",
       "      <td>Check-Out</td>\n",
       "      <td>01-07-15</td>\n",
       "    </tr>\n",
       "    <tr>\n",
       "      <th>1</th>\n",
       "      <td>Resort Hotel</td>\n",
       "      <td>0</td>\n",
       "      <td>737</td>\n",
       "      <td>2015</td>\n",
       "      <td>July</td>\n",
       "      <td>27</td>\n",
       "      <td>1</td>\n",
       "      <td>0</td>\n",
       "      <td>0</td>\n",
       "      <td>2</td>\n",
       "      <td>...</td>\n",
       "      <td>No Deposit</td>\n",
       "      <td>NaN</td>\n",
       "      <td>NaN</td>\n",
       "      <td>0</td>\n",
       "      <td>Transient</td>\n",
       "      <td>0.00</td>\n",
       "      <td>0</td>\n",
       "      <td>0</td>\n",
       "      <td>Check-Out</td>\n",
       "      <td>01-07-15</td>\n",
       "    </tr>\n",
       "    <tr>\n",
       "      <th>2</th>\n",
       "      <td>Resort Hotel</td>\n",
       "      <td>0</td>\n",
       "      <td>7</td>\n",
       "      <td>2015</td>\n",
       "      <td>July</td>\n",
       "      <td>27</td>\n",
       "      <td>1</td>\n",
       "      <td>0</td>\n",
       "      <td>1</td>\n",
       "      <td>1</td>\n",
       "      <td>...</td>\n",
       "      <td>No Deposit</td>\n",
       "      <td>NaN</td>\n",
       "      <td>NaN</td>\n",
       "      <td>0</td>\n",
       "      <td>Transient</td>\n",
       "      <td>75.00</td>\n",
       "      <td>0</td>\n",
       "      <td>0</td>\n",
       "      <td>Check-Out</td>\n",
       "      <td>02-07-15</td>\n",
       "    </tr>\n",
       "    <tr>\n",
       "      <th>3</th>\n",
       "      <td>Resort Hotel</td>\n",
       "      <td>0</td>\n",
       "      <td>13</td>\n",
       "      <td>2015</td>\n",
       "      <td>July</td>\n",
       "      <td>27</td>\n",
       "      <td>1</td>\n",
       "      <td>0</td>\n",
       "      <td>1</td>\n",
       "      <td>1</td>\n",
       "      <td>...</td>\n",
       "      <td>No Deposit</td>\n",
       "      <td>304.0</td>\n",
       "      <td>NaN</td>\n",
       "      <td>0</td>\n",
       "      <td>Transient</td>\n",
       "      <td>75.00</td>\n",
       "      <td>0</td>\n",
       "      <td>0</td>\n",
       "      <td>Check-Out</td>\n",
       "      <td>02-07-15</td>\n",
       "    </tr>\n",
       "    <tr>\n",
       "      <th>4</th>\n",
       "      <td>Resort Hotel</td>\n",
       "      <td>0</td>\n",
       "      <td>14</td>\n",
       "      <td>2015</td>\n",
       "      <td>July</td>\n",
       "      <td>27</td>\n",
       "      <td>1</td>\n",
       "      <td>0</td>\n",
       "      <td>2</td>\n",
       "      <td>2</td>\n",
       "      <td>...</td>\n",
       "      <td>No Deposit</td>\n",
       "      <td>240.0</td>\n",
       "      <td>NaN</td>\n",
       "      <td>0</td>\n",
       "      <td>Transient</td>\n",
       "      <td>98.00</td>\n",
       "      <td>0</td>\n",
       "      <td>1</td>\n",
       "      <td>Check-Out</td>\n",
       "      <td>03-07-15</td>\n",
       "    </tr>\n",
       "    <tr>\n",
       "      <th>...</th>\n",
       "      <td>...</td>\n",
       "      <td>...</td>\n",
       "      <td>...</td>\n",
       "      <td>...</td>\n",
       "      <td>...</td>\n",
       "      <td>...</td>\n",
       "      <td>...</td>\n",
       "      <td>...</td>\n",
       "      <td>...</td>\n",
       "      <td>...</td>\n",
       "      <td>...</td>\n",
       "      <td>...</td>\n",
       "      <td>...</td>\n",
       "      <td>...</td>\n",
       "      <td>...</td>\n",
       "      <td>...</td>\n",
       "      <td>...</td>\n",
       "      <td>...</td>\n",
       "      <td>...</td>\n",
       "      <td>...</td>\n",
       "      <td>...</td>\n",
       "    </tr>\n",
       "    <tr>\n",
       "      <th>119385</th>\n",
       "      <td>City Hotel</td>\n",
       "      <td>0</td>\n",
       "      <td>23</td>\n",
       "      <td>2017</td>\n",
       "      <td>August</td>\n",
       "      <td>35</td>\n",
       "      <td>30</td>\n",
       "      <td>2</td>\n",
       "      <td>5</td>\n",
       "      <td>2</td>\n",
       "      <td>...</td>\n",
       "      <td>No Deposit</td>\n",
       "      <td>394.0</td>\n",
       "      <td>NaN</td>\n",
       "      <td>0</td>\n",
       "      <td>Transient</td>\n",
       "      <td>96.14</td>\n",
       "      <td>0</td>\n",
       "      <td>0</td>\n",
       "      <td>Check-Out</td>\n",
       "      <td>06-09-17</td>\n",
       "    </tr>\n",
       "    <tr>\n",
       "      <th>119386</th>\n",
       "      <td>City Hotel</td>\n",
       "      <td>0</td>\n",
       "      <td>102</td>\n",
       "      <td>2017</td>\n",
       "      <td>August</td>\n",
       "      <td>35</td>\n",
       "      <td>31</td>\n",
       "      <td>2</td>\n",
       "      <td>5</td>\n",
       "      <td>3</td>\n",
       "      <td>...</td>\n",
       "      <td>No Deposit</td>\n",
       "      <td>9.0</td>\n",
       "      <td>NaN</td>\n",
       "      <td>0</td>\n",
       "      <td>Transient</td>\n",
       "      <td>225.43</td>\n",
       "      <td>0</td>\n",
       "      <td>2</td>\n",
       "      <td>Check-Out</td>\n",
       "      <td>07-09-17</td>\n",
       "    </tr>\n",
       "    <tr>\n",
       "      <th>119387</th>\n",
       "      <td>City Hotel</td>\n",
       "      <td>0</td>\n",
       "      <td>34</td>\n",
       "      <td>2017</td>\n",
       "      <td>August</td>\n",
       "      <td>35</td>\n",
       "      <td>31</td>\n",
       "      <td>2</td>\n",
       "      <td>5</td>\n",
       "      <td>2</td>\n",
       "      <td>...</td>\n",
       "      <td>No Deposit</td>\n",
       "      <td>9.0</td>\n",
       "      <td>NaN</td>\n",
       "      <td>0</td>\n",
       "      <td>Transient</td>\n",
       "      <td>157.71</td>\n",
       "      <td>0</td>\n",
       "      <td>4</td>\n",
       "      <td>Check-Out</td>\n",
       "      <td>07-09-17</td>\n",
       "    </tr>\n",
       "    <tr>\n",
       "      <th>119388</th>\n",
       "      <td>City Hotel</td>\n",
       "      <td>0</td>\n",
       "      <td>109</td>\n",
       "      <td>2017</td>\n",
       "      <td>August</td>\n",
       "      <td>35</td>\n",
       "      <td>31</td>\n",
       "      <td>2</td>\n",
       "      <td>5</td>\n",
       "      <td>2</td>\n",
       "      <td>...</td>\n",
       "      <td>No Deposit</td>\n",
       "      <td>89.0</td>\n",
       "      <td>NaN</td>\n",
       "      <td>0</td>\n",
       "      <td>Transient</td>\n",
       "      <td>104.40</td>\n",
       "      <td>0</td>\n",
       "      <td>0</td>\n",
       "      <td>Check-Out</td>\n",
       "      <td>07-09-17</td>\n",
       "    </tr>\n",
       "    <tr>\n",
       "      <th>119389</th>\n",
       "      <td>City Hotel</td>\n",
       "      <td>0</td>\n",
       "      <td>205</td>\n",
       "      <td>2017</td>\n",
       "      <td>August</td>\n",
       "      <td>35</td>\n",
       "      <td>29</td>\n",
       "      <td>2</td>\n",
       "      <td>7</td>\n",
       "      <td>2</td>\n",
       "      <td>...</td>\n",
       "      <td>No Deposit</td>\n",
       "      <td>9.0</td>\n",
       "      <td>NaN</td>\n",
       "      <td>0</td>\n",
       "      <td>Transient</td>\n",
       "      <td>151.20</td>\n",
       "      <td>0</td>\n",
       "      <td>2</td>\n",
       "      <td>Check-Out</td>\n",
       "      <td>07-09-17</td>\n",
       "    </tr>\n",
       "  </tbody>\n",
       "</table>\n",
       "<p>119390 rows × 32 columns</p>\n",
       "</div>"
      ],
      "text/plain": [
       "               hotel  is_canceled  lead_time  arrival_date_year  \\\n",
       "index                                                             \n",
       "0       Resort Hotel            0        342               2015   \n",
       "1       Resort Hotel            0        737               2015   \n",
       "2       Resort Hotel            0          7               2015   \n",
       "3       Resort Hotel            0         13               2015   \n",
       "4       Resort Hotel            0         14               2015   \n",
       "...              ...          ...        ...                ...   \n",
       "119385    City Hotel            0         23               2017   \n",
       "119386    City Hotel            0        102               2017   \n",
       "119387    City Hotel            0         34               2017   \n",
       "119388    City Hotel            0        109               2017   \n",
       "119389    City Hotel            0        205               2017   \n",
       "\n",
       "       arrival_date_month  arrival_date_week_number  \\\n",
       "index                                                 \n",
       "0                    July                        27   \n",
       "1                    July                        27   \n",
       "2                    July                        27   \n",
       "3                    July                        27   \n",
       "4                    July                        27   \n",
       "...                   ...                       ...   \n",
       "119385             August                        35   \n",
       "119386             August                        35   \n",
       "119387             August                        35   \n",
       "119388             August                        35   \n",
       "119389             August                        35   \n",
       "\n",
       "        arrival_date_day_of_month  stays_in_weekend_nights  \\\n",
       "index                                                        \n",
       "0                               1                        0   \n",
       "1                               1                        0   \n",
       "2                               1                        0   \n",
       "3                               1                        0   \n",
       "4                               1                        0   \n",
       "...                           ...                      ...   \n",
       "119385                         30                        2   \n",
       "119386                         31                        2   \n",
       "119387                         31                        2   \n",
       "119388                         31                        2   \n",
       "119389                         29                        2   \n",
       "\n",
       "        stays_in_week_nights  adults  ...  deposit_type  agent company  \\\n",
       "index                                 ...                                \n",
       "0                          0       2  ...    No Deposit    NaN     NaN   \n",
       "1                          0       2  ...    No Deposit    NaN     NaN   \n",
       "2                          1       1  ...    No Deposit    NaN     NaN   \n",
       "3                          1       1  ...    No Deposit  304.0     NaN   \n",
       "4                          2       2  ...    No Deposit  240.0     NaN   \n",
       "...                      ...     ...  ...           ...    ...     ...   \n",
       "119385                     5       2  ...    No Deposit  394.0     NaN   \n",
       "119386                     5       3  ...    No Deposit    9.0     NaN   \n",
       "119387                     5       2  ...    No Deposit    9.0     NaN   \n",
       "119388                     5       2  ...    No Deposit   89.0     NaN   \n",
       "119389                     7       2  ...    No Deposit    9.0     NaN   \n",
       "\n",
       "       days_in_waiting_list customer_type     adr  \\\n",
       "index                                               \n",
       "0                         0     Transient    0.00   \n",
       "1                         0     Transient    0.00   \n",
       "2                         0     Transient   75.00   \n",
       "3                         0     Transient   75.00   \n",
       "4                         0     Transient   98.00   \n",
       "...                     ...           ...     ...   \n",
       "119385                    0     Transient   96.14   \n",
       "119386                    0     Transient  225.43   \n",
       "119387                    0     Transient  157.71   \n",
       "119388                    0     Transient  104.40   \n",
       "119389                    0     Transient  151.20   \n",
       "\n",
       "        required_car_parking_spaces  total_of_special_requests  \\\n",
       "index                                                            \n",
       "0                                 0                          0   \n",
       "1                                 0                          0   \n",
       "2                                 0                          0   \n",
       "3                                 0                          0   \n",
       "4                                 0                          1   \n",
       "...                             ...                        ...   \n",
       "119385                            0                          0   \n",
       "119386                            0                          2   \n",
       "119387                            0                          4   \n",
       "119388                            0                          0   \n",
       "119389                            0                          2   \n",
       "\n",
       "        reservation_status reservation_status_date  \n",
       "index                                               \n",
       "0                Check-Out                01-07-15  \n",
       "1                Check-Out                01-07-15  \n",
       "2                Check-Out                02-07-15  \n",
       "3                Check-Out                02-07-15  \n",
       "4                Check-Out                03-07-15  \n",
       "...                    ...                     ...  \n",
       "119385           Check-Out                06-09-17  \n",
       "119386           Check-Out                07-09-17  \n",
       "119387           Check-Out                07-09-17  \n",
       "119388           Check-Out                07-09-17  \n",
       "119389           Check-Out                07-09-17  \n",
       "\n",
       "[119390 rows x 32 columns]"
      ]
     },
     "execution_count": 3,
     "metadata": {},
     "output_type": "execute_result"
    }
   ],
   "source": [
    "hotel_df = pd.read_csv('hotel_bookings.csv', index_col='index')\n",
    "hotel_df"
   ]
  },
  {
   "cell_type": "code",
   "execution_count": 4,
   "id": "4229c6c7",
   "metadata": {
    "ExecuteTime": {
     "end_time": "2023-12-16T15:18:13.038922Z",
     "start_time": "2023-12-16T15:18:12.805516Z"
    }
   },
   "outputs": [
    {
     "name": "stdout",
     "output_type": "stream",
     "text": [
      "<class 'pandas.core.frame.DataFrame'>\n",
      "Int64Index: 119390 entries, 0 to 119389\n",
      "Data columns (total 32 columns):\n",
      " #   Column                          Non-Null Count   Dtype  \n",
      "---  ------                          --------------   -----  \n",
      " 0   hotel                           119390 non-null  object \n",
      " 1   is_canceled                     119390 non-null  int64  \n",
      " 2   lead_time                       119390 non-null  int64  \n",
      " 3   arrival_date_year               119390 non-null  int64  \n",
      " 4   arrival_date_month              119390 non-null  object \n",
      " 5   arrival_date_week_number        119390 non-null  int64  \n",
      " 6   arrival_date_day_of_month       119390 non-null  int64  \n",
      " 7   stays_in_weekend_nights         119390 non-null  int64  \n",
      " 8   stays_in_week_nights            119390 non-null  int64  \n",
      " 9   adults                          119390 non-null  int64  \n",
      " 10  children                        119386 non-null  float64\n",
      " 11  babies                          119390 non-null  int64  \n",
      " 12  meal                            119390 non-null  object \n",
      " 13  country                         118902 non-null  object \n",
      " 14  market_segment                  119390 non-null  object \n",
      " 15  distribution_channel            119390 non-null  object \n",
      " 16  is_repeated_guest               119390 non-null  int64  \n",
      " 17  previous_cancellations          119390 non-null  int64  \n",
      " 18  previous_bookings_not_canceled  119390 non-null  int64  \n",
      " 19  reserved_room_type              119390 non-null  object \n",
      " 20  assigned_room_type              119390 non-null  object \n",
      " 21  booking_changes                 119390 non-null  int64  \n",
      " 22  deposit_type                    119390 non-null  object \n",
      " 23  agent                           103050 non-null  float64\n",
      " 24  company                         6797 non-null    float64\n",
      " 25  days_in_waiting_list            119390 non-null  int64  \n",
      " 26  customer_type                   119390 non-null  object \n",
      " 27  adr                             119390 non-null  float64\n",
      " 28  required_car_parking_spaces     119390 non-null  int64  \n",
      " 29  total_of_special_requests       119390 non-null  int64  \n",
      " 30  reservation_status              119390 non-null  object \n",
      " 31  reservation_status_date         119390 non-null  object \n",
      "dtypes: float64(4), int64(16), object(12)\n",
      "memory usage: 30.1+ MB\n"
     ]
    }
   ],
   "source": [
    "hotel_df.info()"
   ]
  },
  {
   "cell_type": "code",
   "execution_count": 5,
   "id": "9f2d86e5",
   "metadata": {
    "ExecuteTime": {
     "end_time": "2023-12-16T15:18:24.851041Z",
     "start_time": "2023-12-16T15:18:24.622665Z"
    }
   },
   "outputs": [
    {
     "data": {
      "text/plain": [
       "hotel                                  0\n",
       "is_canceled                            0\n",
       "lead_time                              0\n",
       "arrival_date_year                      0\n",
       "arrival_date_month                     0\n",
       "arrival_date_week_number               0\n",
       "arrival_date_day_of_month              0\n",
       "stays_in_weekend_nights                0\n",
       "stays_in_week_nights                   0\n",
       "adults                                 0\n",
       "children                               4\n",
       "babies                                 0\n",
       "meal                                   0\n",
       "country                              488\n",
       "market_segment                         0\n",
       "distribution_channel                   0\n",
       "is_repeated_guest                      0\n",
       "previous_cancellations                 0\n",
       "previous_bookings_not_canceled         0\n",
       "reserved_room_type                     0\n",
       "assigned_room_type                     0\n",
       "booking_changes                        0\n",
       "deposit_type                           0\n",
       "agent                              16340\n",
       "company                           112593\n",
       "days_in_waiting_list                   0\n",
       "customer_type                          0\n",
       "adr                                    0\n",
       "required_car_parking_spaces            0\n",
       "total_of_special_requests              0\n",
       "reservation_status                     0\n",
       "reservation_status_date                0\n",
       "dtype: int64"
      ]
     },
     "execution_count": 5,
     "metadata": {},
     "output_type": "execute_result"
    }
   ],
   "source": [
    "hotel_df.isna().sum()"
   ]
  },
  {
   "cell_type": "markdown",
   "id": "34448e77",
   "metadata": {},
   "source": [
    "|컬럼명|설명|\n",
    "|:---:|:---|\n",
    "|hotel|호텔의 종류 (Categorical)|\n",
    "|is_canceled|예약 취소 여부 (Binary)|\n",
    "|lead_time|예약일과 도착일 사이의 일수 (Numeric)|\n",
    "|arrival_date_year|도착일 연도 (Numeric)|\n",
    "|arrival_date_month|도착일 월 (Categorical)|\n",
    "|arrival_date_week_number|도착일 주 (Numeric)|\n",
    "|arrival_date_day_of_month|도착일 일 (Numeric)|\n",
    "|stays_in_weekend_nights|호텔에 투숙하거나 예약한 주말 밤의 수 (Numeric)|\n",
    "|stays_in_week_nights|호텔에 투숙하거나 예약한 주박 수 (Numeric)|\n",
    "|adults, children, babies|연령대별 투숙객수|\n",
    "|meal|예약 패키지에 포함된 식사 종류 (Categorical)|\n",
    "|country & market_segment & distribution_channel|인구통계학적 및 고객 분류 정보|\n",
    "|is_repeated_guest|반복 방문자 여부|\n",
    "|previous_cancellations|이전 예약을 취소한 횟수|\n",
    "|previous_bookings_not_canceled|취소하지 않은 이전 예약 수|\n",
    "|reserved_room_type|원래 예약된 유형의 객실|\n",
    "|assigned_room_type|최종적으로 할당된 객실 유형|\n",
    "|booking_changes|도착 전 예약 변경 횟수|\n",
    "|deposit_type|예약을 위해 입금된 유형 (Categorical)|\n",
    "|agent & company|예약에 관련된 여행사 & 회사|\n",
    "|days_in_waiting_list|예약이 확인 또는 취소되기 전 대기 목록에 있었던 일수|\n",
    "|customer_type|고객 유형 정보 (Categorical)|\n",
    "|adr|객실당 일평균 요금(전체 비용/숙박 일수) (Numeric)|"
   ]
  },
  {
   "cell_type": "markdown",
   "id": "fd0b53dd",
   "metadata": {},
   "source": [
    "### 2-2. 데이터 분포 확인 및 전처리"
   ]
  },
  {
   "cell_type": "markdown",
   "id": "f452af00",
   "metadata": {},
   "source": [
    "#### 2-2-1. 호텔 종류"
   ]
  },
  {
   "cell_type": "code",
   "execution_count": 32,
   "id": "7e816b4e",
   "metadata": {
    "ExecuteTime": {
     "end_time": "2023-12-16T15:37:52.803806Z",
     "start_time": "2023-12-16T15:37:52.684209Z"
    }
   },
   "outputs": [
    {
     "data": {
      "text/html": [
       "<div>\n",
       "<style scoped>\n",
       "    .dataframe tbody tr th:only-of-type {\n",
       "        vertical-align: middle;\n",
       "    }\n",
       "\n",
       "    .dataframe tbody tr th {\n",
       "        vertical-align: top;\n",
       "    }\n",
       "\n",
       "    .dataframe thead th {\n",
       "        text-align: right;\n",
       "    }\n",
       "</style>\n",
       "<table border=\"1\" class=\"dataframe\">\n",
       "  <thead>\n",
       "    <tr style=\"text-align: right;\">\n",
       "      <th></th>\n",
       "      <th>hotel</th>\n",
       "    </tr>\n",
       "  </thead>\n",
       "  <tbody>\n",
       "    <tr>\n",
       "      <th>City Hotel</th>\n",
       "      <td>79330</td>\n",
       "    </tr>\n",
       "    <tr>\n",
       "      <th>Resort Hotel</th>\n",
       "      <td>40060</td>\n",
       "    </tr>\n",
       "  </tbody>\n",
       "</table>\n",
       "</div>"
      ],
      "text/plain": [
       "              hotel\n",
       "City Hotel    79330\n",
       "Resort Hotel  40060"
      ]
     },
     "execution_count": 32,
     "metadata": {},
     "output_type": "execute_result"
    }
   ],
   "source": [
    "hotel_df['hotel'].value_counts().to_frame()"
   ]
  },
  {
   "cell_type": "code",
   "execution_count": 24,
   "id": "4b6ac309",
   "metadata": {
    "ExecuteTime": {
     "end_time": "2023-12-16T15:34:58.178989Z",
     "start_time": "2023-12-16T15:34:57.980956Z"
    }
   },
   "outputs": [
    {
     "data": {
      "image/png": "[encoded data removed]",
      "text/plain": [
       "<Figure size 640x480 with 1 Axes>"
      ]
     },
     "metadata": {},
     "output_type": "display_data"
    }
   ],
   "source": [
    "plt.pie(\n",
    "    hotel_df['hotel'].value_counts(),\n",
    "    labels=hotel_df['hotel'].value_counts().index,\n",
    "    autopct=\"%.1f%%\"\n",
    ")\n",
    "plt.title('호텔 종류')\n",
    "plt.show()"
   ]
  },
  {
   "cell_type": "markdown",
   "id": "6f6d3d5d",
   "metadata": {},
   "source": [
    "#### 2-2-2. 예약 취소"
   ]
  },
  {
   "cell_type": "code",
   "execution_count": 31,
   "id": "0fd82d65",
   "metadata": {
    "ExecuteTime": {
     "end_time": "2023-12-16T15:37:46.499759Z",
     "start_time": "2023-12-16T15:37:46.380531Z"
    }
   },
   "outputs": [
    {
     "data": {
      "text/html": [
       "<div>\n",
       "<style scoped>\n",
       "    .dataframe tbody tr th:only-of-type {\n",
       "        vertical-align: middle;\n",
       "    }\n",
       "\n",
       "    .dataframe tbody tr th {\n",
       "        vertical-align: top;\n",
       "    }\n",
       "\n",
       "    .dataframe thead th {\n",
       "        text-align: right;\n",
       "    }\n",
       "</style>\n",
       "<table border=\"1\" class=\"dataframe\">\n",
       "  <thead>\n",
       "    <tr style=\"text-align: right;\">\n",
       "      <th></th>\n",
       "      <th>is_canceled</th>\n",
       "    </tr>\n",
       "  </thead>\n",
       "  <tbody>\n",
       "    <tr>\n",
       "      <th>0</th>\n",
       "      <td>75166</td>\n",
       "    </tr>\n",
       "    <tr>\n",
       "      <th>1</th>\n",
       "      <td>44224</td>\n",
       "    </tr>\n",
       "  </tbody>\n",
       "</table>\n",
       "</div>"
      ],
      "text/plain": [
       "   is_canceled\n",
       "0        75166\n",
       "1        44224"
      ]
     },
     "execution_count": 31,
     "metadata": {},
     "output_type": "execute_result"
    }
   ],
   "source": [
    "hotel_df['is_canceled'].value_counts().to_frame()"
   ]
  },
  {
   "cell_type": "code",
   "execution_count": 30,
   "id": "cdabee00",
   "metadata": {
    "ExecuteTime": {
     "end_time": "2023-12-16T15:37:18.892141Z",
     "start_time": "2023-12-16T15:37:18.717129Z"
    }
   },
   "outputs": [
    {
     "data": {
      "image/png": "[encoded data removed]",
      "text/plain": [
       "<Figure size 640x480 with 1 Axes>"
      ]
     },
     "metadata": {},
     "output_type": "display_data"
    }
   ],
   "source": [
    "plt.pie(\n",
    "    hotel_df['is_canceled'].value_counts(),\n",
    "    labels=hotel_df['is_canceled'].value_counts().index.map({0: '정상 이용', 1: '예약 취소'}),\n",
    "    autopct=\"%.1f%%\"\n",
    ")\n",
    "plt.title('예약 취소')\n",
    "plt.show()"
   ]
  },
  {
   "cell_type": "markdown",
   "id": "e8a4ae99",
   "metadata": {},
   "source": [
    "생각보다 예약 취소한 비율이 많다."
   ]
  },
  {
   "cell_type": "markdown",
   "id": "b672bb33",
   "metadata": {},
   "source": [
    "#### 2-1-3. 도착 일자"
   ]
  },
  {
   "cell_type": "code",
   "execution_count": 39,
   "id": "2bf30bbd",
   "metadata": {
    "ExecuteTime": {
     "end_time": "2023-12-16T15:40:14.109477Z",
     "start_time": "2023-12-16T15:40:14.022445Z"
    }
   },
   "outputs": [
    {
     "data": {
      "text/html": [
       "<div>\n",
       "<style scoped>\n",
       "    .dataframe tbody tr th:only-of-type {\n",
       "        vertical-align: middle;\n",
       "    }\n",
       "\n",
       "    .dataframe tbody tr th {\n",
       "        vertical-align: top;\n",
       "    }\n",
       "\n",
       "    .dataframe thead th {\n",
       "        text-align: right;\n",
       "    }\n",
       "</style>\n",
       "<table border=\"1\" class=\"dataframe\">\n",
       "  <thead>\n",
       "    <tr style=\"text-align: right;\">\n",
       "      <th></th>\n",
       "      <th>index</th>\n",
       "      <th>arrival_date_year</th>\n",
       "    </tr>\n",
       "  </thead>\n",
       "  <tbody>\n",
       "    <tr>\n",
       "      <th>0</th>\n",
       "      <td>2015</td>\n",
       "      <td>21996</td>\n",
       "    </tr>\n",
       "    <tr>\n",
       "      <th>1</th>\n",
       "      <td>2016</td>\n",
       "      <td>56707</td>\n",
       "    </tr>\n",
       "    <tr>\n",
       "      <th>2</th>\n",
       "      <td>2017</td>\n",
       "      <td>40687</td>\n",
       "    </tr>\n",
       "  </tbody>\n",
       "</table>\n",
       "</div>"
      ],
      "text/plain": [
       "   index  arrival_date_year\n",
       "0   2015              21996\n",
       "1   2016              56707\n",
       "2   2017              40687"
      ]
     },
     "execution_count": 39,
     "metadata": {},
     "output_type": "execute_result"
    }
   ],
   "source": [
    "hotel_df['arrival_date_year'].value_counts().to_frame().reset_index().sort_values('index').reset_index(drop=True)"
   ]
  },
  {
   "cell_type": "code",
   "execution_count": 42,
   "id": "7d9f1759",
   "metadata": {
    "ExecuteTime": {
     "end_time": "2023-12-16T15:41:19.854985Z",
     "start_time": "2023-12-16T15:41:19.677172Z"
    }
   },
   "outputs": [
    {
     "data": {
      "image/png": "[encoded data removed]",
      "text/plain": [
       "<Figure size 640x480 with 1 Axes>"
      ]
     },
     "metadata": {},
     "output_type": "display_data"
    }
   ],
   "source": [
    "plt.pie(\n",
    "    hotel_df['arrival_date_year'].value_counts().to_frame().reset_index().sort_values('index')['arrival_date_year'],\n",
    "    labels=hotel_df['arrival_date_year'].value_counts().to_frame().reset_index().sort_values('index')['index'],\n",
    "    autopct=\"%.1f%%\"\n",
    ")\n",
    "plt.title('도착 연도')\n",
    "plt.show()"
   ]
  },
  {
   "cell_type": "markdown",
   "id": "44c145e3",
   "metadata": {},
   "source": [
    "2015~2017년의 분포이며 2016년 데이터가 가장 많다."
   ]
  },
  {
   "cell_type": "code",
   "execution_count": 62,
   "id": "4baca96b",
   "metadata": {
    "ExecuteTime": {
     "end_time": "2023-12-16T15:51:49.590211Z",
     "start_time": "2023-12-16T15:51:49.459094Z"
    }
   },
   "outputs": [
    {
     "data": {
      "text/html": [
       "<div>\n",
       "<style scoped>\n",
       "    .dataframe tbody tr th:only-of-type {\n",
       "        vertical-align: middle;\n",
       "    }\n",
       "\n",
       "    .dataframe tbody tr th {\n",
       "        vertical-align: top;\n",
       "    }\n",
       "\n",
       "    .dataframe thead th {\n",
       "        text-align: right;\n",
       "    }\n",
       "</style>\n",
       "<table border=\"1\" class=\"dataframe\">\n",
       "  <thead>\n",
       "    <tr style=\"text-align: right;\">\n",
       "      <th></th>\n",
       "      <th>index</th>\n",
       "      <th>arrival_date_month</th>\n",
       "    </tr>\n",
       "  </thead>\n",
       "  <tbody>\n",
       "    <tr>\n",
       "      <th>0</th>\n",
       "      <td>January</td>\n",
       "      <td>5929</td>\n",
       "    </tr>\n",
       "    <tr>\n",
       "      <th>1</th>\n",
       "      <td>February</td>\n",
       "      <td>8068</td>\n",
       "    </tr>\n",
       "    <tr>\n",
       "      <th>2</th>\n",
       "      <td>March</td>\n",
       "      <td>9794</td>\n",
       "    </tr>\n",
       "    <tr>\n",
       "      <th>3</th>\n",
       "      <td>April</td>\n",
       "      <td>11089</td>\n",
       "    </tr>\n",
       "    <tr>\n",
       "      <th>4</th>\n",
       "      <td>May</td>\n",
       "      <td>11791</td>\n",
       "    </tr>\n",
       "    <tr>\n",
       "      <th>5</th>\n",
       "      <td>June</td>\n",
       "      <td>10939</td>\n",
       "    </tr>\n",
       "    <tr>\n",
       "      <th>6</th>\n",
       "      <td>July</td>\n",
       "      <td>12661</td>\n",
       "    </tr>\n",
       "    <tr>\n",
       "      <th>7</th>\n",
       "      <td>August</td>\n",
       "      <td>13877</td>\n",
       "    </tr>\n",
       "    <tr>\n",
       "      <th>8</th>\n",
       "      <td>September</td>\n",
       "      <td>10508</td>\n",
       "    </tr>\n",
       "    <tr>\n",
       "      <th>9</th>\n",
       "      <td>October</td>\n",
       "      <td>11160</td>\n",
       "    </tr>\n",
       "    <tr>\n",
       "      <th>10</th>\n",
       "      <td>November</td>\n",
       "      <td>6794</td>\n",
       "    </tr>\n",
       "    <tr>\n",
       "      <th>11</th>\n",
       "      <td>December</td>\n",
       "      <td>6780</td>\n",
       "    </tr>\n",
       "  </tbody>\n",
       "</table>\n",
       "</div>"
      ],
      "text/plain": [
       "        index  arrival_date_month\n",
       "0     January                5929\n",
       "1    February                8068\n",
       "2       March                9794\n",
       "3       April               11089\n",
       "4         May               11791\n",
       "5        June               10939\n",
       "6        July               12661\n",
       "7      August               13877\n",
       "8   September               10508\n",
       "9     October               11160\n",
       "10   November                6794\n",
       "11   December                6780"
      ]
     },
     "execution_count": 62,
     "metadata": {},
     "output_type": "execute_result"
    }
   ],
   "source": [
    "# 월별 집계\n",
    "arrival_month_df = hotel_df['arrival_date_month'].value_counts().to_frame().reset_index()\n",
    "\n",
    "# 월 순서에 따라 정렬\n",
    "month_order = [\n",
    "    'January', 'February', 'March', 'April', 'May', 'June',\n",
    "    'July', 'August', 'September', 'October', 'November', 'December'\n",
    "]\n",
    "arrival_month_df['index'] = pd.Categorical(\n",
    "    arrival_month_df['index'], categories=month_order, ordered=True\n",
    ")\n",
    "sorted_arrival_month_df = arrival_month_df.sort_values('index').reset_index(drop=True)\n",
    "\n",
    "sorted_arrival_month_df"
   ]
  },
  {
   "cell_type": "code",
   "execution_count": 72,
   "id": "d2e2e773",
   "metadata": {
    "ExecuteTime": {
     "end_time": "2023-12-16T15:55:37.283374Z",
     "start_time": "2023-12-16T15:55:37.059096Z"
    }
   },
   "outputs": [
    {
     "data": {
      "image/png": "[encoded data removed]",
      "text/plain": [
       "<Figure size 640x480 with 1 Axes>"
      ]
     },
     "metadata": {},
     "output_type": "display_data"
    }
   ],
   "source": [
    "max_index = sorted_arrival_month_df[\n",
    "    sorted_arrival_month_df['arrival_date_month'] == sorted_arrival_month_df['arrival_date_month'].max()\n",
    "].index[0]\n",
    "\n",
    "plt.pie(\n",
    "    sorted_arrival_month_df['arrival_date_month'],\n",
    "    explode=[0.1 if i == max_index else 0 for i in range(len(sorted_arrival_month_df))],\n",
    "    labels=sorted_arrival_month_df['index'],\n",
    "    autopct=\"%.1f%%\"\n",
    ")\n",
    "\n",
    "plt.title('도착 월')\n",
    "plt.show()"
   ]
  },
  {
   "cell_type": "code",
   "execution_count": 99,
   "id": "99ec3f29",
   "metadata": {
    "ExecuteTime": {
     "end_time": "2023-12-16T16:04:03.531747Z",
     "start_time": "2023-12-16T16:04:03.274052Z"
    }
   },
   "outputs": [
    {
     "data": {
      "image/png": "[encoded data removed]",
      "text/plain": [
       "<Figure size 1000x600 with 1 Axes>"
      ]
     },
     "metadata": {},
     "output_type": "display_data"
    }
   ],
   "source": [
    "plt.figure(figsize=(10, 6))\n",
    "plt.plot(\n",
    "    'index', 'arrival_date_month', data=sorted_arrival_month_df\n",
    ")\n",
    "\n",
    "plt.title('도착 월')\n",
    "plt.axhline(sorted_arrival_month_df['arrival_date_month'].max(), linestyle='--', color='red')\n",
    "plt.axvline(max_index, linestyle='--', color='red')\n",
    "plt.yticks([i for i in range(5000, 15001, 2000)] + [sorted_arrival_month_df['arrival_date_month'].max()])\n",
    "\n",
    "plt.show()"
   ]
  },
  {
   "cell_type": "markdown",
   "id": "ed178c1d",
   "metadata": {},
   "source": [
    "**8월**이 가장 많고 전반적으로 여름 휴가철이 많은 편에 속한다. 반면 겨울철은 여름철의 절반 수준으로 낮다."
   ]
  },
  {
   "cell_type": "markdown",
   "id": "348f5ab5",
   "metadata": {},
   "source": [
    "#### 2-1-4. 예약 일정"
   ]
  },
  {
   "cell_type": "code",
   "execution_count": 101,
   "id": "1e4d63f8",
   "metadata": {
    "ExecuteTime": {
     "end_time": "2023-12-16T16:06:27.221476Z",
     "start_time": "2023-12-16T16:06:27.098705Z"
    }
   },
   "outputs": [
    {
     "data": {
      "text/plain": [
       "count    119390.000000\n",
       "mean        104.011416\n",
       "std         106.863097\n",
       "min           0.000000\n",
       "25%          18.000000\n",
       "50%          69.000000\n",
       "75%         160.000000\n",
       "max         737.000000\n",
       "Name: lead_time, dtype: float64"
      ]
     },
     "execution_count": 101,
     "metadata": {},
     "output_type": "execute_result"
    }
   ],
   "source": [
    "hotel_df['lead_time'].describe()"
   ]
  },
  {
   "cell_type": "code",
   "execution_count": 115,
   "id": "e7c45b7d",
   "metadata": {
    "ExecuteTime": {
     "end_time": "2023-12-16T16:08:55.559543Z",
     "start_time": "2023-12-16T16:08:55.371298Z"
    }
   },
   "outputs": [
    {
     "data": {
      "image/png": "[encoded data removed]",
      "text/plain": [
       "<Figure size 640x480 with 1 Axes>"
      ]
     },
     "metadata": {},
     "output_type": "display_data"
    }
   ],
   "source": [
    "plt.boxplot(hotel_df['lead_time'], labels=['lead_time'])\n",
    "plt.title('리드 타임 분포')\n",
    "plt.show()"
   ]
  },
  {
   "cell_type": "markdown",
   "id": "1d2aa0e1",
   "metadata": {},
   "source": [
    "일반적으로 방문하기 **18일 ~ 160일 전**에 예약하는 것으로 확인된다. 당일 예약의 사례도 있고 737일(2년 전...?)의 사례도 있다."
   ]
  },
  {
   "cell_type": "code",
   "execution_count": 138,
   "id": "81837438",
   "metadata": {
    "ExecuteTime": {
     "end_time": "2023-12-16T16:25:19.762981Z",
     "start_time": "2023-12-16T16:25:19.650235Z"
    }
   },
   "outputs": [
    {
     "data": {
      "text/html": [
       "<div>\n",
       "<style scoped>\n",
       "    .dataframe tbody tr th:only-of-type {\n",
       "        vertical-align: middle;\n",
       "    }\n",
       "\n",
       "    .dataframe tbody tr th {\n",
       "        vertical-align: top;\n",
       "    }\n",
       "\n",
       "    .dataframe thead th {\n",
       "        text-align: right;\n",
       "    }\n",
       "</style>\n",
       "<table border=\"1\" class=\"dataframe\">\n",
       "  <thead>\n",
       "    <tr style=\"text-align: right;\">\n",
       "      <th></th>\n",
       "      <th>stays_in_weekend_nights</th>\n",
       "    </tr>\n",
       "    <tr>\n",
       "      <th>index</th>\n",
       "      <th></th>\n",
       "    </tr>\n",
       "  </thead>\n",
       "  <tbody>\n",
       "    <tr>\n",
       "      <th>0</th>\n",
       "      <td>51998</td>\n",
       "    </tr>\n",
       "    <tr>\n",
       "      <th>1</th>\n",
       "      <td>30626</td>\n",
       "    </tr>\n",
       "    <tr>\n",
       "      <th>2</th>\n",
       "      <td>33308</td>\n",
       "    </tr>\n",
       "    <tr>\n",
       "      <th>3</th>\n",
       "      <td>1259</td>\n",
       "    </tr>\n",
       "    <tr>\n",
       "      <th>4</th>\n",
       "      <td>1855</td>\n",
       "    </tr>\n",
       "    <tr>\n",
       "      <th>5</th>\n",
       "      <td>79</td>\n",
       "    </tr>\n",
       "    <tr>\n",
       "      <th>6</th>\n",
       "      <td>153</td>\n",
       "    </tr>\n",
       "    <tr>\n",
       "      <th>7</th>\n",
       "      <td>19</td>\n",
       "    </tr>\n",
       "    <tr>\n",
       "      <th>8</th>\n",
       "      <td>60</td>\n",
       "    </tr>\n",
       "    <tr>\n",
       "      <th>9</th>\n",
       "      <td>11</td>\n",
       "    </tr>\n",
       "    <tr>\n",
       "      <th>10</th>\n",
       "      <td>7</td>\n",
       "    </tr>\n",
       "    <tr>\n",
       "      <th>12</th>\n",
       "      <td>5</td>\n",
       "    </tr>\n",
       "    <tr>\n",
       "      <th>13</th>\n",
       "      <td>3</td>\n",
       "    </tr>\n",
       "    <tr>\n",
       "      <th>14</th>\n",
       "      <td>2</td>\n",
       "    </tr>\n",
       "    <tr>\n",
       "      <th>16</th>\n",
       "      <td>3</td>\n",
       "    </tr>\n",
       "    <tr>\n",
       "      <th>18</th>\n",
       "      <td>1</td>\n",
       "    </tr>\n",
       "    <tr>\n",
       "      <th>19</th>\n",
       "      <td>1</td>\n",
       "    </tr>\n",
       "  </tbody>\n",
       "</table>\n",
       "</div>"
      ],
      "text/plain": [
       "       stays_in_weekend_nights\n",
       "index                         \n",
       "0                        51998\n",
       "1                        30626\n",
       "2                        33308\n",
       "3                         1259\n",
       "4                         1855\n",
       "5                           79\n",
       "6                          153\n",
       "7                           19\n",
       "8                           60\n",
       "9                           11\n",
       "10                           7\n",
       "12                           5\n",
       "13                           3\n",
       "14                           2\n",
       "16                           3\n",
       "18                           1\n",
       "19                           1"
      ]
     },
     "execution_count": 138,
     "metadata": {},
     "output_type": "execute_result"
    }
   ],
   "source": [
    "hotel_df['stays_in_weekend_nights'].value_counts().to_frame().reset_index().sort_values('index').set_index('index')"
   ]
  },
  {
   "cell_type": "markdown",
   "id": "df4cff58",
   "metadata": {},
   "source": [
    "숙박 일정 중 주말 밤을 안 끼는 경우가 가장 많다. 최대값은 19번인데, 주말 밤을 19번이나 보냈다는 건 두 달 이상을 연속으로 투숙한 케이스로 이해할 수 있다."
   ]
  },
  {
   "cell_type": "code",
   "execution_count": 139,
   "id": "88b77664",
   "metadata": {
    "ExecuteTime": {
     "end_time": "2023-12-16T16:25:26.712895Z",
     "start_time": "2023-12-16T16:25:26.577769Z"
    }
   },
   "outputs": [
    {
     "data": {
      "text/html": [
       "<div>\n",
       "<style scoped>\n",
       "    .dataframe tbody tr th:only-of-type {\n",
       "        vertical-align: middle;\n",
       "    }\n",
       "\n",
       "    .dataframe tbody tr th {\n",
       "        vertical-align: top;\n",
       "    }\n",
       "\n",
       "    .dataframe thead th {\n",
       "        text-align: right;\n",
       "    }\n",
       "</style>\n",
       "<table border=\"1\" class=\"dataframe\">\n",
       "  <thead>\n",
       "    <tr style=\"text-align: right;\">\n",
       "      <th></th>\n",
       "      <th>stays_in_week_nights</th>\n",
       "    </tr>\n",
       "    <tr>\n",
       "      <th>index</th>\n",
       "      <th></th>\n",
       "    </tr>\n",
       "  </thead>\n",
       "  <tbody>\n",
       "    <tr>\n",
       "      <th>0</th>\n",
       "      <td>7645</td>\n",
       "    </tr>\n",
       "    <tr>\n",
       "      <th>1</th>\n",
       "      <td>30310</td>\n",
       "    </tr>\n",
       "    <tr>\n",
       "      <th>2</th>\n",
       "      <td>33684</td>\n",
       "    </tr>\n",
       "    <tr>\n",
       "      <th>3</th>\n",
       "      <td>22258</td>\n",
       "    </tr>\n",
       "    <tr>\n",
       "      <th>4</th>\n",
       "      <td>9563</td>\n",
       "    </tr>\n",
       "    <tr>\n",
       "      <th>5</th>\n",
       "      <td>11077</td>\n",
       "    </tr>\n",
       "    <tr>\n",
       "      <th>6</th>\n",
       "      <td>1499</td>\n",
       "    </tr>\n",
       "    <tr>\n",
       "      <th>7</th>\n",
       "      <td>1029</td>\n",
       "    </tr>\n",
       "    <tr>\n",
       "      <th>8</th>\n",
       "      <td>656</td>\n",
       "    </tr>\n",
       "    <tr>\n",
       "      <th>9</th>\n",
       "      <td>231</td>\n",
       "    </tr>\n",
       "    <tr>\n",
       "      <th>10</th>\n",
       "      <td>1036</td>\n",
       "    </tr>\n",
       "    <tr>\n",
       "      <th>11</th>\n",
       "      <td>56</td>\n",
       "    </tr>\n",
       "    <tr>\n",
       "      <th>12</th>\n",
       "      <td>42</td>\n",
       "    </tr>\n",
       "    <tr>\n",
       "      <th>13</th>\n",
       "      <td>27</td>\n",
       "    </tr>\n",
       "    <tr>\n",
       "      <th>14</th>\n",
       "      <td>35</td>\n",
       "    </tr>\n",
       "    <tr>\n",
       "      <th>15</th>\n",
       "      <td>85</td>\n",
       "    </tr>\n",
       "    <tr>\n",
       "      <th>16</th>\n",
       "      <td>16</td>\n",
       "    </tr>\n",
       "    <tr>\n",
       "      <th>17</th>\n",
       "      <td>4</td>\n",
       "    </tr>\n",
       "    <tr>\n",
       "      <th>18</th>\n",
       "      <td>6</td>\n",
       "    </tr>\n",
       "    <tr>\n",
       "      <th>19</th>\n",
       "      <td>44</td>\n",
       "    </tr>\n",
       "    <tr>\n",
       "      <th>20</th>\n",
       "      <td>41</td>\n",
       "    </tr>\n",
       "    <tr>\n",
       "      <th>21</th>\n",
       "      <td>15</td>\n",
       "    </tr>\n",
       "    <tr>\n",
       "      <th>22</th>\n",
       "      <td>7</td>\n",
       "    </tr>\n",
       "    <tr>\n",
       "      <th>24</th>\n",
       "      <td>3</td>\n",
       "    </tr>\n",
       "    <tr>\n",
       "      <th>25</th>\n",
       "      <td>6</td>\n",
       "    </tr>\n",
       "    <tr>\n",
       "      <th>26</th>\n",
       "      <td>1</td>\n",
       "    </tr>\n",
       "    <tr>\n",
       "      <th>30</th>\n",
       "      <td>5</td>\n",
       "    </tr>\n",
       "    <tr>\n",
       "      <th>32</th>\n",
       "      <td>1</td>\n",
       "    </tr>\n",
       "    <tr>\n",
       "      <th>33</th>\n",
       "      <td>1</td>\n",
       "    </tr>\n",
       "    <tr>\n",
       "      <th>34</th>\n",
       "      <td>1</td>\n",
       "    </tr>\n",
       "    <tr>\n",
       "      <th>35</th>\n",
       "      <td>1</td>\n",
       "    </tr>\n",
       "    <tr>\n",
       "      <th>40</th>\n",
       "      <td>2</td>\n",
       "    </tr>\n",
       "    <tr>\n",
       "      <th>41</th>\n",
       "      <td>1</td>\n",
       "    </tr>\n",
       "    <tr>\n",
       "      <th>42</th>\n",
       "      <td>1</td>\n",
       "    </tr>\n",
       "    <tr>\n",
       "      <th>50</th>\n",
       "      <td>1</td>\n",
       "    </tr>\n",
       "  </tbody>\n",
       "</table>\n",
       "</div>"
      ],
      "text/plain": [
       "       stays_in_week_nights\n",
       "index                      \n",
       "0                      7645\n",
       "1                     30310\n",
       "2                     33684\n",
       "3                     22258\n",
       "4                      9563\n",
       "5                     11077\n",
       "6                      1499\n",
       "7                      1029\n",
       "8                       656\n",
       "9                       231\n",
       "10                     1036\n",
       "11                       56\n",
       "12                       42\n",
       "13                       27\n",
       "14                       35\n",
       "15                       85\n",
       "16                       16\n",
       "17                        4\n",
       "18                        6\n",
       "19                       44\n",
       "20                       41\n",
       "21                       15\n",
       "22                        7\n",
       "24                        3\n",
       "25                        6\n",
       "26                        1\n",
       "30                        5\n",
       "32                        1\n",
       "33                        1\n",
       "34                        1\n",
       "35                        1\n",
       "40                        2\n",
       "41                        1\n",
       "42                        1\n",
       "50                        1"
      ]
     },
     "execution_count": 139,
     "metadata": {},
     "output_type": "execute_result"
    }
   ],
   "source": [
    "hotel_df['stays_in_week_nights'].value_counts().to_frame().reset_index().sort_values('index').set_index('index')"
   ]
  },
  {
   "cell_type": "markdown",
   "id": "6d51a901",
   "metadata": {},
   "source": [
    "평일의 경우 1박 ~ 3박의 케이스가 가장 많다.\n",
    "\n",
    "근데 총 몇 박인지를 설명하는 컬럼이 없네? 파생 컬럼을 하나 만들어 주는 게 좋겠다."
   ]
  },
  {
   "cell_type": "code",
   "execution_count": 133,
   "id": "98fadd53",
   "metadata": {
    "ExecuteTime": {
     "end_time": "2023-12-16T16:23:47.562937Z",
     "start_time": "2023-12-16T16:23:47.426832Z"
    }
   },
   "outputs": [
    {
     "data": {
      "text/html": [
       "<div>\n",
       "<style scoped>\n",
       "    .dataframe tbody tr th:only-of-type {\n",
       "        vertical-align: middle;\n",
       "    }\n",
       "\n",
       "    .dataframe tbody tr th {\n",
       "        vertical-align: top;\n",
       "    }\n",
       "\n",
       "    .dataframe thead th {\n",
       "        text-align: right;\n",
       "    }\n",
       "</style>\n",
       "<table border=\"1\" class=\"dataframe\">\n",
       "  <thead>\n",
       "    <tr style=\"text-align: right;\">\n",
       "      <th></th>\n",
       "      <th>stays_in_weekend_nights</th>\n",
       "      <th>stays_in_week_nights</th>\n",
       "      <th>stays_in_every_nights</th>\n",
       "    </tr>\n",
       "    <tr>\n",
       "      <th>index</th>\n",
       "      <th></th>\n",
       "      <th></th>\n",
       "      <th></th>\n",
       "    </tr>\n",
       "  </thead>\n",
       "  <tbody>\n",
       "    <tr>\n",
       "      <th>0</th>\n",
       "      <td>0</td>\n",
       "      <td>0</td>\n",
       "      <td>0</td>\n",
       "    </tr>\n",
       "    <tr>\n",
       "      <th>1</th>\n",
       "      <td>0</td>\n",
       "      <td>0</td>\n",
       "      <td>0</td>\n",
       "    </tr>\n",
       "    <tr>\n",
       "      <th>2</th>\n",
       "      <td>0</td>\n",
       "      <td>1</td>\n",
       "      <td>1</td>\n",
       "    </tr>\n",
       "    <tr>\n",
       "      <th>3</th>\n",
       "      <td>0</td>\n",
       "      <td>1</td>\n",
       "      <td>1</td>\n",
       "    </tr>\n",
       "    <tr>\n",
       "      <th>4</th>\n",
       "      <td>0</td>\n",
       "      <td>2</td>\n",
       "      <td>2</td>\n",
       "    </tr>\n",
       "    <tr>\n",
       "      <th>...</th>\n",
       "      <td>...</td>\n",
       "      <td>...</td>\n",
       "      <td>...</td>\n",
       "    </tr>\n",
       "    <tr>\n",
       "      <th>119385</th>\n",
       "      <td>2</td>\n",
       "      <td>5</td>\n",
       "      <td>7</td>\n",
       "    </tr>\n",
       "    <tr>\n",
       "      <th>119386</th>\n",
       "      <td>2</td>\n",
       "      <td>5</td>\n",
       "      <td>7</td>\n",
       "    </tr>\n",
       "    <tr>\n",
       "      <th>119387</th>\n",
       "      <td>2</td>\n",
       "      <td>5</td>\n",
       "      <td>7</td>\n",
       "    </tr>\n",
       "    <tr>\n",
       "      <th>119388</th>\n",
       "      <td>2</td>\n",
       "      <td>5</td>\n",
       "      <td>7</td>\n",
       "    </tr>\n",
       "    <tr>\n",
       "      <th>119389</th>\n",
       "      <td>2</td>\n",
       "      <td>7</td>\n",
       "      <td>9</td>\n",
       "    </tr>\n",
       "  </tbody>\n",
       "</table>\n",
       "<p>119390 rows × 3 columns</p>\n",
       "</div>"
      ],
      "text/plain": [
       "        stays_in_weekend_nights  stays_in_week_nights  stays_in_every_nights\n",
       "index                                                                       \n",
       "0                             0                     0                      0\n",
       "1                             0                     0                      0\n",
       "2                             0                     1                      1\n",
       "3                             0                     1                      1\n",
       "4                             0                     2                      2\n",
       "...                         ...                   ...                    ...\n",
       "119385                        2                     5                      7\n",
       "119386                        2                     5                      7\n",
       "119387                        2                     5                      7\n",
       "119388                        2                     5                      7\n",
       "119389                        2                     7                      9\n",
       "\n",
       "[119390 rows x 3 columns]"
      ]
     },
     "execution_count": 133,
     "metadata": {},
     "output_type": "execute_result"
    }
   ],
   "source": [
    "hotel_df['stays_in_every_nights'] = hotel_df['stays_in_weekend_nights'] + hotel_df['stays_in_week_nights']\n",
    "hotel_df[['stays_in_weekend_nights', 'stays_in_week_nights', 'stays_in_every_nights']]"
   ]
  },
  {
   "cell_type": "markdown",
   "id": "f3d1534d",
   "metadata": {},
   "source": [
    "#### 2-2-5. 투숙객 연령대"
   ]
  },
  {
   "cell_type": "code",
   "execution_count": 137,
   "id": "c90d07ed",
   "metadata": {
    "ExecuteTime": {
     "end_time": "2023-12-16T16:24:43.612356Z",
     "start_time": "2023-12-16T16:24:43.488619Z"
    }
   },
   "outputs": [
    {
     "data": {
      "text/html": [
       "<div>\n",
       "<style scoped>\n",
       "    .dataframe tbody tr th:only-of-type {\n",
       "        vertical-align: middle;\n",
       "    }\n",
       "\n",
       "    .dataframe tbody tr th {\n",
       "        vertical-align: top;\n",
       "    }\n",
       "\n",
       "    .dataframe thead th {\n",
       "        text-align: right;\n",
       "    }\n",
       "</style>\n",
       "<table border=\"1\" class=\"dataframe\">\n",
       "  <thead>\n",
       "    <tr style=\"text-align: right;\">\n",
       "      <th></th>\n",
       "      <th>adults</th>\n",
       "    </tr>\n",
       "    <tr>\n",
       "      <th>index</th>\n",
       "      <th></th>\n",
       "    </tr>\n",
       "  </thead>\n",
       "  <tbody>\n",
       "    <tr>\n",
       "      <th>0</th>\n",
       "      <td>403</td>\n",
       "    </tr>\n",
       "    <tr>\n",
       "      <th>1</th>\n",
       "      <td>23027</td>\n",
       "    </tr>\n",
       "    <tr>\n",
       "      <th>2</th>\n",
       "      <td>89680</td>\n",
       "    </tr>\n",
       "    <tr>\n",
       "      <th>3</th>\n",
       "      <td>6202</td>\n",
       "    </tr>\n",
       "    <tr>\n",
       "      <th>4</th>\n",
       "      <td>62</td>\n",
       "    </tr>\n",
       "    <tr>\n",
       "      <th>5</th>\n",
       "      <td>2</td>\n",
       "    </tr>\n",
       "    <tr>\n",
       "      <th>6</th>\n",
       "      <td>1</td>\n",
       "    </tr>\n",
       "    <tr>\n",
       "      <th>10</th>\n",
       "      <td>1</td>\n",
       "    </tr>\n",
       "    <tr>\n",
       "      <th>20</th>\n",
       "      <td>2</td>\n",
       "    </tr>\n",
       "    <tr>\n",
       "      <th>26</th>\n",
       "      <td>5</td>\n",
       "    </tr>\n",
       "    <tr>\n",
       "      <th>27</th>\n",
       "      <td>2</td>\n",
       "    </tr>\n",
       "    <tr>\n",
       "      <th>40</th>\n",
       "      <td>1</td>\n",
       "    </tr>\n",
       "    <tr>\n",
       "      <th>50</th>\n",
       "      <td>1</td>\n",
       "    </tr>\n",
       "    <tr>\n",
       "      <th>55</th>\n",
       "      <td>1</td>\n",
       "    </tr>\n",
       "  </tbody>\n",
       "</table>\n",
       "</div>"
      ],
      "text/plain": [
       "       adults\n",
       "index        \n",
       "0         403\n",
       "1       23027\n",
       "2       89680\n",
       "3        6202\n",
       "4          62\n",
       "5           2\n",
       "6           1\n",
       "10          1\n",
       "20          2\n",
       "26          5\n",
       "27          2\n",
       "40          1\n",
       "50          1\n",
       "55          1"
      ]
     },
     "execution_count": 137,
     "metadata": {},
     "output_type": "execute_result"
    }
   ],
   "source": [
    "hotel_df['adults'].value_counts().reset_index().sort_values('index').set_index('index')"
   ]
  },
  {
   "cell_type": "markdown",
   "id": "782bba8e",
   "metadata": {},
   "source": [
    "투숙객의 경우 성인이 2명인 경우가 압도적으로 많다. 성인이 0명인 케이스와 55명(...?)인 케이스도 있다."
   ]
  },
  {
   "cell_type": "code",
   "execution_count": 140,
   "id": "b0bb4bd2",
   "metadata": {
    "ExecuteTime": {
     "end_time": "2023-12-16T16:26:22.630943Z",
     "start_time": "2023-12-16T16:26:22.497875Z"
    }
   },
   "outputs": [
    {
     "data": {
      "text/html": [
       "<div>\n",
       "<style scoped>\n",
       "    .dataframe tbody tr th:only-of-type {\n",
       "        vertical-align: middle;\n",
       "    }\n",
       "\n",
       "    .dataframe tbody tr th {\n",
       "        vertical-align: top;\n",
       "    }\n",
       "\n",
       "    .dataframe thead th {\n",
       "        text-align: right;\n",
       "    }\n",
       "</style>\n",
       "<table border=\"1\" class=\"dataframe\">\n",
       "  <thead>\n",
       "    <tr style=\"text-align: right;\">\n",
       "      <th></th>\n",
       "      <th>children</th>\n",
       "    </tr>\n",
       "    <tr>\n",
       "      <th>index</th>\n",
       "      <th></th>\n",
       "    </tr>\n",
       "  </thead>\n",
       "  <tbody>\n",
       "    <tr>\n",
       "      <th>0.0</th>\n",
       "      <td>110796</td>\n",
       "    </tr>\n",
       "    <tr>\n",
       "      <th>1.0</th>\n",
       "      <td>4861</td>\n",
       "    </tr>\n",
       "    <tr>\n",
       "      <th>2.0</th>\n",
       "      <td>3652</td>\n",
       "    </tr>\n",
       "    <tr>\n",
       "      <th>3.0</th>\n",
       "      <td>76</td>\n",
       "    </tr>\n",
       "    <tr>\n",
       "      <th>10.0</th>\n",
       "      <td>1</td>\n",
       "    </tr>\n",
       "  </tbody>\n",
       "</table>\n",
       "</div>"
      ],
      "text/plain": [
       "       children\n",
       "index          \n",
       "0.0      110796\n",
       "1.0        4861\n",
       "2.0        3652\n",
       "3.0          76\n",
       "10.0          1"
      ]
     },
     "execution_count": 140,
     "metadata": {},
     "output_type": "execute_result"
    }
   ],
   "source": [
    "hotel_df['children'].value_counts().reset_index().sort_values('index').set_index('index')"
   ]
  },
  {
   "cell_type": "markdown",
   "id": "1094c64e",
   "metadata": {},
   "source": [
    "어린이는 0명인 경우가 가장 많다."
   ]
  },
  {
   "cell_type": "code",
   "execution_count": 141,
   "id": "4eb69e29",
   "metadata": {
    "ExecuteTime": {
     "end_time": "2023-12-16T16:26:53.600179Z",
     "start_time": "2023-12-16T16:26:53.490462Z"
    }
   },
   "outputs": [
    {
     "data": {
      "text/html": [
       "<div>\n",
       "<style scoped>\n",
       "    .dataframe tbody tr th:only-of-type {\n",
       "        vertical-align: middle;\n",
       "    }\n",
       "\n",
       "    .dataframe tbody tr th {\n",
       "        vertical-align: top;\n",
       "    }\n",
       "\n",
       "    .dataframe thead th {\n",
       "        text-align: right;\n",
       "    }\n",
       "</style>\n",
       "<table border=\"1\" class=\"dataframe\">\n",
       "  <thead>\n",
       "    <tr style=\"text-align: right;\">\n",
       "      <th></th>\n",
       "      <th>babies</th>\n",
       "    </tr>\n",
       "    <tr>\n",
       "      <th>index</th>\n",
       "      <th></th>\n",
       "    </tr>\n",
       "  </thead>\n",
       "  <tbody>\n",
       "    <tr>\n",
       "      <th>0</th>\n",
       "      <td>118473</td>\n",
       "    </tr>\n",
       "    <tr>\n",
       "      <th>1</th>\n",
       "      <td>900</td>\n",
       "    </tr>\n",
       "    <tr>\n",
       "      <th>2</th>\n",
       "      <td>15</td>\n",
       "    </tr>\n",
       "    <tr>\n",
       "      <th>9</th>\n",
       "      <td>1</td>\n",
       "    </tr>\n",
       "    <tr>\n",
       "      <th>10</th>\n",
       "      <td>1</td>\n",
       "    </tr>\n",
       "  </tbody>\n",
       "</table>\n",
       "</div>"
      ],
      "text/plain": [
       "       babies\n",
       "index        \n",
       "0      118473\n",
       "1         900\n",
       "2          15\n",
       "9           1\n",
       "10          1"
      ]
     },
     "execution_count": 141,
     "metadata": {},
     "output_type": "execute_result"
    }
   ],
   "source": [
    "hotel_df['babies'].value_counts().reset_index().sort_values('index').set_index('index')"
   ]
  },
  {
   "cell_type": "markdown",
   "id": "c9656aa4",
   "metadata": {
    "ExecuteTime": {
     "end_time": "2023-12-16T16:27:13.026971Z",
     "start_time": "2023-12-16T16:27:12.897510Z"
    }
   },
   "source": [
    "아기 역시 마찬가지다. 이상을 통해, **성인들끼리 방문하는 경우**가 가장 많음을 파악할 수 있다.\n",
    "\n",
    "이제 전체 투숙객이 몇 명인지 나타내는 파생 컬럼도 있으면 좋을 것 같다."
   ]
  },
  {
   "cell_type": "code",
   "execution_count": 143,
   "id": "245da375",
   "metadata": {
    "ExecuteTime": {
     "end_time": "2023-12-16T16:29:17.698353Z",
     "start_time": "2023-12-16T16:29:17.577397Z"
    }
   },
   "outputs": [
    {
     "data": {
      "text/html": [
       "<div>\n",
       "<style scoped>\n",
       "    .dataframe tbody tr th:only-of-type {\n",
       "        vertical-align: middle;\n",
       "    }\n",
       "\n",
       "    .dataframe tbody tr th {\n",
       "        vertical-align: top;\n",
       "    }\n",
       "\n",
       "    .dataframe thead th {\n",
       "        text-align: right;\n",
       "    }\n",
       "</style>\n",
       "<table border=\"1\" class=\"dataframe\">\n",
       "  <thead>\n",
       "    <tr style=\"text-align: right;\">\n",
       "      <th></th>\n",
       "      <th>guests</th>\n",
       "      <th>adults</th>\n",
       "      <th>children</th>\n",
       "      <th>babies</th>\n",
       "    </tr>\n",
       "    <tr>\n",
       "      <th>index</th>\n",
       "      <th></th>\n",
       "      <th></th>\n",
       "      <th></th>\n",
       "      <th></th>\n",
       "    </tr>\n",
       "  </thead>\n",
       "  <tbody>\n",
       "    <tr>\n",
       "      <th>0</th>\n",
       "      <td>2.0</td>\n",
       "      <td>2</td>\n",
       "      <td>0.0</td>\n",
       "      <td>0</td>\n",
       "    </tr>\n",
       "    <tr>\n",
       "      <th>1</th>\n",
       "      <td>2.0</td>\n",
       "      <td>2</td>\n",
       "      <td>0.0</td>\n",
       "      <td>0</td>\n",
       "    </tr>\n",
       "    <tr>\n",
       "      <th>2</th>\n",
       "      <td>1.0</td>\n",
       "      <td>1</td>\n",
       "      <td>0.0</td>\n",
       "      <td>0</td>\n",
       "    </tr>\n",
       "    <tr>\n",
       "      <th>3</th>\n",
       "      <td>1.0</td>\n",
       "      <td>1</td>\n",
       "      <td>0.0</td>\n",
       "      <td>0</td>\n",
       "    </tr>\n",
       "    <tr>\n",
       "      <th>4</th>\n",
       "      <td>2.0</td>\n",
       "      <td>2</td>\n",
       "      <td>0.0</td>\n",
       "      <td>0</td>\n",
       "    </tr>\n",
       "    <tr>\n",
       "      <th>...</th>\n",
       "      <td>...</td>\n",
       "      <td>...</td>\n",
       "      <td>...</td>\n",
       "      <td>...</td>\n",
       "    </tr>\n",
       "    <tr>\n",
       "      <th>119385</th>\n",
       "      <td>2.0</td>\n",
       "      <td>2</td>\n",
       "      <td>0.0</td>\n",
       "      <td>0</td>\n",
       "    </tr>\n",
       "    <tr>\n",
       "      <th>119386</th>\n",
       "      <td>3.0</td>\n",
       "      <td>3</td>\n",
       "      <td>0.0</td>\n",
       "      <td>0</td>\n",
       "    </tr>\n",
       "    <tr>\n",
       "      <th>119387</th>\n",
       "      <td>2.0</td>\n",
       "      <td>2</td>\n",
       "      <td>0.0</td>\n",
       "      <td>0</td>\n",
       "    </tr>\n",
       "    <tr>\n",
       "      <th>119388</th>\n",
       "      <td>2.0</td>\n",
       "      <td>2</td>\n",
       "      <td>0.0</td>\n",
       "      <td>0</td>\n",
       "    </tr>\n",
       "    <tr>\n",
       "      <th>119389</th>\n",
       "      <td>2.0</td>\n",
       "      <td>2</td>\n",
       "      <td>0.0</td>\n",
       "      <td>0</td>\n",
       "    </tr>\n",
       "  </tbody>\n",
       "</table>\n",
       "<p>119390 rows × 4 columns</p>\n",
       "</div>"
      ],
      "text/plain": [
       "        guests  adults  children  babies\n",
       "index                                   \n",
       "0          2.0       2       0.0       0\n",
       "1          2.0       2       0.0       0\n",
       "2          1.0       1       0.0       0\n",
       "3          1.0       1       0.0       0\n",
       "4          2.0       2       0.0       0\n",
       "...        ...     ...       ...     ...\n",
       "119385     2.0       2       0.0       0\n",
       "119386     3.0       3       0.0       0\n",
       "119387     2.0       2       0.0       0\n",
       "119388     2.0       2       0.0       0\n",
       "119389     2.0       2       0.0       0\n",
       "\n",
       "[119390 rows x 4 columns]"
      ]
     },
     "execution_count": 143,
     "metadata": {},
     "output_type": "execute_result"
    }
   ],
   "source": [
    "hotel_df['guests'] = hotel_df['adults'] + hotel_df['children'] + hotel_df['babies']\n",
    "hotel_df[['guests', 'adults', 'children', 'babies']]"
   ]
  },
  {
   "cell_type": "markdown",
   "id": "40b32b8c",
   "metadata": {},
   "source": [
    "#### 2-2-6. 이전 예약"
   ]
  },
  {
   "cell_type": "code",
   "execution_count": 150,
   "id": "92a5e099",
   "metadata": {
    "ExecuteTime": {
     "end_time": "2023-12-16T16:36:58.226109Z",
     "start_time": "2023-12-16T16:36:58.097326Z"
    }
   },
   "outputs": [
    {
     "data": {
      "text/plain": [
       "0    115580\n",
       "1      3810\n",
       "Name: is_repeated_guest, dtype: int64"
      ]
     },
     "execution_count": 150,
     "metadata": {},
     "output_type": "execute_result"
    }
   ],
   "source": [
    "hotel_df['is_repeated_guest'].value_counts()"
   ]
  },
  {
   "cell_type": "code",
   "execution_count": 151,
   "id": "0d2a992d",
   "metadata": {
    "ExecuteTime": {
     "end_time": "2023-12-16T16:37:48.424841Z",
     "start_time": "2023-12-16T16:37:48.232447Z"
    }
   },
   "outputs": [
    {
     "data": {
      "image/png": "[encoded data removed]",
      "text/plain": [
       "<Figure size 640x480 with 1 Axes>"
      ]
     },
     "metadata": {},
     "output_type": "display_data"
    }
   ],
   "source": [
    "plt.pie(\n",
    "    hotel_df['is_repeated_guest'].value_counts(),\n",
    "    labels=hotel_df['is_repeated_guest'].value_counts().index.map({0: '첫 방문', 1: '재방문'}),\n",
    "    autopct=\"%.1f%%\"\n",
    ")\n",
    "plt.title('재방문 투숙객')\n",
    "plt.show()"
   ]
  },
  {
   "cell_type": "markdown",
   "id": "faa80196",
   "metadata": {},
   "source": [
    "**첫 방문**인 투숙객이 압도적으로 많다."
   ]
  },
  {
   "cell_type": "code",
   "execution_count": 155,
   "id": "e6a6fc49",
   "metadata": {
    "ExecuteTime": {
     "end_time": "2023-12-16T16:39:09.173354Z",
     "start_time": "2023-12-16T16:39:09.040521Z"
    }
   },
   "outputs": [
    {
     "data": {
      "text/plain": [
       "count    119390.000000\n",
       "mean          0.087118\n",
       "std           0.844336\n",
       "min           0.000000\n",
       "25%           0.000000\n",
       "50%           0.000000\n",
       "75%           0.000000\n",
       "max          26.000000\n",
       "Name: previous_cancellations, dtype: float64"
      ]
     },
     "execution_count": 155,
     "metadata": {},
     "output_type": "execute_result"
    }
   ],
   "source": [
    "hotel_df['previous_cancellations'].describe()"
   ]
  },
  {
   "cell_type": "markdown",
   "id": "f03d25cb",
   "metadata": {},
   "source": [
    "이전에 취소한 예약이 없는 투숙객이 압도적으로 많다. 당연하다. 첫 방문인 투숙객이 압도적으로 많으니까"
   ]
  },
  {
   "cell_type": "code",
   "execution_count": 158,
   "id": "c89c40b8",
   "metadata": {
    "ExecuteTime": {
     "end_time": "2023-12-16T16:41:35.877398Z",
     "start_time": "2023-12-16T16:41:35.743306Z"
    }
   },
   "outputs": [
    {
     "data": {
      "text/plain": [
       "count    3810.000000\n",
       "mean        0.469816\n",
       "std         1.440792\n",
       "min         0.000000\n",
       "25%         0.000000\n",
       "50%         0.000000\n",
       "75%         0.000000\n",
       "max        21.000000\n",
       "Name: previous_cancellations, dtype: float64"
      ]
     },
     "execution_count": 158,
     "metadata": {},
     "output_type": "execute_result"
    }
   ],
   "source": [
    "hotel_df[hotel_df['is_repeated_guest'] == 1]['previous_cancellations'].describe()"
   ]
  },
  {
   "cell_type": "code",
   "execution_count": 167,
   "id": "dd0c6c7f",
   "metadata": {
    "ExecuteTime": {
     "end_time": "2023-12-16T16:46:58.535407Z",
     "start_time": "2023-12-16T16:46:58.351752Z"
    }
   },
   "outputs": [
    {
     "data": {
      "image/png": "[encoded data removed]",
      "text/plain": [
       "<Figure size 640x480 with 1 Axes>"
      ]
     },
     "metadata": {},
     "output_type": "display_data"
    }
   ],
   "source": [
    "plt.boxplot(hotel_df[hotel_df['is_repeated_guest'] == 1]['previous_cancellations'], labels=['previous_cancellations'])\n",
    "plt.title('재방문 고객 중 취소한 이전 예약')\n",
    "plt.show()"
   ]
  },
  {
   "cell_type": "markdown",
   "id": "ace0ea95",
   "metadata": {},
   "source": [
    "재방문 고객 중에서 이전에 취소한 예약이 있는지 여부를 살펴봤는데 여전히 **0건**인 경우가 일반적이다."
   ]
  },
  {
   "cell_type": "code",
   "execution_count": 157,
   "id": "415a0c43",
   "metadata": {
    "ExecuteTime": {
     "end_time": "2023-12-16T16:40:34.704137Z",
     "start_time": "2023-12-16T16:40:34.584353Z"
    }
   },
   "outputs": [
    {
     "data": {
      "text/plain": [
       "count    3810.000000\n",
       "mean        3.585039\n",
       "std         7.115979\n",
       "min         0.000000\n",
       "25%         0.000000\n",
       "50%         1.000000\n",
       "75%         4.000000\n",
       "max        72.000000\n",
       "Name: previous_bookings_not_canceled, dtype: float64"
      ]
     },
     "execution_count": 157,
     "metadata": {},
     "output_type": "execute_result"
    }
   ],
   "source": [
    "hotel_df[hotel_df['is_repeated_guest'] == 1]['previous_bookings_not_canceled'].describe()"
   ]
  },
  {
   "cell_type": "code",
   "execution_count": 166,
   "id": "e83de9f2",
   "metadata": {
    "ExecuteTime": {
     "end_time": "2023-12-16T16:46:37.030653Z",
     "start_time": "2023-12-16T16:46:36.815024Z"
    }
   },
   "outputs": [
    {
     "data": {
      "image/png": "[encoded data removed]",
      "text/plain": [
       "<Figure size 640x480 with 1 Axes>"
      ]
     },
     "metadata": {},
     "output_type": "display_data"
    }
   ],
   "source": [
    "plt.boxplot(hotel_df[hotel_df['is_repeated_guest'] == 1]['previous_bookings_not_canceled'], labels=['previous_bookings_not_canceled'])\n",
    "plt.title('재방문 고객 중 취소하지 않은 이전 방문 횟수')\n",
    "plt.show()"
   ]
  },
  {
   "cell_type": "markdown",
   "id": "e5ba8456",
   "metadata": {},
   "source": [
    "비슷한 방법으로 재방문 고객 중 취소하지 않은 이전 방문 횟수를 살펴봤다. 왜 0건이 있는지 잘은 모르겠지만(...) **0~4건**이 일반적이다."
   ]
  },
  {
   "cell_type": "markdown",
   "id": "18959a77",
   "metadata": {},
   "source": [
    "#### 2-2-7. 방문 이전 예약 행태"
   ]
  },
  {
   "cell_type": "code",
   "execution_count": 160,
   "id": "e7fe81d9",
   "metadata": {
    "ExecuteTime": {
     "end_time": "2023-12-16T16:44:52.604295Z",
     "start_time": "2023-12-16T16:44:52.455745Z"
    }
   },
   "outputs": [
    {
     "data": {
      "text/plain": [
       "count    119390.000000\n",
       "mean          0.221124\n",
       "std           0.652306\n",
       "min           0.000000\n",
       "25%           0.000000\n",
       "50%           0.000000\n",
       "75%           0.000000\n",
       "max          21.000000\n",
       "Name: booking_changes, dtype: float64"
      ]
     },
     "execution_count": 160,
     "metadata": {},
     "output_type": "execute_result"
    }
   ],
   "source": [
    "hotel_df['booking_changes'].describe()"
   ]
  },
  {
   "cell_type": "code",
   "execution_count": 165,
   "id": "301ac64b",
   "metadata": {
    "ExecuteTime": {
     "end_time": "2023-12-16T16:46:02.902874Z",
     "start_time": "2023-12-16T16:46:02.720188Z"
    }
   },
   "outputs": [
    {
     "data": {
      "image/png": "[encoded data removed]",
      "text/plain": [
       "<Figure size 640x480 with 1 Axes>"
      ]
     },
     "metadata": {},
     "output_type": "display_data"
    }
   ],
   "source": [
    "plt.boxplot(hotel_df['booking_changes'], labels=['booking_changes'])\n",
    "plt.title('예약 변경')\n",
    "plt.show()"
   ]
  },
  {
   "cell_type": "markdown",
   "id": "0716656f",
   "metadata": {},
   "source": [
    "방문 이전에 예약을 변경한 케이스를 살펴봤는데 **0건**이 일반적이다."
   ]
  },
  {
   "cell_type": "code",
   "execution_count": 159,
   "id": "36046c6b",
   "metadata": {
    "ExecuteTime": {
     "end_time": "2023-12-16T16:44:05.157165Z",
     "start_time": "2023-12-16T16:44:05.024205Z"
    }
   },
   "outputs": [
    {
     "data": {
      "text/plain": [
       "count    119390.000000\n",
       "mean          2.321149\n",
       "std          17.594721\n",
       "min           0.000000\n",
       "25%           0.000000\n",
       "50%           0.000000\n",
       "75%           0.000000\n",
       "max         391.000000\n",
       "Name: days_in_waiting_list, dtype: float64"
      ]
     },
     "execution_count": 159,
     "metadata": {},
     "output_type": "execute_result"
    }
   ],
   "source": [
    "hotel_df['days_in_waiting_list'].describe()"
   ]
  },
  {
   "cell_type": "code",
   "execution_count": 169,
   "id": "0f79079a",
   "metadata": {
    "ExecuteTime": {
     "end_time": "2023-12-16T16:47:42.556353Z",
     "start_time": "2023-12-16T16:47:42.329120Z"
    }
   },
   "outputs": [
    {
     "data": {
      "image/png": "[encoded data removed]",
      "text/plain": [
       "<Figure size 640x480 with 1 Axes>"
      ]
     },
     "metadata": {},
     "output_type": "display_data"
    }
   ],
   "source": [
    "plt.boxplot(hotel_df['days_in_waiting_list'], labels=['days_in_waiting_list'])\n",
    "plt.title('예약 확정 이전 대기 기간')\n",
    "plt.show()"
   ]
  },
  {
   "cell_type": "markdown",
   "id": "116882eb",
   "metadata": {},
   "source": [
    "예약 확정 이전 대기 목록에 있던 기간도 **0일**이 일반적인 케이스다."
   ]
  },
  {
   "cell_type": "markdown",
   "id": "e42120fc",
   "metadata": {},
   "source": [
    "#### 2-2-8. 결제 금액"
   ]
  },
  {
   "cell_type": "code",
   "execution_count": 173,
   "id": "ac83d53a",
   "metadata": {
    "ExecuteTime": {
     "end_time": "2023-12-16T16:49:48.881235Z",
     "start_time": "2023-12-16T16:49:48.741953Z"
    }
   },
   "outputs": [
    {
     "data": {
      "text/plain": [
       "count    119390.000000\n",
       "mean        101.831122\n",
       "std          50.535790\n",
       "min          -6.380000\n",
       "25%          69.290000\n",
       "50%          94.575000\n",
       "75%         126.000000\n",
       "max        5400.000000\n",
       "Name: adr, dtype: float64"
      ]
     },
     "execution_count": 173,
     "metadata": {},
     "output_type": "execute_result"
    }
   ],
   "source": [
    "hotel_df['adr'].describe()"
   ]
  },
  {
   "cell_type": "code",
   "execution_count": 175,
   "id": "97f0e5cf",
   "metadata": {
    "ExecuteTime": {
     "end_time": "2023-12-16T16:50:31.924792Z",
     "start_time": "2023-12-16T16:50:31.736691Z"
    }
   },
   "outputs": [
    {
     "data": {
      "image/png": "[encoded data removed]",
      "text/plain": [
       "<Figure size 640x480 with 1 Axes>"
      ]
     },
     "metadata": {},
     "output_type": "display_data"
    }
   ],
   "source": [
    "plt.boxplot(hotel_df['adr'], labels=['adr'])\n",
    "plt.title('1박 평균 요금')\n",
    "plt.show()"
   ]
  },
  {
   "cell_type": "markdown",
   "id": "4cdf5758",
   "metadata": {},
   "source": [
    "1박 평균 요금은 **69달러 ~ 126달러**가 일반적이다.\n",
    "\n",
    "여기서 총 결제 금액 컬럼을 만들어 두면 좋을 것 같다."
   ]
  },
  {
   "cell_type": "code",
   "execution_count": 176,
   "id": "b3507eb3",
   "metadata": {
    "ExecuteTime": {
     "end_time": "2023-12-16T16:55:36.131676Z",
     "start_time": "2023-12-16T16:55:36.000228Z"
    }
   },
   "outputs": [
    {
     "data": {
      "text/html": [
       "<div>\n",
       "<style scoped>\n",
       "    .dataframe tbody tr th:only-of-type {\n",
       "        vertical-align: middle;\n",
       "    }\n",
       "\n",
       "    .dataframe tbody tr th {\n",
       "        vertical-align: top;\n",
       "    }\n",
       "\n",
       "    .dataframe thead th {\n",
       "        text-align: right;\n",
       "    }\n",
       "</style>\n",
       "<table border=\"1\" class=\"dataframe\">\n",
       "  <thead>\n",
       "    <tr style=\"text-align: right;\">\n",
       "      <th></th>\n",
       "      <th>adr</th>\n",
       "      <th>stays_in_every_nights</th>\n",
       "      <th>total_price</th>\n",
       "    </tr>\n",
       "    <tr>\n",
       "      <th>index</th>\n",
       "      <th></th>\n",
       "      <th></th>\n",
       "      <th></th>\n",
       "    </tr>\n",
       "  </thead>\n",
       "  <tbody>\n",
       "    <tr>\n",
       "      <th>0</th>\n",
       "      <td>0.00</td>\n",
       "      <td>0</td>\n",
       "      <td>0.00</td>\n",
       "    </tr>\n",
       "    <tr>\n",
       "      <th>1</th>\n",
       "      <td>0.00</td>\n",
       "      <td>0</td>\n",
       "      <td>0.00</td>\n",
       "    </tr>\n",
       "    <tr>\n",
       "      <th>2</th>\n",
       "      <td>75.00</td>\n",
       "      <td>1</td>\n",
       "      <td>75.00</td>\n",
       "    </tr>\n",
       "    <tr>\n",
       "      <th>3</th>\n",
       "      <td>75.00</td>\n",
       "      <td>1</td>\n",
       "      <td>75.00</td>\n",
       "    </tr>\n",
       "    <tr>\n",
       "      <th>4</th>\n",
       "      <td>98.00</td>\n",
       "      <td>2</td>\n",
       "      <td>196.00</td>\n",
       "    </tr>\n",
       "    <tr>\n",
       "      <th>...</th>\n",
       "      <td>...</td>\n",
       "      <td>...</td>\n",
       "      <td>...</td>\n",
       "    </tr>\n",
       "    <tr>\n",
       "      <th>119385</th>\n",
       "      <td>96.14</td>\n",
       "      <td>7</td>\n",
       "      <td>672.98</td>\n",
       "    </tr>\n",
       "    <tr>\n",
       "      <th>119386</th>\n",
       "      <td>225.43</td>\n",
       "      <td>7</td>\n",
       "      <td>1578.01</td>\n",
       "    </tr>\n",
       "    <tr>\n",
       "      <th>119387</th>\n",
       "      <td>157.71</td>\n",
       "      <td>7</td>\n",
       "      <td>1103.97</td>\n",
       "    </tr>\n",
       "    <tr>\n",
       "      <th>119388</th>\n",
       "      <td>104.40</td>\n",
       "      <td>7</td>\n",
       "      <td>730.80</td>\n",
       "    </tr>\n",
       "    <tr>\n",
       "      <th>119389</th>\n",
       "      <td>151.20</td>\n",
       "      <td>9</td>\n",
       "      <td>1360.80</td>\n",
       "    </tr>\n",
       "  </tbody>\n",
       "</table>\n",
       "<p>119390 rows × 3 columns</p>\n",
       "</div>"
      ],
      "text/plain": [
       "           adr  stays_in_every_nights  total_price\n",
       "index                                             \n",
       "0         0.00                      0         0.00\n",
       "1         0.00                      0         0.00\n",
       "2        75.00                      1        75.00\n",
       "3        75.00                      1        75.00\n",
       "4        98.00                      2       196.00\n",
       "...        ...                    ...          ...\n",
       "119385   96.14                      7       672.98\n",
       "119386  225.43                      7      1578.01\n",
       "119387  157.71                      7      1103.97\n",
       "119388  104.40                      7       730.80\n",
       "119389  151.20                      9      1360.80\n",
       "\n",
       "[119390 rows x 3 columns]"
      ]
     },
     "execution_count": 176,
     "metadata": {},
     "output_type": "execute_result"
    }
   ],
   "source": [
    "hotel_df['total_price'] = hotel_df['adr'] * hotel_df['stays_in_every_nights']\n",
    "hotel_df[['adr', 'stays_in_every_nights', 'total_price']]"
   ]
  },
  {
   "cell_type": "markdown",
   "id": "aa821787",
   "metadata": {},
   "source": [
    "### 2-3. 상관관계 확인"
   ]
  },
  {
   "cell_type": "code",
   "execution_count": 198,
   "id": "a14c669d",
   "metadata": {
    "ExecuteTime": {
     "end_time": "2023-12-16T17:04:43.466014Z",
     "start_time": "2023-12-16T17:04:43.176093Z"
    }
   },
   "outputs": [
    {
     "name": "stderr",
     "output_type": "stream",
     "text": [
      "C:\\Users\\louis\\AppData\\Local\\Temp\\ipykernel_11732\\1066587922.py:1: FutureWarning: The default value of numeric_only in DataFrame.corr is deprecated. In a future version, it will default to False. Select only valid columns or specify the value of numeric_only to silence this warning.\n",
      "  corr_df = np.abs(hotel_df.corr())\n"
     ]
    },
    {
     "data": {
      "text/html": [
       "<div>\n",
       "<style scoped>\n",
       "    .dataframe tbody tr th:only-of-type {\n",
       "        vertical-align: middle;\n",
       "    }\n",
       "\n",
       "    .dataframe tbody tr th {\n",
       "        vertical-align: top;\n",
       "    }\n",
       "\n",
       "    .dataframe thead th {\n",
       "        text-align: right;\n",
       "    }\n",
       "</style>\n",
       "<table border=\"1\" class=\"dataframe\">\n",
       "  <thead>\n",
       "    <tr style=\"text-align: right;\">\n",
       "      <th></th>\n",
       "      <th>is_canceled</th>\n",
       "      <th>lead_time</th>\n",
       "      <th>arrival_date_year</th>\n",
       "      <th>arrival_date_week_number</th>\n",
       "      <th>arrival_date_day_of_month</th>\n",
       "      <th>stays_in_weekend_nights</th>\n",
       "      <th>stays_in_week_nights</th>\n",
       "      <th>adults</th>\n",
       "      <th>children</th>\n",
       "      <th>babies</th>\n",
       "      <th>...</th>\n",
       "      <th>booking_changes</th>\n",
       "      <th>agent</th>\n",
       "      <th>company</th>\n",
       "      <th>days_in_waiting_list</th>\n",
       "      <th>adr</th>\n",
       "      <th>required_car_parking_spaces</th>\n",
       "      <th>total_of_special_requests</th>\n",
       "      <th>stays_in_every_nights</th>\n",
       "      <th>guests</th>\n",
       "      <th>total_price</th>\n",
       "    </tr>\n",
       "  </thead>\n",
       "  <tbody>\n",
       "    <tr>\n",
       "      <th>is_canceled</th>\n",
       "      <td>1.000000</td>\n",
       "      <td>0.293123</td>\n",
       "      <td>0.016660</td>\n",
       "      <td>0.008148</td>\n",
       "      <td>0.006130</td>\n",
       "      <td>0.001791</td>\n",
       "      <td>0.024765</td>\n",
       "      <td>0.060017</td>\n",
       "      <td>0.005048</td>\n",
       "      <td>0.032491</td>\n",
       "      <td>...</td>\n",
       "      <td>0.144381</td>\n",
       "      <td>0.083114</td>\n",
       "      <td>0.020642</td>\n",
       "      <td>0.054186</td>\n",
       "      <td>0.047557</td>\n",
       "      <td>0.195498</td>\n",
       "      <td>0.234658</td>\n",
       "      <td>0.017779</td>\n",
       "      <td>0.046506</td>\n",
       "      <td>0.046562</td>\n",
       "    </tr>\n",
       "    <tr>\n",
       "      <th>lead_time</th>\n",
       "      <td>0.293123</td>\n",
       "      <td>1.000000</td>\n",
       "      <td>0.040142</td>\n",
       "      <td>0.126871</td>\n",
       "      <td>0.002268</td>\n",
       "      <td>0.085671</td>\n",
       "      <td>0.165799</td>\n",
       "      <td>0.119519</td>\n",
       "      <td>0.037622</td>\n",
       "      <td>0.020915</td>\n",
       "      <td>...</td>\n",
       "      <td>0.000149</td>\n",
       "      <td>0.069741</td>\n",
       "      <td>0.151464</td>\n",
       "      <td>0.170084</td>\n",
       "      <td>0.063077</td>\n",
       "      <td>0.116451</td>\n",
       "      <td>0.095712</td>\n",
       "      <td>0.157167</td>\n",
       "      <td>0.072279</td>\n",
       "      <td>0.086778</td>\n",
       "    </tr>\n",
       "    <tr>\n",
       "      <th>arrival_date_year</th>\n",
       "      <td>0.016660</td>\n",
       "      <td>0.040142</td>\n",
       "      <td>1.000000</td>\n",
       "      <td>0.540561</td>\n",
       "      <td>0.000221</td>\n",
       "      <td>0.021497</td>\n",
       "      <td>0.030883</td>\n",
       "      <td>0.029635</td>\n",
       "      <td>0.054624</td>\n",
       "      <td>0.013192</td>\n",
       "      <td>...</td>\n",
       "      <td>0.030872</td>\n",
       "      <td>0.063457</td>\n",
       "      <td>0.259095</td>\n",
       "      <td>0.056497</td>\n",
       "      <td>0.197580</td>\n",
       "      <td>0.013684</td>\n",
       "      <td>0.108531</td>\n",
       "      <td>0.031438</td>\n",
       "      <td>0.052152</td>\n",
       "      <td>0.124350</td>\n",
       "    </tr>\n",
       "    <tr>\n",
       "      <th>arrival_date_week_number</th>\n",
       "      <td>0.008148</td>\n",
       "      <td>0.126871</td>\n",
       "      <td>0.540561</td>\n",
       "      <td>1.000000</td>\n",
       "      <td>0.066809</td>\n",
       "      <td>0.018208</td>\n",
       "      <td>0.015558</td>\n",
       "      <td>0.025909</td>\n",
       "      <td>0.005518</td>\n",
       "      <td>0.010395</td>\n",
       "      <td>...</td>\n",
       "      <td>0.005508</td>\n",
       "      <td>0.031201</td>\n",
       "      <td>0.076760</td>\n",
       "      <td>0.022933</td>\n",
       "      <td>0.075791</td>\n",
       "      <td>0.001920</td>\n",
       "      <td>0.026149</td>\n",
       "      <td>0.018719</td>\n",
       "      <td>0.025216</td>\n",
       "      <td>0.059243</td>\n",
       "    </tr>\n",
       "    <tr>\n",
       "      <th>arrival_date_day_of_month</th>\n",
       "      <td>0.006130</td>\n",
       "      <td>0.002268</td>\n",
       "      <td>0.000221</td>\n",
       "      <td>0.066809</td>\n",
       "      <td>1.000000</td>\n",
       "      <td>0.016354</td>\n",
       "      <td>0.028174</td>\n",
       "      <td>0.001566</td>\n",
       "      <td>0.014544</td>\n",
       "      <td>0.000230</td>\n",
       "      <td>...</td>\n",
       "      <td>0.010613</td>\n",
       "      <td>0.001487</td>\n",
       "      <td>0.044858</td>\n",
       "      <td>0.022728</td>\n",
       "      <td>0.030245</td>\n",
       "      <td>0.008683</td>\n",
       "      <td>0.003062</td>\n",
       "      <td>0.027408</td>\n",
       "      <td>0.006758</td>\n",
       "      <td>0.002528</td>\n",
       "    </tr>\n",
       "    <tr>\n",
       "      <th>stays_in_weekend_nights</th>\n",
       "      <td>0.001791</td>\n",
       "      <td>0.085671</td>\n",
       "      <td>0.021497</td>\n",
       "      <td>0.018208</td>\n",
       "      <td>0.016354</td>\n",
       "      <td>1.000000</td>\n",
       "      <td>0.498969</td>\n",
       "      <td>0.091871</td>\n",
       "      <td>0.045793</td>\n",
       "      <td>0.018483</td>\n",
       "      <td>...</td>\n",
       "      <td>0.063281</td>\n",
       "      <td>0.140739</td>\n",
       "      <td>0.066749</td>\n",
       "      <td>0.054151</td>\n",
       "      <td>0.049342</td>\n",
       "      <td>0.018554</td>\n",
       "      <td>0.072671</td>\n",
       "      <td>0.762790</td>\n",
       "      <td>0.101439</td>\n",
       "      <td>0.572201</td>\n",
       "    </tr>\n",
       "    <tr>\n",
       "      <th>stays_in_week_nights</th>\n",
       "      <td>0.024765</td>\n",
       "      <td>0.165799</td>\n",
       "      <td>0.030883</td>\n",
       "      <td>0.015558</td>\n",
       "      <td>0.028174</td>\n",
       "      <td>0.498969</td>\n",
       "      <td>1.000000</td>\n",
       "      <td>0.092976</td>\n",
       "      <td>0.044203</td>\n",
       "      <td>0.020191</td>\n",
       "      <td>...</td>\n",
       "      <td>0.096209</td>\n",
       "      <td>0.182382</td>\n",
       "      <td>0.182211</td>\n",
       "      <td>0.002020</td>\n",
       "      <td>0.065237</td>\n",
       "      <td>0.024859</td>\n",
       "      <td>0.068192</td>\n",
       "      <td>0.941005</td>\n",
       "      <td>0.101670</td>\n",
       "      <td>0.703020</td>\n",
       "    </tr>\n",
       "    <tr>\n",
       "      <th>adults</th>\n",
       "      <td>0.060017</td>\n",
       "      <td>0.119519</td>\n",
       "      <td>0.029635</td>\n",
       "      <td>0.025909</td>\n",
       "      <td>0.001566</td>\n",
       "      <td>0.091871</td>\n",
       "      <td>0.092976</td>\n",
       "      <td>1.000000</td>\n",
       "      <td>0.030447</td>\n",
       "      <td>0.018146</td>\n",
       "      <td>...</td>\n",
       "      <td>0.051673</td>\n",
       "      <td>0.035594</td>\n",
       "      <td>0.207793</td>\n",
       "      <td>0.008283</td>\n",
       "      <td>0.230641</td>\n",
       "      <td>0.014785</td>\n",
       "      <td>0.122884</td>\n",
       "      <td>0.105249</td>\n",
       "      <td>0.821102</td>\n",
       "      <td>0.193601</td>\n",
       "    </tr>\n",
       "    <tr>\n",
       "      <th>children</th>\n",
       "      <td>0.005048</td>\n",
       "      <td>0.037622</td>\n",
       "      <td>0.054624</td>\n",
       "      <td>0.005518</td>\n",
       "      <td>0.014544</td>\n",
       "      <td>0.045793</td>\n",
       "      <td>0.044203</td>\n",
       "      <td>0.030447</td>\n",
       "      <td>1.000000</td>\n",
       "      <td>0.024030</td>\n",
       "      <td>...</td>\n",
       "      <td>0.048949</td>\n",
       "      <td>0.041066</td>\n",
       "      <td>0.030931</td>\n",
       "      <td>0.033273</td>\n",
       "      <td>0.324854</td>\n",
       "      <td>0.056253</td>\n",
       "      <td>0.081745</td>\n",
       "      <td>0.050864</td>\n",
       "      <td>0.579373</td>\n",
       "      <td>0.232072</td>\n",
       "    </tr>\n",
       "    <tr>\n",
       "      <th>babies</th>\n",
       "      <td>0.032491</td>\n",
       "      <td>0.020915</td>\n",
       "      <td>0.013192</td>\n",
       "      <td>0.010395</td>\n",
       "      <td>0.000230</td>\n",
       "      <td>0.018483</td>\n",
       "      <td>0.020191</td>\n",
       "      <td>0.018146</td>\n",
       "      <td>0.024030</td>\n",
       "      <td>1.000000</td>\n",
       "      <td>...</td>\n",
       "      <td>0.083440</td>\n",
       "      <td>0.036184</td>\n",
       "      <td>0.019206</td>\n",
       "      <td>0.010621</td>\n",
       "      <td>0.029186</td>\n",
       "      <td>0.037383</td>\n",
       "      <td>0.097889</td>\n",
       "      <td>0.022283</td>\n",
       "      <td>0.162690</td>\n",
       "      <td>0.037839</td>\n",
       "    </tr>\n",
       "    <tr>\n",
       "      <th>is_repeated_guest</th>\n",
       "      <td>0.084793</td>\n",
       "      <td>0.124410</td>\n",
       "      <td>0.010341</td>\n",
       "      <td>0.030131</td>\n",
       "      <td>0.006145</td>\n",
       "      <td>0.087239</td>\n",
       "      <td>0.097245</td>\n",
       "      <td>0.146426</td>\n",
       "      <td>0.032859</td>\n",
       "      <td>0.008943</td>\n",
       "      <td>...</td>\n",
       "      <td>0.012092</td>\n",
       "      <td>0.031527</td>\n",
       "      <td>0.244586</td>\n",
       "      <td>0.022235</td>\n",
       "      <td>0.134314</td>\n",
       "      <td>0.077090</td>\n",
       "      <td>0.013050</td>\n",
       "      <td>0.106626</td>\n",
       "      <td>0.136747</td>\n",
       "      <td>0.110447</td>\n",
       "    </tr>\n",
       "    <tr>\n",
       "      <th>previous_cancellations</th>\n",
       "      <td>0.110133</td>\n",
       "      <td>0.086042</td>\n",
       "      <td>0.119822</td>\n",
       "      <td>0.035501</td>\n",
       "      <td>0.027011</td>\n",
       "      <td>0.012775</td>\n",
       "      <td>0.013992</td>\n",
       "      <td>0.006738</td>\n",
       "      <td>0.024730</td>\n",
       "      <td>0.007501</td>\n",
       "      <td>...</td>\n",
       "      <td>0.026993</td>\n",
       "      <td>0.012488</td>\n",
       "      <td>0.184574</td>\n",
       "      <td>0.005929</td>\n",
       "      <td>0.065646</td>\n",
       "      <td>0.018492</td>\n",
       "      <td>0.048384</td>\n",
       "      <td>0.015429</td>\n",
       "      <td>0.020057</td>\n",
       "      <td>0.048516</td>\n",
       "    </tr>\n",
       "    <tr>\n",
       "      <th>previous_bookings_not_canceled</th>\n",
       "      <td>0.057358</td>\n",
       "      <td>0.073548</td>\n",
       "      <td>0.029218</td>\n",
       "      <td>0.020904</td>\n",
       "      <td>0.000300</td>\n",
       "      <td>0.042715</td>\n",
       "      <td>0.048743</td>\n",
       "      <td>0.107983</td>\n",
       "      <td>0.021072</td>\n",
       "      <td>0.006550</td>\n",
       "      <td>...</td>\n",
       "      <td>0.011608</td>\n",
       "      <td>0.023252</td>\n",
       "      <td>0.208557</td>\n",
       "      <td>0.009397</td>\n",
       "      <td>0.072144</td>\n",
       "      <td>0.047653</td>\n",
       "      <td>0.037824</td>\n",
       "      <td>0.053049</td>\n",
       "      <td>0.099096</td>\n",
       "      <td>0.060723</td>\n",
       "    </tr>\n",
       "    <tr>\n",
       "      <th>booking_changes</th>\n",
       "      <td>0.144381</td>\n",
       "      <td>0.000149</td>\n",
       "      <td>0.030872</td>\n",
       "      <td>0.005508</td>\n",
       "      <td>0.010613</td>\n",
       "      <td>0.063281</td>\n",
       "      <td>0.096209</td>\n",
       "      <td>0.051673</td>\n",
       "      <td>0.048949</td>\n",
       "      <td>0.083440</td>\n",
       "      <td>...</td>\n",
       "      <td>1.000000</td>\n",
       "      <td>0.067010</td>\n",
       "      <td>0.122098</td>\n",
       "      <td>0.011634</td>\n",
       "      <td>0.019618</td>\n",
       "      <td>0.065620</td>\n",
       "      <td>0.052833</td>\n",
       "      <td>0.096498</td>\n",
       "      <td>0.003168</td>\n",
       "      <td>0.062525</td>\n",
       "    </tr>\n",
       "    <tr>\n",
       "      <th>agent</th>\n",
       "      <td>0.083114</td>\n",
       "      <td>0.069741</td>\n",
       "      <td>0.063457</td>\n",
       "      <td>0.031201</td>\n",
       "      <td>0.001487</td>\n",
       "      <td>0.140739</td>\n",
       "      <td>0.182382</td>\n",
       "      <td>0.035594</td>\n",
       "      <td>0.041066</td>\n",
       "      <td>0.036184</td>\n",
       "      <td>...</td>\n",
       "      <td>0.067010</td>\n",
       "      <td>1.000000</td>\n",
       "      <td>0.350746</td>\n",
       "      <td>0.055151</td>\n",
       "      <td>0.024695</td>\n",
       "      <td>0.177353</td>\n",
       "      <td>0.034162</td>\n",
       "      <td>0.191728</td>\n",
       "      <td>0.004498</td>\n",
       "      <td>0.155828</td>\n",
       "    </tr>\n",
       "    <tr>\n",
       "      <th>company</th>\n",
       "      <td>0.020642</td>\n",
       "      <td>0.151464</td>\n",
       "      <td>0.259095</td>\n",
       "      <td>0.076760</td>\n",
       "      <td>0.044858</td>\n",
       "      <td>0.066749</td>\n",
       "      <td>0.182211</td>\n",
       "      <td>0.207793</td>\n",
       "      <td>0.030931</td>\n",
       "      <td>0.019206</td>\n",
       "      <td>...</td>\n",
       "      <td>0.122098</td>\n",
       "      <td>0.350746</td>\n",
       "      <td>1.000000</td>\n",
       "      <td>0.000411</td>\n",
       "      <td>0.086376</td>\n",
       "      <td>0.012916</td>\n",
       "      <td>0.098558</td>\n",
       "      <td>0.164656</td>\n",
       "      <td>0.199667</td>\n",
       "      <td>0.155721</td>\n",
       "    </tr>\n",
       "    <tr>\n",
       "      <th>days_in_waiting_list</th>\n",
       "      <td>0.054186</td>\n",
       "      <td>0.170084</td>\n",
       "      <td>0.056497</td>\n",
       "      <td>0.022933</td>\n",
       "      <td>0.022728</td>\n",
       "      <td>0.054151</td>\n",
       "      <td>0.002020</td>\n",
       "      <td>0.008283</td>\n",
       "      <td>0.033273</td>\n",
       "      <td>0.010621</td>\n",
       "      <td>...</td>\n",
       "      <td>0.011634</td>\n",
       "      <td>0.055151</td>\n",
       "      <td>0.000411</td>\n",
       "      <td>1.000000</td>\n",
       "      <td>0.040756</td>\n",
       "      <td>0.030600</td>\n",
       "      <td>0.082730</td>\n",
       "      <td>0.022652</td>\n",
       "      <td>0.026429</td>\n",
       "      <td>0.040107</td>\n",
       "    </tr>\n",
       "    <tr>\n",
       "      <th>adr</th>\n",
       "      <td>0.047557</td>\n",
       "      <td>0.063077</td>\n",
       "      <td>0.197580</td>\n",
       "      <td>0.075791</td>\n",
       "      <td>0.030245</td>\n",
       "      <td>0.049342</td>\n",
       "      <td>0.065237</td>\n",
       "      <td>0.230641</td>\n",
       "      <td>0.324854</td>\n",
       "      <td>0.029186</td>\n",
       "      <td>...</td>\n",
       "      <td>0.019618</td>\n",
       "      <td>0.024695</td>\n",
       "      <td>0.086376</td>\n",
       "      <td>0.040756</td>\n",
       "      <td>1.000000</td>\n",
       "      <td>0.056628</td>\n",
       "      <td>0.172185</td>\n",
       "      <td>0.067945</td>\n",
       "      <td>0.368144</td>\n",
       "      <td>0.565766</td>\n",
       "    </tr>\n",
       "    <tr>\n",
       "      <th>required_car_parking_spaces</th>\n",
       "      <td>0.195498</td>\n",
       "      <td>0.116451</td>\n",
       "      <td>0.013684</td>\n",
       "      <td>0.001920</td>\n",
       "      <td>0.008683</td>\n",
       "      <td>0.018554</td>\n",
       "      <td>0.024859</td>\n",
       "      <td>0.014785</td>\n",
       "      <td>0.056253</td>\n",
       "      <td>0.037383</td>\n",
       "      <td>...</td>\n",
       "      <td>0.065620</td>\n",
       "      <td>0.177353</td>\n",
       "      <td>0.012916</td>\n",
       "      <td>0.030600</td>\n",
       "      <td>0.056628</td>\n",
       "      <td>1.000000</td>\n",
       "      <td>0.082626</td>\n",
       "      <td>0.025794</td>\n",
       "      <td>0.047938</td>\n",
       "      <td>0.024082</td>\n",
       "    </tr>\n",
       "    <tr>\n",
       "      <th>total_of_special_requests</th>\n",
       "      <td>0.234658</td>\n",
       "      <td>0.095712</td>\n",
       "      <td>0.108531</td>\n",
       "      <td>0.026149</td>\n",
       "      <td>0.003062</td>\n",
       "      <td>0.072671</td>\n",
       "      <td>0.068192</td>\n",
       "      <td>0.122884</td>\n",
       "      <td>0.081745</td>\n",
       "      <td>0.097889</td>\n",
       "      <td>...</td>\n",
       "      <td>0.052833</td>\n",
       "      <td>0.034162</td>\n",
       "      <td>0.098558</td>\n",
       "      <td>0.082730</td>\n",
       "      <td>0.172185</td>\n",
       "      <td>0.082626</td>\n",
       "      <td>1.000000</td>\n",
       "      <td>0.079259</td>\n",
       "      <td>0.156816</td>\n",
       "      <td>0.152998</td>\n",
       "    </tr>\n",
       "    <tr>\n",
       "      <th>stays_in_every_nights</th>\n",
       "      <td>0.017779</td>\n",
       "      <td>0.157167</td>\n",
       "      <td>0.031438</td>\n",
       "      <td>0.018719</td>\n",
       "      <td>0.027408</td>\n",
       "      <td>0.762790</td>\n",
       "      <td>0.941005</td>\n",
       "      <td>0.105249</td>\n",
       "      <td>0.050864</td>\n",
       "      <td>0.022283</td>\n",
       "      <td>...</td>\n",
       "      <td>0.096498</td>\n",
       "      <td>0.191728</td>\n",
       "      <td>0.164656</td>\n",
       "      <td>0.022652</td>\n",
       "      <td>0.067945</td>\n",
       "      <td>0.025794</td>\n",
       "      <td>0.079259</td>\n",
       "      <td>1.000000</td>\n",
       "      <td>0.115473</td>\n",
       "      <td>0.748002</td>\n",
       "    </tr>\n",
       "    <tr>\n",
       "      <th>guests</th>\n",
       "      <td>0.046506</td>\n",
       "      <td>0.072279</td>\n",
       "      <td>0.052152</td>\n",
       "      <td>0.025216</td>\n",
       "      <td>0.006758</td>\n",
       "      <td>0.101439</td>\n",
       "      <td>0.101670</td>\n",
       "      <td>0.821102</td>\n",
       "      <td>0.579373</td>\n",
       "      <td>0.162690</td>\n",
       "      <td>...</td>\n",
       "      <td>0.003168</td>\n",
       "      <td>0.004498</td>\n",
       "      <td>0.199667</td>\n",
       "      <td>0.026429</td>\n",
       "      <td>0.368144</td>\n",
       "      <td>0.047938</td>\n",
       "      <td>0.156816</td>\n",
       "      <td>0.115473</td>\n",
       "      <td>1.000000</td>\n",
       "      <td>0.288402</td>\n",
       "    </tr>\n",
       "    <tr>\n",
       "      <th>total_price</th>\n",
       "      <td>0.046562</td>\n",
       "      <td>0.086778</td>\n",
       "      <td>0.124350</td>\n",
       "      <td>0.059243</td>\n",
       "      <td>0.002528</td>\n",
       "      <td>0.572201</td>\n",
       "      <td>0.703020</td>\n",
       "      <td>0.193601</td>\n",
       "      <td>0.232072</td>\n",
       "      <td>0.037839</td>\n",
       "      <td>...</td>\n",
       "      <td>0.062525</td>\n",
       "      <td>0.155828</td>\n",
       "      <td>0.155721</td>\n",
       "      <td>0.040107</td>\n",
       "      <td>0.565766</td>\n",
       "      <td>0.024082</td>\n",
       "      <td>0.152998</td>\n",
       "      <td>0.748002</td>\n",
       "      <td>0.288402</td>\n",
       "      <td>1.000000</td>\n",
       "    </tr>\n",
       "  </tbody>\n",
       "</table>\n",
       "<p>23 rows × 23 columns</p>\n",
       "</div>"
      ],
      "text/plain": [
       "                                is_canceled  lead_time  arrival_date_year  \\\n",
       "is_canceled                        1.000000   0.293123           0.016660   \n",
       "lead_time                          0.293123   1.000000           0.040142   \n",
       "arrival_date_year                  0.016660   0.040142           1.000000   \n",
       "arrival_date_week_number           0.008148   0.126871           0.540561   \n",
       "arrival_date_day_of_month          0.006130   0.002268           0.000221   \n",
       "stays_in_weekend_nights            0.001791   0.085671           0.021497   \n",
       "stays_in_week_nights               0.024765   0.165799           0.030883   \n",
       "adults                             0.060017   0.119519           0.029635   \n",
       "children                           0.005048   0.037622           0.054624   \n",
       "babies                             0.032491   0.020915           0.013192   \n",
       "is_repeated_guest                  0.084793   0.124410           0.010341   \n",
       "previous_cancellations             0.110133   0.086042           0.119822   \n",
       "previous_bookings_not_canceled     0.057358   0.073548           0.029218   \n",
       "booking_changes                    0.144381   0.000149           0.030872   \n",
       "agent                              0.083114   0.069741           0.063457   \n",
       "company                            0.020642   0.151464           0.259095   \n",
       "days_in_waiting_list               0.054186   0.170084           0.056497   \n",
       "adr                                0.047557   0.063077           0.197580   \n",
       "required_car_parking_spaces        0.195498   0.116451           0.013684   \n",
       "total_of_special_requests          0.234658   0.095712           0.108531   \n",
       "stays_in_every_nights              0.017779   0.157167           0.031438   \n",
       "guests                             0.046506   0.072279           0.052152   \n",
       "total_price                        0.046562   0.086778           0.124350   \n",
       "\n",
       "                                arrival_date_week_number  \\\n",
       "is_canceled                                     0.008148   \n",
       "lead_time                                       0.126871   \n",
       "arrival_date_year                               0.540561   \n",
       "arrival_date_week_number                        1.000000   \n",
       "arrival_date_day_of_month                       0.066809   \n",
       "stays_in_weekend_nights                         0.018208   \n",
       "stays_in_week_nights                            0.015558   \n",
       "adults                                          0.025909   \n",
       "children                                        0.005518   \n",
       "babies                                          0.010395   \n",
       "is_repeated_guest                               0.030131   \n",
       "previous_cancellations                          0.035501   \n",
       "previous_bookings_not_canceled                  0.020904   \n",
       "booking_changes                                 0.005508   \n",
       "agent                                           0.031201   \n",
       "company                                         0.076760   \n",
       "days_in_waiting_list                            0.022933   \n",
       "adr                                             0.075791   \n",
       "required_car_parking_spaces                     0.001920   \n",
       "total_of_special_requests                       0.026149   \n",
       "stays_in_every_nights                           0.018719   \n",
       "guests                                          0.025216   \n",
       "total_price                                     0.059243   \n",
       "\n",
       "                                arrival_date_day_of_month  \\\n",
       "is_canceled                                      0.006130   \n",
       "lead_time                                        0.002268   \n",
       "arrival_date_year                                0.000221   \n",
       "arrival_date_week_number                         0.066809   \n",
       "arrival_date_day_of_month                        1.000000   \n",
       "stays_in_weekend_nights                          0.016354   \n",
       "stays_in_week_nights                             0.028174   \n",
       "adults                                           0.001566   \n",
       "children                                         0.014544   \n",
       "babies                                           0.000230   \n",
       "is_repeated_guest                                0.006145   \n",
       "previous_cancellations                           0.027011   \n",
       "previous_bookings_not_canceled                   0.000300   \n",
       "booking_changes                                  0.010613   \n",
       "agent                                            0.001487   \n",
       "company                                          0.044858   \n",
       "days_in_waiting_list                             0.022728   \n",
       "adr                                              0.030245   \n",
       "required_car_parking_spaces                      0.008683   \n",
       "total_of_special_requests                        0.003062   \n",
       "stays_in_every_nights                            0.027408   \n",
       "guests                                           0.006758   \n",
       "total_price                                      0.002528   \n",
       "\n",
       "                                stays_in_weekend_nights  stays_in_week_nights  \\\n",
       "is_canceled                                    0.001791              0.024765   \n",
       "lead_time                                      0.085671              0.165799   \n",
       "arrival_date_year                              0.021497              0.030883   \n",
       "arrival_date_week_number                       0.018208              0.015558   \n",
       "arrival_date_day_of_month                      0.016354              0.028174   \n",
       "stays_in_weekend_nights                        1.000000              0.498969   \n",
       "stays_in_week_nights                           0.498969              1.000000   \n",
       "adults                                         0.091871              0.092976   \n",
       "children                                       0.045793              0.044203   \n",
       "babies                                         0.018483              0.020191   \n",
       "is_repeated_guest                              0.087239              0.097245   \n",
       "previous_cancellations                         0.012775              0.013992   \n",
       "previous_bookings_not_canceled                 0.042715              0.048743   \n",
       "booking_changes                                0.063281              0.096209   \n",
       "agent                                          0.140739              0.182382   \n",
       "company                                        0.066749              0.182211   \n",
       "days_in_waiting_list                           0.054151              0.002020   \n",
       "adr                                            0.049342              0.065237   \n",
       "required_car_parking_spaces                    0.018554              0.024859   \n",
       "total_of_special_requests                      0.072671              0.068192   \n",
       "stays_in_every_nights                          0.762790              0.941005   \n",
       "guests                                         0.101439              0.101670   \n",
       "total_price                                    0.572201              0.703020   \n",
       "\n",
       "                                  adults  children    babies  ...  \\\n",
       "is_canceled                     0.060017  0.005048  0.032491  ...   \n",
       "lead_time                       0.119519  0.037622  0.020915  ...   \n",
       "arrival_date_year               0.029635  0.054624  0.013192  ...   \n",
       "arrival_date_week_number        0.025909  0.005518  0.010395  ...   \n",
       "arrival_date_day_of_month       0.001566  0.014544  0.000230  ...   \n",
       "stays_in_weekend_nights         0.091871  0.045793  0.018483  ...   \n",
       "stays_in_week_nights            0.092976  0.044203  0.020191  ...   \n",
       "adults                          1.000000  0.030447  0.018146  ...   \n",
       "children                        0.030447  1.000000  0.024030  ...   \n",
       "babies                          0.018146  0.024030  1.000000  ...   \n",
       "is_repeated_guest               0.146426  0.032859  0.008943  ...   \n",
       "previous_cancellations          0.006738  0.024730  0.007501  ...   \n",
       "previous_bookings_not_canceled  0.107983  0.021072  0.006550  ...   \n",
       "booking_changes                 0.051673  0.048949  0.083440  ...   \n",
       "agent                           0.035594  0.041066  0.036184  ...   \n",
       "company                         0.207793  0.030931  0.019206  ...   \n",
       "days_in_waiting_list            0.008283  0.033273  0.010621  ...   \n",
       "adr                             0.230641  0.324854  0.029186  ...   \n",
       "required_car_parking_spaces     0.014785  0.056253  0.037383  ...   \n",
       "total_of_special_requests       0.122884  0.081745  0.097889  ...   \n",
       "stays_in_every_nights           0.105249  0.050864  0.022283  ...   \n",
       "guests                          0.821102  0.579373  0.162690  ...   \n",
       "total_price                     0.193601  0.232072  0.037839  ...   \n",
       "\n",
       "                                booking_changes     agent   company  \\\n",
       "is_canceled                            0.144381  0.083114  0.020642   \n",
       "lead_time                              0.000149  0.069741  0.151464   \n",
       "arrival_date_year                      0.030872  0.063457  0.259095   \n",
       "arrival_date_week_number               0.005508  0.031201  0.076760   \n",
       "arrival_date_day_of_month              0.010613  0.001487  0.044858   \n",
       "stays_in_weekend_nights                0.063281  0.140739  0.066749   \n",
       "stays_in_week_nights                   0.096209  0.182382  0.182211   \n",
       "adults                                 0.051673  0.035594  0.207793   \n",
       "children                               0.048949  0.041066  0.030931   \n",
       "babies                                 0.083440  0.036184  0.019206   \n",
       "is_repeated_guest                      0.012092  0.031527  0.244586   \n",
       "previous_cancellations                 0.026993  0.012488  0.184574   \n",
       "previous_bookings_not_canceled         0.011608  0.023252  0.208557   \n",
       "booking_changes                        1.000000  0.067010  0.122098   \n",
       "agent                                  0.067010  1.000000  0.350746   \n",
       "company                                0.122098  0.350746  1.000000   \n",
       "days_in_waiting_list                   0.011634  0.055151  0.000411   \n",
       "adr                                    0.019618  0.024695  0.086376   \n",
       "required_car_parking_spaces            0.065620  0.177353  0.012916   \n",
       "total_of_special_requests              0.052833  0.034162  0.098558   \n",
       "stays_in_every_nights                  0.096498  0.191728  0.164656   \n",
       "guests                                 0.003168  0.004498  0.199667   \n",
       "total_price                            0.062525  0.155828  0.155721   \n",
       "\n",
       "                                days_in_waiting_list       adr  \\\n",
       "is_canceled                                 0.054186  0.047557   \n",
       "lead_time                                   0.170084  0.063077   \n",
       "arrival_date_year                           0.056497  0.197580   \n",
       "arrival_date_week_number                    0.022933  0.075791   \n",
       "arrival_date_day_of_month                   0.022728  0.030245   \n",
       "stays_in_weekend_nights                     0.054151  0.049342   \n",
       "stays_in_week_nights                        0.002020  0.065237   \n",
       "adults                                      0.008283  0.230641   \n",
       "children                                    0.033273  0.324854   \n",
       "babies                                      0.010621  0.029186   \n",
       "is_repeated_guest                           0.022235  0.134314   \n",
       "previous_cancellations                      0.005929  0.065646   \n",
       "previous_bookings_not_canceled              0.009397  0.072144   \n",
       "booking_changes                             0.011634  0.019618   \n",
       "agent                                       0.055151  0.024695   \n",
       "company                                     0.000411  0.086376   \n",
       "days_in_waiting_list                        1.000000  0.040756   \n",
       "adr                                         0.040756  1.000000   \n",
       "required_car_parking_spaces                 0.030600  0.056628   \n",
       "total_of_special_requests                   0.082730  0.172185   \n",
       "stays_in_every_nights                       0.022652  0.067945   \n",
       "guests                                      0.026429  0.368144   \n",
       "total_price                                 0.040107  0.565766   \n",
       "\n",
       "                                required_car_parking_spaces  \\\n",
       "is_canceled                                        0.195498   \n",
       "lead_time                                          0.116451   \n",
       "arrival_date_year                                  0.013684   \n",
       "arrival_date_week_number                           0.001920   \n",
       "arrival_date_day_of_month                          0.008683   \n",
       "stays_in_weekend_nights                            0.018554   \n",
       "stays_in_week_nights                               0.024859   \n",
       "adults                                             0.014785   \n",
       "children                                           0.056253   \n",
       "babies                                             0.037383   \n",
       "is_repeated_guest                                  0.077090   \n",
       "previous_cancellations                             0.018492   \n",
       "previous_bookings_not_canceled                     0.047653   \n",
       "booking_changes                                    0.065620   \n",
       "agent                                              0.177353   \n",
       "company                                            0.012916   \n",
       "days_in_waiting_list                               0.030600   \n",
       "adr                                                0.056628   \n",
       "required_car_parking_spaces                        1.000000   \n",
       "total_of_special_requests                          0.082626   \n",
       "stays_in_every_nights                              0.025794   \n",
       "guests                                             0.047938   \n",
       "total_price                                        0.024082   \n",
       "\n",
       "                                total_of_special_requests  \\\n",
       "is_canceled                                      0.234658   \n",
       "lead_time                                        0.095712   \n",
       "arrival_date_year                                0.108531   \n",
       "arrival_date_week_number                         0.026149   \n",
       "arrival_date_day_of_month                        0.003062   \n",
       "stays_in_weekend_nights                          0.072671   \n",
       "stays_in_week_nights                             0.068192   \n",
       "adults                                           0.122884   \n",
       "children                                         0.081745   \n",
       "babies                                           0.097889   \n",
       "is_repeated_guest                                0.013050   \n",
       "previous_cancellations                           0.048384   \n",
       "previous_bookings_not_canceled                   0.037824   \n",
       "booking_changes                                  0.052833   \n",
       "agent                                            0.034162   \n",
       "company                                          0.098558   \n",
       "days_in_waiting_list                             0.082730   \n",
       "adr                                              0.172185   \n",
       "required_car_parking_spaces                      0.082626   \n",
       "total_of_special_requests                        1.000000   \n",
       "stays_in_every_nights                            0.079259   \n",
       "guests                                           0.156816   \n",
       "total_price                                      0.152998   \n",
       "\n",
       "                                stays_in_every_nights    guests  total_price  \n",
       "is_canceled                                  0.017779  0.046506     0.046562  \n",
       "lead_time                                    0.157167  0.072279     0.086778  \n",
       "arrival_date_year                            0.031438  0.052152     0.124350  \n",
       "arrival_date_week_number                     0.018719  0.025216     0.059243  \n",
       "arrival_date_day_of_month                    0.027408  0.006758     0.002528  \n",
       "stays_in_weekend_nights                      0.762790  0.101439     0.572201  \n",
       "stays_in_week_nights                         0.941005  0.101670     0.703020  \n",
       "adults                                       0.105249  0.821102     0.193601  \n",
       "children                                     0.050864  0.579373     0.232072  \n",
       "babies                                       0.022283  0.162690     0.037839  \n",
       "is_repeated_guest                            0.106626  0.136747     0.110447  \n",
       "previous_cancellations                       0.015429  0.020057     0.048516  \n",
       "previous_bookings_not_canceled               0.053049  0.099096     0.060723  \n",
       "booking_changes                              0.096498  0.003168     0.062525  \n",
       "agent                                        0.191728  0.004498     0.155828  \n",
       "company                                      0.164656  0.199667     0.155721  \n",
       "days_in_waiting_list                         0.022652  0.026429     0.040107  \n",
       "adr                                          0.067945  0.368144     0.565766  \n",
       "required_car_parking_spaces                  0.025794  0.047938     0.024082  \n",
       "total_of_special_requests                    0.079259  0.156816     0.152998  \n",
       "stays_in_every_nights                        1.000000  0.115473     0.748002  \n",
       "guests                                       0.115473  1.000000     0.288402  \n",
       "total_price                                  0.748002  0.288402     1.000000  \n",
       "\n",
       "[23 rows x 23 columns]"
      ]
     },
     "execution_count": 198,
     "metadata": {},
     "output_type": "execute_result"
    }
   ],
   "source": [
    "corr_df = np.abs(hotel_df.corr())\n",
    "corr_df"
   ]
  },
  {
   "cell_type": "code",
   "execution_count": 199,
   "id": "07aca26c",
   "metadata": {
    "ExecuteTime": {
     "end_time": "2023-12-16T17:04:45.901719Z",
     "start_time": "2023-12-16T17:04:45.382359Z"
    }
   },
   "outputs": [
    {
     "data": {
      "image/png": "[encoded data removed]",
      "text/plain": [
       "<Figure size 1200x1200 with 2 Axes>"
      ]
     },
     "metadata": {},
     "output_type": "display_data"
    }
   ],
   "source": [
    "plt.figure(figsize=(12, 12))\n",
    "sns.heatmap(np.abs(corr_df))\n",
    "plt.show()"
   ]
  },
  {
   "cell_type": "markdown",
   "id": "60fc389c",
   "metadata": {},
   "source": [
    "컬럼이 굉장히 많은 것에 비해 대부분이 시커멓기 때문에, 상관관계가 0.5 이상인 것들만 살펴보면 좋을 것 같다."
   ]
  },
  {
   "cell_type": "code",
   "execution_count": 202,
   "id": "4af3bc66",
   "metadata": {
    "ExecuteTime": {
     "end_time": "2023-12-16T17:05:24.939729Z",
     "start_time": "2023-12-16T17:05:24.021252Z"
    }
   },
   "outputs": [
    {
     "data": {
      "image/png": "[encoded data removed]",
      "text/plain": [
       "<Figure size 1200x1200 with 2 Axes>"
      ]
     },
     "metadata": {},
     "output_type": "display_data"
    }
   ],
   "source": [
    "plt.figure(figsize=(12, 12))\n",
    "sns.heatmap(\n",
    "    corr_df[(corr_df >= 0.5) & (corr_df < 1)].fillna(0),\n",
    "    annot=True\n",
    ")\n",
    "plt.show()"
   ]
  },
  {
   "cell_type": "markdown",
   "id": "aa46c56f",
   "metadata": {},
   "source": [
    "당연히 선형 관계가 있어야만 하는 컬럼들 제외하면 딱히 눈에 띄는 게 없다."
   ]
  },
  {
   "cell_type": "code",
   "execution_count": 205,
   "id": "0fe53f86",
   "metadata": {
    "ExecuteTime": {
     "end_time": "2023-12-16T17:09:39.508043Z",
     "start_time": "2023-12-16T17:09:39.342653Z"
    }
   },
   "outputs": [],
   "source": [
    "# pickle로 저장\n",
    "with open('hotel_df.pkl', 'wb') as file:\n",
    "    pickle.dump(hotel_df, file)"
   ]
  },
  {
   "cell_type": "markdown",
   "id": "5a6a8ec9",
   "metadata": {},
   "source": [
    "---"
   ]
  },
  {
   "cell_type": "markdown",
   "id": "6dcd5034",
   "metadata": {},
   "source": [
    "## 3. 데이터 분석"
   ]
  },
  {
   "cell_type": "markdown",
   "id": "99332bdb",
   "metadata": {},
   "source": [
    "### 3-1. 문제 정의\n",
    "\n",
    "초특가(25)씨는 숙박업체 예약 전문 앱을 운영하는 '자놀자'에서 데이터 분석가로 재직하는 중이다. 자놀자는 현재 이용객의 노쇼 문제로 고민이 이만저만이 아니다. 자놀자는 숙박 중개업자로서 노쇼 비용의 일부를 영업장에 부담해야 하기 때문이다. 또한 노쇼 고객으로 인해 수익의 기회가 상실된다는 점도 자놀자의 비즈니스에 부정적인 요인이다.\n",
    "\n",
    "특가씨는 자놀자의 영업이익 제고와 원활한 운영을 위해 **노쇼 위험 고객**을 미리 식별할 방법을 구상하고자 한다. 지금부터 특가씨의 입장에서, 데이터 분석 방법론을 적용하여 이탈 고객을 예측하는 프로젝트를 진행한다.\n",
    "\n",
    "**(예상 flow)**\n",
    "- 분석에 투입할 컬럼 선정\n",
    "- y = ```is_canceled```에 대한 분류 모델 생성\n",
    "- 결과 해석하여 노쇼 의심 고객의 특성을 식별\n",
    "- 비즈니스적인 액션 아이템 도출"
   ]
  },
  {
   "cell_type": "markdown",
   "id": "14d2f3ca",
   "metadata": {},
   "source": [
    "### 3-2. 데이터 분석"
   ]
  },
  {
   "cell_type": "code",
   "execution_count": null,
   "id": "d47770ab",
   "metadata": {},
   "outputs": [],
   "source": [
    "# 가설 검정, 머신러닝, ..."
   ]
  },
  {
   "cell_type": "markdown",
   "id": "d0408ce8",
   "metadata": {},
   "source": [
    "### 3-3. 결과 해석"
   ]
  },
  {
   "cell_type": "markdown",
   "id": "687950ec",
   "metadata": {},
   "source": [
    "..."
   ]
  },
  {
   "cell_type": "markdown",
   "id": "811987c2",
   "metadata": {},
   "source": [
    "---"
   ]
  },
  {
   "cell_type": "markdown",
   "id": "8947cf07",
   "metadata": {},
   "source": [
    "## 4. 후기"
   ]
  },
  {
   "cell_type": "markdown",
   "id": "9fb18056",
   "metadata": {},
   "source": [
    "..."
   ]
  }
 ],
 "metadata": {
  "kernelspec": {
   "display_name": "Python 3 (ipykernel)",
   "language": "python",
   "name": "python3"
  },
  "language_info": {
   "codemirror_mode": {
    "name": "ipython",
    "version": 3
   },
   "file_extension": ".py",
   "mimetype": "text/x-python",
   "name": "python",
   "nbconvert_exporter": "python",
   "pygments_lexer": "ipython3",
   "version": "3.9.16"
  },
  "toc": {
   "base_numbering": 1,
   "nav_menu": {},
   "number_sections": false,
   "sideBar": true,
   "skip_h1_title": false,
   "title_cell": "Table of Contents",
   "title_sidebar": "Contents",
   "toc_cell": false,
   "toc_position": {},
   "toc_section_display": true,
   "toc_window_display": false
  }
 },
 "nbformat": 4,
 "nbformat_minor": 5
}
