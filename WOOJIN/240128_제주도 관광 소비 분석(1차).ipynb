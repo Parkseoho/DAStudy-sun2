{
 "cells": [
  {
   "cell_type": "markdown",
   "id": "86eae928",
   "metadata": {},
   "source": [
    "# 제주도 관광 소비 분석\n",
    "\n",
    "2024.01.28"
   ]
  },
  {
   "cell_type": "markdown",
   "id": "f9fed36a",
   "metadata": {},
   "source": [
    "---"
   ]
  },
  {
   "cell_type": "markdown",
   "id": "d1337e66",
   "metadata": {},
   "source": [
    "## 1. 프로젝트 개요"
   ]
  },
  {
   "cell_type": "markdown",
   "id": "90453dd7",
   "metadata": {},
   "source": [
    "### 1-1. 프로젝트 요약\n",
    "- 제목: 제주도 관광 소비 분석\n",
    "- 설명: ...\n",
    "- 사용한 데이터셋\n",
    "    - [제주특별자치도_개별관광(FIT)_증가에_따른_제주_관광객_소비패턴_변화_분석_BC카드_빅데이터_내국인관광객](https://www.data.go.kr/data/15046091/fileData.do): 2014~2016년도 제주도 내 내국인 관광객의 업종명, 성별, 연령대별로 카드이용금액, 카드이용건수, 건강이용금액 등 정보 제공\n",
    "- 진행 절차 및 내용\n",
    "    - 컬럼별 전처리, EDA\n",
    "    - ...\n",
    "- 사용한 스킬셋\n",
    "    - pandas\n",
    "    - matplotlib, seaborn\n",
    "    - ..."
   ]
  },
  {
   "cell_type": "markdown",
   "id": "52d7a1cc",
   "metadata": {},
   "source": [
    "### 1-2. 프로젝트 진행 배경\n",
    "\n",
    "내용"
   ]
  },
  {
   "cell_type": "markdown",
   "id": "a6bdae6a",
   "metadata": {},
   "source": [
    "---"
   ]
  },
  {
   "cell_type": "markdown",
   "id": "91e2c594",
   "metadata": {},
   "source": [
    "## 2. 데이터 로딩 및 EDA"
   ]
  },
  {
   "cell_type": "markdown",
   "id": "63499328",
   "metadata": {},
   "source": [
    "### 2-1. 데이터 불러오기"
   ]
  },
  {
   "cell_type": "code",
   "execution_count": 2,
   "id": "eec0d7e3",
   "metadata": {
    "ExecuteTime": {
     "end_time": "2024-01-28T05:08:12.692195Z",
     "start_time": "2024-01-28T05:08:12.685694Z"
    }
   },
   "outputs": [],
   "source": [
    "import pandas as pd\n",
    "import numpy as np\n",
    "import matplotlib.pyplot as plt\n",
    "import koreanize_matplotlib\n",
    "import seaborn as sns\n",
    "import pickle"
   ]
  },
  {
   "cell_type": "code",
   "execution_count": 79,
   "id": "956e808e",
   "metadata": {
    "ExecuteTime": {
     "end_time": "2024-01-28T06:06:12.112400Z",
     "start_time": "2024-01-28T06:06:12.068987Z"
    }
   },
   "outputs": [
    {
     "data": {
      "text/html": [
       "<div>\n",
       "<style scoped>\n",
       "    .dataframe tbody tr th:only-of-type {\n",
       "        vertical-align: middle;\n",
       "    }\n",
       "\n",
       "    .dataframe tbody tr th {\n",
       "        vertical-align: top;\n",
       "    }\n",
       "\n",
       "    .dataframe thead th {\n",
       "        text-align: right;\n",
       "    }\n",
       "</style>\n",
       "<table border=\"1\" class=\"dataframe\">\n",
       "  <thead>\n",
       "    <tr style=\"text-align: right;\">\n",
       "      <th></th>\n",
       "      <th>기준년월</th>\n",
       "      <th>관광객 유형</th>\n",
       "      <th>제주 대분류</th>\n",
       "      <th>제주 중분류</th>\n",
       "      <th>업종명</th>\n",
       "      <th>성별</th>\n",
       "      <th>연령대별</th>\n",
       "      <th>카드이용금액</th>\n",
       "      <th>카드이용건수</th>\n",
       "      <th>건당이용금액</th>\n",
       "      <th>데이터기준일자</th>\n",
       "    </tr>\n",
       "  </thead>\n",
       "  <tbody>\n",
       "    <tr>\n",
       "      <th>0</th>\n",
       "      <td>2014-09</td>\n",
       "      <td>내국인 관광객</td>\n",
       "      <td>서귀포시</td>\n",
       "      <td>대륜동</td>\n",
       "      <td>농축수산품</td>\n",
       "      <td>여</td>\n",
       "      <td>50대</td>\n",
       "      <td>14434000</td>\n",
       "      <td>67</td>\n",
       "      <td>215433</td>\n",
       "      <td>2017-02-16</td>\n",
       "    </tr>\n",
       "    <tr>\n",
       "      <th>1</th>\n",
       "      <td>2014-09</td>\n",
       "      <td>내국인 관광객</td>\n",
       "      <td>서귀포시</td>\n",
       "      <td>대륜동</td>\n",
       "      <td>농축수산품</td>\n",
       "      <td>남</td>\n",
       "      <td>50대</td>\n",
       "      <td>15119000</td>\n",
       "      <td>72</td>\n",
       "      <td>209986</td>\n",
       "      <td>2017-02-16</td>\n",
       "    </tr>\n",
       "    <tr>\n",
       "      <th>2</th>\n",
       "      <td>2014-09</td>\n",
       "      <td>내국인 관광객</td>\n",
       "      <td>서귀포시</td>\n",
       "      <td>대륜동</td>\n",
       "      <td>농축수산품</td>\n",
       "      <td>여</td>\n",
       "      <td>40대</td>\n",
       "      <td>7609500</td>\n",
       "      <td>41</td>\n",
       "      <td>185598</td>\n",
       "      <td>2017-02-16</td>\n",
       "    </tr>\n",
       "    <tr>\n",
       "      <th>3</th>\n",
       "      <td>2014-09</td>\n",
       "      <td>내국인 관광객</td>\n",
       "      <td>서귀포시</td>\n",
       "      <td>남원읍</td>\n",
       "      <td>농축수산품</td>\n",
       "      <td>남</td>\n",
       "      <td>50대</td>\n",
       "      <td>7092500</td>\n",
       "      <td>40</td>\n",
       "      <td>177313</td>\n",
       "      <td>2017-02-16</td>\n",
       "    </tr>\n",
       "    <tr>\n",
       "      <th>4</th>\n",
       "      <td>2014-09</td>\n",
       "      <td>내국인 관광객</td>\n",
       "      <td>서귀포시</td>\n",
       "      <td>대륜동</td>\n",
       "      <td>농축수산품</td>\n",
       "      <td>남</td>\n",
       "      <td>40대</td>\n",
       "      <td>9098500</td>\n",
       "      <td>59</td>\n",
       "      <td>154212</td>\n",
       "      <td>2017-02-16</td>\n",
       "    </tr>\n",
       "    <tr>\n",
       "      <th>...</th>\n",
       "      <td>...</td>\n",
       "      <td>...</td>\n",
       "      <td>...</td>\n",
       "      <td>...</td>\n",
       "      <td>...</td>\n",
       "      <td>...</td>\n",
       "      <td>...</td>\n",
       "      <td>...</td>\n",
       "      <td>...</td>\n",
       "      <td>...</td>\n",
       "      <td>...</td>\n",
       "    </tr>\n",
       "    <tr>\n",
       "      <th>13141</th>\n",
       "      <td>2016-08</td>\n",
       "      <td>내국인 관광객</td>\n",
       "      <td>서귀포시</td>\n",
       "      <td>남원읍</td>\n",
       "      <td>약국</td>\n",
       "      <td>남</td>\n",
       "      <td>30대</td>\n",
       "      <td>252900</td>\n",
       "      <td>43</td>\n",
       "      <td>5881</td>\n",
       "      <td>2017-02-16</td>\n",
       "    </tr>\n",
       "    <tr>\n",
       "      <th>13142</th>\n",
       "      <td>2016-08</td>\n",
       "      <td>내국인 관광객</td>\n",
       "      <td>서귀포시</td>\n",
       "      <td>대륜동</td>\n",
       "      <td>약국</td>\n",
       "      <td>남</td>\n",
       "      <td>20대</td>\n",
       "      <td>276100</td>\n",
       "      <td>49</td>\n",
       "      <td>5635</td>\n",
       "      <td>2017-02-16</td>\n",
       "    </tr>\n",
       "    <tr>\n",
       "      <th>13143</th>\n",
       "      <td>2016-08</td>\n",
       "      <td>내국인 관광객</td>\n",
       "      <td>서귀포시</td>\n",
       "      <td>대륜동</td>\n",
       "      <td>기타음료식품</td>\n",
       "      <td>남</td>\n",
       "      <td>30대</td>\n",
       "      <td>610850</td>\n",
       "      <td>118</td>\n",
       "      <td>5177</td>\n",
       "      <td>2017-02-16</td>\n",
       "    </tr>\n",
       "    <tr>\n",
       "      <th>13144</th>\n",
       "      <td>2016-08</td>\n",
       "      <td>내국인 관광객</td>\n",
       "      <td>서귀포시</td>\n",
       "      <td>대륜동</td>\n",
       "      <td>기타음료식품</td>\n",
       "      <td>여</td>\n",
       "      <td>20대</td>\n",
       "      <td>416900</td>\n",
       "      <td>85</td>\n",
       "      <td>4905</td>\n",
       "      <td>2017-02-16</td>\n",
       "    </tr>\n",
       "    <tr>\n",
       "      <th>13145</th>\n",
       "      <td>2016-08</td>\n",
       "      <td>내국인 관광객</td>\n",
       "      <td>서귀포시</td>\n",
       "      <td>대륜동</td>\n",
       "      <td>기타음료식품</td>\n",
       "      <td>여</td>\n",
       "      <td>50대</td>\n",
       "      <td>56200</td>\n",
       "      <td>12</td>\n",
       "      <td>4683</td>\n",
       "      <td>2017-02-16</td>\n",
       "    </tr>\n",
       "  </tbody>\n",
       "</table>\n",
       "<p>13146 rows × 11 columns</p>\n",
       "</div>"
      ],
      "text/plain": [
       "          기준년월   관광객 유형 제주 대분류 제주 중분류     업종명 성별 연령대별   카드이용금액    카드이용건수   \\\n",
       "0      2014-09  내국인 관광객   서귀포시    대륜동   농축수산품  여  50대  14434000        67   \n",
       "1      2014-09  내국인 관광객   서귀포시    대륜동   농축수산품  남  50대  15119000        72   \n",
       "2      2014-09  내국인 관광객   서귀포시    대륜동   농축수산품  여  40대   7609500        41   \n",
       "3      2014-09  내국인 관광객   서귀포시    남원읍   농축수산품  남  50대   7092500        40   \n",
       "4      2014-09  내국인 관광객   서귀포시    대륜동   농축수산품  남  40대   9098500        59   \n",
       "...        ...      ...    ...    ...     ... ..  ...       ...       ...   \n",
       "13141  2016-08  내국인 관광객   서귀포시    남원읍      약국  남  30대    252900        43   \n",
       "13142  2016-08  내국인 관광객   서귀포시    대륜동      약국  남  20대    276100        49   \n",
       "13143  2016-08  내국인 관광객   서귀포시    대륜동  기타음료식품  남  30대    610850       118   \n",
       "13144  2016-08  내국인 관광객   서귀포시    대륜동  기타음료식품  여  20대    416900        85   \n",
       "13145  2016-08  내국인 관광객   서귀포시    대륜동  기타음료식품  여  50대     56200        12   \n",
       "\n",
       "       건당이용금액     데이터기준일자  \n",
       "0      215433  2017-02-16  \n",
       "1      209986  2017-02-16  \n",
       "2      185598  2017-02-16  \n",
       "3      177313  2017-02-16  \n",
       "4      154212  2017-02-16  \n",
       "...       ...         ...  \n",
       "13141    5881  2017-02-16  \n",
       "13142    5635  2017-02-16  \n",
       "13143    5177  2017-02-16  \n",
       "13144    4905  2017-02-16  \n",
       "13145    4683  2017-02-16  \n",
       "\n",
       "[13146 rows x 11 columns]"
      ]
     },
     "execution_count": 79,
     "metadata": {},
     "output_type": "execute_result"
    }
   ],
   "source": [
    "jeju_df = pd.read_csv(\n",
    "    '제주특별자치도_개별관광(FIT)_증가에_따른_제주_관광객_소비패턴_변화_분석_BC카드_빅데이터_내국인관광객_20170216.csv',\n",
    "    encoding='cp949'\n",
    ")\n",
    "\n",
    "jeju_df"
   ]
  },
  {
   "cell_type": "code",
   "execution_count": 80,
   "id": "1ecb52e5",
   "metadata": {
    "ExecuteTime": {
     "end_time": "2024-01-28T06:06:14.118910Z",
     "start_time": "2024-01-28T06:06:14.093228Z"
    }
   },
   "outputs": [
    {
     "name": "stdout",
     "output_type": "stream",
     "text": [
      "<class 'pandas.core.frame.DataFrame'>\n",
      "RangeIndex: 13146 entries, 0 to 13145\n",
      "Data columns (total 11 columns):\n",
      " #   Column    Non-Null Count  Dtype \n",
      "---  ------    --------------  ----- \n",
      " 0   기준년월      13146 non-null  object\n",
      " 1   관광객 유형    13146 non-null  object\n",
      " 2   제주 대분류    13146 non-null  object\n",
      " 3   제주 중분류    13146 non-null  object\n",
      " 4   업종명       13146 non-null  object\n",
      " 5   성별        13146 non-null  object\n",
      " 6   연령대별      13146 non-null  object\n",
      " 7    카드이용금액   13146 non-null  int64 \n",
      " 8    카드이용건수   13146 non-null  int64 \n",
      " 9   건당이용금액    13146 non-null  int64 \n",
      " 10  데이터기준일자   13146 non-null  object\n",
      "dtypes: int64(3), object(8)\n",
      "memory usage: 1.1+ MB\n"
     ]
    }
   ],
   "source": [
    "jeju_df.info()"
   ]
  },
  {
   "cell_type": "code",
   "execution_count": 81,
   "id": "cbb561f0",
   "metadata": {
    "ExecuteTime": {
     "end_time": "2024-01-28T06:06:15.708980Z",
     "start_time": "2024-01-28T06:06:15.683583Z"
    }
   },
   "outputs": [
    {
     "data": {
      "text/plain": [
       "기준년월        0\n",
       "관광객 유형      0\n",
       "제주 대분류      0\n",
       "제주 중분류      0\n",
       "업종명         0\n",
       "성별          0\n",
       "연령대별        0\n",
       " 카드이용금액     0\n",
       " 카드이용건수     0\n",
       "건당이용금액      0\n",
       "데이터기준일자     0\n",
       "dtype: int64"
      ]
     },
     "execution_count": 81,
     "metadata": {},
     "output_type": "execute_result"
    }
   ],
   "source": [
    "jeju_df.isna().sum()"
   ]
  },
  {
   "cell_type": "markdown",
   "id": "d2831191",
   "metadata": {},
   "source": [
    "카드이용금액, 카드이용건수 컬럼에 띄어쓰기가 되어 있는 점을 발견했으므로 띄어쓰기를 제거한 새로운 컬럼명을 적용해 준다."
   ]
  },
  {
   "cell_type": "code",
   "execution_count": 82,
   "id": "ba430ed3",
   "metadata": {
    "ExecuteTime": {
     "end_time": "2024-01-28T06:06:17.378693Z",
     "start_time": "2024-01-28T06:06:17.363300Z"
    }
   },
   "outputs": [
    {
     "data": {
      "text/plain": [
       "Index(['기준년월', '관광객 유형', '제주 대분류', '제주 중분류', '업종명', '성별', '연령대별', '카드이용금액',\n",
       "       '카드이용건수', '건당이용금액', '데이터기준일자'],\n",
       "      dtype='object')"
      ]
     },
     "execution_count": 82,
     "metadata": {},
     "output_type": "execute_result"
    }
   ],
   "source": [
    "jeju_df = jeju_df.rename(columns={' 카드이용금액 ': '카드이용금액', ' 카드이용건수 ': '카드이용건수'})\n",
    "jeju_df.columns"
   ]
  },
  {
   "cell_type": "markdown",
   "id": "fd0b53dd",
   "metadata": {},
   "source": [
    "### 2-2. 데이터 분포 확인 및 전처리"
   ]
  },
  {
   "cell_type": "markdown",
   "id": "6a7c4ad1",
   "metadata": {},
   "source": [
    "#### 2-2-1. 컬럼별 EDA (날짜)"
   ]
  },
  {
   "cell_type": "code",
   "execution_count": 11,
   "id": "1a20b65a",
   "metadata": {
    "ExecuteTime": {
     "end_time": "2024-01-28T05:11:19.712493Z",
     "start_time": "2024-01-28T05:11:19.693758Z"
    }
   },
   "outputs": [
    {
     "data": {
      "text/plain": [
       "0        2014-09\n",
       "1        2014-09\n",
       "2        2014-09\n",
       "3        2014-09\n",
       "4        2014-09\n",
       "          ...   \n",
       "13141    2016-08\n",
       "13142    2016-08\n",
       "13143    2016-08\n",
       "13144    2016-08\n",
       "13145    2016-08\n",
       "Name: 기준년월, Length: 13146, dtype: object"
      ]
     },
     "execution_count": 11,
     "metadata": {},
     "output_type": "execute_result"
    }
   ],
   "source": [
    "jeju_df['기준년월']"
   ]
  },
  {
   "cell_type": "code",
   "execution_count": 83,
   "id": "cfd522bb",
   "metadata": {
    "ExecuteTime": {
     "end_time": "2024-01-28T06:06:21.457610Z",
     "start_time": "2024-01-28T06:06:21.436728Z"
    }
   },
   "outputs": [
    {
     "data": {
      "text/html": [
       "<div>\n",
       "<style scoped>\n",
       "    .dataframe tbody tr th:only-of-type {\n",
       "        vertical-align: middle;\n",
       "    }\n",
       "\n",
       "    .dataframe tbody tr th {\n",
       "        vertical-align: top;\n",
       "    }\n",
       "\n",
       "    .dataframe thead th {\n",
       "        text-align: right;\n",
       "    }\n",
       "</style>\n",
       "<table border=\"1\" class=\"dataframe\">\n",
       "  <thead>\n",
       "    <tr style=\"text-align: right;\">\n",
       "      <th></th>\n",
       "      <th>기준년월</th>\n",
       "      <th>연도</th>\n",
       "      <th>월</th>\n",
       "    </tr>\n",
       "  </thead>\n",
       "  <tbody>\n",
       "    <tr>\n",
       "      <th>0</th>\n",
       "      <td>2014-09</td>\n",
       "      <td>2014</td>\n",
       "      <td>09</td>\n",
       "    </tr>\n",
       "    <tr>\n",
       "      <th>1</th>\n",
       "      <td>2014-09</td>\n",
       "      <td>2014</td>\n",
       "      <td>09</td>\n",
       "    </tr>\n",
       "    <tr>\n",
       "      <th>2</th>\n",
       "      <td>2014-09</td>\n",
       "      <td>2014</td>\n",
       "      <td>09</td>\n",
       "    </tr>\n",
       "    <tr>\n",
       "      <th>3</th>\n",
       "      <td>2014-09</td>\n",
       "      <td>2014</td>\n",
       "      <td>09</td>\n",
       "    </tr>\n",
       "    <tr>\n",
       "      <th>4</th>\n",
       "      <td>2014-09</td>\n",
       "      <td>2014</td>\n",
       "      <td>09</td>\n",
       "    </tr>\n",
       "    <tr>\n",
       "      <th>...</th>\n",
       "      <td>...</td>\n",
       "      <td>...</td>\n",
       "      <td>...</td>\n",
       "    </tr>\n",
       "    <tr>\n",
       "      <th>13141</th>\n",
       "      <td>2016-08</td>\n",
       "      <td>2016</td>\n",
       "      <td>08</td>\n",
       "    </tr>\n",
       "    <tr>\n",
       "      <th>13142</th>\n",
       "      <td>2016-08</td>\n",
       "      <td>2016</td>\n",
       "      <td>08</td>\n",
       "    </tr>\n",
       "    <tr>\n",
       "      <th>13143</th>\n",
       "      <td>2016-08</td>\n",
       "      <td>2016</td>\n",
       "      <td>08</td>\n",
       "    </tr>\n",
       "    <tr>\n",
       "      <th>13144</th>\n",
       "      <td>2016-08</td>\n",
       "      <td>2016</td>\n",
       "      <td>08</td>\n",
       "    </tr>\n",
       "    <tr>\n",
       "      <th>13145</th>\n",
       "      <td>2016-08</td>\n",
       "      <td>2016</td>\n",
       "      <td>08</td>\n",
       "    </tr>\n",
       "  </tbody>\n",
       "</table>\n",
       "<p>13146 rows × 3 columns</p>\n",
       "</div>"
      ],
      "text/plain": [
       "          기준년월    연도   월\n",
       "0      2014-09  2014  09\n",
       "1      2014-09  2014  09\n",
       "2      2014-09  2014  09\n",
       "3      2014-09  2014  09\n",
       "4      2014-09  2014  09\n",
       "...        ...   ...  ..\n",
       "13141  2016-08  2016  08\n",
       "13142  2016-08  2016  08\n",
       "13143  2016-08  2016  08\n",
       "13144  2016-08  2016  08\n",
       "13145  2016-08  2016  08\n",
       "\n",
       "[13146 rows x 3 columns]"
      ]
     },
     "execution_count": 83,
     "metadata": {},
     "output_type": "execute_result"
    }
   ],
   "source": [
    "jeju_df['연도'] = jeju_df['기준년월'].str[:4]\n",
    "jeju_df['월'] = jeju_df['기준년월'].str[5:]\n",
    "\n",
    "jeju_df[['기준년월', '연도', '월']]"
   ]
  },
  {
   "cell_type": "code",
   "execution_count": 39,
   "id": "e4422a0f",
   "metadata": {
    "ExecuteTime": {
     "end_time": "2024-01-28T05:20:26.400583Z",
     "start_time": "2024-01-28T05:20:26.380652Z"
    }
   },
   "outputs": [
    {
     "data": {
      "text/plain": [
       "2014    2035\n",
       "2015    6495\n",
       "2016    4616\n",
       "Name: 연도, dtype: int64"
      ]
     },
     "execution_count": 39,
     "metadata": {},
     "output_type": "execute_result"
    }
   ],
   "source": [
    "jeju_df['연도'].value_counts(sort=False)"
   ]
  },
  {
   "cell_type": "markdown",
   "id": "3dec1751",
   "metadata": {},
   "source": [
    "2014년부터 2016년까지의 데이터다."
   ]
  },
  {
   "cell_type": "code",
   "execution_count": 38,
   "id": "cef051b3",
   "metadata": {
    "ExecuteTime": {
     "end_time": "2024-01-28T05:20:08.588720Z",
     "start_time": "2024-01-28T05:20:08.574764Z"
    }
   },
   "outputs": [
    {
     "name": "stdout",
     "output_type": "stream",
     "text": [
      "==================================================\n",
      "[ 2014년 월별 ]\n",
      "09    511\n",
      "10    529\n",
      "11    505\n",
      "12    490\n",
      "Name: 월, dtype: int64\n",
      "==================================================\n",
      "==================================================\n",
      "[ 2015년 월별 ]\n",
      "01    507\n",
      "02    498\n",
      "03    525\n",
      "04    531\n",
      "05    550\n",
      "06    550\n",
      "07    566\n",
      "08    587\n",
      "09    557\n",
      "10    553\n",
      "11    537\n",
      "12    534\n",
      "Name: 월, dtype: int64\n",
      "==================================================\n",
      "==================================================\n",
      "[ 2016년 월별 ]\n",
      "01    542\n",
      "02    534\n",
      "03    576\n",
      "04    586\n",
      "05    596\n",
      "06    581\n",
      "07    591\n",
      "08    610\n",
      "Name: 월, dtype: int64\n",
      "==================================================\n"
     ]
    }
   ],
   "source": [
    "for year in jeju_df['연도'].unique():\n",
    "    print('=' * 50)\n",
    "    print(f'[ {year}년 월별 ]')\n",
    "    print(jeju_df[jeju_df['연도'] == year]['월'].value_counts(sort=False))\n",
    "    print('=' * 50)"
   ]
  },
  {
   "cell_type": "markdown",
   "id": "7fa42168",
   "metadata": {},
   "source": [
    "2014년 9월부터 2016년 8월까지의 데이터임에 유의해야 한다. 3년치 데이터처럼 보이지만 사실 **2년치 데이터**였다. 정확한 집계를 위해 연 컬럼을 새로 만들어 준다.\n",
    "\n",
    "- 2014-09 ~ 2015-08: 1\n",
    "- 2015-09 ~ 2016-08: 2"
   ]
  },
  {
   "cell_type": "code",
   "execution_count": 84,
   "id": "345cf8ad",
   "metadata": {
    "ExecuteTime": {
     "end_time": "2024-01-28T06:06:27.095724Z",
     "start_time": "2024-01-28T06:06:27.068819Z"
    }
   },
   "outputs": [
    {
     "data": {
      "text/html": [
       "<div>\n",
       "<style scoped>\n",
       "    .dataframe tbody tr th:only-of-type {\n",
       "        vertical-align: middle;\n",
       "    }\n",
       "\n",
       "    .dataframe tbody tr th {\n",
       "        vertical-align: top;\n",
       "    }\n",
       "\n",
       "    .dataframe thead th {\n",
       "        text-align: right;\n",
       "    }\n",
       "</style>\n",
       "<table border=\"1\" class=\"dataframe\">\n",
       "  <thead>\n",
       "    <tr style=\"text-align: right;\">\n",
       "      <th></th>\n",
       "      <th></th>\n",
       "      <th>0</th>\n",
       "    </tr>\n",
       "    <tr>\n",
       "      <th>기준년월</th>\n",
       "      <th>yearly</th>\n",
       "      <th></th>\n",
       "    </tr>\n",
       "  </thead>\n",
       "  <tbody>\n",
       "    <tr>\n",
       "      <th>2014-09</th>\n",
       "      <th>1</th>\n",
       "      <td>511</td>\n",
       "    </tr>\n",
       "    <tr>\n",
       "      <th>2014-10</th>\n",
       "      <th>1</th>\n",
       "      <td>529</td>\n",
       "    </tr>\n",
       "    <tr>\n",
       "      <th>2014-11</th>\n",
       "      <th>1</th>\n",
       "      <td>505</td>\n",
       "    </tr>\n",
       "    <tr>\n",
       "      <th>2014-12</th>\n",
       "      <th>1</th>\n",
       "      <td>490</td>\n",
       "    </tr>\n",
       "    <tr>\n",
       "      <th>2015-01</th>\n",
       "      <th>1</th>\n",
       "      <td>507</td>\n",
       "    </tr>\n",
       "    <tr>\n",
       "      <th>2015-02</th>\n",
       "      <th>1</th>\n",
       "      <td>498</td>\n",
       "    </tr>\n",
       "    <tr>\n",
       "      <th>2015-03</th>\n",
       "      <th>1</th>\n",
       "      <td>525</td>\n",
       "    </tr>\n",
       "    <tr>\n",
       "      <th>2015-04</th>\n",
       "      <th>1</th>\n",
       "      <td>531</td>\n",
       "    </tr>\n",
       "    <tr>\n",
       "      <th>2015-05</th>\n",
       "      <th>1</th>\n",
       "      <td>550</td>\n",
       "    </tr>\n",
       "    <tr>\n",
       "      <th>2015-06</th>\n",
       "      <th>1</th>\n",
       "      <td>550</td>\n",
       "    </tr>\n",
       "    <tr>\n",
       "      <th>2015-07</th>\n",
       "      <th>1</th>\n",
       "      <td>566</td>\n",
       "    </tr>\n",
       "    <tr>\n",
       "      <th>2015-08</th>\n",
       "      <th>1</th>\n",
       "      <td>587</td>\n",
       "    </tr>\n",
       "    <tr>\n",
       "      <th>2015-09</th>\n",
       "      <th>2</th>\n",
       "      <td>557</td>\n",
       "    </tr>\n",
       "    <tr>\n",
       "      <th>2015-10</th>\n",
       "      <th>2</th>\n",
       "      <td>553</td>\n",
       "    </tr>\n",
       "    <tr>\n",
       "      <th>2015-11</th>\n",
       "      <th>2</th>\n",
       "      <td>537</td>\n",
       "    </tr>\n",
       "    <tr>\n",
       "      <th>2015-12</th>\n",
       "      <th>2</th>\n",
       "      <td>534</td>\n",
       "    </tr>\n",
       "    <tr>\n",
       "      <th>2016-01</th>\n",
       "      <th>2</th>\n",
       "      <td>542</td>\n",
       "    </tr>\n",
       "    <tr>\n",
       "      <th>2016-02</th>\n",
       "      <th>2</th>\n",
       "      <td>534</td>\n",
       "    </tr>\n",
       "    <tr>\n",
       "      <th>2016-03</th>\n",
       "      <th>2</th>\n",
       "      <td>576</td>\n",
       "    </tr>\n",
       "    <tr>\n",
       "      <th>2016-04</th>\n",
       "      <th>2</th>\n",
       "      <td>586</td>\n",
       "    </tr>\n",
       "    <tr>\n",
       "      <th>2016-05</th>\n",
       "      <th>2</th>\n",
       "      <td>596</td>\n",
       "    </tr>\n",
       "    <tr>\n",
       "      <th>2016-06</th>\n",
       "      <th>2</th>\n",
       "      <td>581</td>\n",
       "    </tr>\n",
       "    <tr>\n",
       "      <th>2016-07</th>\n",
       "      <th>2</th>\n",
       "      <td>591</td>\n",
       "    </tr>\n",
       "    <tr>\n",
       "      <th>2016-08</th>\n",
       "      <th>2</th>\n",
       "      <td>610</td>\n",
       "    </tr>\n",
       "  </tbody>\n",
       "</table>\n",
       "</div>"
      ],
      "text/plain": [
       "                  0\n",
       "기준년월    yearly     \n",
       "2014-09 1       511\n",
       "2014-10 1       529\n",
       "2014-11 1       505\n",
       "2014-12 1       490\n",
       "2015-01 1       507\n",
       "2015-02 1       498\n",
       "2015-03 1       525\n",
       "2015-04 1       531\n",
       "2015-05 1       550\n",
       "2015-06 1       550\n",
       "2015-07 1       566\n",
       "2015-08 1       587\n",
       "2015-09 2       557\n",
       "2015-10 2       553\n",
       "2015-11 2       537\n",
       "2015-12 2       534\n",
       "2016-01 2       542\n",
       "2016-02 2       534\n",
       "2016-03 2       576\n",
       "2016-04 2       586\n",
       "2016-05 2       596\n",
       "2016-06 2       581\n",
       "2016-07 2       591\n",
       "2016-08 2       610"
      ]
     },
     "execution_count": 84,
     "metadata": {},
     "output_type": "execute_result"
    }
   ],
   "source": [
    "def calculate_year(date):\n",
    "    year = int(date[:4])\n",
    "    month = int(date[6:]) if date[5] == '0' else int(date[5:])\n",
    "    \n",
    "    if year == 2014:\n",
    "        return 1\n",
    "    elif year == 2015 and month <= 8:\n",
    "        return 1\n",
    "    else:\n",
    "        return 2\n",
    "\n",
    "jeju_df['yearly'] = jeju_df['기준년월'].apply(calculate_year)\n",
    "jeju_df[['기준년월', 'yearly']].value_counts(sort=False).to_frame()"
   ]
  },
  {
   "cell_type": "code",
   "execution_count": 53,
   "id": "e4019305",
   "metadata": {
    "ExecuteTime": {
     "end_time": "2024-01-28T05:55:00.143231Z",
     "start_time": "2024-01-28T05:55:00.124768Z"
    }
   },
   "outputs": [
    {
     "data": {
      "text/html": [
       "<div>\n",
       "<style scoped>\n",
       "    .dataframe tbody tr th:only-of-type {\n",
       "        vertical-align: middle;\n",
       "    }\n",
       "\n",
       "    .dataframe tbody tr th {\n",
       "        vertical-align: top;\n",
       "    }\n",
       "\n",
       "    .dataframe thead th {\n",
       "        text-align: right;\n",
       "    }\n",
       "</style>\n",
       "<table border=\"1\" class=\"dataframe\">\n",
       "  <thead>\n",
       "    <tr style=\"text-align: right;\">\n",
       "      <th></th>\n",
       "      <th>카드이용금액</th>\n",
       "      <th>카드이용건수</th>\n",
       "    </tr>\n",
       "    <tr>\n",
       "      <th>yearly</th>\n",
       "      <th></th>\n",
       "      <th></th>\n",
       "    </tr>\n",
       "  </thead>\n",
       "  <tbody>\n",
       "    <tr>\n",
       "      <th>1</th>\n",
       "      <td>22088283921</td>\n",
       "      <td>796906</td>\n",
       "    </tr>\n",
       "    <tr>\n",
       "      <th>2</th>\n",
       "      <td>26514897353</td>\n",
       "      <td>955562</td>\n",
       "    </tr>\n",
       "  </tbody>\n",
       "</table>\n",
       "</div>"
      ],
      "text/plain": [
       "             카드이용금액  카드이용건수\n",
       "yearly                     \n",
       "1       22088283921  796906\n",
       "2       26514897353  955562"
      ]
     },
     "execution_count": 53,
     "metadata": {},
     "output_type": "execute_result"
    }
   ],
   "source": [
    "yearly_df = jeju_df.groupby('yearly').agg({'카드이용금액': 'sum', '카드이용건수': 'sum'})\n",
    "yearly_df"
   ]
  },
  {
   "cell_type": "code",
   "execution_count": 69,
   "id": "7ed65742",
   "metadata": {
    "ExecuteTime": {
     "end_time": "2024-01-28T05:58:48.027109Z",
     "start_time": "2024-01-28T05:58:47.906417Z"
    }
   },
   "outputs": [
    {
     "data": {
      "image/png": "[encoded data removed]",
      "text/plain": [
       "<Figure size 1400x800 with 2 Axes>"
      ]
     },
     "metadata": {},
     "output_type": "display_data"
    }
   ],
   "source": [
    "fig, axes = plt.subplots(ncols=2, figsize=(14, 8))\n",
    "\n",
    "axes[0].bar(\n",
    "    yearly_df.index,\n",
    "    yearly_df['카드이용금액']\n",
    ")\n",
    "axes[0].set_xticks(yearly_df.index)\n",
    "axes[0].set_ylabel('카드이용금액(백억 원)')\n",
    "axes[0].set_title('연차별 카드이용금액')\n",
    "\n",
    "axes[1].bar(\n",
    "    yearly_df.index,\n",
    "    yearly_df['카드이용건수']\n",
    ")\n",
    "axes[1].set_xticks(yearly_df.index)\n",
    "axes[1].set_ylabel('카드이용건수(십만 건)')\n",
    "axes[1].set_title('연차별 카드이용건수')\n",
    "\n",
    "plt.show()"
   ]
  },
  {
   "cell_type": "markdown",
   "id": "e6e8d044",
   "metadata": {},
   "source": [
    "2015년 9월 ~ 2016년 8월 기간의 실적이 더 높다.\n",
    "\n",
    "한편, 관광 데이터는 계절 단위로 끊어서 보는 게 좋겠다는 생각이 들었다."
   ]
  },
  {
   "cell_type": "code",
   "execution_count": 85,
   "id": "ee47fc90",
   "metadata": {
    "ExecuteTime": {
     "end_time": "2024-01-28T06:06:32.917829Z",
     "start_time": "2024-01-28T06:06:32.891525Z"
    }
   },
   "outputs": [
    {
     "data": {
      "text/html": [
       "<div>\n",
       "<style scoped>\n",
       "    .dataframe tbody tr th:only-of-type {\n",
       "        vertical-align: middle;\n",
       "    }\n",
       "\n",
       "    .dataframe tbody tr th {\n",
       "        vertical-align: top;\n",
       "    }\n",
       "\n",
       "    .dataframe thead th {\n",
       "        text-align: right;\n",
       "    }\n",
       "</style>\n",
       "<table border=\"1\" class=\"dataframe\">\n",
       "  <thead>\n",
       "    <tr style=\"text-align: right;\">\n",
       "      <th></th>\n",
       "      <th></th>\n",
       "      <th>0</th>\n",
       "    </tr>\n",
       "    <tr>\n",
       "      <th>기준년월</th>\n",
       "      <th>계절</th>\n",
       "      <th></th>\n",
       "    </tr>\n",
       "  </thead>\n",
       "  <tbody>\n",
       "    <tr>\n",
       "      <th>2014-09</th>\n",
       "      <th>3</th>\n",
       "      <td>511</td>\n",
       "    </tr>\n",
       "    <tr>\n",
       "      <th>2014-10</th>\n",
       "      <th>3</th>\n",
       "      <td>529</td>\n",
       "    </tr>\n",
       "    <tr>\n",
       "      <th>2014-11</th>\n",
       "      <th>3</th>\n",
       "      <td>505</td>\n",
       "    </tr>\n",
       "    <tr>\n",
       "      <th>2014-12</th>\n",
       "      <th>4</th>\n",
       "      <td>490</td>\n",
       "    </tr>\n",
       "    <tr>\n",
       "      <th>2015-01</th>\n",
       "      <th>4</th>\n",
       "      <td>507</td>\n",
       "    </tr>\n",
       "    <tr>\n",
       "      <th>2015-02</th>\n",
       "      <th>4</th>\n",
       "      <td>498</td>\n",
       "    </tr>\n",
       "    <tr>\n",
       "      <th>2015-03</th>\n",
       "      <th>1</th>\n",
       "      <td>525</td>\n",
       "    </tr>\n",
       "    <tr>\n",
       "      <th>2015-04</th>\n",
       "      <th>1</th>\n",
       "      <td>531</td>\n",
       "    </tr>\n",
       "    <tr>\n",
       "      <th>2015-05</th>\n",
       "      <th>1</th>\n",
       "      <td>550</td>\n",
       "    </tr>\n",
       "    <tr>\n",
       "      <th>2015-06</th>\n",
       "      <th>2</th>\n",
       "      <td>550</td>\n",
       "    </tr>\n",
       "    <tr>\n",
       "      <th>2015-07</th>\n",
       "      <th>2</th>\n",
       "      <td>566</td>\n",
       "    </tr>\n",
       "    <tr>\n",
       "      <th>2015-08</th>\n",
       "      <th>2</th>\n",
       "      <td>587</td>\n",
       "    </tr>\n",
       "    <tr>\n",
       "      <th>2015-09</th>\n",
       "      <th>3</th>\n",
       "      <td>557</td>\n",
       "    </tr>\n",
       "    <tr>\n",
       "      <th>2015-10</th>\n",
       "      <th>3</th>\n",
       "      <td>553</td>\n",
       "    </tr>\n",
       "    <tr>\n",
       "      <th>2015-11</th>\n",
       "      <th>3</th>\n",
       "      <td>537</td>\n",
       "    </tr>\n",
       "    <tr>\n",
       "      <th>2015-12</th>\n",
       "      <th>4</th>\n",
       "      <td>534</td>\n",
       "    </tr>\n",
       "    <tr>\n",
       "      <th>2016-01</th>\n",
       "      <th>4</th>\n",
       "      <td>542</td>\n",
       "    </tr>\n",
       "    <tr>\n",
       "      <th>2016-02</th>\n",
       "      <th>4</th>\n",
       "      <td>534</td>\n",
       "    </tr>\n",
       "    <tr>\n",
       "      <th>2016-03</th>\n",
       "      <th>1</th>\n",
       "      <td>576</td>\n",
       "    </tr>\n",
       "    <tr>\n",
       "      <th>2016-04</th>\n",
       "      <th>1</th>\n",
       "      <td>586</td>\n",
       "    </tr>\n",
       "    <tr>\n",
       "      <th>2016-05</th>\n",
       "      <th>1</th>\n",
       "      <td>596</td>\n",
       "    </tr>\n",
       "    <tr>\n",
       "      <th>2016-06</th>\n",
       "      <th>2</th>\n",
       "      <td>581</td>\n",
       "    </tr>\n",
       "    <tr>\n",
       "      <th>2016-07</th>\n",
       "      <th>2</th>\n",
       "      <td>591</td>\n",
       "    </tr>\n",
       "    <tr>\n",
       "      <th>2016-08</th>\n",
       "      <th>2</th>\n",
       "      <td>610</td>\n",
       "    </tr>\n",
       "  </tbody>\n",
       "</table>\n",
       "</div>"
      ],
      "text/plain": [
       "              0\n",
       "기준년월    계절     \n",
       "2014-09 3   511\n",
       "2014-10 3   529\n",
       "2014-11 3   505\n",
       "2014-12 4   490\n",
       "2015-01 4   507\n",
       "2015-02 4   498\n",
       "2015-03 1   525\n",
       "2015-04 1   531\n",
       "2015-05 1   550\n",
       "2015-06 2   550\n",
       "2015-07 2   566\n",
       "2015-08 2   587\n",
       "2015-09 3   557\n",
       "2015-10 3   553\n",
       "2015-11 3   537\n",
       "2015-12 4   534\n",
       "2016-01 4   542\n",
       "2016-02 4   534\n",
       "2016-03 1   576\n",
       "2016-04 1   586\n",
       "2016-05 1   596\n",
       "2016-06 2   581\n",
       "2016-07 2   591\n",
       "2016-08 2   610"
      ]
     },
     "execution_count": 85,
     "metadata": {},
     "output_type": "execute_result"
    }
   ],
   "source": [
    "def generate_season(date):\n",
    "    month = int(date[6:]) if date[5] == '0' else int(date[5:])\n",
    "    if 3 <= month <= 5:\n",
    "        return 1\n",
    "    elif 6 <= month <= 8:\n",
    "        return 2\n",
    "    elif 9 <= month <= 11:\n",
    "        return 3\n",
    "    else:\n",
    "        return 4\n",
    "\n",
    "jeju_df['계절'] = jeju_df['기준년월'].apply(generate_season)\n",
    "jeju_df[['기준년월', '계절']].value_counts(sort=False).to_frame()"
   ]
  },
  {
   "cell_type": "code",
   "execution_count": 72,
   "id": "5d246231",
   "metadata": {
    "ExecuteTime": {
     "end_time": "2024-01-28T06:02:23.574336Z",
     "start_time": "2024-01-28T06:02:23.548776Z"
    }
   },
   "outputs": [
    {
     "data": {
      "text/html": [
       "<div>\n",
       "<style scoped>\n",
       "    .dataframe tbody tr th:only-of-type {\n",
       "        vertical-align: middle;\n",
       "    }\n",
       "\n",
       "    .dataframe tbody tr th {\n",
       "        vertical-align: top;\n",
       "    }\n",
       "\n",
       "    .dataframe thead th {\n",
       "        text-align: right;\n",
       "    }\n",
       "</style>\n",
       "<table border=\"1\" class=\"dataframe\">\n",
       "  <thead>\n",
       "    <tr style=\"text-align: right;\">\n",
       "      <th></th>\n",
       "      <th>카드이용금액</th>\n",
       "      <th>카드이용건수</th>\n",
       "    </tr>\n",
       "    <tr>\n",
       "      <th>계절</th>\n",
       "      <th></th>\n",
       "      <th></th>\n",
       "    </tr>\n",
       "  </thead>\n",
       "  <tbody>\n",
       "    <tr>\n",
       "      <th>1</th>\n",
       "      <td>12888857680</td>\n",
       "      <td>439031</td>\n",
       "    </tr>\n",
       "    <tr>\n",
       "      <th>2</th>\n",
       "      <td>13926926407</td>\n",
       "      <td>550636</td>\n",
       "    </tr>\n",
       "    <tr>\n",
       "      <th>3</th>\n",
       "      <td>11734785067</td>\n",
       "      <td>398419</td>\n",
       "    </tr>\n",
       "    <tr>\n",
       "      <th>4</th>\n",
       "      <td>10052612120</td>\n",
       "      <td>364382</td>\n",
       "    </tr>\n",
       "  </tbody>\n",
       "</table>\n",
       "</div>"
      ],
      "text/plain": [
       "         카드이용금액  카드이용건수\n",
       "계절                     \n",
       "1   12888857680  439031\n",
       "2   13926926407  550636\n",
       "3   11734785067  398419\n",
       "4   10052612120  364382"
      ]
     },
     "execution_count": 72,
     "metadata": {},
     "output_type": "execute_result"
    }
   ],
   "source": [
    "seasonal_df = jeju_df.groupby('계절').agg({'카드이용금액': 'sum', '카드이용건수': 'sum'})\n",
    "seasonal_df"
   ]
  },
  {
   "cell_type": "code",
   "execution_count": 78,
   "id": "719a3670",
   "metadata": {
    "ExecuteTime": {
     "end_time": "2024-01-28T06:03:58.341049Z",
     "start_time": "2024-01-28T06:03:58.195408Z"
    }
   },
   "outputs": [
    {
     "data": {
      "image/png": "[encoded data removed]",
      "text/plain": [
       "<Figure size 1400x800 with 2 Axes>"
      ]
     },
     "metadata": {},
     "output_type": "display_data"
    }
   ],
   "source": [
    "fig, axes = plt.subplots(ncols=2, figsize=(14, 8))\n",
    "\n",
    "axes[0].bar(\n",
    "    seasonal_df.index.map({1: '봄', 2: '여름', 3: '가을', 4: '겨울'}),\n",
    "    seasonal_df['카드이용금액']\n",
    ")\n",
    "axes[0].set_ylabel('카드이용금액(백억 원)')\n",
    "axes[0].set_title('계절별 카드이용금액')\n",
    "\n",
    "axes[1].bar(\n",
    "    seasonal_df.index.map({1: '봄', 2: '여름', 3: '가을', 4: '겨울'}),\n",
    "    seasonal_df['카드이용건수']\n",
    ")\n",
    "axes[1].set_ylabel('카드이용건수(건)')\n",
    "axes[1].set_title('계절별 카드이용건수')\n",
    "\n",
    "plt.show()"
   ]
  },
  {
   "cell_type": "markdown",
   "id": "c5649113",
   "metadata": {},
   "source": [
    "여름의 카드이용금액과 카드이용건수가 가장 많고, **여름 > 봄 > 가을 > 겨울**의 추이를 보인다. 다만 이 지점에서, 건당 이용금액에는 다소 차이를 보일 수도 있겠다는 생각이 들었다. 추후 분석 시에 이 부분을 확인해 보면 좋을 듯하다."
   ]
  },
  {
   "cell_type": "markdown",
   "id": "f2ea15df",
   "metadata": {},
   "source": [
    "#### 2-2-2. 컬럼별 EDA (이용자 관련)"
   ]
  },
  {
   "cell_type": "markdown",
   "id": "de2dfb27",
   "metadata": {},
   "source": [
    "이용자 관련 컬럼으로는 다음의 3가지가 있다.\n",
    "- 관광객 유형\n",
    "- 성별\n",
    "- 연령대별"
   ]
  },
  {
   "cell_type": "code",
   "execution_count": 87,
   "id": "3ef1aab9",
   "metadata": {
    "ExecuteTime": {
     "end_time": "2024-01-28T06:14:42.774680Z",
     "start_time": "2024-01-28T06:14:42.756271Z"
    }
   },
   "outputs": [
    {
     "data": {
      "text/plain": [
       "내국인 관광객    13146\n",
       "Name: 관광객 유형, dtype: int64"
      ]
     },
     "execution_count": 87,
     "metadata": {},
     "output_type": "execute_result"
    }
   ],
   "source": [
    "jeju_df['관광객 유형'].value_counts()"
   ]
  },
  {
   "cell_type": "markdown",
   "id": "5351d562",
   "metadata": {},
   "source": [
    "외국인 관광객은 없고 내국인 관광객만 있다. 그럼 이 컬럼이 왜 필요해?"
   ]
  },
  {
   "cell_type": "code",
   "execution_count": 89,
   "id": "70524910",
   "metadata": {
    "ExecuteTime": {
     "end_time": "2024-01-28T06:15:40.630996Z",
     "start_time": "2024-01-28T06:15:40.619812Z"
    }
   },
   "outputs": [
    {
     "data": {
      "text/plain": [
       "남    6609\n",
       "여    6537\n",
       "Name: 성별, dtype: int64"
      ]
     },
     "execution_count": 89,
     "metadata": {},
     "output_type": "execute_result"
    }
   ],
   "source": [
    "jeju_df['성별'].value_counts()"
   ]
  },
  {
   "cell_type": "code",
   "execution_count": 90,
   "id": "83be5486",
   "metadata": {
    "ExecuteTime": {
     "end_time": "2024-01-28T06:16:18.482790Z",
     "start_time": "2024-01-28T06:16:18.459697Z"
    }
   },
   "outputs": [
    {
     "data": {
      "text/html": [
       "<div>\n",
       "<style scoped>\n",
       "    .dataframe tbody tr th:only-of-type {\n",
       "        vertical-align: middle;\n",
       "    }\n",
       "\n",
       "    .dataframe tbody tr th {\n",
       "        vertical-align: top;\n",
       "    }\n",
       "\n",
       "    .dataframe thead th {\n",
       "        text-align: right;\n",
       "    }\n",
       "</style>\n",
       "<table border=\"1\" class=\"dataframe\">\n",
       "  <thead>\n",
       "    <tr style=\"text-align: right;\">\n",
       "      <th></th>\n",
       "      <th>카드이용금액</th>\n",
       "      <th>카드이용건수</th>\n",
       "    </tr>\n",
       "    <tr>\n",
       "      <th>성별</th>\n",
       "      <th></th>\n",
       "      <th></th>\n",
       "    </tr>\n",
       "  </thead>\n",
       "  <tbody>\n",
       "    <tr>\n",
       "      <th>남</th>\n",
       "      <td>25714910191</td>\n",
       "      <td>928305</td>\n",
       "    </tr>\n",
       "    <tr>\n",
       "      <th>여</th>\n",
       "      <td>22888271083</td>\n",
       "      <td>824163</td>\n",
       "    </tr>\n",
       "  </tbody>\n",
       "</table>\n",
       "</div>"
      ],
      "text/plain": [
       "         카드이용금액  카드이용건수\n",
       "성별                     \n",
       "남   25714910191  928305\n",
       "여   22888271083  824163"
      ]
     },
     "execution_count": 90,
     "metadata": {},
     "output_type": "execute_result"
    }
   ],
   "source": [
    "gender_df = jeju_df.groupby('성별').agg({'카드이용금액': 'sum', '카드이용건수': 'sum'})\n",
    "gender_df"
   ]
  },
  {
   "cell_type": "code",
   "execution_count": 91,
   "id": "3b9e01d4",
   "metadata": {
    "ExecuteTime": {
     "end_time": "2024-01-28T06:17:12.549072Z",
     "start_time": "2024-01-28T06:17:12.419783Z"
    }
   },
   "outputs": [
    {
     "data": {
      "image/png": "[encoded data removed]",
      "text/plain": [
       "<Figure size 1400x800 with 2 Axes>"
      ]
     },
     "metadata": {},
     "output_type": "display_data"
    }
   ],
   "source": [
    "fig, axes = plt.subplots(ncols=2, figsize=(14, 8))\n",
    "\n",
    "axes[0].bar(\n",
    "    gender_df.index,\n",
    "    gender_df['카드이용금액']\n",
    ")\n",
    "axes[0].set_ylabel('카드이용금액(백억 원)')\n",
    "axes[0].set_title('성별 카드이용금액')\n",
    "\n",
    "axes[1].bar(\n",
    "    gender_df.index,\n",
    "    gender_df['카드이용건수']\n",
    ")\n",
    "axes[1].set_ylabel('카드이용건수(건)')\n",
    "axes[1].set_title('성별 카드이용건수')\n",
    "\n",
    "plt.show()"
   ]
  },
  {
   "cell_type": "markdown",
   "id": "0f27fd7a",
   "metadata": {},
   "source": [
    "**남성**의 카드이용금액과 카드이용건수가 더 높은 점을 확인할 수 있다."
   ]
  },
  {
   "cell_type": "code",
   "execution_count": 93,
   "id": "af1bca6a",
   "metadata": {
    "ExecuteTime": {
     "end_time": "2024-01-28T06:18:50.768507Z",
     "start_time": "2024-01-28T06:18:50.754539Z"
    }
   },
   "outputs": [
    {
     "data": {
      "text/plain": [
       "50대    3016\n",
       "40대    3428\n",
       "30대    3565\n",
       "20대    3137\n",
       "Name: 연령대별, dtype: int64"
      ]
     },
     "execution_count": 93,
     "metadata": {},
     "output_type": "execute_result"
    }
   ],
   "source": [
    "jeju_df['연령대별'].value_counts(sort=False)"
   ]
  },
  {
   "cell_type": "markdown",
   "id": "a00c82d9",
   "metadata": {},
   "source": [
    "20대부터 50대까지의 데이터로 구성되어 있다."
   ]
  },
  {
   "cell_type": "code",
   "execution_count": 95,
   "id": "77417084",
   "metadata": {
    "ExecuteTime": {
     "end_time": "2024-01-28T06:19:47.797984Z",
     "start_time": "2024-01-28T06:19:47.780226Z"
    }
   },
   "outputs": [
    {
     "data": {
      "text/html": [
       "<div>\n",
       "<style scoped>\n",
       "    .dataframe tbody tr th:only-of-type {\n",
       "        vertical-align: middle;\n",
       "    }\n",
       "\n",
       "    .dataframe tbody tr th {\n",
       "        vertical-align: top;\n",
       "    }\n",
       "\n",
       "    .dataframe thead th {\n",
       "        text-align: right;\n",
       "    }\n",
       "</style>\n",
       "<table border=\"1\" class=\"dataframe\">\n",
       "  <thead>\n",
       "    <tr style=\"text-align: right;\">\n",
       "      <th></th>\n",
       "      <th>카드이용금액</th>\n",
       "      <th>카드이용건수</th>\n",
       "    </tr>\n",
       "    <tr>\n",
       "      <th>연령대별</th>\n",
       "      <th></th>\n",
       "      <th></th>\n",
       "    </tr>\n",
       "  </thead>\n",
       "  <tbody>\n",
       "    <tr>\n",
       "      <th>20대</th>\n",
       "      <td>7399961053</td>\n",
       "      <td>370833</td>\n",
       "    </tr>\n",
       "    <tr>\n",
       "      <th>30대</th>\n",
       "      <td>14856286866</td>\n",
       "      <td>595447</td>\n",
       "    </tr>\n",
       "    <tr>\n",
       "      <th>40대</th>\n",
       "      <td>14370117286</td>\n",
       "      <td>470852</td>\n",
       "    </tr>\n",
       "    <tr>\n",
       "      <th>50대</th>\n",
       "      <td>11976816069</td>\n",
       "      <td>315336</td>\n",
       "    </tr>\n",
       "  </tbody>\n",
       "</table>\n",
       "</div>"
      ],
      "text/plain": [
       "           카드이용금액  카드이용건수\n",
       "연령대별                     \n",
       "20대    7399961053  370833\n",
       "30대   14856286866  595447\n",
       "40대   14370117286  470852\n",
       "50대   11976816069  315336"
      ]
     },
     "execution_count": 95,
     "metadata": {},
     "output_type": "execute_result"
    }
   ],
   "source": [
    "age_df = jeju_df.groupby('연령대별').agg({'카드이용금액': 'sum', '카드이용건수': 'sum'})\n",
    "age_df"
   ]
  },
  {
   "cell_type": "code",
   "execution_count": 96,
   "id": "1f7b636e",
   "metadata": {
    "ExecuteTime": {
     "end_time": "2024-01-28T06:20:11.729739Z",
     "start_time": "2024-01-28T06:20:11.589492Z"
    }
   },
   "outputs": [
    {
     "data": {
      "image/png": "[encoded data removed]",
      "text/plain": [
       "<Figure size 1400x800 with 2 Axes>"
      ]
     },
     "metadata": {},
     "output_type": "display_data"
    }
   ],
   "source": [
    "fig, axes = plt.subplots(ncols=2, figsize=(14, 8))\n",
    "\n",
    "axes[0].bar(\n",
    "    age_df.index,\n",
    "    age_df['카드이용금액']\n",
    ")\n",
    "axes[0].set_ylabel('카드이용금액(백억 원)')\n",
    "axes[0].set_title('연령대별 카드이용금액')\n",
    "\n",
    "axes[1].bar(\n",
    "    age_df.index,\n",
    "    age_df['카드이용건수']\n",
    ")\n",
    "axes[1].set_ylabel('카드이용건수(건)')\n",
    "axes[1].set_title('연령대별 카드이용건수')\n",
    "\n",
    "plt.show()"
   ]
  },
  {
   "cell_type": "markdown",
   "id": "eb4a2ae0",
   "metadata": {},
   "source": [
    "연령대별로는 **30대**가 가장 높은 카드이용금액, 카드이용건수 분포를 보인다.\n",
    "\n",
    "여기서 흥미로운 점은 카드이용금액에서 가장 낮은 연령대는 20대이지만, 카드이용건수에서 가장 낮은 연령대는 50대라는 점이다. 카드이용건수 대비 카드이용금액을 볼 때 40대와 50대가 유독 많은 금액을 이용했다. 즉 건당 금액을 산출해 보면 4050의 지표가 높을 것으로 예상된다. 이러한 부분도 추후 분석에 있어서 참고하면 좋을 듯하다."
   ]
  },
  {
   "cell_type": "markdown",
   "id": "464c9c7f",
   "metadata": {},
   "source": [
    "#### 2-2-3. 컬럼별 EDA (관광지 관련)"
   ]
  },
  {
   "cell_type": "markdown",
   "id": "3933e829",
   "metadata": {},
   "source": [
    "관광지 관련 컬럼으로는 다음의 3가지가 있다.\n",
    "- 제주 대분류\n",
    "- 제주 중분류\n",
    "- 업종명"
   ]
  },
  {
   "cell_type": "code",
   "execution_count": 98,
   "id": "90f35dc2",
   "metadata": {
    "ExecuteTime": {
     "end_time": "2024-01-28T06:23:38.832502Z",
     "start_time": "2024-01-28T06:23:38.810575Z"
    }
   },
   "outputs": [
    {
     "data": {
      "text/plain": [
       "제주시     8729\n",
       "서귀포시    4417\n",
       "Name: 제주 대분류, dtype: int64"
      ]
     },
     "execution_count": 98,
     "metadata": {},
     "output_type": "execute_result"
    }
   ],
   "source": [
    "jeju_df['제주 대분류'].value_counts()"
   ]
  },
  {
   "cell_type": "code",
   "execution_count": 99,
   "id": "d9fc30cc",
   "metadata": {
    "ExecuteTime": {
     "end_time": "2024-01-28T06:24:09.298075Z",
     "start_time": "2024-01-28T06:24:09.276085Z"
    }
   },
   "outputs": [
    {
     "data": {
      "text/html": [
       "<div>\n",
       "<style scoped>\n",
       "    .dataframe tbody tr th:only-of-type {\n",
       "        vertical-align: middle;\n",
       "    }\n",
       "\n",
       "    .dataframe tbody tr th {\n",
       "        vertical-align: top;\n",
       "    }\n",
       "\n",
       "    .dataframe thead th {\n",
       "        text-align: right;\n",
       "    }\n",
       "</style>\n",
       "<table border=\"1\" class=\"dataframe\">\n",
       "  <thead>\n",
       "    <tr style=\"text-align: right;\">\n",
       "      <th></th>\n",
       "      <th>카드이용금액</th>\n",
       "      <th>카드이용건수</th>\n",
       "    </tr>\n",
       "    <tr>\n",
       "      <th>제주 대분류</th>\n",
       "      <th></th>\n",
       "      <th></th>\n",
       "    </tr>\n",
       "  </thead>\n",
       "  <tbody>\n",
       "    <tr>\n",
       "      <th>서귀포시</th>\n",
       "      <td>11216064345</td>\n",
       "      <td>402729</td>\n",
       "    </tr>\n",
       "    <tr>\n",
       "      <th>제주시</th>\n",
       "      <td>37387116929</td>\n",
       "      <td>1349739</td>\n",
       "    </tr>\n",
       "  </tbody>\n",
       "</table>\n",
       "</div>"
      ],
      "text/plain": [
       "             카드이용금액   카드이용건수\n",
       "제주 대분류                      \n",
       "서귀포시    11216064345   402729\n",
       "제주시     37387116929  1349739"
      ]
     },
     "execution_count": 99,
     "metadata": {},
     "output_type": "execute_result"
    }
   ],
   "source": [
    "city_df = jeju_df.groupby('제주 대분류').agg({'카드이용금액': 'sum', '카드이용건수': 'sum'})\n",
    "city_df"
   ]
  },
  {
   "cell_type": "code",
   "execution_count": 100,
   "id": "76cdb351",
   "metadata": {
    "ExecuteTime": {
     "end_time": "2024-01-28T06:24:46.967712Z",
     "start_time": "2024-01-28T06:24:46.821037Z"
    }
   },
   "outputs": [
    {
     "data": {
      "image/png": "[encoded data removed]",
      "text/plain": [
       "<Figure size 1400x800 with 2 Axes>"
      ]
     },
     "metadata": {},
     "output_type": "display_data"
    }
   ],
   "source": [
    "fig, axes = plt.subplots(ncols=2, figsize=(14, 8))\n",
    "\n",
    "axes[0].bar(\n",
    "    city_df.index,\n",
    "    city_df['카드이용금액']\n",
    ")\n",
    "axes[0].set_ylabel('카드이용금액(백억 원)')\n",
    "axes[0].set_title('지역별 카드이용금액')\n",
    "\n",
    "axes[1].bar(\n",
    "    city_df.index,\n",
    "    city_df['카드이용건수']\n",
    ")\n",
    "axes[1].set_ylabel('카드이용건수(건)')\n",
    "axes[1].set_title('지역별 카드이용건수')\n",
    "\n",
    "plt.show()"
   ]
  },
  {
   "cell_type": "markdown",
   "id": "df108818",
   "metadata": {},
   "source": [
    "서귀포보단 제주시에서의 실적이 훨씬 높다.\n",
    "\n",
    "중분류의 경우엔 내가 제주도의 행정구역을 잘 모르기 때문에 확인해봤자 딱히 의미가 없을 것 같으니 패스한다."
   ]
  },
  {
   "cell_type": "code",
   "execution_count": 106,
   "id": "ddff4a4b",
   "metadata": {
    "ExecuteTime": {
     "end_time": "2024-01-28T06:28:09.011570Z",
     "start_time": "2024-01-28T06:28:08.986848Z"
    }
   },
   "outputs": [
    {
     "data": {
      "text/plain": [
       "슈퍼 마켓      1911\n",
       "농축수산품      1884\n",
       "스넥         1734\n",
       "약국         1606\n",
       "기타음료식품     1484\n",
       "의원         1073\n",
       "기념품 점      1017\n",
       "스포츠레져용품     840\n",
       "정장(여성)      673\n",
       "악세 사리       403\n",
       "안경          384\n",
       "신   발        95\n",
       "골프 용품        39\n",
       "귀 금 속         3\n",
       "Name: 업종명, dtype: int64"
      ]
     },
     "execution_count": 106,
     "metadata": {},
     "output_type": "execute_result"
    }
   ],
   "source": [
    "jeju_df['업종명'].value_counts()"
   ]
  },
  {
   "cell_type": "code",
   "execution_count": 107,
   "id": "8f7fec2d",
   "metadata": {
    "ExecuteTime": {
     "end_time": "2024-01-28T06:28:35.083525Z",
     "start_time": "2024-01-28T06:28:35.066666Z"
    }
   },
   "outputs": [
    {
     "data": {
      "text/html": [
       "<div>\n",
       "<style scoped>\n",
       "    .dataframe tbody tr th:only-of-type {\n",
       "        vertical-align: middle;\n",
       "    }\n",
       "\n",
       "    .dataframe tbody tr th {\n",
       "        vertical-align: top;\n",
       "    }\n",
       "\n",
       "    .dataframe thead th {\n",
       "        text-align: right;\n",
       "    }\n",
       "</style>\n",
       "<table border=\"1\" class=\"dataframe\">\n",
       "  <thead>\n",
       "    <tr style=\"text-align: right;\">\n",
       "      <th></th>\n",
       "      <th>카드이용금액</th>\n",
       "      <th>카드이용건수</th>\n",
       "    </tr>\n",
       "    <tr>\n",
       "      <th>업종명</th>\n",
       "      <th></th>\n",
       "      <th></th>\n",
       "    </tr>\n",
       "  </thead>\n",
       "  <tbody>\n",
       "    <tr>\n",
       "      <th>골프 용품</th>\n",
       "      <td>37213800</td>\n",
       "      <td>509</td>\n",
       "    </tr>\n",
       "    <tr>\n",
       "      <th>귀 금 속</th>\n",
       "      <td>2180100</td>\n",
       "      <td>39</td>\n",
       "    </tr>\n",
       "    <tr>\n",
       "      <th>기념품 점</th>\n",
       "      <td>7864854995</td>\n",
       "      <td>269606</td>\n",
       "    </tr>\n",
       "    <tr>\n",
       "      <th>기타음료식품</th>\n",
       "      <td>1338100496</td>\n",
       "      <td>74605</td>\n",
       "    </tr>\n",
       "    <tr>\n",
       "      <th>농축수산품</th>\n",
       "      <td>13092560386</td>\n",
       "      <td>201118</td>\n",
       "    </tr>\n",
       "    <tr>\n",
       "      <th>슈퍼 마켓</th>\n",
       "      <td>11690570213</td>\n",
       "      <td>566853</td>\n",
       "    </tr>\n",
       "    <tr>\n",
       "      <th>스넥</th>\n",
       "      <td>5461163557</td>\n",
       "      <td>361896</td>\n",
       "    </tr>\n",
       "    <tr>\n",
       "      <th>스포츠레져용품</th>\n",
       "      <td>3413438318</td>\n",
       "      <td>39493</td>\n",
       "    </tr>\n",
       "    <tr>\n",
       "      <th>신   발</th>\n",
       "      <td>77235600</td>\n",
       "      <td>1353</td>\n",
       "    </tr>\n",
       "    <tr>\n",
       "      <th>악세 사리</th>\n",
       "      <td>313149990</td>\n",
       "      <td>9842</td>\n",
       "    </tr>\n",
       "    <tr>\n",
       "      <th>안경</th>\n",
       "      <td>460747530</td>\n",
       "      <td>9061</td>\n",
       "    </tr>\n",
       "    <tr>\n",
       "      <th>약국</th>\n",
       "      <td>1552649845</td>\n",
       "      <td>133840</td>\n",
       "    </tr>\n",
       "    <tr>\n",
       "      <th>의원</th>\n",
       "      <td>1646625884</td>\n",
       "      <td>62660</td>\n",
       "    </tr>\n",
       "    <tr>\n",
       "      <th>정장(여성)</th>\n",
       "      <td>1652690560</td>\n",
       "      <td>21593</td>\n",
       "    </tr>\n",
       "  </tbody>\n",
       "</table>\n",
       "</div>"
      ],
      "text/plain": [
       "              카드이용금액  카드이용건수\n",
       "업종명                         \n",
       "골프 용품       37213800     509\n",
       "귀 금 속        2180100      39\n",
       "기념품 점     7864854995  269606\n",
       "기타음료식품    1338100496   74605\n",
       "농축수산품    13092560386  201118\n",
       "슈퍼 마켓    11690570213  566853\n",
       "스넥        5461163557  361896\n",
       "스포츠레져용품   3413438318   39493\n",
       "신   발       77235600    1353\n",
       "악세 사리      313149990    9842\n",
       "안경         460747530    9061\n",
       "약국        1552649845  133840\n",
       "의원        1646625884   62660\n",
       "정장(여성)    1652690560   21593"
      ]
     },
     "execution_count": 107,
     "metadata": {},
     "output_type": "execute_result"
    }
   ],
   "source": [
    "category_df = jeju_df.groupby('업종명').agg({'카드이용금액': 'sum', '카드이용건수': 'sum'})\n",
    "category_df"
   ]
  },
  {
   "cell_type": "code",
   "execution_count": 112,
   "id": "2a532aee",
   "metadata": {
    "ExecuteTime": {
     "end_time": "2024-01-28T06:30:23.670279Z",
     "start_time": "2024-01-28T06:30:23.468394Z"
    }
   },
   "outputs": [
    {
     "data": {
      "image/png": "[encoded data removed]",
      "text/plain": [
       "<Figure size 1400x1600 with 2 Axes>"
      ]
     },
     "metadata": {},
     "output_type": "display_data"
    }
   ],
   "source": [
    "fig, axes = plt.subplots(nrows=2, figsize=(14, 16))\n",
    "\n",
    "axes[0].bar(\n",
    "    category_df.sort_values('카드이용금액', ascending=False).index,\n",
    "    category_df.sort_values('카드이용금액', ascending=False)['카드이용금액']\n",
    ")\n",
    "axes[0].set_ylabel('카드이용금액(백억 원)')\n",
    "axes[0].set_title('업종별 카드이용금액')\n",
    "\n",
    "axes[1].bar(\n",
    "    category_df.sort_values('카드이용건수', ascending=False).index,\n",
    "    category_df.sort_values('카드이용건수', ascending=False)['카드이용건수']\n",
    ")\n",
    "axes[1].set_ylabel('카드이용건수(건)')\n",
    "axes[1].set_title('업종별 카드이용건수')\n",
    "\n",
    "plt.show()"
   ]
  },
  {
   "cell_type": "markdown",
   "id": "f6d8e979",
   "metadata": {},
   "source": [
    "카드이용금액은 **농축수산품**이 가장 높지만, 카드이용건수는 **슈퍼 마켓**이 가장 높다.\n",
    "\n",
    "업종별로 건수 대비 금액의 편차가 꽤 클 것으로 예상되는 만큼, 이를 이용한 분석이 꽤 흥미로울 것으로 보인다."
   ]
  },
  {
   "cell_type": "markdown",
   "id": "36224fd7",
   "metadata": {},
   "source": [
    "#### 2-2-4. 컬럼별 EDA (실적 관련)"
   ]
  },
  {
   "cell_type": "markdown",
   "id": "c76f9a09",
   "metadata": {},
   "source": [
    "실적 관련 컬럼으로는 다음의 3가지가 있다.\n",
    "- 카드이용건수\n",
    "- 카드이용금액\n",
    "- 건당이용금액"
   ]
  },
  {
   "cell_type": "code",
   "execution_count": 113,
   "id": "35099703",
   "metadata": {
    "ExecuteTime": {
     "end_time": "2024-01-28T06:32:48.479690Z",
     "start_time": "2024-01-28T06:32:48.450676Z"
    }
   },
   "outputs": [
    {
     "data": {
      "text/html": [
       "<div>\n",
       "<style scoped>\n",
       "    .dataframe tbody tr th:only-of-type {\n",
       "        vertical-align: middle;\n",
       "    }\n",
       "\n",
       "    .dataframe tbody tr th {\n",
       "        vertical-align: top;\n",
       "    }\n",
       "\n",
       "    .dataframe thead th {\n",
       "        text-align: right;\n",
       "    }\n",
       "</style>\n",
       "<table border=\"1\" class=\"dataframe\">\n",
       "  <thead>\n",
       "    <tr style=\"text-align: right;\">\n",
       "      <th></th>\n",
       "      <th>카드이용건수</th>\n",
       "      <th>카드이용금액</th>\n",
       "      <th>건당이용금액</th>\n",
       "    </tr>\n",
       "  </thead>\n",
       "  <tbody>\n",
       "    <tr>\n",
       "      <th>count</th>\n",
       "      <td>13146.000000</td>\n",
       "      <td>1.314600e+04</td>\n",
       "      <td>13146.000000</td>\n",
       "    </tr>\n",
       "    <tr>\n",
       "      <th>mean</th>\n",
       "      <td>133.308079</td>\n",
       "      <td>3.697184e+06</td>\n",
       "      <td>35163.811273</td>\n",
       "    </tr>\n",
       "    <tr>\n",
       "      <th>std</th>\n",
       "      <td>210.459082</td>\n",
       "      <td>6.232327e+06</td>\n",
       "      <td>35421.702281</td>\n",
       "    </tr>\n",
       "    <tr>\n",
       "      <th>min</th>\n",
       "      <td>10.000000</td>\n",
       "      <td>3.610000e+04</td>\n",
       "      <td>3520.000000</td>\n",
       "    </tr>\n",
       "    <tr>\n",
       "      <th>25%</th>\n",
       "      <td>23.000000</td>\n",
       "      <td>5.958600e+05</td>\n",
       "      <td>13939.250000</td>\n",
       "    </tr>\n",
       "    <tr>\n",
       "      <th>50%</th>\n",
       "      <td>54.000000</td>\n",
       "      <td>1.533550e+06</td>\n",
       "      <td>21007.500000</td>\n",
       "    </tr>\n",
       "    <tr>\n",
       "      <th>75%</th>\n",
       "      <td>143.000000</td>\n",
       "      <td>3.863175e+06</td>\n",
       "      <td>46235.750000</td>\n",
       "    </tr>\n",
       "    <tr>\n",
       "      <th>max</th>\n",
       "      <td>2574.000000</td>\n",
       "      <td>6.427770e+07</td>\n",
       "      <td>539047.000000</td>\n",
       "    </tr>\n",
       "  </tbody>\n",
       "</table>\n",
       "</div>"
      ],
      "text/plain": [
       "             카드이용건수        카드이용금액         건당이용금액\n",
       "count  13146.000000  1.314600e+04   13146.000000\n",
       "mean     133.308079  3.697184e+06   35163.811273\n",
       "std      210.459082  6.232327e+06   35421.702281\n",
       "min       10.000000  3.610000e+04    3520.000000\n",
       "25%       23.000000  5.958600e+05   13939.250000\n",
       "50%       54.000000  1.533550e+06   21007.500000\n",
       "75%      143.000000  3.863175e+06   46235.750000\n",
       "max     2574.000000  6.427770e+07  539047.000000"
      ]
     },
     "execution_count": 113,
     "metadata": {},
     "output_type": "execute_result"
    }
   ],
   "source": [
    "numerics = ['카드이용건수', '카드이용금액', '건당이용금액']\n",
    "jeju_df[numerics].describe()"
   ]
  },
  {
   "cell_type": "code",
   "execution_count": 122,
   "id": "b5706cd6",
   "metadata": {
    "ExecuteTime": {
     "end_time": "2024-01-28T06:35:35.694799Z",
     "start_time": "2024-01-28T06:35:35.499144Z"
    }
   },
   "outputs": [
    {
     "data": {
      "image/png": "[encoded data removed]",
      "text/plain": [
       "<Figure size 1400x600 with 3 Axes>"
      ]
     },
     "metadata": {},
     "output_type": "display_data"
    }
   ],
   "source": [
    "fig, axes = plt.subplots(ncols=3, figsize=(14, 6))\n",
    "\n",
    "for i in range(len(numerics)):\n",
    "    axes[i].boxplot(jeju_df[numerics[i]], labels=[numerics[i]])\n",
    "    axes[i].set_title(f'{numerics[i]}의 분포')"
   ]
  },
  {
   "cell_type": "markdown",
   "id": "995218d7",
   "metadata": {},
   "source": [
    "사실 이렇게 보는 건 큰 의미가 없다. 왜냐하면 데이터 자체가 이미 한 차례 특정 기준으로 집계된 데이터기 때문이다. 특히 건당이용금액 컬럼의 경우 매 분석마다 카드이용건수, 카드이용금액 컬럼을 이용하여 새롭게 산출하는 것이 바람직하겠다."
   ]
  },
  {
   "cell_type": "code",
   "execution_count": 124,
   "id": "0fe53f86",
   "metadata": {
    "ExecuteTime": {
     "end_time": "2024-01-28T06:37:23.402386Z",
     "start_time": "2024-01-28T06:37:23.377974Z"
    }
   },
   "outputs": [],
   "source": [
    "# pickle로 저장\n",
    "with open('jeju_df.pkl', 'wb') as file:\n",
    "    pickle.dump(jeju_df, file)"
   ]
  },
  {
   "cell_type": "markdown",
   "id": "5a6a8ec9",
   "metadata": {},
   "source": [
    "---"
   ]
  },
  {
   "cell_type": "markdown",
   "id": "6dcd5034",
   "metadata": {},
   "source": [
    "## 3. 데이터 분석"
   ]
  },
  {
   "cell_type": "markdown",
   "id": "99332bdb",
   "metadata": {},
   "source": [
    "### 3-1. 문제 정의\n",
    "\n",
    "제주 관광당국의 입장에서, 어떤 요인을 정책적으로 푸시해줘야 바람직할지 분석\n",
    "- 인구통계학적 세그먼트(연령, 성별)\n",
    "- 계절별(월별) 요인\n",
    "- 업종별 실적\n",
    "\n",
    "이 3가지 요인을 각각 통계적으로 분석하여 가장 높은 실적이 기대되는 액션 아이템 도출"
   ]
  },
  {
   "cell_type": "markdown",
   "id": "14d2f3ca",
   "metadata": {},
   "source": [
    "### 3-2. 데이터 분석"
   ]
  },
  {
   "cell_type": "code",
   "execution_count": null,
   "id": "d47770ab",
   "metadata": {},
   "outputs": [],
   "source": [
    "# 가설 검정, 머신러닝, ..."
   ]
  },
  {
   "cell_type": "markdown",
   "id": "687950ec",
   "metadata": {},
   "source": [
    "### 3-3. 결과 해석\n",
    "\n",
    "내용"
   ]
  },
  {
   "cell_type": "markdown",
   "id": "811987c2",
   "metadata": {},
   "source": [
    "---"
   ]
  },
  {
   "cell_type": "markdown",
   "id": "8947cf07",
   "metadata": {},
   "source": [
    "## 4. 후기"
   ]
  },
  {
   "cell_type": "markdown",
   "id": "9fb18056",
   "metadata": {},
   "source": [
    "내용"
   ]
  }
 ],
 "metadata": {
  "kernelspec": {
   "display_name": "Python 3 (ipykernel)",
   "language": "python",
   "name": "python3"
  },
  "language_info": {
   "codemirror_mode": {
    "name": "ipython",
    "version": 3
   },
   "file_extension": ".py",
   "mimetype": "text/x-python",
   "name": "python",
   "nbconvert_exporter": "python",
   "pygments_lexer": "ipython3",
   "version": "3.9.16"
  },
  "toc": {
   "base_numbering": 1,
   "nav_menu": {},
   "number_sections": false,
   "sideBar": true,
   "skip_h1_title": false,
   "title_cell": "Table of Contents",
   "title_sidebar": "Contents",
   "toc_cell": false,
   "toc_position": {
    "height": "calc(100% - 180px)",
    "left": "10px",
    "top": "150px",
    "width": "319.6px"
   },
   "toc_section_display": true,
   "toc_window_display": true
  }
 },
 "nbformat": 4,
 "nbformat_minor": 5
}
