{
 "cells": [
  {
   "cell_type": "markdown",
   "id": "86eae928",
   "metadata": {},
   "source": [
    "# 은행 이탈 유저 예측 모델 개발\n",
    "\n",
    "2024.01.13 ~ 2024.01.21"
   ]
  },
  {
   "cell_type": "markdown",
   "id": "f9fed36a",
   "metadata": {},
   "source": [
    "---"
   ]
  },
  {
   "cell_type": "markdown",
   "id": "d1337e66",
   "metadata": {},
   "source": [
    "## 1. 프로젝트 개요"
   ]
  },
  {
   "cell_type": "markdown",
   "id": "90453dd7",
   "metadata": {},
   "source": [
    "### 1-1. 프로젝트 요약\n",
    "- 제목: 은행 이탈 유저 예측 모델 개발\n",
    "- 설명: 유저가 계좌 이용을 계속할지, 혹은 해지할지를 예측하는 이진 분류 Kaggle Competition\n",
    "- 사용한 데이터셋\n",
    "    - [Binary Classification with a Bank Churn Dataset(Playground Series - Season 4, Episode 1)](https://www.kaggle.com/competitions/playground-series-s4e1)\n",
    "- 진행 절차 및 내용\n",
    "    - 컬럼별 EDA, 특성에 맞는 **전처리 및 스케일링**\n",
    "    - **분류 모델** 비교, 적합한 모델 선정, 하이퍼파라미터 튜닝\n",
    "    - Kaggle Competition 제출\n",
    "- 사용한 스킬셋\n",
    "    - pandas\n",
    "    - matplotlib, seaborn\n",
    "    - scikit-learn"
   ]
  },
  {
   "cell_type": "markdown",
   "id": "52d7a1cc",
   "metadata": {},
   "source": [
    "### 1-2. 프로젝트 진행 배경\n",
    "\n",
    "모든 서비스 제공자들의 주요 목표는 활성화 고객을 유지하고, 이탈 유저를 붙잡아 두는 것이다. 그렇기 때문에 서비스단에서 중요하게 생각하는 KPI 중 하나가 유저 이탈율이다. 유저가 서비스를 해지하거나 더 이상 이용하지 않으려는 이유를 파악하고, 방지 대책을 강구하는 과정이 꽤 중요하게 간주된다. 이 과정에서 머신러닝 방법론을 통해 이탈 유저를 예측할 수 있다면, 그들을 붙잡아 둘 수 있는 여러 플레이들을 고안해 낼 수 있을 것이다.\n",
    "\n",
    "본 프로젝트에서는 은행 서비스를 이용하는 고객들에 대한 여러 요인이 포함된 데이터를 이용하여, 유저의 이탈을 예측하는 머신러닝 프로젝트를 수행한다."
   ]
  },
  {
   "cell_type": "markdown",
   "id": "a6bdae6a",
   "metadata": {},
   "source": [
    "---"
   ]
  },
  {
   "cell_type": "markdown",
   "id": "91e2c594",
   "metadata": {},
   "source": [
    "## 2. 데이터 로딩 및 EDA"
   ]
  },
  {
   "cell_type": "markdown",
   "id": "63499328",
   "metadata": {},
   "source": [
    "### 2-1. 데이터 불러오기"
   ]
  },
  {
   "cell_type": "code",
   "execution_count": 1,
   "id": "eec0d7e3",
   "metadata": {
    "ExecuteTime": {
     "end_time": "2024-01-26T11:29:17.500540Z",
     "start_time": "2024-01-26T11:28:53.851710Z"
    }
   },
   "outputs": [],
   "source": [
    "import pandas as pd\n",
    "import numpy as np\n",
    "import matplotlib.pyplot as plt\n",
    "import koreanize_matplotlib\n",
    "import seaborn as sns\n",
    "import pickle\n",
    "\n",
    "from sklearn.preprocessing import MinMaxScaler\n",
    "from sklearn.model_selection import train_test_split, GridSearchCV\n",
    "from sklearn.metrics import roc_auc_score\n",
    "from sklearn.linear_model import LogisticRegression\n",
    "from sklearn.tree import DecisionTreeClassifier\n",
    "from sklearn.ensemble import RandomForestClassifier\n",
    "from sklearn.svm import SVC\n",
    "from xgboost import XGBClassifier\n",
    "from lightgbm import LGBMClassifier\n",
    "import warnings\n",
    "warnings.filterwarnings('ignore')"
   ]
  },
  {
   "cell_type": "code",
   "execution_count": 22,
   "id": "956e808e",
   "metadata": {
    "ExecuteTime": {
     "end_time": "2024-01-13T07:30:25.602208Z",
     "start_time": "2024-01-13T07:30:25.366543Z"
    }
   },
   "outputs": [
    {
     "data": {
      "text/html": [
       "<div>\n",
       "<style scoped>\n",
       "    .dataframe tbody tr th:only-of-type {\n",
       "        vertical-align: middle;\n",
       "    }\n",
       "\n",
       "    .dataframe tbody tr th {\n",
       "        vertical-align: top;\n",
       "    }\n",
       "\n",
       "    .dataframe thead th {\n",
       "        text-align: right;\n",
       "    }\n",
       "</style>\n",
       "<table border=\"1\" class=\"dataframe\">\n",
       "  <thead>\n",
       "    <tr style=\"text-align: right;\">\n",
       "      <th></th>\n",
       "      <th>id</th>\n",
       "      <th>CustomerId</th>\n",
       "      <th>Surname</th>\n",
       "      <th>CreditScore</th>\n",
       "      <th>Geography</th>\n",
       "      <th>Gender</th>\n",
       "      <th>Age</th>\n",
       "      <th>Tenure</th>\n",
       "      <th>Balance</th>\n",
       "      <th>NumOfProducts</th>\n",
       "      <th>HasCrCard</th>\n",
       "      <th>IsActiveMember</th>\n",
       "      <th>EstimatedSalary</th>\n",
       "      <th>Exited</th>\n",
       "    </tr>\n",
       "  </thead>\n",
       "  <tbody>\n",
       "    <tr>\n",
       "      <th>0</th>\n",
       "      <td>0</td>\n",
       "      <td>15674932</td>\n",
       "      <td>Okwudilichukwu</td>\n",
       "      <td>668</td>\n",
       "      <td>France</td>\n",
       "      <td>Male</td>\n",
       "      <td>33.0</td>\n",
       "      <td>3</td>\n",
       "      <td>0.00</td>\n",
       "      <td>2</td>\n",
       "      <td>1.0</td>\n",
       "      <td>0.0</td>\n",
       "      <td>181449.97</td>\n",
       "      <td>0</td>\n",
       "    </tr>\n",
       "    <tr>\n",
       "      <th>1</th>\n",
       "      <td>1</td>\n",
       "      <td>15749177</td>\n",
       "      <td>Okwudiliolisa</td>\n",
       "      <td>627</td>\n",
       "      <td>France</td>\n",
       "      <td>Male</td>\n",
       "      <td>33.0</td>\n",
       "      <td>1</td>\n",
       "      <td>0.00</td>\n",
       "      <td>2</td>\n",
       "      <td>1.0</td>\n",
       "      <td>1.0</td>\n",
       "      <td>49503.50</td>\n",
       "      <td>0</td>\n",
       "    </tr>\n",
       "    <tr>\n",
       "      <th>2</th>\n",
       "      <td>2</td>\n",
       "      <td>15694510</td>\n",
       "      <td>Hsueh</td>\n",
       "      <td>678</td>\n",
       "      <td>France</td>\n",
       "      <td>Male</td>\n",
       "      <td>40.0</td>\n",
       "      <td>10</td>\n",
       "      <td>0.00</td>\n",
       "      <td>2</td>\n",
       "      <td>1.0</td>\n",
       "      <td>0.0</td>\n",
       "      <td>184866.69</td>\n",
       "      <td>0</td>\n",
       "    </tr>\n",
       "    <tr>\n",
       "      <th>3</th>\n",
       "      <td>3</td>\n",
       "      <td>15741417</td>\n",
       "      <td>Kao</td>\n",
       "      <td>581</td>\n",
       "      <td>France</td>\n",
       "      <td>Male</td>\n",
       "      <td>34.0</td>\n",
       "      <td>2</td>\n",
       "      <td>148882.54</td>\n",
       "      <td>1</td>\n",
       "      <td>1.0</td>\n",
       "      <td>1.0</td>\n",
       "      <td>84560.88</td>\n",
       "      <td>0</td>\n",
       "    </tr>\n",
       "    <tr>\n",
       "      <th>4</th>\n",
       "      <td>4</td>\n",
       "      <td>15766172</td>\n",
       "      <td>Chiemenam</td>\n",
       "      <td>716</td>\n",
       "      <td>Spain</td>\n",
       "      <td>Male</td>\n",
       "      <td>33.0</td>\n",
       "      <td>5</td>\n",
       "      <td>0.00</td>\n",
       "      <td>2</td>\n",
       "      <td>1.0</td>\n",
       "      <td>1.0</td>\n",
       "      <td>15068.83</td>\n",
       "      <td>0</td>\n",
       "    </tr>\n",
       "    <tr>\n",
       "      <th>...</th>\n",
       "      <td>...</td>\n",
       "      <td>...</td>\n",
       "      <td>...</td>\n",
       "      <td>...</td>\n",
       "      <td>...</td>\n",
       "      <td>...</td>\n",
       "      <td>...</td>\n",
       "      <td>...</td>\n",
       "      <td>...</td>\n",
       "      <td>...</td>\n",
       "      <td>...</td>\n",
       "      <td>...</td>\n",
       "      <td>...</td>\n",
       "      <td>...</td>\n",
       "    </tr>\n",
       "    <tr>\n",
       "      <th>165029</th>\n",
       "      <td>165029</td>\n",
       "      <td>15667085</td>\n",
       "      <td>Meng</td>\n",
       "      <td>667</td>\n",
       "      <td>Spain</td>\n",
       "      <td>Female</td>\n",
       "      <td>33.0</td>\n",
       "      <td>2</td>\n",
       "      <td>0.00</td>\n",
       "      <td>1</td>\n",
       "      <td>1.0</td>\n",
       "      <td>1.0</td>\n",
       "      <td>131834.75</td>\n",
       "      <td>0</td>\n",
       "    </tr>\n",
       "    <tr>\n",
       "      <th>165030</th>\n",
       "      <td>165030</td>\n",
       "      <td>15665521</td>\n",
       "      <td>Okechukwu</td>\n",
       "      <td>792</td>\n",
       "      <td>France</td>\n",
       "      <td>Male</td>\n",
       "      <td>35.0</td>\n",
       "      <td>3</td>\n",
       "      <td>0.00</td>\n",
       "      <td>1</td>\n",
       "      <td>0.0</td>\n",
       "      <td>0.0</td>\n",
       "      <td>131834.45</td>\n",
       "      <td>0</td>\n",
       "    </tr>\n",
       "    <tr>\n",
       "      <th>165031</th>\n",
       "      <td>165031</td>\n",
       "      <td>15664752</td>\n",
       "      <td>Hsia</td>\n",
       "      <td>565</td>\n",
       "      <td>France</td>\n",
       "      <td>Male</td>\n",
       "      <td>31.0</td>\n",
       "      <td>5</td>\n",
       "      <td>0.00</td>\n",
       "      <td>1</td>\n",
       "      <td>1.0</td>\n",
       "      <td>1.0</td>\n",
       "      <td>127429.56</td>\n",
       "      <td>0</td>\n",
       "    </tr>\n",
       "    <tr>\n",
       "      <th>165032</th>\n",
       "      <td>165032</td>\n",
       "      <td>15689614</td>\n",
       "      <td>Hsiung</td>\n",
       "      <td>554</td>\n",
       "      <td>Spain</td>\n",
       "      <td>Female</td>\n",
       "      <td>30.0</td>\n",
       "      <td>7</td>\n",
       "      <td>161533.00</td>\n",
       "      <td>1</td>\n",
       "      <td>0.0</td>\n",
       "      <td>1.0</td>\n",
       "      <td>71173.03</td>\n",
       "      <td>0</td>\n",
       "    </tr>\n",
       "    <tr>\n",
       "      <th>165033</th>\n",
       "      <td>165033</td>\n",
       "      <td>15732798</td>\n",
       "      <td>Ulyanov</td>\n",
       "      <td>850</td>\n",
       "      <td>France</td>\n",
       "      <td>Male</td>\n",
       "      <td>31.0</td>\n",
       "      <td>1</td>\n",
       "      <td>0.00</td>\n",
       "      <td>1</td>\n",
       "      <td>1.0</td>\n",
       "      <td>0.0</td>\n",
       "      <td>61581.79</td>\n",
       "      <td>1</td>\n",
       "    </tr>\n",
       "  </tbody>\n",
       "</table>\n",
       "<p>165034 rows × 14 columns</p>\n",
       "</div>"
      ],
      "text/plain": [
       "            id  CustomerId         Surname  CreditScore Geography  Gender  \\\n",
       "0            0    15674932  Okwudilichukwu          668    France    Male   \n",
       "1            1    15749177   Okwudiliolisa          627    France    Male   \n",
       "2            2    15694510           Hsueh          678    France    Male   \n",
       "3            3    15741417             Kao          581    France    Male   \n",
       "4            4    15766172       Chiemenam          716     Spain    Male   \n",
       "...        ...         ...             ...          ...       ...     ...   \n",
       "165029  165029    15667085            Meng          667     Spain  Female   \n",
       "165030  165030    15665521       Okechukwu          792    France    Male   \n",
       "165031  165031    15664752            Hsia          565    France    Male   \n",
       "165032  165032    15689614          Hsiung          554     Spain  Female   \n",
       "165033  165033    15732798         Ulyanov          850    France    Male   \n",
       "\n",
       "         Age  Tenure    Balance  NumOfProducts  HasCrCard  IsActiveMember  \\\n",
       "0       33.0       3       0.00              2        1.0             0.0   \n",
       "1       33.0       1       0.00              2        1.0             1.0   \n",
       "2       40.0      10       0.00              2        1.0             0.0   \n",
       "3       34.0       2  148882.54              1        1.0             1.0   \n",
       "4       33.0       5       0.00              2        1.0             1.0   \n",
       "...      ...     ...        ...            ...        ...             ...   \n",
       "165029  33.0       2       0.00              1        1.0             1.0   \n",
       "165030  35.0       3       0.00              1        0.0             0.0   \n",
       "165031  31.0       5       0.00              1        1.0             1.0   \n",
       "165032  30.0       7  161533.00              1        0.0             1.0   \n",
       "165033  31.0       1       0.00              1        1.0             0.0   \n",
       "\n",
       "        EstimatedSalary  Exited  \n",
       "0             181449.97       0  \n",
       "1              49503.50       0  \n",
       "2             184866.69       0  \n",
       "3              84560.88       0  \n",
       "4              15068.83       0  \n",
       "...                 ...     ...  \n",
       "165029        131834.75       0  \n",
       "165030        131834.45       0  \n",
       "165031        127429.56       0  \n",
       "165032         71173.03       0  \n",
       "165033         61581.79       1  \n",
       "\n",
       "[165034 rows x 14 columns]"
      ]
     },
     "execution_count": 22,
     "metadata": {},
     "output_type": "execute_result"
    }
   ],
   "source": [
    "bank_df = pd.read_csv('train.csv')\n",
    "bank_df"
   ]
  },
  {
   "cell_type": "code",
   "execution_count": 23,
   "id": "867dc2ae",
   "metadata": {
    "ExecuteTime": {
     "end_time": "2024-01-13T07:30:27.255880Z",
     "start_time": "2024-01-13T07:30:27.145139Z"
    }
   },
   "outputs": [
    {
     "name": "stdout",
     "output_type": "stream",
     "text": [
      "<class 'pandas.core.frame.DataFrame'>\n",
      "RangeIndex: 165034 entries, 0 to 165033\n",
      "Data columns (total 14 columns):\n",
      " #   Column           Non-Null Count   Dtype  \n",
      "---  ------           --------------   -----  \n",
      " 0   id               165034 non-null  int64  \n",
      " 1   CustomerId       165034 non-null  int64  \n",
      " 2   Surname          165034 non-null  object \n",
      " 3   CreditScore      165034 non-null  int64  \n",
      " 4   Geography        165034 non-null  object \n",
      " 5   Gender           165034 non-null  object \n",
      " 6   Age              165034 non-null  float64\n",
      " 7   Tenure           165034 non-null  int64  \n",
      " 8   Balance          165034 non-null  float64\n",
      " 9   NumOfProducts    165034 non-null  int64  \n",
      " 10  HasCrCard        165034 non-null  float64\n",
      " 11  IsActiveMember   165034 non-null  float64\n",
      " 12  EstimatedSalary  165034 non-null  float64\n",
      " 13  Exited           165034 non-null  int64  \n",
      "dtypes: float64(5), int64(6), object(3)\n",
      "memory usage: 17.6+ MB\n"
     ]
    }
   ],
   "source": [
    "bank_df.info()"
   ]
  },
  {
   "cell_type": "code",
   "execution_count": 24,
   "id": "af550111",
   "metadata": {
    "ExecuteTime": {
     "end_time": "2024-01-13T07:30:29.559543Z",
     "start_time": "2024-01-13T07:30:29.454892Z"
    }
   },
   "outputs": [
    {
     "data": {
      "text/plain": [
       "id                 0\n",
       "CustomerId         0\n",
       "Surname            0\n",
       "CreditScore        0\n",
       "Geography          0\n",
       "Gender             0\n",
       "Age                0\n",
       "Tenure             0\n",
       "Balance            0\n",
       "NumOfProducts      0\n",
       "HasCrCard          0\n",
       "IsActiveMember     0\n",
       "EstimatedSalary    0\n",
       "Exited             0\n",
       "dtype: int64"
      ]
     },
     "execution_count": 24,
     "metadata": {},
     "output_type": "execute_result"
    }
   ],
   "source": [
    "bank_df.isna().sum()"
   ]
  },
  {
   "cell_type": "markdown",
   "id": "39c93c51",
   "metadata": {},
   "source": [
    "결측치 없이 매끈하게 가공되어 있는 데이터다.\n",
    "\n",
    "본격적인 EDA에 앞서 컬럼별 분포 보면서 데이터 모양새 살펴본다."
   ]
  },
  {
   "cell_type": "code",
   "execution_count": 128,
   "id": "a12834e0",
   "metadata": {
    "ExecuteTime": {
     "end_time": "2024-01-13T08:28:34.420286Z",
     "start_time": "2024-01-13T08:28:34.299674Z"
    }
   },
   "outputs": [
    {
     "name": "stderr",
     "output_type": "stream",
     "text": [
      "C:\\Users\\louis\\AppData\\Local\\Temp\\ipykernel_9804\\2453432335.py:1: FutureWarning: The default value of numeric_only in DataFrame.corr is deprecated. In a future version, it will default to False. Select only valid columns or specify the value of numeric_only to silence this warning.\n",
      "  bank_df.corr()\n"
     ]
    },
    {
     "data": {
      "text/html": [
       "<div>\n",
       "<style scoped>\n",
       "    .dataframe tbody tr th:only-of-type {\n",
       "        vertical-align: middle;\n",
       "    }\n",
       "\n",
       "    .dataframe tbody tr th {\n",
       "        vertical-align: top;\n",
       "    }\n",
       "\n",
       "    .dataframe thead th {\n",
       "        text-align: right;\n",
       "    }\n",
       "</style>\n",
       "<table border=\"1\" class=\"dataframe\">\n",
       "  <thead>\n",
       "    <tr style=\"text-align: right;\">\n",
       "      <th></th>\n",
       "      <th>id</th>\n",
       "      <th>CustomerId</th>\n",
       "      <th>CreditScore</th>\n",
       "      <th>Age</th>\n",
       "      <th>Tenure</th>\n",
       "      <th>Balance</th>\n",
       "      <th>NumOfProducts</th>\n",
       "      <th>HasCrCard</th>\n",
       "      <th>IsActiveMember</th>\n",
       "      <th>EstimatedSalary</th>\n",
       "      <th>Exited</th>\n",
       "    </tr>\n",
       "  </thead>\n",
       "  <tbody>\n",
       "    <tr>\n",
       "      <th>id</th>\n",
       "      <td>1.000000</td>\n",
       "      <td>-0.000387</td>\n",
       "      <td>-0.001201</td>\n",
       "      <td>0.004039</td>\n",
       "      <td>-0.002560</td>\n",
       "      <td>0.000606</td>\n",
       "      <td>-0.000094</td>\n",
       "      <td>-0.004706</td>\n",
       "      <td>0.000418</td>\n",
       "      <td>-0.001552</td>\n",
       "      <td>0.002512</td>\n",
       "    </tr>\n",
       "    <tr>\n",
       "      <th>CustomerId</th>\n",
       "      <td>-0.000387</td>\n",
       "      <td>1.000000</td>\n",
       "      <td>0.007364</td>\n",
       "      <td>0.002696</td>\n",
       "      <td>-0.001252</td>\n",
       "      <td>-0.008348</td>\n",
       "      <td>0.004380</td>\n",
       "      <td>-0.005469</td>\n",
       "      <td>-0.002934</td>\n",
       "      <td>0.002891</td>\n",
       "      <td>-0.009947</td>\n",
       "    </tr>\n",
       "    <tr>\n",
       "      <th>CreditScore</th>\n",
       "      <td>-0.001201</td>\n",
       "      <td>0.007364</td>\n",
       "      <td>1.000000</td>\n",
       "      <td>-0.008918</td>\n",
       "      <td>0.000942</td>\n",
       "      <td>0.006973</td>\n",
       "      <td>0.011361</td>\n",
       "      <td>-0.002828</td>\n",
       "      <td>0.014790</td>\n",
       "      <td>-0.001820</td>\n",
       "      <td>-0.027383</td>\n",
       "    </tr>\n",
       "    <tr>\n",
       "      <th>Age</th>\n",
       "      <td>0.004039</td>\n",
       "      <td>0.002696</td>\n",
       "      <td>-0.008918</td>\n",
       "      <td>1.000000</td>\n",
       "      <td>-0.010830</td>\n",
       "      <td>0.064318</td>\n",
       "      <td>-0.102195</td>\n",
       "      <td>-0.012111</td>\n",
       "      <td>0.003320</td>\n",
       "      <td>-0.005399</td>\n",
       "      <td>0.340768</td>\n",
       "    </tr>\n",
       "    <tr>\n",
       "      <th>Tenure</th>\n",
       "      <td>-0.002560</td>\n",
       "      <td>-0.001252</td>\n",
       "      <td>0.000942</td>\n",
       "      <td>-0.010830</td>\n",
       "      <td>1.000000</td>\n",
       "      <td>-0.009481</td>\n",
       "      <td>0.007335</td>\n",
       "      <td>0.005327</td>\n",
       "      <td>-0.005532</td>\n",
       "      <td>0.000971</td>\n",
       "      <td>-0.019565</td>\n",
       "    </tr>\n",
       "    <tr>\n",
       "      <th>Balance</th>\n",
       "      <td>0.000606</td>\n",
       "      <td>-0.008348</td>\n",
       "      <td>0.006973</td>\n",
       "      <td>0.064318</td>\n",
       "      <td>-0.009481</td>\n",
       "      <td>1.000000</td>\n",
       "      <td>-0.361033</td>\n",
       "      <td>-0.018584</td>\n",
       "      <td>-0.015073</td>\n",
       "      <td>0.008586</td>\n",
       "      <td>0.129743</td>\n",
       "    </tr>\n",
       "    <tr>\n",
       "      <th>NumOfProducts</th>\n",
       "      <td>-0.000094</td>\n",
       "      <td>0.004380</td>\n",
       "      <td>0.011361</td>\n",
       "      <td>-0.102195</td>\n",
       "      <td>0.007335</td>\n",
       "      <td>-0.361033</td>\n",
       "      <td>1.000000</td>\n",
       "      <td>0.005482</td>\n",
       "      <td>0.039736</td>\n",
       "      <td>-0.004285</td>\n",
       "      <td>-0.214554</td>\n",
       "    </tr>\n",
       "    <tr>\n",
       "      <th>HasCrCard</th>\n",
       "      <td>-0.004706</td>\n",
       "      <td>-0.005469</td>\n",
       "      <td>-0.002828</td>\n",
       "      <td>-0.012111</td>\n",
       "      <td>0.005327</td>\n",
       "      <td>-0.018584</td>\n",
       "      <td>0.005482</td>\n",
       "      <td>1.000000</td>\n",
       "      <td>-0.021034</td>\n",
       "      <td>0.004438</td>\n",
       "      <td>-0.022141</td>\n",
       "    </tr>\n",
       "    <tr>\n",
       "      <th>IsActiveMember</th>\n",
       "      <td>0.000418</td>\n",
       "      <td>-0.002934</td>\n",
       "      <td>0.014790</td>\n",
       "      <td>0.003320</td>\n",
       "      <td>-0.005532</td>\n",
       "      <td>-0.015073</td>\n",
       "      <td>0.039736</td>\n",
       "      <td>-0.021034</td>\n",
       "      <td>1.000000</td>\n",
       "      <td>-0.008080</td>\n",
       "      <td>-0.210237</td>\n",
       "    </tr>\n",
       "    <tr>\n",
       "      <th>EstimatedSalary</th>\n",
       "      <td>-0.001552</td>\n",
       "      <td>0.002891</td>\n",
       "      <td>-0.001820</td>\n",
       "      <td>-0.005399</td>\n",
       "      <td>0.000971</td>\n",
       "      <td>0.008586</td>\n",
       "      <td>-0.004285</td>\n",
       "      <td>0.004438</td>\n",
       "      <td>-0.008080</td>\n",
       "      <td>1.000000</td>\n",
       "      <td>0.018827</td>\n",
       "    </tr>\n",
       "    <tr>\n",
       "      <th>Exited</th>\n",
       "      <td>0.002512</td>\n",
       "      <td>-0.009947</td>\n",
       "      <td>-0.027383</td>\n",
       "      <td>0.340768</td>\n",
       "      <td>-0.019565</td>\n",
       "      <td>0.129743</td>\n",
       "      <td>-0.214554</td>\n",
       "      <td>-0.022141</td>\n",
       "      <td>-0.210237</td>\n",
       "      <td>0.018827</td>\n",
       "      <td>1.000000</td>\n",
       "    </tr>\n",
       "  </tbody>\n",
       "</table>\n",
       "</div>"
      ],
      "text/plain": [
       "                       id  CustomerId  CreditScore       Age    Tenure  \\\n",
       "id               1.000000   -0.000387    -0.001201  0.004039 -0.002560   \n",
       "CustomerId      -0.000387    1.000000     0.007364  0.002696 -0.001252   \n",
       "CreditScore     -0.001201    0.007364     1.000000 -0.008918  0.000942   \n",
       "Age              0.004039    0.002696    -0.008918  1.000000 -0.010830   \n",
       "Tenure          -0.002560   -0.001252     0.000942 -0.010830  1.000000   \n",
       "Balance          0.000606   -0.008348     0.006973  0.064318 -0.009481   \n",
       "NumOfProducts   -0.000094    0.004380     0.011361 -0.102195  0.007335   \n",
       "HasCrCard       -0.004706   -0.005469    -0.002828 -0.012111  0.005327   \n",
       "IsActiveMember   0.000418   -0.002934     0.014790  0.003320 -0.005532   \n",
       "EstimatedSalary -0.001552    0.002891    -0.001820 -0.005399  0.000971   \n",
       "Exited           0.002512   -0.009947    -0.027383  0.340768 -0.019565   \n",
       "\n",
       "                  Balance  NumOfProducts  HasCrCard  IsActiveMember  \\\n",
       "id               0.000606      -0.000094  -0.004706        0.000418   \n",
       "CustomerId      -0.008348       0.004380  -0.005469       -0.002934   \n",
       "CreditScore      0.006973       0.011361  -0.002828        0.014790   \n",
       "Age              0.064318      -0.102195  -0.012111        0.003320   \n",
       "Tenure          -0.009481       0.007335   0.005327       -0.005532   \n",
       "Balance          1.000000      -0.361033  -0.018584       -0.015073   \n",
       "NumOfProducts   -0.361033       1.000000   0.005482        0.039736   \n",
       "HasCrCard       -0.018584       0.005482   1.000000       -0.021034   \n",
       "IsActiveMember  -0.015073       0.039736  -0.021034        1.000000   \n",
       "EstimatedSalary  0.008586      -0.004285   0.004438       -0.008080   \n",
       "Exited           0.129743      -0.214554  -0.022141       -0.210237   \n",
       "\n",
       "                 EstimatedSalary    Exited  \n",
       "id                     -0.001552  0.002512  \n",
       "CustomerId              0.002891 -0.009947  \n",
       "CreditScore            -0.001820 -0.027383  \n",
       "Age                    -0.005399  0.340768  \n",
       "Tenure                  0.000971 -0.019565  \n",
       "Balance                 0.008586  0.129743  \n",
       "NumOfProducts          -0.004285 -0.214554  \n",
       "HasCrCard               0.004438 -0.022141  \n",
       "IsActiveMember         -0.008080 -0.210237  \n",
       "EstimatedSalary         1.000000  0.018827  \n",
       "Exited                  0.018827  1.000000  "
      ]
     },
     "execution_count": 128,
     "metadata": {},
     "output_type": "execute_result"
    }
   ],
   "source": [
    "bank_df.corr()"
   ]
  },
  {
   "cell_type": "markdown",
   "id": "42db77c1",
   "metadata": {},
   "source": [
    "모델 만들 때 상관관계가 너무 높으면 다중공선성 문제가 발생할 수 있기 때문에 corr 0.5 이상인 경우 유의해서 봐줘야 한다."
   ]
  },
  {
   "cell_type": "code",
   "execution_count": 143,
   "id": "d466ba3d",
   "metadata": {
    "ExecuteTime": {
     "end_time": "2024-01-13T08:32:40.182791Z",
     "start_time": "2024-01-13T08:32:39.817802Z"
    }
   },
   "outputs": [
    {
     "name": "stderr",
     "output_type": "stream",
     "text": [
      "C:\\Users\\louis\\AppData\\Local\\Temp\\ipykernel_9804\\3108468010.py:1: FutureWarning: The default value of numeric_only in DataFrame.corr is deprecated. In a future version, it will default to False. Select only valid columns or specify the value of numeric_only to silence this warning.\n",
      "  corr_df = np.abs(bank_df.corr())\n"
     ]
    },
    {
     "data": {
      "image/png": "[encoded data removed]",
      "text/plain": [
       "<Figure size 800x800 with 2 Axes>"
      ]
     },
     "metadata": {},
     "output_type": "display_data"
    }
   ],
   "source": [
    "corr_df = np.abs(bank_df.corr())\n",
    "\n",
    "plt.figure(figsize=(8, 8))\n",
    "sns.heatmap(\n",
    "    corr_df[(corr_df >= 0.5) & (corr_df < 1)].fillna(0),\n",
    "    vmin=0,\n",
    "    vmax=1,\n",
    "    annot=True\n",
    ")\n",
    "plt.show()"
   ]
  },
  {
   "cell_type": "markdown",
   "id": "c17c123e",
   "metadata": {},
   "source": [
    "단 하나도 없구나..."
   ]
  },
  {
   "cell_type": "code",
   "execution_count": 145,
   "id": "4d853134",
   "metadata": {
    "ExecuteTime": {
     "end_time": "2024-01-13T08:34:02.975466Z",
     "start_time": "2024-01-13T08:34:02.570829Z"
    }
   },
   "outputs": [
    {
     "name": "stderr",
     "output_type": "stream",
     "text": [
      "C:\\Users\\louis\\AppData\\Local\\Temp\\ipykernel_9804\\2769644401.py:1: FutureWarning: The default value of numeric_only in DataFrame.corr is deprecated. In a future version, it will default to False. Select only valid columns or specify the value of numeric_only to silence this warning.\n",
      "  corr_df = np.abs(bank_df.corr())\n"
     ]
    },
    {
     "data": {
      "image/png": "[encoded data removed]",
      "text/plain": [
       "<Figure size 800x800 with 2 Axes>"
      ]
     },
     "metadata": {},
     "output_type": "display_data"
    }
   ],
   "source": [
    "corr_df = np.abs(bank_df.corr())\n",
    "\n",
    "plt.figure(figsize=(8, 8))\n",
    "sns.heatmap(\n",
    "    corr_df,\n",
    "    vmin=0,\n",
    "    vmax=1,\n",
    "    annot=True\n",
    ")\n",
    "plt.show()"
   ]
  },
  {
   "cell_type": "markdown",
   "id": "fd0b53dd",
   "metadata": {},
   "source": [
    "### 2-2. 데이터 분포 확인 및 전처리"
   ]
  },
  {
   "cell_type": "markdown",
   "id": "fe4b0014",
   "metadata": {},
   "source": [
    "#### 2-2-1. 필요없는 데이터 제거"
   ]
  },
  {
   "cell_type": "markdown",
   "id": "1426a47e",
   "metadata": {},
   "source": [
    "우선 필요없어 보이는 컬럼을 제거한다.\n",
    "- ```id```: ```pd.DataFrame()```에서 자동으로 만들어 주는 인덱스를 쓰면 된다.\n",
    "- ```CustomerId```, ```Surname```: 딱히 유저 한 명 한 명을 특정하여 식별할 이유가 없는 분석이 될 것이기에 제외한다."
   ]
  },
  {
   "cell_type": "code",
   "execution_count": 34,
   "id": "a8c57439",
   "metadata": {
    "ExecuteTime": {
     "end_time": "2024-01-13T07:34:24.660940Z",
     "start_time": "2024-01-13T07:34:24.598471Z"
    }
   },
   "outputs": [
    {
     "data": {
      "text/html": [
       "<div>\n",
       "<style scoped>\n",
       "    .dataframe tbody tr th:only-of-type {\n",
       "        vertical-align: middle;\n",
       "    }\n",
       "\n",
       "    .dataframe tbody tr th {\n",
       "        vertical-align: top;\n",
       "    }\n",
       "\n",
       "    .dataframe thead th {\n",
       "        text-align: right;\n",
       "    }\n",
       "</style>\n",
       "<table border=\"1\" class=\"dataframe\">\n",
       "  <thead>\n",
       "    <tr style=\"text-align: right;\">\n",
       "      <th></th>\n",
       "      <th>CreditScore</th>\n",
       "      <th>Geography</th>\n",
       "      <th>Gender</th>\n",
       "      <th>Age</th>\n",
       "      <th>Tenure</th>\n",
       "      <th>Balance</th>\n",
       "      <th>NumOfProducts</th>\n",
       "      <th>HasCrCard</th>\n",
       "      <th>IsActiveMember</th>\n",
       "      <th>EstimatedSalary</th>\n",
       "      <th>Exited</th>\n",
       "    </tr>\n",
       "  </thead>\n",
       "  <tbody>\n",
       "    <tr>\n",
       "      <th>0</th>\n",
       "      <td>668</td>\n",
       "      <td>France</td>\n",
       "      <td>Male</td>\n",
       "      <td>33.0</td>\n",
       "      <td>3</td>\n",
       "      <td>0.00</td>\n",
       "      <td>2</td>\n",
       "      <td>1.0</td>\n",
       "      <td>0.0</td>\n",
       "      <td>181449.97</td>\n",
       "      <td>0</td>\n",
       "    </tr>\n",
       "    <tr>\n",
       "      <th>1</th>\n",
       "      <td>627</td>\n",
       "      <td>France</td>\n",
       "      <td>Male</td>\n",
       "      <td>33.0</td>\n",
       "      <td>1</td>\n",
       "      <td>0.00</td>\n",
       "      <td>2</td>\n",
       "      <td>1.0</td>\n",
       "      <td>1.0</td>\n",
       "      <td>49503.50</td>\n",
       "      <td>0</td>\n",
       "    </tr>\n",
       "    <tr>\n",
       "      <th>2</th>\n",
       "      <td>678</td>\n",
       "      <td>France</td>\n",
       "      <td>Male</td>\n",
       "      <td>40.0</td>\n",
       "      <td>10</td>\n",
       "      <td>0.00</td>\n",
       "      <td>2</td>\n",
       "      <td>1.0</td>\n",
       "      <td>0.0</td>\n",
       "      <td>184866.69</td>\n",
       "      <td>0</td>\n",
       "    </tr>\n",
       "    <tr>\n",
       "      <th>3</th>\n",
       "      <td>581</td>\n",
       "      <td>France</td>\n",
       "      <td>Male</td>\n",
       "      <td>34.0</td>\n",
       "      <td>2</td>\n",
       "      <td>148882.54</td>\n",
       "      <td>1</td>\n",
       "      <td>1.0</td>\n",
       "      <td>1.0</td>\n",
       "      <td>84560.88</td>\n",
       "      <td>0</td>\n",
       "    </tr>\n",
       "    <tr>\n",
       "      <th>4</th>\n",
       "      <td>716</td>\n",
       "      <td>Spain</td>\n",
       "      <td>Male</td>\n",
       "      <td>33.0</td>\n",
       "      <td>5</td>\n",
       "      <td>0.00</td>\n",
       "      <td>2</td>\n",
       "      <td>1.0</td>\n",
       "      <td>1.0</td>\n",
       "      <td>15068.83</td>\n",
       "      <td>0</td>\n",
       "    </tr>\n",
       "    <tr>\n",
       "      <th>...</th>\n",
       "      <td>...</td>\n",
       "      <td>...</td>\n",
       "      <td>...</td>\n",
       "      <td>...</td>\n",
       "      <td>...</td>\n",
       "      <td>...</td>\n",
       "      <td>...</td>\n",
       "      <td>...</td>\n",
       "      <td>...</td>\n",
       "      <td>...</td>\n",
       "      <td>...</td>\n",
       "    </tr>\n",
       "    <tr>\n",
       "      <th>165029</th>\n",
       "      <td>667</td>\n",
       "      <td>Spain</td>\n",
       "      <td>Female</td>\n",
       "      <td>33.0</td>\n",
       "      <td>2</td>\n",
       "      <td>0.00</td>\n",
       "      <td>1</td>\n",
       "      <td>1.0</td>\n",
       "      <td>1.0</td>\n",
       "      <td>131834.75</td>\n",
       "      <td>0</td>\n",
       "    </tr>\n",
       "    <tr>\n",
       "      <th>165030</th>\n",
       "      <td>792</td>\n",
       "      <td>France</td>\n",
       "      <td>Male</td>\n",
       "      <td>35.0</td>\n",
       "      <td>3</td>\n",
       "      <td>0.00</td>\n",
       "      <td>1</td>\n",
       "      <td>0.0</td>\n",
       "      <td>0.0</td>\n",
       "      <td>131834.45</td>\n",
       "      <td>0</td>\n",
       "    </tr>\n",
       "    <tr>\n",
       "      <th>165031</th>\n",
       "      <td>565</td>\n",
       "      <td>France</td>\n",
       "      <td>Male</td>\n",
       "      <td>31.0</td>\n",
       "      <td>5</td>\n",
       "      <td>0.00</td>\n",
       "      <td>1</td>\n",
       "      <td>1.0</td>\n",
       "      <td>1.0</td>\n",
       "      <td>127429.56</td>\n",
       "      <td>0</td>\n",
       "    </tr>\n",
       "    <tr>\n",
       "      <th>165032</th>\n",
       "      <td>554</td>\n",
       "      <td>Spain</td>\n",
       "      <td>Female</td>\n",
       "      <td>30.0</td>\n",
       "      <td>7</td>\n",
       "      <td>161533.00</td>\n",
       "      <td>1</td>\n",
       "      <td>0.0</td>\n",
       "      <td>1.0</td>\n",
       "      <td>71173.03</td>\n",
       "      <td>0</td>\n",
       "    </tr>\n",
       "    <tr>\n",
       "      <th>165033</th>\n",
       "      <td>850</td>\n",
       "      <td>France</td>\n",
       "      <td>Male</td>\n",
       "      <td>31.0</td>\n",
       "      <td>1</td>\n",
       "      <td>0.00</td>\n",
       "      <td>1</td>\n",
       "      <td>1.0</td>\n",
       "      <td>0.0</td>\n",
       "      <td>61581.79</td>\n",
       "      <td>1</td>\n",
       "    </tr>\n",
       "  </tbody>\n",
       "</table>\n",
       "<p>165034 rows × 11 columns</p>\n",
       "</div>"
      ],
      "text/plain": [
       "        CreditScore Geography  Gender   Age  Tenure    Balance  NumOfProducts  \\\n",
       "0               668    France    Male  33.0       3       0.00              2   \n",
       "1               627    France    Male  33.0       1       0.00              2   \n",
       "2               678    France    Male  40.0      10       0.00              2   \n",
       "3               581    France    Male  34.0       2  148882.54              1   \n",
       "4               716     Spain    Male  33.0       5       0.00              2   \n",
       "...             ...       ...     ...   ...     ...        ...            ...   \n",
       "165029          667     Spain  Female  33.0       2       0.00              1   \n",
       "165030          792    France    Male  35.0       3       0.00              1   \n",
       "165031          565    France    Male  31.0       5       0.00              1   \n",
       "165032          554     Spain  Female  30.0       7  161533.00              1   \n",
       "165033          850    France    Male  31.0       1       0.00              1   \n",
       "\n",
       "        HasCrCard  IsActiveMember  EstimatedSalary  Exited  \n",
       "0             1.0             0.0        181449.97       0  \n",
       "1             1.0             1.0         49503.50       0  \n",
       "2             1.0             0.0        184866.69       0  \n",
       "3             1.0             1.0         84560.88       0  \n",
       "4             1.0             1.0         15068.83       0  \n",
       "...           ...             ...              ...     ...  \n",
       "165029        1.0             1.0        131834.75       0  \n",
       "165030        0.0             0.0        131834.45       0  \n",
       "165031        1.0             1.0        127429.56       0  \n",
       "165032        0.0             1.0         71173.03       0  \n",
       "165033        1.0             0.0         61581.79       1  \n",
       "\n",
       "[165034 rows x 11 columns]"
      ]
     },
     "execution_count": 34,
     "metadata": {},
     "output_type": "execute_result"
    }
   ],
   "source": [
    "bank_df.drop(['id', 'CustomerId', 'Surname'], axis=1)"
   ]
  },
  {
   "cell_type": "code",
   "execution_count": 36,
   "id": "03dc27d5",
   "metadata": {
    "ExecuteTime": {
     "end_time": "2024-01-13T07:34:44.676183Z",
     "start_time": "2024-01-13T07:34:44.569439Z"
    }
   },
   "outputs": [
    {
     "data": {
      "text/plain": [
       "123"
      ]
     },
     "execution_count": 36,
     "metadata": {},
     "output_type": "execute_result"
    }
   ],
   "source": [
    "bank_df.drop(['id', 'CustomerId', 'Surname'], axis=1).duplicated().sum()"
   ]
  },
  {
   "cell_type": "markdown",
   "id": "73b77674",
   "metadata": {},
   "source": [
    "컬럼 몇 개를 덜어내고 나니 놀랍게도 중복된 값이 123개나 있다."
   ]
  },
  {
   "cell_type": "code",
   "execution_count": 37,
   "id": "14fe45f4",
   "metadata": {
    "ExecuteTime": {
     "end_time": "2024-01-13T07:35:23.886841Z",
     "start_time": "2024-01-13T07:35:23.762456Z"
    },
    "scrolled": false
   },
   "outputs": [
    {
     "data": {
      "text/html": [
       "<div>\n",
       "<style scoped>\n",
       "    .dataframe tbody tr th:only-of-type {\n",
       "        vertical-align: middle;\n",
       "    }\n",
       "\n",
       "    .dataframe tbody tr th {\n",
       "        vertical-align: top;\n",
       "    }\n",
       "\n",
       "    .dataframe thead th {\n",
       "        text-align: right;\n",
       "    }\n",
       "</style>\n",
       "<table border=\"1\" class=\"dataframe\">\n",
       "  <thead>\n",
       "    <tr style=\"text-align: right;\">\n",
       "      <th></th>\n",
       "      <th>CreditScore</th>\n",
       "      <th>Geography</th>\n",
       "      <th>Gender</th>\n",
       "      <th>Age</th>\n",
       "      <th>Tenure</th>\n",
       "      <th>Balance</th>\n",
       "      <th>NumOfProducts</th>\n",
       "      <th>HasCrCard</th>\n",
       "      <th>IsActiveMember</th>\n",
       "      <th>EstimatedSalary</th>\n",
       "      <th>Exited</th>\n",
       "    </tr>\n",
       "  </thead>\n",
       "  <tbody>\n",
       "    <tr>\n",
       "      <th>0</th>\n",
       "      <td>668</td>\n",
       "      <td>France</td>\n",
       "      <td>Male</td>\n",
       "      <td>33.0</td>\n",
       "      <td>3</td>\n",
       "      <td>0.00</td>\n",
       "      <td>2</td>\n",
       "      <td>1.0</td>\n",
       "      <td>0.0</td>\n",
       "      <td>181449.97</td>\n",
       "      <td>0</td>\n",
       "    </tr>\n",
       "    <tr>\n",
       "      <th>1</th>\n",
       "      <td>627</td>\n",
       "      <td>France</td>\n",
       "      <td>Male</td>\n",
       "      <td>33.0</td>\n",
       "      <td>1</td>\n",
       "      <td>0.00</td>\n",
       "      <td>2</td>\n",
       "      <td>1.0</td>\n",
       "      <td>1.0</td>\n",
       "      <td>49503.50</td>\n",
       "      <td>0</td>\n",
       "    </tr>\n",
       "    <tr>\n",
       "      <th>2</th>\n",
       "      <td>678</td>\n",
       "      <td>France</td>\n",
       "      <td>Male</td>\n",
       "      <td>40.0</td>\n",
       "      <td>10</td>\n",
       "      <td>0.00</td>\n",
       "      <td>2</td>\n",
       "      <td>1.0</td>\n",
       "      <td>0.0</td>\n",
       "      <td>184866.69</td>\n",
       "      <td>0</td>\n",
       "    </tr>\n",
       "    <tr>\n",
       "      <th>3</th>\n",
       "      <td>581</td>\n",
       "      <td>France</td>\n",
       "      <td>Male</td>\n",
       "      <td>34.0</td>\n",
       "      <td>2</td>\n",
       "      <td>148882.54</td>\n",
       "      <td>1</td>\n",
       "      <td>1.0</td>\n",
       "      <td>1.0</td>\n",
       "      <td>84560.88</td>\n",
       "      <td>0</td>\n",
       "    </tr>\n",
       "    <tr>\n",
       "      <th>4</th>\n",
       "      <td>716</td>\n",
       "      <td>Spain</td>\n",
       "      <td>Male</td>\n",
       "      <td>33.0</td>\n",
       "      <td>5</td>\n",
       "      <td>0.00</td>\n",
       "      <td>2</td>\n",
       "      <td>1.0</td>\n",
       "      <td>1.0</td>\n",
       "      <td>15068.83</td>\n",
       "      <td>0</td>\n",
       "    </tr>\n",
       "    <tr>\n",
       "      <th>...</th>\n",
       "      <td>...</td>\n",
       "      <td>...</td>\n",
       "      <td>...</td>\n",
       "      <td>...</td>\n",
       "      <td>...</td>\n",
       "      <td>...</td>\n",
       "      <td>...</td>\n",
       "      <td>...</td>\n",
       "      <td>...</td>\n",
       "      <td>...</td>\n",
       "      <td>...</td>\n",
       "    </tr>\n",
       "    <tr>\n",
       "      <th>165029</th>\n",
       "      <td>667</td>\n",
       "      <td>Spain</td>\n",
       "      <td>Female</td>\n",
       "      <td>33.0</td>\n",
       "      <td>2</td>\n",
       "      <td>0.00</td>\n",
       "      <td>1</td>\n",
       "      <td>1.0</td>\n",
       "      <td>1.0</td>\n",
       "      <td>131834.75</td>\n",
       "      <td>0</td>\n",
       "    </tr>\n",
       "    <tr>\n",
       "      <th>165030</th>\n",
       "      <td>792</td>\n",
       "      <td>France</td>\n",
       "      <td>Male</td>\n",
       "      <td>35.0</td>\n",
       "      <td>3</td>\n",
       "      <td>0.00</td>\n",
       "      <td>1</td>\n",
       "      <td>0.0</td>\n",
       "      <td>0.0</td>\n",
       "      <td>131834.45</td>\n",
       "      <td>0</td>\n",
       "    </tr>\n",
       "    <tr>\n",
       "      <th>165031</th>\n",
       "      <td>565</td>\n",
       "      <td>France</td>\n",
       "      <td>Male</td>\n",
       "      <td>31.0</td>\n",
       "      <td>5</td>\n",
       "      <td>0.00</td>\n",
       "      <td>1</td>\n",
       "      <td>1.0</td>\n",
       "      <td>1.0</td>\n",
       "      <td>127429.56</td>\n",
       "      <td>0</td>\n",
       "    </tr>\n",
       "    <tr>\n",
       "      <th>165032</th>\n",
       "      <td>554</td>\n",
       "      <td>Spain</td>\n",
       "      <td>Female</td>\n",
       "      <td>30.0</td>\n",
       "      <td>7</td>\n",
       "      <td>161533.00</td>\n",
       "      <td>1</td>\n",
       "      <td>0.0</td>\n",
       "      <td>1.0</td>\n",
       "      <td>71173.03</td>\n",
       "      <td>0</td>\n",
       "    </tr>\n",
       "    <tr>\n",
       "      <th>165033</th>\n",
       "      <td>850</td>\n",
       "      <td>France</td>\n",
       "      <td>Male</td>\n",
       "      <td>31.0</td>\n",
       "      <td>1</td>\n",
       "      <td>0.00</td>\n",
       "      <td>1</td>\n",
       "      <td>1.0</td>\n",
       "      <td>0.0</td>\n",
       "      <td>61581.79</td>\n",
       "      <td>1</td>\n",
       "    </tr>\n",
       "  </tbody>\n",
       "</table>\n",
       "<p>164911 rows × 11 columns</p>\n",
       "</div>"
      ],
      "text/plain": [
       "        CreditScore Geography  Gender   Age  Tenure    Balance  NumOfProducts  \\\n",
       "0               668    France    Male  33.0       3       0.00              2   \n",
       "1               627    France    Male  33.0       1       0.00              2   \n",
       "2               678    France    Male  40.0      10       0.00              2   \n",
       "3               581    France    Male  34.0       2  148882.54              1   \n",
       "4               716     Spain    Male  33.0       5       0.00              2   \n",
       "...             ...       ...     ...   ...     ...        ...            ...   \n",
       "165029          667     Spain  Female  33.0       2       0.00              1   \n",
       "165030          792    France    Male  35.0       3       0.00              1   \n",
       "165031          565    France    Male  31.0       5       0.00              1   \n",
       "165032          554     Spain  Female  30.0       7  161533.00              1   \n",
       "165033          850    France    Male  31.0       1       0.00              1   \n",
       "\n",
       "        HasCrCard  IsActiveMember  EstimatedSalary  Exited  \n",
       "0             1.0             0.0        181449.97       0  \n",
       "1             1.0             1.0         49503.50       0  \n",
       "2             1.0             0.0        184866.69       0  \n",
       "3             1.0             1.0         84560.88       0  \n",
       "4             1.0             1.0         15068.83       0  \n",
       "...           ...             ...              ...     ...  \n",
       "165029        1.0             1.0        131834.75       0  \n",
       "165030        0.0             0.0        131834.45       0  \n",
       "165031        1.0             1.0        127429.56       0  \n",
       "165032        0.0             1.0         71173.03       0  \n",
       "165033        1.0             0.0         61581.79       1  \n",
       "\n",
       "[164911 rows x 11 columns]"
      ]
     },
     "execution_count": 37,
     "metadata": {},
     "output_type": "execute_result"
    }
   ],
   "source": [
    "bank_df_dropped = bank_df.drop(['id', 'CustomerId', 'Surname'], axis=1).drop_duplicates()\n",
    "bank_df_dropped"
   ]
  },
  {
   "cell_type": "markdown",
   "id": "ac2706f1",
   "metadata": {},
   "source": [
    "#### 2-2-2. 컬럼별 분포 확인 (신용도)"
   ]
  },
  {
   "cell_type": "code",
   "execution_count": 38,
   "id": "807858f0",
   "metadata": {
    "ExecuteTime": {
     "end_time": "2024-01-13T07:35:46.066495Z",
     "start_time": "2024-01-13T07:35:46.023538Z"
    }
   },
   "outputs": [
    {
     "data": {
      "text/plain": [
       "0         668\n",
       "1         627\n",
       "2         678\n",
       "3         581\n",
       "4         716\n",
       "         ... \n",
       "165029    667\n",
       "165030    792\n",
       "165031    565\n",
       "165032    554\n",
       "165033    850\n",
       "Name: CreditScore, Length: 164911, dtype: int64"
      ]
     },
     "execution_count": 38,
     "metadata": {},
     "output_type": "execute_result"
    }
   ],
   "source": [
    "bank_df_dropped['CreditScore']"
   ]
  },
  {
   "cell_type": "code",
   "execution_count": 39,
   "id": "2795787c",
   "metadata": {
    "ExecuteTime": {
     "end_time": "2024-01-13T07:38:34.759534Z",
     "start_time": "2024-01-13T07:38:34.692331Z"
    }
   },
   "outputs": [
    {
     "data": {
      "text/plain": [
       "count    164911.000000\n",
       "mean        656.468914\n",
       "std          80.091065\n",
       "min         350.000000\n",
       "25%         597.000000\n",
       "50%         659.000000\n",
       "75%         710.000000\n",
       "max         850.000000\n",
       "Name: CreditScore, dtype: float64"
      ]
     },
     "execution_count": 39,
     "metadata": {},
     "output_type": "execute_result"
    }
   ],
   "source": [
    "bank_df_dropped['CreditScore'].describe()"
   ]
  },
  {
   "cell_type": "code",
   "execution_count": 120,
   "id": "5d2cadbc",
   "metadata": {
    "ExecuteTime": {
     "end_time": "2024-01-13T08:22:51.651507Z",
     "start_time": "2024-01-13T08:22:51.472761Z"
    }
   },
   "outputs": [
    {
     "data": {
      "image/png": "[encoded data removed]",
      "text/plain": [
       "<Figure size 640x480 with 1 Axes>"
      ]
     },
     "metadata": {},
     "output_type": "display_data"
    }
   ],
   "source": [
    "plt.title('신용도 분포')\n",
    "plt.boxplot(\n",
    "    bank_df_dropped['CreditScore'],\n",
    "    labels=['CreditScore']\n",
    ")\n",
    "plt.show()"
   ]
  },
  {
   "cell_type": "markdown",
   "id": "25c01ba8",
   "metadata": {},
   "source": [
    "신용도가 일반적인 분포에서 어긋나는 데이터들이 꽤 보인다. 하지만 이탈율 예측에 있어서 이상치들이 꽤 중요하게 작용할 것으로 보인다. 이상치를 제거하거나 정상 범위 끝부분으로 치환 적용하는 경우에 오히려 부정확한 모델 학습이 진행될 여지가 있으므로, 별도의 처리를 해주지 않고 진행한다."
   ]
  },
  {
   "cell_type": "markdown",
   "id": "c926a869",
   "metadata": {},
   "source": [
    "#### 2-2-3. 컬럼별 분포 확인 (국적)"
   ]
  },
  {
   "cell_type": "markdown",
   "id": "68fdb859",
   "metadata": {},
   "source": [
    "본 데이터에 들어가 있는 인구통계학적 요인은 다음과 같다.\n",
    "- ```Geography```: 국적\n",
    "- ```Gender```: 성별\n",
    "- ```Age```: 나이\n",
    "\n",
    "이 중 ```Age```를 제외한 두 컬럼은 범주형임에 유의하여 EDA 및 전처리를 진행한다."
   ]
  },
  {
   "cell_type": "code",
   "execution_count": 75,
   "id": "3d6bba97",
   "metadata": {
    "ExecuteTime": {
     "end_time": "2024-01-13T08:03:38.764157Z",
     "start_time": "2024-01-13T08:03:38.711767Z"
    }
   },
   "outputs": [
    {
     "data": {
      "text/plain": [
       "0         France\n",
       "1         France\n",
       "2         France\n",
       "3         France\n",
       "4          Spain\n",
       "           ...  \n",
       "165029     Spain\n",
       "165030    France\n",
       "165031    France\n",
       "165032     Spain\n",
       "165033    France\n",
       "Name: Geography, Length: 164911, dtype: object"
      ]
     },
     "execution_count": 75,
     "metadata": {},
     "output_type": "execute_result"
    }
   ],
   "source": [
    "bank_df_dropped['Geography']"
   ]
  },
  {
   "cell_type": "code",
   "execution_count": 76,
   "id": "cf2f195c",
   "metadata": {
    "ExecuteTime": {
     "end_time": "2024-01-13T08:04:30.455759Z",
     "start_time": "2024-01-13T08:04:30.395688Z"
    }
   },
   "outputs": [
    {
     "data": {
      "text/plain": [
       "France     94132\n",
       "Spain      36192\n",
       "Germany    34587\n",
       "Name: Geography, dtype: int64"
      ]
     },
     "execution_count": 76,
     "metadata": {},
     "output_type": "execute_result"
    }
   ],
   "source": [
    "bank_df_dropped['Geography'].value_counts()"
   ]
  },
  {
   "cell_type": "code",
   "execution_count": 121,
   "id": "d31fb086",
   "metadata": {
    "ExecuteTime": {
     "end_time": "2024-01-13T08:22:54.743540Z",
     "start_time": "2024-01-13T08:22:54.580383Z"
    }
   },
   "outputs": [
    {
     "data": {
      "image/png": "[encoded data removed]",
      "text/plain": [
       "<Figure size 640x480 with 1 Axes>"
      ]
     },
     "metadata": {},
     "output_type": "display_data"
    }
   ],
   "source": [
    "plt.bar(\n",
    "    bank_df_dropped['Geography'].value_counts().index,\n",
    "    bank_df_dropped['Geography'].value_counts()\n",
    ")\n",
    "\n",
    "plt.title('국적별 분포')\n",
    "plt.show()"
   ]
  },
  {
   "cell_type": "markdown",
   "id": "84cc1d05",
   "metadata": {},
   "source": [
    "프랑스 유저의 데이터가 가장 많다."
   ]
  },
  {
   "cell_type": "code",
   "execution_count": 85,
   "id": "59e3bbb3",
   "metadata": {
    "ExecuteTime": {
     "end_time": "2024-01-13T08:09:06.829492Z",
     "start_time": "2024-01-13T08:09:06.762406Z"
    }
   },
   "outputs": [
    {
     "data": {
      "text/html": [
       "<div>\n",
       "<style scoped>\n",
       "    .dataframe tbody tr th:only-of-type {\n",
       "        vertical-align: middle;\n",
       "    }\n",
       "\n",
       "    .dataframe tbody tr th {\n",
       "        vertical-align: top;\n",
       "    }\n",
       "\n",
       "    .dataframe thead th {\n",
       "        text-align: right;\n",
       "    }\n",
       "</style>\n",
       "<table border=\"1\" class=\"dataframe\">\n",
       "  <thead>\n",
       "    <tr style=\"text-align: right;\">\n",
       "      <th></th>\n",
       "      <th>Exited</th>\n",
       "      <th>NotExtied</th>\n",
       "    </tr>\n",
       "    <tr>\n",
       "      <th>Geography</th>\n",
       "      <th></th>\n",
       "      <th></th>\n",
       "    </tr>\n",
       "  </thead>\n",
       "  <tbody>\n",
       "    <tr>\n",
       "      <th>France</th>\n",
       "      <td>15570</td>\n",
       "      <td>78562</td>\n",
       "    </tr>\n",
       "    <tr>\n",
       "      <th>Germany</th>\n",
       "      <td>13106</td>\n",
       "      <td>21481</td>\n",
       "    </tr>\n",
       "    <tr>\n",
       "      <th>Spain</th>\n",
       "      <td>6233</td>\n",
       "      <td>29959</td>\n",
       "    </tr>\n",
       "  </tbody>\n",
       "</table>\n",
       "</div>"
      ],
      "text/plain": [
       "           Exited  NotExtied\n",
       "Geography                   \n",
       "France      15570      78562\n",
       "Germany     13106      21481\n",
       "Spain        6233      29959"
      ]
     },
     "execution_count": 85,
     "metadata": {},
     "output_type": "execute_result"
    }
   ],
   "source": [
    "churn_by_geography = bank_df_dropped.groupby('Geography').agg({'Exited': 'sum'})\n",
    "churn_by_geography['NotExtied'] = bank_df_dropped['Geography'].value_counts() - churn_by_geography['Exited']\n",
    "churn_by_geography"
   ]
  },
  {
   "cell_type": "code",
   "execution_count": 122,
   "id": "a6f40dde",
   "metadata": {
    "ExecuteTime": {
     "end_time": "2024-01-13T08:22:57.293292Z",
     "start_time": "2024-01-13T08:22:57.093870Z"
    }
   },
   "outputs": [
    {
     "data": {
      "image/png": "[encoded data removed]",
      "text/plain": [
       "<Figure size 1200x600 with 3 Axes>"
      ]
     },
     "metadata": {},
     "output_type": "display_data"
    }
   ],
   "source": [
    "fig, axes = plt.subplots(ncols=3, figsize=(12, 6))\n",
    "target_data = bank_df_dropped['Geography'].unique()\n",
    "\n",
    "for i in range(len(target_data)):\n",
    "    axes[i].pie(\n",
    "        churn_by_geography.loc[target_data[i]],\n",
    "        labels=churn_by_geography.loc[target_data[i]].to_frame().index,\n",
    "        autopct='%.1f%%'\n",
    "    )\n",
    "    axes[i].set_title(f'{target_data[i]} 유저들의 이탈 분포')"
   ]
  },
  {
   "cell_type": "markdown",
   "id": "2d492bbb",
   "metadata": {},
   "source": [
    "독일 유저들이 유독 이탈율이 높다.\n",
    "\n",
    "이탈율이 프랑스 < 스페인 < 독일 순서이므로 이 순서로 Label Encoding을 실시한다."
   ]
  },
  {
   "cell_type": "code",
   "execution_count": 111,
   "id": "218f6ec6",
   "metadata": {
    "ExecuteTime": {
     "end_time": "2024-01-13T08:19:13.983825Z",
     "start_time": "2024-01-13T08:19:13.900123Z"
    }
   },
   "outputs": [
    {
     "data": {
      "text/plain": [
       "Geography  GeographyNumeric\n",
       "France     0                   94132\n",
       "Spain      1                   36192\n",
       "Germany    2                   34587\n",
       "dtype: int64"
      ]
     },
     "execution_count": 111,
     "metadata": {},
     "output_type": "execute_result"
    }
   ],
   "source": [
    "bank_df_dropped['GeographyNumeric'] = bank_df_dropped['Geography'].map({'France': 0, 'Spain': 1, 'Germany': 2})\n",
    "\n",
    "bank_df_dropped[['Geography', 'GeographyNumeric']].value_counts()"
   ]
  },
  {
   "cell_type": "markdown",
   "id": "e5a21f65",
   "metadata": {},
   "source": [
    "제대로 들어갔다."
   ]
  },
  {
   "cell_type": "markdown",
   "id": "052da3f0",
   "metadata": {},
   "source": [
    "#### 2-2-4. 컬럼별 분포 확인 (성별)"
   ]
  },
  {
   "cell_type": "code",
   "execution_count": 112,
   "id": "8442d25f",
   "metadata": {
    "ExecuteTime": {
     "end_time": "2024-01-13T08:20:56.974876Z",
     "start_time": "2024-01-13T08:20:56.912564Z"
    }
   },
   "outputs": [
    {
     "data": {
      "text/plain": [
       "Male      93075\n",
       "Female    71836\n",
       "Name: Gender, dtype: int64"
      ]
     },
     "execution_count": 112,
     "metadata": {},
     "output_type": "execute_result"
    }
   ],
   "source": [
    "bank_df_dropped['Gender'].value_counts()"
   ]
  },
  {
   "cell_type": "code",
   "execution_count": 113,
   "id": "df4dd1ca",
   "metadata": {
    "ExecuteTime": {
     "end_time": "2024-01-13T08:21:35.500585Z",
     "start_time": "2024-01-13T08:21:35.431560Z"
    }
   },
   "outputs": [
    {
     "data": {
      "text/html": [
       "<div>\n",
       "<style scoped>\n",
       "    .dataframe tbody tr th:only-of-type {\n",
       "        vertical-align: middle;\n",
       "    }\n",
       "\n",
       "    .dataframe tbody tr th {\n",
       "        vertical-align: top;\n",
       "    }\n",
       "\n",
       "    .dataframe thead th {\n",
       "        text-align: right;\n",
       "    }\n",
       "</style>\n",
       "<table border=\"1\" class=\"dataframe\">\n",
       "  <thead>\n",
       "    <tr style=\"text-align: right;\">\n",
       "      <th></th>\n",
       "      <th>Exited</th>\n",
       "      <th>NotExtied</th>\n",
       "    </tr>\n",
       "    <tr>\n",
       "      <th>Gender</th>\n",
       "      <th></th>\n",
       "      <th></th>\n",
       "    </tr>\n",
       "  </thead>\n",
       "  <tbody>\n",
       "    <tr>\n",
       "      <th>Female</th>\n",
       "      <td>20099</td>\n",
       "      <td>51737</td>\n",
       "    </tr>\n",
       "    <tr>\n",
       "      <th>Male</th>\n",
       "      <td>14810</td>\n",
       "      <td>78265</td>\n",
       "    </tr>\n",
       "  </tbody>\n",
       "</table>\n",
       "</div>"
      ],
      "text/plain": [
       "        Exited  NotExtied\n",
       "Gender                   \n",
       "Female   20099      51737\n",
       "Male     14810      78265"
      ]
     },
     "execution_count": 113,
     "metadata": {},
     "output_type": "execute_result"
    }
   ],
   "source": [
    "churn_by_gender = bank_df_dropped.groupby('Gender').agg({'Exited': 'sum'})\n",
    "churn_by_gender['NotExtied'] = bank_df_dropped['Gender'].value_counts() - churn_by_gender['Exited']\n",
    "churn_by_gender"
   ]
  },
  {
   "cell_type": "code",
   "execution_count": 123,
   "id": "0bfbe641",
   "metadata": {
    "ExecuteTime": {
     "end_time": "2024-01-13T08:23:00.141092Z",
     "start_time": "2024-01-13T08:22:59.945735Z"
    }
   },
   "outputs": [
    {
     "data": {
      "image/png": "[encoded data removed]",
      "text/plain": [
       "<Figure size 1200x600 with 2 Axes>"
      ]
     },
     "metadata": {},
     "output_type": "display_data"
    }
   ],
   "source": [
    "fig, axes = plt.subplots(ncols=2, figsize=(12, 6))\n",
    "target_data = bank_df_dropped['Gender'].unique()\n",
    "\n",
    "for i in range(len(target_data)):\n",
    "    axes[i].pie(\n",
    "        churn_by_gender.loc[target_data[i]],\n",
    "        labels=churn_by_gender.loc[target_data[i]].to_frame().index,\n",
    "        autopct='%.1f%%'\n",
    "    )\n",
    "    axes[i].set_title(f'{target_data[i]} 유저들의 이탈 분포')"
   ]
  },
  {
   "cell_type": "markdown",
   "id": "178037e6",
   "metadata": {},
   "source": [
    "여자가 남자보다 이탈 비율이 높다.\n",
    "\n",
    "이탈율이 남자 < 여자 순서이므로 이 순서로 Label Encoding을 실시한다."
   ]
  },
  {
   "cell_type": "code",
   "execution_count": 124,
   "id": "55096e00",
   "metadata": {
    "ExecuteTime": {
     "end_time": "2024-01-13T08:23:58.460006Z",
     "start_time": "2024-01-13T08:23:58.355481Z"
    }
   },
   "outputs": [
    {
     "data": {
      "text/plain": [
       "Gender  GenderNumeric\n",
       "Male    0                93075\n",
       "Female  1                71836\n",
       "dtype: int64"
      ]
     },
     "execution_count": 124,
     "metadata": {},
     "output_type": "execute_result"
    }
   ],
   "source": [
    "bank_df_dropped['GenderNumeric'] = bank_df_dropped['Gender'].map({'Male': 0, 'Female': 1})\n",
    "\n",
    "bank_df_dropped[['Gender', 'GenderNumeric']].value_counts()"
   ]
  },
  {
   "cell_type": "markdown",
   "id": "8a92983e",
   "metadata": {},
   "source": [
    "#### 2-2-5. 컬럼별 분포 확인 (나이)"
   ]
  },
  {
   "cell_type": "code",
   "execution_count": 49,
   "id": "ac2cd285",
   "metadata": {
    "ExecuteTime": {
     "end_time": "2024-01-13T07:41:37.582446Z",
     "start_time": "2024-01-13T07:41:37.523582Z"
    }
   },
   "outputs": [
    {
     "data": {
      "text/plain": [
       "count    164911.000000\n",
       "mean         38.124278\n",
       "std           8.865020\n",
       "min          18.000000\n",
       "25%          32.000000\n",
       "50%          37.000000\n",
       "75%          42.000000\n",
       "max          92.000000\n",
       "Name: Age, dtype: float64"
      ]
     },
     "execution_count": 49,
     "metadata": {},
     "output_type": "execute_result"
    }
   ],
   "source": [
    "bank_df_dropped['Age'].describe()"
   ]
  },
  {
   "cell_type": "code",
   "execution_count": 125,
   "id": "f247270d",
   "metadata": {
    "ExecuteTime": {
     "end_time": "2024-01-13T08:24:14.437211Z",
     "start_time": "2024-01-13T08:24:14.316527Z"
    }
   },
   "outputs": [
    {
     "data": {
      "image/png": "[encoded data removed]",
      "text/plain": [
       "<Figure size 640x480 with 1 Axes>"
      ]
     },
     "metadata": {},
     "output_type": "display_data"
    }
   ],
   "source": [
    "plt.title('나이 분포')\n",
    "plt.boxplot(\n",
    "    bank_df_dropped['Age'],\n",
    "    labels=['Age']\n",
    ")\n",
    "plt.show()"
   ]
  },
  {
   "cell_type": "markdown",
   "id": "f01fb5ca",
   "metadata": {},
   "source": [
    "나이 컬럼의 경우 높은 값에서의 아웃라이어들이 꽤 많다. 고령의 유저가 이탈율이 높을까?"
   ]
  },
  {
   "cell_type": "code",
   "execution_count": 126,
   "id": "f6412fa6",
   "metadata": {
    "ExecuteTime": {
     "end_time": "2024-01-13T08:24:46.247590Z",
     "start_time": "2024-01-13T08:24:46.047287Z"
    }
   },
   "outputs": [
    {
     "data": {
      "image/png": "[encoded data removed]",
      "text/plain": [
       "<Figure size 1200x1200 with 2 Axes>"
      ]
     },
     "metadata": {},
     "output_type": "display_data"
    }
   ],
   "source": [
    "age_Q3 = bank_df_dropped['Age'].describe()['75%']\n",
    "age_Q1 = bank_df_dropped['Age'].describe()['25%']\n",
    "age_outlier_threshold = age_Q3 +  1.5 * (age_Q3 - age_Q1)\n",
    "\n",
    "age_in_range = bank_df_dropped[bank_df_dropped['Age'] <= age_outlier_threshold]['Exited'].value_counts()\n",
    "age_outlier = bank_df_dropped[bank_df_dropped['Age'] > age_outlier_threshold]['Exited'].value_counts()\n",
    "\n",
    "fig, axes = plt.subplots(ncols=2, figsize=(12, 12))\n",
    "target_data = {\n",
    "    '정상 범위 유저들의 이탈 분포': age_in_range,\n",
    "    '이상치 유저들의 이탈 분포': age_outlier\n",
    "}\n",
    "\n",
    "for i in range(len(target_data.keys())):\n",
    "    axes[i].pie(\n",
    "        list(target_data.values())[i].values,\n",
    "        labels=list(target_data.values())[i].index.map({0: 'NotExited', 1: 'Exited'}),\n",
    "        autopct='%.1f%%'\n",
    "    )\n",
    "    axes[i].set_title(list(target_data.keys())[i])"
   ]
  },
  {
   "cell_type": "markdown",
   "id": "cb7475de",
   "metadata": {},
   "source": [
    "정상 범위 유저들에 비해, 이상치 유저들의 이탈율이 훨씬 커보인다. 즉, 이상치로 분류되는 값들을 제거했을 때 모델이 정확도 높은 분류를 하기 어려울 것이다. 따라서 이상치에 별도의 처리를 하지 않고 진행한다."
   ]
  },
  {
   "cell_type": "markdown",
   "id": "5484f3e9",
   "metadata": {},
   "source": [
    "#### 2-2-6. 컬럼별 분포 확인 (유저 이용성)"
   ]
  },
  {
   "cell_type": "markdown",
   "id": "5176c095",
   "metadata": {},
   "source": [
    "본 데이터에 들어가 있는 유저 이용 관련 요인들은 다음과 같다.\n",
    "- ```Tenure```: 보유 계좌 수\n",
    "- ```Balance```: 계좌 잔고\n",
    "- ```NumOfProducts```\n",
    "- ```HasCrCard```: 신용카드 보유 유무\n",
    "- ```IsActiveMember```: 유저 활동성\n",
    "- ```EstimatedSalary```"
   ]
  },
  {
   "cell_type": "code",
   "execution_count": 127,
   "id": "a4844181",
   "metadata": {
    "ExecuteTime": {
     "end_time": "2024-01-13T08:26:42.435826Z",
     "start_time": "2024-01-13T08:26:42.320513Z"
    }
   },
   "outputs": [
    {
     "data": {
      "text/html": [
       "<div>\n",
       "<style scoped>\n",
       "    .dataframe tbody tr th:only-of-type {\n",
       "        vertical-align: middle;\n",
       "    }\n",
       "\n",
       "    .dataframe tbody tr th {\n",
       "        vertical-align: top;\n",
       "    }\n",
       "\n",
       "    .dataframe thead th {\n",
       "        text-align: right;\n",
       "    }\n",
       "</style>\n",
       "<table border=\"1\" class=\"dataframe\">\n",
       "  <thead>\n",
       "    <tr style=\"text-align: right;\">\n",
       "      <th></th>\n",
       "      <th>Tenure</th>\n",
       "      <th>Balance</th>\n",
       "      <th>NumOfProducts</th>\n",
       "      <th>HasCrCard</th>\n",
       "      <th>IsActiveMember</th>\n",
       "      <th>EstimatedSalary</th>\n",
       "    </tr>\n",
       "  </thead>\n",
       "  <tbody>\n",
       "    <tr>\n",
       "      <th>count</th>\n",
       "      <td>164911.000000</td>\n",
       "      <td>164911.000000</td>\n",
       "      <td>164911.000000</td>\n",
       "      <td>164911.000000</td>\n",
       "      <td>164911.000000</td>\n",
       "      <td>164911.000000</td>\n",
       "    </tr>\n",
       "    <tr>\n",
       "      <th>mean</th>\n",
       "      <td>5.020599</td>\n",
       "      <td>55481.138955</td>\n",
       "      <td>1.554420</td>\n",
       "      <td>0.753916</td>\n",
       "      <td>0.497693</td>\n",
       "      <td>112579.798396</td>\n",
       "    </tr>\n",
       "    <tr>\n",
       "      <th>std</th>\n",
       "      <td>2.806237</td>\n",
       "      <td>62819.233625</td>\n",
       "      <td>0.547171</td>\n",
       "      <td>0.430730</td>\n",
       "      <td>0.499996</td>\n",
       "      <td>50290.229424</td>\n",
       "    </tr>\n",
       "    <tr>\n",
       "      <th>min</th>\n",
       "      <td>0.000000</td>\n",
       "      <td>0.000000</td>\n",
       "      <td>1.000000</td>\n",
       "      <td>0.000000</td>\n",
       "      <td>0.000000</td>\n",
       "      <td>11.580000</td>\n",
       "    </tr>\n",
       "    <tr>\n",
       "      <th>25%</th>\n",
       "      <td>3.000000</td>\n",
       "      <td>0.000000</td>\n",
       "      <td>1.000000</td>\n",
       "      <td>1.000000</td>\n",
       "      <td>0.000000</td>\n",
       "      <td>74639.870000</td>\n",
       "    </tr>\n",
       "    <tr>\n",
       "      <th>50%</th>\n",
       "      <td>5.000000</td>\n",
       "      <td>0.000000</td>\n",
       "      <td>2.000000</td>\n",
       "      <td>1.000000</td>\n",
       "      <td>0.000000</td>\n",
       "      <td>117948.000000</td>\n",
       "    </tr>\n",
       "    <tr>\n",
       "      <th>75%</th>\n",
       "      <td>7.000000</td>\n",
       "      <td>119948.090000</td>\n",
       "      <td>2.000000</td>\n",
       "      <td>1.000000</td>\n",
       "      <td>1.000000</td>\n",
       "      <td>155155.250000</td>\n",
       "    </tr>\n",
       "    <tr>\n",
       "      <th>max</th>\n",
       "      <td>10.000000</td>\n",
       "      <td>250898.090000</td>\n",
       "      <td>4.000000</td>\n",
       "      <td>1.000000</td>\n",
       "      <td>1.000000</td>\n",
       "      <td>199992.480000</td>\n",
       "    </tr>\n",
       "  </tbody>\n",
       "</table>\n",
       "</div>"
      ],
      "text/plain": [
       "              Tenure        Balance  NumOfProducts      HasCrCard  \\\n",
       "count  164911.000000  164911.000000  164911.000000  164911.000000   \n",
       "mean        5.020599   55481.138955       1.554420       0.753916   \n",
       "std         2.806237   62819.233625       0.547171       0.430730   \n",
       "min         0.000000       0.000000       1.000000       0.000000   \n",
       "25%         3.000000       0.000000       1.000000       1.000000   \n",
       "50%         5.000000       0.000000       2.000000       1.000000   \n",
       "75%         7.000000  119948.090000       2.000000       1.000000   \n",
       "max        10.000000  250898.090000       4.000000       1.000000   \n",
       "\n",
       "       IsActiveMember  EstimatedSalary  \n",
       "count   164911.000000    164911.000000  \n",
       "mean         0.497693    112579.798396  \n",
       "std          0.499996     50290.229424  \n",
       "min          0.000000        11.580000  \n",
       "25%          0.000000     74639.870000  \n",
       "50%          0.000000    117948.000000  \n",
       "75%          1.000000    155155.250000  \n",
       "max          1.000000    199992.480000  "
      ]
     },
     "execution_count": 127,
     "metadata": {},
     "output_type": "execute_result"
    }
   ],
   "source": [
    "bank_df_dropped[['Tenure', 'Balance', 'NumOfProducts', 'HasCrCard', 'IsActiveMember', 'EstimatedSalary']].describe()"
   ]
  },
  {
   "cell_type": "code",
   "execution_count": 155,
   "id": "d6ae6e5b",
   "metadata": {
    "ExecuteTime": {
     "end_time": "2024-01-13T08:39:11.741712Z",
     "start_time": "2024-01-13T08:39:11.133201Z"
    }
   },
   "outputs": [
    {
     "data": {
      "image/png": "[encoded data removed]",
      "text/plain": [
       "<Figure size 1200x1200 with 6 Axes>"
      ]
     },
     "metadata": {},
     "output_type": "display_data"
    }
   ],
   "source": [
    "fig, axes = plt.subplots(nrows=2, ncols=3, figsize=(12, 12), constrained_layout=True)\n",
    "target_data = [['Tenure', 'Balance', 'NumOfProducts'], ['HasCrCard', 'IsActiveMember', 'EstimatedSalary']]\n",
    "\n",
    "for i in range(2):\n",
    "    for j in range(3):\n",
    "        axes[i][j].set_title(target_data[i][j] + ' 분포')\n",
    "        axes[i][j].boxplot(bank_df_dropped[target_data[i][j]], labels=[target_data[i][j]])\n",
    "        \n",
    "plt.show()"
   ]
  },
  {
   "cell_type": "markdown",
   "id": "a9e0bde5",
   "metadata": {},
   "source": [
    "이상치가 크게 많은 데이터가 없어보이기 때문에 별도의 처리 없이 넘어간다."
   ]
  },
  {
   "cell_type": "markdown",
   "id": "f00ab413",
   "metadata": {},
   "source": [
    "#### 2-2-7. 데이터 저장"
   ]
  },
  {
   "cell_type": "code",
   "execution_count": 160,
   "id": "2b260930",
   "metadata": {
    "ExecuteTime": {
     "end_time": "2024-01-13T08:42:41.591305Z",
     "start_time": "2024-01-13T08:42:41.519836Z"
    }
   },
   "outputs": [
    {
     "data": {
      "text/html": [
       "<div>\n",
       "<style scoped>\n",
       "    .dataframe tbody tr th:only-of-type {\n",
       "        vertical-align: middle;\n",
       "    }\n",
       "\n",
       "    .dataframe tbody tr th {\n",
       "        vertical-align: top;\n",
       "    }\n",
       "\n",
       "    .dataframe thead th {\n",
       "        text-align: right;\n",
       "    }\n",
       "</style>\n",
       "<table border=\"1\" class=\"dataframe\">\n",
       "  <thead>\n",
       "    <tr style=\"text-align: right;\">\n",
       "      <th></th>\n",
       "      <th>CreditScore</th>\n",
       "      <th>Age</th>\n",
       "      <th>Tenure</th>\n",
       "      <th>Balance</th>\n",
       "      <th>NumOfProducts</th>\n",
       "      <th>HasCrCard</th>\n",
       "      <th>IsActiveMember</th>\n",
       "      <th>EstimatedSalary</th>\n",
       "      <th>Exited</th>\n",
       "      <th>GeographyNumeric</th>\n",
       "      <th>GenderNumeric</th>\n",
       "    </tr>\n",
       "  </thead>\n",
       "  <tbody>\n",
       "    <tr>\n",
       "      <th>0</th>\n",
       "      <td>668</td>\n",
       "      <td>33.0</td>\n",
       "      <td>3</td>\n",
       "      <td>0.00</td>\n",
       "      <td>2</td>\n",
       "      <td>1.0</td>\n",
       "      <td>0.0</td>\n",
       "      <td>181449.97</td>\n",
       "      <td>0</td>\n",
       "      <td>0</td>\n",
       "      <td>0</td>\n",
       "    </tr>\n",
       "    <tr>\n",
       "      <th>1</th>\n",
       "      <td>627</td>\n",
       "      <td>33.0</td>\n",
       "      <td>1</td>\n",
       "      <td>0.00</td>\n",
       "      <td>2</td>\n",
       "      <td>1.0</td>\n",
       "      <td>1.0</td>\n",
       "      <td>49503.50</td>\n",
       "      <td>0</td>\n",
       "      <td>0</td>\n",
       "      <td>0</td>\n",
       "    </tr>\n",
       "    <tr>\n",
       "      <th>2</th>\n",
       "      <td>678</td>\n",
       "      <td>40.0</td>\n",
       "      <td>10</td>\n",
       "      <td>0.00</td>\n",
       "      <td>2</td>\n",
       "      <td>1.0</td>\n",
       "      <td>0.0</td>\n",
       "      <td>184866.69</td>\n",
       "      <td>0</td>\n",
       "      <td>0</td>\n",
       "      <td>0</td>\n",
       "    </tr>\n",
       "    <tr>\n",
       "      <th>3</th>\n",
       "      <td>581</td>\n",
       "      <td>34.0</td>\n",
       "      <td>2</td>\n",
       "      <td>148882.54</td>\n",
       "      <td>1</td>\n",
       "      <td>1.0</td>\n",
       "      <td>1.0</td>\n",
       "      <td>84560.88</td>\n",
       "      <td>0</td>\n",
       "      <td>0</td>\n",
       "      <td>0</td>\n",
       "    </tr>\n",
       "    <tr>\n",
       "      <th>4</th>\n",
       "      <td>716</td>\n",
       "      <td>33.0</td>\n",
       "      <td>5</td>\n",
       "      <td>0.00</td>\n",
       "      <td>2</td>\n",
       "      <td>1.0</td>\n",
       "      <td>1.0</td>\n",
       "      <td>15068.83</td>\n",
       "      <td>0</td>\n",
       "      <td>1</td>\n",
       "      <td>0</td>\n",
       "    </tr>\n",
       "    <tr>\n",
       "      <th>...</th>\n",
       "      <td>...</td>\n",
       "      <td>...</td>\n",
       "      <td>...</td>\n",
       "      <td>...</td>\n",
       "      <td>...</td>\n",
       "      <td>...</td>\n",
       "      <td>...</td>\n",
       "      <td>...</td>\n",
       "      <td>...</td>\n",
       "      <td>...</td>\n",
       "      <td>...</td>\n",
       "    </tr>\n",
       "    <tr>\n",
       "      <th>165029</th>\n",
       "      <td>667</td>\n",
       "      <td>33.0</td>\n",
       "      <td>2</td>\n",
       "      <td>0.00</td>\n",
       "      <td>1</td>\n",
       "      <td>1.0</td>\n",
       "      <td>1.0</td>\n",
       "      <td>131834.75</td>\n",
       "      <td>0</td>\n",
       "      <td>1</td>\n",
       "      <td>1</td>\n",
       "    </tr>\n",
       "    <tr>\n",
       "      <th>165030</th>\n",
       "      <td>792</td>\n",
       "      <td>35.0</td>\n",
       "      <td>3</td>\n",
       "      <td>0.00</td>\n",
       "      <td>1</td>\n",
       "      <td>0.0</td>\n",
       "      <td>0.0</td>\n",
       "      <td>131834.45</td>\n",
       "      <td>0</td>\n",
       "      <td>0</td>\n",
       "      <td>0</td>\n",
       "    </tr>\n",
       "    <tr>\n",
       "      <th>165031</th>\n",
       "      <td>565</td>\n",
       "      <td>31.0</td>\n",
       "      <td>5</td>\n",
       "      <td>0.00</td>\n",
       "      <td>1</td>\n",
       "      <td>1.0</td>\n",
       "      <td>1.0</td>\n",
       "      <td>127429.56</td>\n",
       "      <td>0</td>\n",
       "      <td>0</td>\n",
       "      <td>0</td>\n",
       "    </tr>\n",
       "    <tr>\n",
       "      <th>165032</th>\n",
       "      <td>554</td>\n",
       "      <td>30.0</td>\n",
       "      <td>7</td>\n",
       "      <td>161533.00</td>\n",
       "      <td>1</td>\n",
       "      <td>0.0</td>\n",
       "      <td>1.0</td>\n",
       "      <td>71173.03</td>\n",
       "      <td>0</td>\n",
       "      <td>1</td>\n",
       "      <td>1</td>\n",
       "    </tr>\n",
       "    <tr>\n",
       "      <th>165033</th>\n",
       "      <td>850</td>\n",
       "      <td>31.0</td>\n",
       "      <td>1</td>\n",
       "      <td>0.00</td>\n",
       "      <td>1</td>\n",
       "      <td>1.0</td>\n",
       "      <td>0.0</td>\n",
       "      <td>61581.79</td>\n",
       "      <td>1</td>\n",
       "      <td>0</td>\n",
       "      <td>0</td>\n",
       "    </tr>\n",
       "  </tbody>\n",
       "</table>\n",
       "<p>164911 rows × 11 columns</p>\n",
       "</div>"
      ],
      "text/plain": [
       "        CreditScore   Age  Tenure    Balance  NumOfProducts  HasCrCard  \\\n",
       "0               668  33.0       3       0.00              2        1.0   \n",
       "1               627  33.0       1       0.00              2        1.0   \n",
       "2               678  40.0      10       0.00              2        1.0   \n",
       "3               581  34.0       2  148882.54              1        1.0   \n",
       "4               716  33.0       5       0.00              2        1.0   \n",
       "...             ...   ...     ...        ...            ...        ...   \n",
       "165029          667  33.0       2       0.00              1        1.0   \n",
       "165030          792  35.0       3       0.00              1        0.0   \n",
       "165031          565  31.0       5       0.00              1        1.0   \n",
       "165032          554  30.0       7  161533.00              1        0.0   \n",
       "165033          850  31.0       1       0.00              1        1.0   \n",
       "\n",
       "        IsActiveMember  EstimatedSalary  Exited  GeographyNumeric  \\\n",
       "0                  0.0        181449.97       0                 0   \n",
       "1                  1.0         49503.50       0                 0   \n",
       "2                  0.0        184866.69       0                 0   \n",
       "3                  1.0         84560.88       0                 0   \n",
       "4                  1.0         15068.83       0                 1   \n",
       "...                ...              ...     ...               ...   \n",
       "165029             1.0        131834.75       0                 1   \n",
       "165030             0.0        131834.45       0                 0   \n",
       "165031             1.0        127429.56       0                 0   \n",
       "165032             1.0         71173.03       0                 1   \n",
       "165033             0.0         61581.79       1                 0   \n",
       "\n",
       "        GenderNumeric  \n",
       "0                   0  \n",
       "1                   0  \n",
       "2                   0  \n",
       "3                   0  \n",
       "4                   0  \n",
       "...               ...  \n",
       "165029              1  \n",
       "165030              0  \n",
       "165031              0  \n",
       "165032              1  \n",
       "165033              0  \n",
       "\n",
       "[164911 rows x 11 columns]"
      ]
     },
     "execution_count": 160,
     "metadata": {},
     "output_type": "execute_result"
    }
   ],
   "source": [
    "bank_df_processed = bank_df_dropped.drop(['Geography', 'Gender'], axis=1)\n",
    "bank_df_processed"
   ]
  },
  {
   "cell_type": "code",
   "execution_count": 162,
   "id": "0fe53f86",
   "metadata": {
    "ExecuteTime": {
     "end_time": "2024-01-13T08:43:57.862722Z",
     "start_time": "2024-01-13T08:43:57.794310Z"
    }
   },
   "outputs": [],
   "source": [
    "with open('bank_df_processed.pkl', 'wb') as file:\n",
    "    pickle.dump(bank_df_processed, file)"
   ]
  },
  {
   "cell_type": "markdown",
   "id": "5a6a8ec9",
   "metadata": {},
   "source": [
    "---"
   ]
  },
  {
   "cell_type": "markdown",
   "id": "6dcd5034",
   "metadata": {},
   "source": [
    "## 3. 데이터 분석"
   ]
  },
  {
   "cell_type": "markdown",
   "id": "99332bdb",
   "metadata": {},
   "source": [
    "### 3-1. 문제 정의\n",
    "\n",
    "유저가 계좌 이용을 계속할지, 혹은 해지할지를 예측하는 이진 분류 모델을 개발한다."
   ]
  },
  {
   "cell_type": "markdown",
   "id": "14d2f3ca",
   "metadata": {},
   "source": [
    "### 3-2. 데이터 전처리"
   ]
  },
  {
   "cell_type": "markdown",
   "id": "62ee548b",
   "metadata": {},
   "source": [
    "#### 3-2-1. 데이터 불러오기"
   ]
  },
  {
   "cell_type": "code",
   "execution_count": 2,
   "id": "d47770ab",
   "metadata": {
    "ExecuteTime": {
     "end_time": "2024-01-26T11:29:20.064148Z",
     "start_time": "2024-01-26T11:29:19.893247Z"
    }
   },
   "outputs": [],
   "source": [
    "with open('bank_df_processed.pkl', 'rb') as file:\n",
    "    bank_df_processed = pickle.load(file)"
   ]
  },
  {
   "cell_type": "code",
   "execution_count": 4,
   "id": "7260dace",
   "metadata": {
    "ExecuteTime": {
     "end_time": "2024-01-21T07:11:33.121923Z",
     "start_time": "2024-01-21T07:11:33.074532Z"
    }
   },
   "outputs": [
    {
     "name": "stdout",
     "output_type": "stream",
     "text": [
      "<class 'pandas.core.frame.DataFrame'>\n",
      "Int64Index: 164911 entries, 0 to 165033\n",
      "Data columns (total 11 columns):\n",
      " #   Column            Non-Null Count   Dtype  \n",
      "---  ------            --------------   -----  \n",
      " 0   CreditScore       164911 non-null  int64  \n",
      " 1   Age               164911 non-null  float64\n",
      " 2   Tenure            164911 non-null  int64  \n",
      " 3   Balance           164911 non-null  float64\n",
      " 4   NumOfProducts     164911 non-null  int64  \n",
      " 5   HasCrCard         164911 non-null  float64\n",
      " 6   IsActiveMember    164911 non-null  float64\n",
      " 7   EstimatedSalary   164911 non-null  float64\n",
      " 8   Exited            164911 non-null  int64  \n",
      " 9   GeographyNumeric  164911 non-null  int64  \n",
      " 10  GenderNumeric     164911 non-null  int64  \n",
      "dtypes: float64(5), int64(6)\n",
      "memory usage: 15.1 MB\n"
     ]
    }
   ],
   "source": [
    "bank_df_processed.info()"
   ]
  },
  {
   "cell_type": "code",
   "execution_count": 3,
   "id": "0fcd6d8e",
   "metadata": {
    "ExecuteTime": {
     "end_time": "2024-01-26T11:29:22.577011Z",
     "start_time": "2024-01-26T11:29:22.485037Z"
    }
   },
   "outputs": [
    {
     "data": {
      "text/plain": [
       "((164911, 10), (164911,))"
      ]
     },
     "execution_count": 3,
     "metadata": {},
     "output_type": "execute_result"
    }
   ],
   "source": [
    "X = bank_df_processed.drop('Exited', axis=1)\n",
    "y = bank_df_processed['Exited']\n",
    "\n",
    "X.shape, y.shape"
   ]
  },
  {
   "cell_type": "markdown",
   "id": "817fcb26",
   "metadata": {},
   "source": [
    "이전에 피처 엔지니어링은 어느 정도 마쳐놓은 상태다."
   ]
  },
  {
   "cell_type": "markdown",
   "id": "9fb08efb",
   "metadata": {},
   "source": [
    "#### 3-2-2. 데이터 스케일링"
   ]
  },
  {
   "cell_type": "code",
   "execution_count": 4,
   "id": "75836d49",
   "metadata": {
    "ExecuteTime": {
     "end_time": "2024-01-26T11:29:25.318021Z",
     "start_time": "2024-01-26T11:29:25.171876Z"
    }
   },
   "outputs": [
    {
     "data": {
      "text/plain": [
       "(164911, 10)"
      ]
     },
     "execution_count": 4,
     "metadata": {},
     "output_type": "execute_result"
    }
   ],
   "source": [
    "scaler = MinMaxScaler()\n",
    "X = scaler.fit_transform(X)\n",
    "X.shape"
   ]
  },
  {
   "cell_type": "markdown",
   "id": "7a958094",
   "metadata": {},
   "source": [
    "본 데이터에는 0, 1 사이의 이진 데이터들이 다수 존재했던 만큼 MinMaxScaler를 이용한 스케일링이 유리하다고 봤다."
   ]
  },
  {
   "cell_type": "markdown",
   "id": "23726379",
   "metadata": {},
   "source": [
    "#### 3-2-3. train_test_split"
   ]
  },
  {
   "cell_type": "code",
   "execution_count": 5,
   "id": "932ed737",
   "metadata": {
    "ExecuteTime": {
     "end_time": "2024-01-26T11:29:28.113714Z",
     "start_time": "2024-01-26T11:29:27.939693Z"
    }
   },
   "outputs": [
    {
     "data": {
      "text/plain": [
       "((131928, 10), (32983, 10), (131928,), (32983,))"
      ]
     },
     "execution_count": 5,
     "metadata": {},
     "output_type": "execute_result"
    }
   ],
   "source": [
    "X_train, X_val, y_train, y_val = train_test_split(X, y, test_size=0.2, stratify=y, random_state=42)\n",
    "\n",
    "X_train.shape, X_val.shape, y_train.shape, y_val.shape"
   ]
  },
  {
   "cell_type": "markdown",
   "id": "df50661e",
   "metadata": {},
   "source": [
    "### 3-3. 분류 모델 생성"
   ]
  },
  {
   "cell_type": "markdown",
   "id": "71bbfe2b",
   "metadata": {},
   "source": [
    "#### 3-3-1. 모델 선택"
   ]
  },
  {
   "cell_type": "code",
   "execution_count": 10,
   "id": "670a2d70",
   "metadata": {
    "ExecuteTime": {
     "end_time": "2024-01-26T11:37:58.646498Z",
     "start_time": "2024-01-26T11:37:35.559551Z"
    }
   },
   "outputs": [
    {
     "name": "stdout",
     "output_type": "stream",
     "text": [
      "LogisticRegression 학습 완료! 성능: 0.8162908669389807\n",
      "DecisionTree 학습 완료! 성능: 0.7039405839567835\n",
      "RandomForest 학습 완료! 성능: 0.8737042383547133\n",
      "XGBoost 학습 완료! 성능: 0.8877248358702375\n",
      "LightGBM 학습 완료! 성능: 0.8894989809957179\n"
     ]
    }
   ],
   "source": [
    "models = {\n",
    "    'LogisticRegression': LogisticRegression(),\n",
    "    'DecisionTree': DecisionTreeClassifier(),\n",
    "    'RandomForest': RandomForestClassifier(),\n",
    "    'XGBoost': XGBClassifier(tree_method = \"hist\", device = \"cuda\"),\n",
    "    'LightGBM': LGBMClassifier(verbosity=-1, device_type='gpu')\n",
    "}\n",
    "\n",
    "model_results = {}\n",
    "\n",
    "for name, model in models.items():\n",
    "    model.fit(X_train, y_train)\n",
    "    y_pred_prob = model.predict_proba(X_val)[:, 1]\n",
    "    roc_auc = roc_auc_score(y_val, y_pred_prob)\n",
    "    model_results[name] = roc_auc\n",
    "    print(f\"{name} 학습 완료! 성능: {roc_auc}\")"
   ]
  },
  {
   "cell_type": "code",
   "execution_count": 13,
   "id": "393ce0fe",
   "metadata": {
    "ExecuteTime": {
     "end_time": "2024-01-26T11:38:33.792611Z",
     "start_time": "2024-01-26T11:38:33.622818Z"
    }
   },
   "outputs": [
    {
     "data": {
      "image/png": "[encoded data removed]",
      "text/plain": [
       "<Figure size 1200x800 with 1 Axes>"
      ]
     },
     "metadata": {},
     "output_type": "display_data"
    }
   ],
   "source": [
    "plt.figure(figsize=(12, 8))\n",
    "bars = plt.bar(\n",
    "    model_results.keys(),\n",
    "    model_results.values(),\n",
    "    color='gray'\n",
    ")\n",
    "\n",
    "bars[list(model_results.values()).index(max(model_results.values()))].set_color('green')\n",
    "plt.title('모델별 성능')\n",
    "plt.ylabel('roc-auc score')\n",
    "plt.axhline(max(model_results.values()), color='black', linestyle='--')\n",
    "plt.yticks([0.2 * i for i in range(6)] + [max(model_results.values())])\n",
    "plt.show()"
   ]
  },
  {
   "cell_type": "markdown",
   "id": "c8d9ff3c",
   "metadata": {},
   "source": [
    "튜닝하지 않았을 때의 성능이 가장 우월했던 LightGBM을 본 분석에서의 모델로 채택한다."
   ]
  },
  {
   "cell_type": "markdown",
   "id": "de173829",
   "metadata": {},
   "source": [
    "#### 3-3-2. 하이퍼파라미터 튜닝"
   ]
  },
  {
   "cell_type": "code",
   "execution_count": 14,
   "id": "b131ed13",
   "metadata": {
    "ExecuteTime": {
     "end_time": "2024-01-26T11:47:59.268290Z",
     "start_time": "2024-01-26T11:41:34.905024Z"
    }
   },
   "outputs": [
    {
     "name": "stdout",
     "output_type": "stream",
     "text": [
      "최적의 하이퍼파라미터: {'learning_rate': 0.1, 'max_depth': 3, 'n_estimators': 300}\n"
     ]
    }
   ],
   "source": [
    "model = LGBMClassifier(verbosity=-1, device_type='gpu')\n",
    "\n",
    "param_grid = {\n",
    "    'n_estimators': [100, 300, 500, 1000],\n",
    "    'learning_rate': [0.01, 0.05, 0.1, 0.2],\n",
    "    'max_depth': [None, 3, 5, 10]\n",
    "}\n",
    "\n",
    "grid_search = GridSearchCV(estimator=model, param_grid=param_grid, cv=3, n_jobs=-1,  scoring='roc_auc')\n",
    "grid_search.fit(X_train, y_train)\n",
    "print(\"최적의 하이퍼파라미터:\", grid_search.best_params_)"
   ]
  },
  {
   "cell_type": "code",
   "execution_count": 15,
   "id": "62ba9039",
   "metadata": {
    "ExecuteTime": {
     "end_time": "2024-01-26T11:51:52.343071Z",
     "start_time": "2024-01-26T11:51:52.204922Z"
    }
   },
   "outputs": [
    {
     "name": "stdout",
     "output_type": "stream",
     "text": [
      "모델 성능: 0.8897470324032113\n"
     ]
    }
   ],
   "source": [
    "best_model = grid_search.best_estimator_\n",
    "y_pred_prob = best_model.predict_proba(X_val)[:, 1]\n",
    "roc_auc = roc_auc_score(y_val, y_pred_prob)\n",
    "print(f\"모델 성능: {roc_auc}\")"
   ]
  },
  {
   "cell_type": "markdown",
   "id": "cb58fa41",
   "metadata": {},
   "source": [
    "#### 3-3-3. test 예측"
   ]
  },
  {
   "cell_type": "code",
   "execution_count": 24,
   "id": "310d3a7d",
   "metadata": {
    "ExecuteTime": {
     "end_time": "2024-01-26T11:57:53.355899Z",
     "start_time": "2024-01-26T11:57:53.109575Z"
    }
   },
   "outputs": [
    {
     "name": "stdout",
     "output_type": "stream",
     "text": [
      "<class 'pandas.core.frame.DataFrame'>\n",
      "RangeIndex: 110023 entries, 0 to 110022\n",
      "Data columns (total 10 columns):\n",
      " #   Column            Non-Null Count   Dtype  \n",
      "---  ------            --------------   -----  \n",
      " 0   CreditScore       110023 non-null  int64  \n",
      " 1   Age               110023 non-null  float64\n",
      " 2   Tenure            110023 non-null  int64  \n",
      " 3   Balance           110023 non-null  float64\n",
      " 4   NumOfProducts     110023 non-null  int64  \n",
      " 5   HasCrCard         110023 non-null  float64\n",
      " 6   IsActiveMember    110023 non-null  float64\n",
      " 7   EstimatedSalary   110023 non-null  float64\n",
      " 8   GeographyNumeric  110023 non-null  int64  \n",
      " 9   GenderNumeric     110023 non-null  int64  \n",
      "dtypes: float64(5), int64(5)\n",
      "memory usage: 8.4 MB\n"
     ]
    }
   ],
   "source": [
    "test_df = pd.read_csv('test.csv')\n",
    "new_test_df = test_df.copy()\n",
    "new_test_df['GeographyNumeric'] = test_df['Geography'].map({'France': 0, 'Spain': 1, 'Germany': 2})\n",
    "new_test_df['GenderNumeric'] = test_df['Gender'].map({'Male': 0, 'Female': 1})\n",
    "new_test_df = new_test_df.drop(['id', 'CustomerId', 'Surname', 'Geography', 'Gender'], axis=1)\n",
    "\n",
    "new_test_df.info()"
   ]
  },
  {
   "cell_type": "markdown",
   "id": "ccf154f5",
   "metadata": {},
   "source": [
    "test 데이터에 대해, 앞서 진행했던 전처리를 동일하게 진행해 주었다."
   ]
  },
  {
   "cell_type": "code",
   "execution_count": 26,
   "id": "6fd559f7",
   "metadata": {
    "ExecuteTime": {
     "end_time": "2024-01-26T11:58:25.577348Z",
     "start_time": "2024-01-26T11:58:25.324920Z"
    }
   },
   "outputs": [
    {
     "data": {
      "text/html": [
       "<div>\n",
       "<style scoped>\n",
       "    .dataframe tbody tr th:only-of-type {\n",
       "        vertical-align: middle;\n",
       "    }\n",
       "\n",
       "    .dataframe tbody tr th {\n",
       "        vertical-align: top;\n",
       "    }\n",
       "\n",
       "    .dataframe thead th {\n",
       "        text-align: right;\n",
       "    }\n",
       "</style>\n",
       "<table border=\"1\" class=\"dataframe\">\n",
       "  <thead>\n",
       "    <tr style=\"text-align: right;\">\n",
       "      <th></th>\n",
       "      <th>id</th>\n",
       "      <th>Exited</th>\n",
       "    </tr>\n",
       "  </thead>\n",
       "  <tbody>\n",
       "    <tr>\n",
       "      <th>0</th>\n",
       "      <td>165034</td>\n",
       "      <td>0.024298</td>\n",
       "    </tr>\n",
       "    <tr>\n",
       "      <th>1</th>\n",
       "      <td>165035</td>\n",
       "      <td>0.805654</td>\n",
       "    </tr>\n",
       "    <tr>\n",
       "      <th>2</th>\n",
       "      <td>165036</td>\n",
       "      <td>0.029890</td>\n",
       "    </tr>\n",
       "    <tr>\n",
       "      <th>3</th>\n",
       "      <td>165037</td>\n",
       "      <td>0.237014</td>\n",
       "    </tr>\n",
       "    <tr>\n",
       "      <th>4</th>\n",
       "      <td>165038</td>\n",
       "      <td>0.354490</td>\n",
       "    </tr>\n",
       "    <tr>\n",
       "      <th>...</th>\n",
       "      <td>...</td>\n",
       "      <td>...</td>\n",
       "    </tr>\n",
       "    <tr>\n",
       "      <th>110018</th>\n",
       "      <td>275052</td>\n",
       "      <td>0.036637</td>\n",
       "    </tr>\n",
       "    <tr>\n",
       "      <th>110019</th>\n",
       "      <td>275053</td>\n",
       "      <td>0.108913</td>\n",
       "    </tr>\n",
       "    <tr>\n",
       "      <th>110020</th>\n",
       "      <td>275054</td>\n",
       "      <td>0.020661</td>\n",
       "    </tr>\n",
       "    <tr>\n",
       "      <th>110021</th>\n",
       "      <td>275055</td>\n",
       "      <td>0.144998</td>\n",
       "    </tr>\n",
       "    <tr>\n",
       "      <th>110022</th>\n",
       "      <td>275056</td>\n",
       "      <td>0.179823</td>\n",
       "    </tr>\n",
       "  </tbody>\n",
       "</table>\n",
       "<p>110023 rows × 2 columns</p>\n",
       "</div>"
      ],
      "text/plain": [
       "            id    Exited\n",
       "0       165034  0.024298\n",
       "1       165035  0.805654\n",
       "2       165036  0.029890\n",
       "3       165037  0.237014\n",
       "4       165038  0.354490\n",
       "...        ...       ...\n",
       "110018  275052  0.036637\n",
       "110019  275053  0.108913\n",
       "110020  275054  0.020661\n",
       "110021  275055  0.144998\n",
       "110022  275056  0.179823\n",
       "\n",
       "[110023 rows x 2 columns]"
      ]
     },
     "execution_count": 26,
     "metadata": {},
     "output_type": "execute_result"
    }
   ],
   "source": [
    "new_X = scaler.fit_transform(new_test_df)\n",
    "new_y_pred_proba = best_model.predict_proba(new_X)[:, 1]\n",
    "result = pd.DataFrame()\n",
    "result['id'] = test_df['id']\n",
    "result['Exited'] = new_y_pred_proba\n",
    "result"
   ]
  },
  {
   "cell_type": "markdown",
   "id": "2c10cb28",
   "metadata": {},
   "source": [
    "앞서 학습시킨 모델(```best_model```)을 이용하여 예측 확률을 반환해 주었다."
   ]
  },
  {
   "cell_type": "code",
   "execution_count": 28,
   "id": "b5730f46",
   "metadata": {
    "ExecuteTime": {
     "end_time": "2024-01-26T12:00:12.400845Z",
     "start_time": "2024-01-26T12:00:12.077547Z"
    }
   },
   "outputs": [],
   "source": [
    "result.to_csv('result.csv', index=False)"
   ]
  },
  {
   "attachments": {
    "%EB%A6%AC%EB%8D%94%EB%B3%B4%EB%93%9C.png": {
     "image/png": "[encoded data removed]"
    }
   },
   "cell_type": "markdown",
   "id": "d97f4c9c",
   "metadata": {},
   "source": [
    "![%EB%A6%AC%EB%8D%94%EB%B3%B4%EB%93%9C.png](attachment:%EB%A6%AC%EB%8D%94%EB%B3%B4%EB%93%9C.png)"
   ]
  },
  {
   "cell_type": "markdown",
   "id": "86179b1d",
   "metadata": {},
   "source": [
    "Kaggle에 제출하여 확인한 결과 Public 기준 ROC-AUC Score 0.88551(1362위)이 나왔다. 대다수의 유저들이 89점 언저리에서 놀고 있음을 생각하면, 여기서 추가적인 튜닝을 통해 성능 상승을 꾀한다면 더 높은 순위권으로 들어갈 수 있겠다."
   ]
  },
  {
   "cell_type": "markdown",
   "id": "4b333709",
   "metadata": {},
   "source": [
    "---"
   ]
  },
  {
   "cell_type": "markdown",
   "id": "0ff9e17a",
   "metadata": {},
   "source": [
    "## 4. 후기"
   ]
  },
  {
   "cell_type": "markdown",
   "id": "21147fa6",
   "metadata": {},
   "source": [
    "데이터의 분포를 보면서 어떤 전처리를 진행할지 고민하고, 모델을 선정하고, 학습 및 튜닝을 진행하는 일련의 과정을 모두 수행해 보았다. EDA 과정에서 모델이 이상치에 대해 민감하게 반응해야 할 것이라고 판단했던 만큼 numeric한 변수들에 대해 별도의 이상치 처리는 진행해 주지 않았는데, 이런 판단이 과연 옳았던 건지 자문을 구해보고 싶다.\n",
    "\n",
    "어느 정도 구색을 갖춘 ML 모델을 생성하는 건 크게 어렵지 않다고 생각한다. 하지만 보다 정밀한 모델을 만드는 건 또 다른 일이다. 지금부터 성능을 깎아나가는 과정이 진짜 고역일 것이다. Public 리더보드 기준으로 1위와 1.6%p밖에 차이가 안 나는데, 그 조금의 격차를 좁히는 게 지금까지의 전 과정보다도 훨씬 많은 노력을 기울여야만 하는 일이 될 것이기 때문이다.\n",
    "\n",
    "현재는 SQL, 대시보드 위주의 데이터 분석가 포지션을 희망하고 있어서 보다 academic한 부분에 deep dive할 여력이 안 되지만, 추후에는 나 역시 머신러닝 모델을 깎는 장인의 길을 경험해 봐야 할 것이다. 그리 먼 미래가 되진 않을 것이다. 그땐 지금처럼 미니 프로젝트 위주의 스터디가 아닌, 논문 위주의 스터디를 하게 되리라고 생각한다. "
   ]
  }
 ],
 "metadata": {
  "kernelspec": {
   "display_name": "Python 3 (ipykernel)",
   "language": "python",
   "name": "python3"
  },
  "language_info": {
   "codemirror_mode": {
    "name": "ipython",
    "version": 3
   },
   "file_extension": ".py",
   "mimetype": "text/x-python",
   "name": "python",
   "nbconvert_exporter": "python",
   "pygments_lexer": "ipython3",
   "version": "3.9.16"
  },
  "toc": {
   "base_numbering": 1,
   "nav_menu": {},
   "number_sections": false,
   "sideBar": true,
   "skip_h1_title": false,
   "title_cell": "Table of Contents",
   "title_sidebar": "Contents",
   "toc_cell": false,
   "toc_position": {
    "height": "calc(100% - 180px)",
    "left": "10px",
    "top": "150px",
    "width": "329.6px"
   },
   "toc_section_display": true,
   "toc_window_display": true
  }
 },
 "nbformat": 4,
 "nbformat_minor": 5
}
