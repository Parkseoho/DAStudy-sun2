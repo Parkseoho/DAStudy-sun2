{
 "cells": [
  {
   "cell_type": "markdown",
   "metadata": {},
   "source": [
    "## 제주도 내국인 관광객 소비 패턴 분석"
   ]
  },
  {
   "cell_type": "markdown",
   "metadata": {},
   "source": [
    "---"
   ]
  },
  {
   "cell_type": "markdown",
   "metadata": {},
   "source": [
    "## 1. 프로젝트 개요"
   ]
  },
  {
   "cell_type": "markdown",
   "metadata": {},
   "source": [
    "### 1-1. 프로젝트 요약\n",
    "- 제목: 제주도 내국인 관광객 소비 패턴 분석\n",
    "- 설명: 제주도를 방문한 내국인 관광객 소비 금액 및 업종별 분석 -> 제주도 창업 아이템 선정\n",
    "- 사용한 데이터셋\n",
    "    - [https://www.data.go.kr/data/15046091/fileData.do)]\n",
    "- 데이터셋 설명\n",
    "    - 2014~2016년도 제주도 내 내국인 관광객의 업종명, 성별, 연령대별로 카드이용금액, 카드이용건수, 건강이용금액 등의 정보\n",
    "- 진행 절차 및 내용\n",
    "    - EDA\n",
    "    - ...\n",
    "- 사용한 스킬셋\n",
    "    - pandas\n",
    "    - matplotlib, seaborn\n",
    "    - ..."
   ]
  },
  {
   "cell_type": "markdown",
   "metadata": {},
   "source": [
    "## 2. 데이터 로딩"
   ]
  },
  {
   "cell_type": "markdown",
   "metadata": {},
   "source": [
    "### 2-1. 데이터 불러오기"
   ]
  },
  {
   "cell_type": "code",
   "execution_count": 3,
   "metadata": {},
   "outputs": [],
   "source": [
    "import pandas as pd\n",
    "import numpy as np\n",
    "import matplotlib.pyplot as plt\n",
    "import seaborn as sns\n",
    "import warnings\n",
    "warnings.filterwarnings(\"ignore\")"
   ]
  },
  {
   "cell_type": "code",
   "execution_count": 4,
   "metadata": {},
   "outputs": [],
   "source": [
    "from IPython.core.interactiveshell import InteractiveShell\n",
    "InteractiveShell.ast_node_interactivity=\"all\""
   ]
  },
  {
   "cell_type": "code",
   "execution_count": 5,
   "metadata": {},
   "outputs": [],
   "source": [
    "plt.rc('font',family='Malgun Gothic')"
   ]
  },
  {
   "cell_type": "code",
   "execution_count": 6,
   "metadata": {},
   "outputs": [
    {
     "data": {
      "text/html": [
       "<div>\n",
       "<style scoped>\n",
       "    .dataframe tbody tr th:only-of-type {\n",
       "        vertical-align: middle;\n",
       "    }\n",
       "\n",
       "    .dataframe tbody tr th {\n",
       "        vertical-align: top;\n",
       "    }\n",
       "\n",
       "    .dataframe thead th {\n",
       "        text-align: right;\n",
       "    }\n",
       "</style>\n",
       "<table border=\"1\" class=\"dataframe\">\n",
       "  <thead>\n",
       "    <tr style=\"text-align: right;\">\n",
       "      <th></th>\n",
       "      <th>기준년월</th>\n",
       "      <th>관광객 유형</th>\n",
       "      <th>제주 대분류</th>\n",
       "      <th>제주 중분류</th>\n",
       "      <th>업종명</th>\n",
       "      <th>성별</th>\n",
       "      <th>연령대별</th>\n",
       "      <th>카드이용금액</th>\n",
       "      <th>카드이용건수</th>\n",
       "      <th>건당이용금액</th>\n",
       "      <th>데이터기준일자</th>\n",
       "    </tr>\n",
       "  </thead>\n",
       "  <tbody>\n",
       "    <tr>\n",
       "      <th>0</th>\n",
       "      <td>2014-09</td>\n",
       "      <td>내국인 관광객</td>\n",
       "      <td>서귀포시</td>\n",
       "      <td>대륜동</td>\n",
       "      <td>농축수산품</td>\n",
       "      <td>여</td>\n",
       "      <td>50대</td>\n",
       "      <td>14434000</td>\n",
       "      <td>67</td>\n",
       "      <td>215433</td>\n",
       "      <td>2017-02-16</td>\n",
       "    </tr>\n",
       "    <tr>\n",
       "      <th>1</th>\n",
       "      <td>2014-09</td>\n",
       "      <td>내국인 관광객</td>\n",
       "      <td>서귀포시</td>\n",
       "      <td>대륜동</td>\n",
       "      <td>농축수산품</td>\n",
       "      <td>남</td>\n",
       "      <td>50대</td>\n",
       "      <td>15119000</td>\n",
       "      <td>72</td>\n",
       "      <td>209986</td>\n",
       "      <td>2017-02-16</td>\n",
       "    </tr>\n",
       "    <tr>\n",
       "      <th>2</th>\n",
       "      <td>2014-09</td>\n",
       "      <td>내국인 관광객</td>\n",
       "      <td>서귀포시</td>\n",
       "      <td>대륜동</td>\n",
       "      <td>농축수산품</td>\n",
       "      <td>여</td>\n",
       "      <td>40대</td>\n",
       "      <td>7609500</td>\n",
       "      <td>41</td>\n",
       "      <td>185598</td>\n",
       "      <td>2017-02-16</td>\n",
       "    </tr>\n",
       "    <tr>\n",
       "      <th>3</th>\n",
       "      <td>2014-09</td>\n",
       "      <td>내국인 관광객</td>\n",
       "      <td>서귀포시</td>\n",
       "      <td>남원읍</td>\n",
       "      <td>농축수산품</td>\n",
       "      <td>남</td>\n",
       "      <td>50대</td>\n",
       "      <td>7092500</td>\n",
       "      <td>40</td>\n",
       "      <td>177313</td>\n",
       "      <td>2017-02-16</td>\n",
       "    </tr>\n",
       "    <tr>\n",
       "      <th>4</th>\n",
       "      <td>2014-09</td>\n",
       "      <td>내국인 관광객</td>\n",
       "      <td>서귀포시</td>\n",
       "      <td>대륜동</td>\n",
       "      <td>농축수산품</td>\n",
       "      <td>남</td>\n",
       "      <td>40대</td>\n",
       "      <td>9098500</td>\n",
       "      <td>59</td>\n",
       "      <td>154212</td>\n",
       "      <td>2017-02-16</td>\n",
       "    </tr>\n",
       "    <tr>\n",
       "      <th>...</th>\n",
       "      <td>...</td>\n",
       "      <td>...</td>\n",
       "      <td>...</td>\n",
       "      <td>...</td>\n",
       "      <td>...</td>\n",
       "      <td>...</td>\n",
       "      <td>...</td>\n",
       "      <td>...</td>\n",
       "      <td>...</td>\n",
       "      <td>...</td>\n",
       "      <td>...</td>\n",
       "    </tr>\n",
       "    <tr>\n",
       "      <th>13141</th>\n",
       "      <td>2016-08</td>\n",
       "      <td>내국인 관광객</td>\n",
       "      <td>서귀포시</td>\n",
       "      <td>남원읍</td>\n",
       "      <td>약국</td>\n",
       "      <td>남</td>\n",
       "      <td>30대</td>\n",
       "      <td>252900</td>\n",
       "      <td>43</td>\n",
       "      <td>5881</td>\n",
       "      <td>2017-02-16</td>\n",
       "    </tr>\n",
       "    <tr>\n",
       "      <th>13142</th>\n",
       "      <td>2016-08</td>\n",
       "      <td>내국인 관광객</td>\n",
       "      <td>서귀포시</td>\n",
       "      <td>대륜동</td>\n",
       "      <td>약국</td>\n",
       "      <td>남</td>\n",
       "      <td>20대</td>\n",
       "      <td>276100</td>\n",
       "      <td>49</td>\n",
       "      <td>5635</td>\n",
       "      <td>2017-02-16</td>\n",
       "    </tr>\n",
       "    <tr>\n",
       "      <th>13143</th>\n",
       "      <td>2016-08</td>\n",
       "      <td>내국인 관광객</td>\n",
       "      <td>서귀포시</td>\n",
       "      <td>대륜동</td>\n",
       "      <td>기타음료식품</td>\n",
       "      <td>남</td>\n",
       "      <td>30대</td>\n",
       "      <td>610850</td>\n",
       "      <td>118</td>\n",
       "      <td>5177</td>\n",
       "      <td>2017-02-16</td>\n",
       "    </tr>\n",
       "    <tr>\n",
       "      <th>13144</th>\n",
       "      <td>2016-08</td>\n",
       "      <td>내국인 관광객</td>\n",
       "      <td>서귀포시</td>\n",
       "      <td>대륜동</td>\n",
       "      <td>기타음료식품</td>\n",
       "      <td>여</td>\n",
       "      <td>20대</td>\n",
       "      <td>416900</td>\n",
       "      <td>85</td>\n",
       "      <td>4905</td>\n",
       "      <td>2017-02-16</td>\n",
       "    </tr>\n",
       "    <tr>\n",
       "      <th>13145</th>\n",
       "      <td>2016-08</td>\n",
       "      <td>내국인 관광객</td>\n",
       "      <td>서귀포시</td>\n",
       "      <td>대륜동</td>\n",
       "      <td>기타음료식품</td>\n",
       "      <td>여</td>\n",
       "      <td>50대</td>\n",
       "      <td>56200</td>\n",
       "      <td>12</td>\n",
       "      <td>4683</td>\n",
       "      <td>2017-02-16</td>\n",
       "    </tr>\n",
       "  </tbody>\n",
       "</table>\n",
       "<p>13146 rows × 11 columns</p>\n",
       "</div>"
      ],
      "text/plain": [
       "          기준년월   관광객 유형 제주 대분류 제주 중분류     업종명 성별 연령대별   카드이용금액    카드이용건수   \\\n",
       "0      2014-09  내국인 관광객   서귀포시    대륜동   농축수산품  여  50대  14434000        67   \n",
       "1      2014-09  내국인 관광객   서귀포시    대륜동   농축수산품  남  50대  15119000        72   \n",
       "2      2014-09  내국인 관광객   서귀포시    대륜동   농축수산품  여  40대   7609500        41   \n",
       "3      2014-09  내국인 관광객   서귀포시    남원읍   농축수산품  남  50대   7092500        40   \n",
       "4      2014-09  내국인 관광객   서귀포시    대륜동   농축수산품  남  40대   9098500        59   \n",
       "...        ...      ...    ...    ...     ... ..  ...       ...       ...   \n",
       "13141  2016-08  내국인 관광객   서귀포시    남원읍      약국  남  30대    252900        43   \n",
       "13142  2016-08  내국인 관광객   서귀포시    대륜동      약국  남  20대    276100        49   \n",
       "13143  2016-08  내국인 관광객   서귀포시    대륜동  기타음료식품  남  30대    610850       118   \n",
       "13144  2016-08  내국인 관광객   서귀포시    대륜동  기타음료식품  여  20대    416900        85   \n",
       "13145  2016-08  내국인 관광객   서귀포시    대륜동  기타음료식품  여  50대     56200        12   \n",
       "\n",
       "       건당이용금액     데이터기준일자  \n",
       "0      215433  2017-02-16  \n",
       "1      209986  2017-02-16  \n",
       "2      185598  2017-02-16  \n",
       "3      177313  2017-02-16  \n",
       "4      154212  2017-02-16  \n",
       "...       ...         ...  \n",
       "13141    5881  2017-02-16  \n",
       "13142    5635  2017-02-16  \n",
       "13143    5177  2017-02-16  \n",
       "13144    4905  2017-02-16  \n",
       "13145    4683  2017-02-16  \n",
       "\n",
       "[13146 rows x 11 columns]"
      ]
     },
     "execution_count": 6,
     "metadata": {},
     "output_type": "execute_result"
    }
   ],
   "source": [
    "df = pd.read_csv('./raw_data/제주특별자치도_개별관광(FIT)_증가에_따른_제주_관광객_소비패턴_변화_분석_BC카드_빅데이터_내국인관광객_20170216.csv'\n",
    "                 , encoding='cp949')\n",
    "df"
   ]
  },
  {
   "cell_type": "markdown",
   "metadata": {},
   "source": [
    "### 2-2. 데이터 확인"
   ]
  },
  {
   "cell_type": "code",
   "execution_count": 7,
   "metadata": {},
   "outputs": [
    {
     "data": {
      "text/plain": [
       "(13146, 11)"
      ]
     },
     "execution_count": 7,
     "metadata": {},
     "output_type": "execute_result"
    }
   ],
   "source": [
    "df.shape"
   ]
  },
  {
   "cell_type": "code",
   "execution_count": 8,
   "metadata": {},
   "outputs": [
    {
     "name": "stdout",
     "output_type": "stream",
     "text": [
      "<class 'pandas.core.frame.DataFrame'>\n",
      "RangeIndex: 13146 entries, 0 to 13145\n",
      "Data columns (total 11 columns):\n",
      " #   Column    Non-Null Count  Dtype \n",
      "---  ------    --------------  ----- \n",
      " 0   기준년월      13146 non-null  object\n",
      " 1   관광객 유형    13146 non-null  object\n",
      " 2   제주 대분류    13146 non-null  object\n",
      " 3   제주 중분류    13146 non-null  object\n",
      " 4   업종명       13146 non-null  object\n",
      " 5   성별        13146 non-null  object\n",
      " 6   연령대별      13146 non-null  object\n",
      " 7    카드이용금액   13146 non-null  int64 \n",
      " 8    카드이용건수   13146 non-null  int64 \n",
      " 9   건당이용금액    13146 non-null  int64 \n",
      " 10  데이터기준일자   13146 non-null  object\n",
      "dtypes: int64(3), object(8)\n",
      "memory usage: 1.1+ MB\n"
     ]
    }
   ],
   "source": [
    "df.info()"
   ]
  },
  {
   "cell_type": "code",
   "execution_count": 9,
   "metadata": {},
   "outputs": [
    {
     "data": {
      "text/html": [
       "<div>\n",
       "<style scoped>\n",
       "    .dataframe tbody tr th:only-of-type {\n",
       "        vertical-align: middle;\n",
       "    }\n",
       "\n",
       "    .dataframe tbody tr th {\n",
       "        vertical-align: top;\n",
       "    }\n",
       "\n",
       "    .dataframe thead th {\n",
       "        text-align: right;\n",
       "    }\n",
       "</style>\n",
       "<table border=\"1\" class=\"dataframe\">\n",
       "  <thead>\n",
       "    <tr style=\"text-align: right;\">\n",
       "      <th></th>\n",
       "      <th>카드이용금액</th>\n",
       "      <th>카드이용건수</th>\n",
       "      <th>건당이용금액</th>\n",
       "    </tr>\n",
       "  </thead>\n",
       "  <tbody>\n",
       "    <tr>\n",
       "      <th>count</th>\n",
       "      <td>1.314600e+04</td>\n",
       "      <td>13146.000000</td>\n",
       "      <td>13146.000000</td>\n",
       "    </tr>\n",
       "    <tr>\n",
       "      <th>mean</th>\n",
       "      <td>3.697184e+06</td>\n",
       "      <td>133.308079</td>\n",
       "      <td>35163.811273</td>\n",
       "    </tr>\n",
       "    <tr>\n",
       "      <th>std</th>\n",
       "      <td>6.232327e+06</td>\n",
       "      <td>210.459082</td>\n",
       "      <td>35421.702281</td>\n",
       "    </tr>\n",
       "    <tr>\n",
       "      <th>min</th>\n",
       "      <td>3.610000e+04</td>\n",
       "      <td>10.000000</td>\n",
       "      <td>3520.000000</td>\n",
       "    </tr>\n",
       "    <tr>\n",
       "      <th>25%</th>\n",
       "      <td>5.958600e+05</td>\n",
       "      <td>23.000000</td>\n",
       "      <td>13939.250000</td>\n",
       "    </tr>\n",
       "    <tr>\n",
       "      <th>50%</th>\n",
       "      <td>1.533550e+06</td>\n",
       "      <td>54.000000</td>\n",
       "      <td>21007.500000</td>\n",
       "    </tr>\n",
       "    <tr>\n",
       "      <th>75%</th>\n",
       "      <td>3.863175e+06</td>\n",
       "      <td>143.000000</td>\n",
       "      <td>46235.750000</td>\n",
       "    </tr>\n",
       "    <tr>\n",
       "      <th>max</th>\n",
       "      <td>6.427770e+07</td>\n",
       "      <td>2574.000000</td>\n",
       "      <td>539047.000000</td>\n",
       "    </tr>\n",
       "  </tbody>\n",
       "</table>\n",
       "</div>"
      ],
      "text/plain": [
       "            카드이용금액        카드이용건수          건당이용금액\n",
       "count  1.314600e+04  13146.000000   13146.000000\n",
       "mean   3.697184e+06    133.308079   35163.811273\n",
       "std    6.232327e+06    210.459082   35421.702281\n",
       "min    3.610000e+04     10.000000    3520.000000\n",
       "25%    5.958600e+05     23.000000   13939.250000\n",
       "50%    1.533550e+06     54.000000   21007.500000\n",
       "75%    3.863175e+06    143.000000   46235.750000\n",
       "max    6.427770e+07   2574.000000  539047.000000"
      ]
     },
     "execution_count": 9,
     "metadata": {},
     "output_type": "execute_result"
    }
   ],
   "source": [
    "df.describe()"
   ]
  },
  {
   "cell_type": "code",
   "execution_count": 10,
   "metadata": {},
   "outputs": [
    {
     "data": {
      "text/plain": [
       "기준년월        0\n",
       "관광객 유형      0\n",
       "제주 대분류      0\n",
       "제주 중분류      0\n",
       "업종명         0\n",
       "성별          0\n",
       "연령대별        0\n",
       " 카드이용금액     0\n",
       " 카드이용건수     0\n",
       "건당이용금액      0\n",
       "데이터기준일자     0\n",
       "dtype: int64"
      ]
     },
     "execution_count": 10,
     "metadata": {},
     "output_type": "execute_result"
    }
   ],
   "source": [
    "df.isnull().sum() # null 값 없음"
   ]
  },
  {
   "cell_type": "code",
   "execution_count": 11,
   "metadata": {},
   "outputs": [
    {
     "data": {
      "text/plain": [
       "0"
      ]
     },
     "execution_count": 11,
     "metadata": {},
     "output_type": "execute_result"
    }
   ],
   "source": [
    "df.duplicated().sum() # 중복 값 없음"
   ]
  },
  {
   "cell_type": "code",
   "execution_count": 12,
   "metadata": {},
   "outputs": [
    {
     "data": {
      "text/plain": [
       "Index(['기준년월', '관광객 유형', '제주 대분류', '제주 중분류', '업종명', '성별', '연령대별', ' 카드이용금액 ',\n",
       "       ' 카드이용건수 ', '건당이용금액', '데이터기준일자'],\n",
       "      dtype='object')"
      ]
     },
     "execution_count": 12,
     "metadata": {},
     "output_type": "execute_result"
    }
   ],
   "source": [
    "df.columns"
   ]
  },
  {
   "cell_type": "markdown",
   "metadata": {},
   "source": [
    "### 2-3. 데이터 전처리"
   ]
  },
  {
   "cell_type": "markdown",
   "metadata": {},
   "source": [
    "#### 데이터 기준일자 제거"
   ]
  },
  {
   "cell_type": "code",
   "execution_count": 13,
   "metadata": {},
   "outputs": [],
   "source": [
    "df = df.drop(columns=['데이터기준일자'])"
   ]
  },
  {
   "cell_type": "markdown",
   "metadata": {},
   "source": [
    "#### 기준년월 \n",
    "- 2014년은 9~12월까지\n",
    "- 2015년은 1~12월까지\n",
    "- 2016년은 1~8까지 존재"
   ]
  },
  {
   "cell_type": "code",
   "execution_count": 14,
   "metadata": {},
   "outputs": [
    {
     "data": {
      "text/plain": [
       "array(['2014-09', '2014-10', '2014-11', '2014-12', '2015-01', '2015-02',\n",
       "       '2015-03', '2015-04', '2015-05', '2015-06', '2015-07', '2015-08',\n",
       "       '2015-09', '2015-10', '2015-11', '2015-12', '2016-01', '2016-02',\n",
       "       '2016-03', '2016-04', '2016-05', '2016-06', '2016-07', '2016-08'],\n",
       "      dtype=object)"
      ]
     },
     "execution_count": 14,
     "metadata": {},
     "output_type": "execute_result"
    }
   ],
   "source": [
    "df['기준년월'].unique()"
   ]
  },
  {
   "cell_type": "markdown",
   "metadata": {},
   "source": [
    "**년도와 월로 분리**"
   ]
  },
  {
   "cell_type": "code",
   "execution_count": 15,
   "metadata": {},
   "outputs": [],
   "source": [
    "df['년도'] = df['기준년월'].str.split('-',expand=True)[0]\n",
    "df['월'] = df['기준년월'].str.split('-',expand=True)[1]"
   ]
  },
  {
   "cell_type": "code",
   "execution_count": 16,
   "metadata": {},
   "outputs": [
    {
     "data": {
      "text/html": [
       "<div>\n",
       "<style scoped>\n",
       "    .dataframe tbody tr th:only-of-type {\n",
       "        vertical-align: middle;\n",
       "    }\n",
       "\n",
       "    .dataframe tbody tr th {\n",
       "        vertical-align: top;\n",
       "    }\n",
       "\n",
       "    .dataframe thead th {\n",
       "        text-align: right;\n",
       "    }\n",
       "</style>\n",
       "<table border=\"1\" class=\"dataframe\">\n",
       "  <thead>\n",
       "    <tr style=\"text-align: right;\">\n",
       "      <th></th>\n",
       "      <th>기준년월</th>\n",
       "      <th>관광객 유형</th>\n",
       "      <th>제주 대분류</th>\n",
       "      <th>제주 중분류</th>\n",
       "      <th>업종명</th>\n",
       "      <th>성별</th>\n",
       "      <th>연령대별</th>\n",
       "      <th>카드이용금액</th>\n",
       "      <th>카드이용건수</th>\n",
       "      <th>건당이용금액</th>\n",
       "      <th>년도</th>\n",
       "      <th>월</th>\n",
       "    </tr>\n",
       "  </thead>\n",
       "  <tbody>\n",
       "    <tr>\n",
       "      <th>0</th>\n",
       "      <td>2014-09</td>\n",
       "      <td>내국인 관광객</td>\n",
       "      <td>서귀포시</td>\n",
       "      <td>대륜동</td>\n",
       "      <td>농축수산품</td>\n",
       "      <td>여</td>\n",
       "      <td>50대</td>\n",
       "      <td>14434000</td>\n",
       "      <td>67</td>\n",
       "      <td>215433</td>\n",
       "      <td>2014</td>\n",
       "      <td>09</td>\n",
       "    </tr>\n",
       "    <tr>\n",
       "      <th>1</th>\n",
       "      <td>2014-09</td>\n",
       "      <td>내국인 관광객</td>\n",
       "      <td>서귀포시</td>\n",
       "      <td>대륜동</td>\n",
       "      <td>농축수산품</td>\n",
       "      <td>남</td>\n",
       "      <td>50대</td>\n",
       "      <td>15119000</td>\n",
       "      <td>72</td>\n",
       "      <td>209986</td>\n",
       "      <td>2014</td>\n",
       "      <td>09</td>\n",
       "    </tr>\n",
       "    <tr>\n",
       "      <th>2</th>\n",
       "      <td>2014-09</td>\n",
       "      <td>내국인 관광객</td>\n",
       "      <td>서귀포시</td>\n",
       "      <td>대륜동</td>\n",
       "      <td>농축수산품</td>\n",
       "      <td>여</td>\n",
       "      <td>40대</td>\n",
       "      <td>7609500</td>\n",
       "      <td>41</td>\n",
       "      <td>185598</td>\n",
       "      <td>2014</td>\n",
       "      <td>09</td>\n",
       "    </tr>\n",
       "    <tr>\n",
       "      <th>3</th>\n",
       "      <td>2014-09</td>\n",
       "      <td>내국인 관광객</td>\n",
       "      <td>서귀포시</td>\n",
       "      <td>남원읍</td>\n",
       "      <td>농축수산품</td>\n",
       "      <td>남</td>\n",
       "      <td>50대</td>\n",
       "      <td>7092500</td>\n",
       "      <td>40</td>\n",
       "      <td>177313</td>\n",
       "      <td>2014</td>\n",
       "      <td>09</td>\n",
       "    </tr>\n",
       "    <tr>\n",
       "      <th>4</th>\n",
       "      <td>2014-09</td>\n",
       "      <td>내국인 관광객</td>\n",
       "      <td>서귀포시</td>\n",
       "      <td>대륜동</td>\n",
       "      <td>농축수산품</td>\n",
       "      <td>남</td>\n",
       "      <td>40대</td>\n",
       "      <td>9098500</td>\n",
       "      <td>59</td>\n",
       "      <td>154212</td>\n",
       "      <td>2014</td>\n",
       "      <td>09</td>\n",
       "    </tr>\n",
       "  </tbody>\n",
       "</table>\n",
       "</div>"
      ],
      "text/plain": [
       "      기준년월   관광객 유형 제주 대분류 제주 중분류    업종명 성별 연령대별   카드이용금액    카드이용건수   건당이용금액  \\\n",
       "0  2014-09  내국인 관광객   서귀포시    대륜동  농축수산품  여  50대  14434000        67  215433   \n",
       "1  2014-09  내국인 관광객   서귀포시    대륜동  농축수산품  남  50대  15119000        72  209986   \n",
       "2  2014-09  내국인 관광객   서귀포시    대륜동  농축수산품  여  40대   7609500        41  185598   \n",
       "3  2014-09  내국인 관광객   서귀포시    남원읍  농축수산품  남  50대   7092500        40  177313   \n",
       "4  2014-09  내국인 관광객   서귀포시    대륜동  농축수산품  남  40대   9098500        59  154212   \n",
       "\n",
       "     년도   월  \n",
       "0  2014  09  \n",
       "1  2014  09  \n",
       "2  2014  09  \n",
       "3  2014  09  \n",
       "4  2014  09  "
      ]
     },
     "execution_count": 16,
     "metadata": {},
     "output_type": "execute_result"
    }
   ],
   "source": [
    "df.head()"
   ]
  },
  {
   "cell_type": "markdown",
   "metadata": {},
   "source": [
    "## 3. EDA"
   ]
  },
  {
   "cell_type": "markdown",
   "metadata": {},
   "source": [
    "### 3-1. 관광객 성별 분포\n",
    "\n",
    "\n",
    "\n",
    "#### 미세하게 남자가 더 많음"
   ]
  },
  {
   "cell_type": "code",
   "execution_count": 17,
   "metadata": {},
   "outputs": [
    {
     "data": {
      "text/plain": [
       "남    6609\n",
       "여    6537\n",
       "Name: 성별, dtype: int64"
      ]
     },
     "execution_count": 17,
     "metadata": {},
     "output_type": "execute_result"
    }
   ],
   "source": [
    "gender_df = df['성별'].value_counts()\n",
    "gender_df"
   ]
  },
  {
   "cell_type": "code",
   "execution_count": 79,
   "metadata": {},
   "outputs": [
    {
     "data": {
      "text/plain": [
       "<Figure size 720x432 with 0 Axes>"
      ]
     },
     "execution_count": 79,
     "metadata": {},
     "output_type": "execute_result"
    },
    {
     "data": {
      "text/plain": [
       "<matplotlib.axes._subplots.AxesSubplot at 0x1a3a62d1da0>"
      ]
     },
     "execution_count": 79,
     "metadata": {},
     "output_type": "execute_result"
    },
    {
     "data": {
      "text/plain": [
       "Text(0.5, 1.0, '관광객 성별 분포')"
      ]
     },
     "execution_count": 79,
     "metadata": {},
     "output_type": "execute_result"
    },
    {
     "data": {
      "image/png": "[encoded data removed]",
      "text/plain": [
       "<Figure size 720x432 with 1 Axes>"
      ]
     },
     "metadata": {
      "needs_background": "light"
     },
     "output_type": "display_data"
    }
   ],
   "source": [
    "plt.figure(figsize=(10, 6))\n",
    "sns.barplot(x=gender_df.index, y=gender_df.values, palette='Set1')\n",
    "plt.title('관광객 성별 분포', fontsize=18)\n",
    "plt.show()"
   ]
  },
  {
   "cell_type": "markdown",
   "metadata": {},
   "source": [
    "### 3-2. 제주시(대분류) 분포\n",
    "\n",
    "\n",
    "\n",
    "#### 제주시, 서귀포시에서 소비"
   ]
  },
  {
   "cell_type": "code",
   "execution_count": 19,
   "metadata": {},
   "outputs": [
    {
     "data": {
      "text/plain": [
       "제주시     8729\n",
       "서귀포시    4417\n",
       "Name: 제주 대분류, dtype: int64"
      ]
     },
     "execution_count": 19,
     "metadata": {},
     "output_type": "execute_result"
    }
   ],
   "source": [
    "jeju_si_df = df['제주 대분류'].value_counts()\n",
    "jeju_si_df"
   ]
  },
  {
   "cell_type": "code",
   "execution_count": 78,
   "metadata": {},
   "outputs": [
    {
     "data": {
      "text/plain": [
       "<Figure size 720x432 with 0 Axes>"
      ]
     },
     "execution_count": 78,
     "metadata": {},
     "output_type": "execute_result"
    },
    {
     "data": {
      "text/plain": [
       "<matplotlib.axes._subplots.AxesSubplot at 0x1a3a77aab00>"
      ]
     },
     "execution_count": 78,
     "metadata": {},
     "output_type": "execute_result"
    },
    {
     "data": {
      "text/plain": [
       "Text(0.5, 1.0, '제주시(대분류) 분포')"
      ]
     },
     "execution_count": 78,
     "metadata": {},
     "output_type": "execute_result"
    },
    {
     "data": {
      "image/png": "[encoded data removed]",
      "text/plain": [
       "<Figure size 720x432 with 1 Axes>"
      ]
     },
     "metadata": {
      "needs_background": "light"
     },
     "output_type": "display_data"
    }
   ],
   "source": [
    "plt.figure(figsize=(10, 6))\n",
    "sns.barplot(x=jeju_si_df.index, y=jeju_si_df.values, palette='Set1')\n",
    "plt.title('제주시(대분류) 분포', fontsize=18)\n",
    "plt.show()"
   ]
  },
  {
   "cell_type": "markdown",
   "metadata": {},
   "source": [
    "### 3-3. 제주시(중분류) 분포\n",
    "\n",
    "\n",
    "\n",
    "#### 연동에서 가장 많은 소비 이루어짐"
   ]
  },
  {
   "cell_type": "code",
   "execution_count": 21,
   "metadata": {},
   "outputs": [
    {
     "data": {
      "text/plain": [
       "연동      2063\n",
       "노형동     1623\n",
       "이도2동    1527\n",
       "성산읍     1425\n",
       "삼도2동    1327\n",
       "용담2동    1231\n",
       "남원읍     1117\n",
       "예래동     1025\n",
       "애월읍      958\n",
       "대륜동      850\n",
       "Name: 제주 중분류, dtype: int64"
      ]
     },
     "execution_count": 21,
     "metadata": {},
     "output_type": "execute_result"
    }
   ],
   "source": [
    "jeju_dong_df = df['제주 중분류'].value_counts()\n",
    "jeju_dong_df"
   ]
  },
  {
   "cell_type": "code",
   "execution_count": 77,
   "metadata": {},
   "outputs": [
    {
     "data": {
      "text/plain": [
       "<Figure size 720x432 with 0 Axes>"
      ]
     },
     "execution_count": 77,
     "metadata": {},
     "output_type": "execute_result"
    },
    {
     "data": {
      "text/plain": [
       "<matplotlib.axes._subplots.AxesSubplot at 0x1a3a73bbe10>"
      ]
     },
     "execution_count": 77,
     "metadata": {},
     "output_type": "execute_result"
    },
    {
     "data": {
      "text/plain": [
       "Text(0.5, 1.0, '제주시(중분류) 분포')"
      ]
     },
     "execution_count": 77,
     "metadata": {},
     "output_type": "execute_result"
    },
    {
     "data": {
      "image/png": "[encoded data removed]",
      "text/plain": [
       "<Figure size 720x432 with 1 Axes>"
      ]
     },
     "metadata": {
      "needs_background": "light"
     },
     "output_type": "display_data"
    }
   ],
   "source": [
    "plt.figure(figsize=(10, 6))\n",
    "sns.barplot(x=jeju_dong_df.index, y=jeju_dong_df.values, palette='Set1')\n",
    "plt.title('제주시(중분류) 분포', fontsize=18)\n",
    "plt.show()"
   ]
  },
  {
   "cell_type": "markdown",
   "metadata": {},
   "source": [
    "### 3-4. 업종별 분포\n",
    "\n",
    "\n",
    "\n",
    "#### 슈퍼마켓, 농축수산품, 스낵 주로 식생활에 관련된 업종이 가장 많음"
   ]
  },
  {
   "cell_type": "code",
   "execution_count": 23,
   "metadata": {},
   "outputs": [
    {
     "data": {
      "text/plain": [
       "슈퍼 마켓      1911\n",
       "농축수산품      1884\n",
       "스넥         1734\n",
       "약국         1606\n",
       "기타음료식품     1484\n",
       "의원         1073\n",
       "기념품 점      1017\n",
       "스포츠레져용품     840\n",
       "정장(여성)      673\n",
       "악세 사리       403\n",
       "안경          384\n",
       "신   발        95\n",
       "골프 용품        39\n",
       "귀 금 속         3\n",
       "Name: 업종명, dtype: int64"
      ]
     },
     "execution_count": 23,
     "metadata": {},
     "output_type": "execute_result"
    }
   ],
   "source": [
    "sector_df = df['업종명'].value_counts()\n",
    "sector_df"
   ]
  },
  {
   "cell_type": "code",
   "execution_count": 76,
   "metadata": {},
   "outputs": [
    {
     "data": {
      "text/plain": [
       "<Figure size 1152x720 with 0 Axes>"
      ]
     },
     "execution_count": 76,
     "metadata": {},
     "output_type": "execute_result"
    },
    {
     "data": {
      "text/plain": [
       "<matplotlib.axes._subplots.AxesSubplot at 0x1a3a7694588>"
      ]
     },
     "execution_count": 76,
     "metadata": {},
     "output_type": "execute_result"
    },
    {
     "data": {
      "text/plain": [
       "Text(0.5, 1.0, '업종별 분포')"
      ]
     },
     "execution_count": 76,
     "metadata": {},
     "output_type": "execute_result"
    },
    {
     "data": {
      "image/png": "[encoded data removed]",
      "text/plain": [
       "<Figure size 1152x720 with 1 Axes>"
      ]
     },
     "metadata": {
      "needs_background": "light"
     },
     "output_type": "display_data"
    }
   ],
   "source": [
    "plt.figure(figsize=(16, 10))\n",
    "sns.barplot(x=sector_df.index, y=sector_df.values, palette='Set1')\n",
    "plt.title('업종별 분포', fontsize=18)\n",
    "plt.show()"
   ]
  },
  {
   "cell_type": "markdown",
   "metadata": {},
   "source": [
    "### 3-5. 연령대별 분포\n",
    "\n",
    "\n",
    "\n",
    "#### 30,40대가 가장 많음"
   ]
  },
  {
   "cell_type": "code",
   "execution_count": 25,
   "metadata": {},
   "outputs": [
    {
     "data": {
      "text/plain": [
       "30대    3565\n",
       "40대    3428\n",
       "20대    3137\n",
       "50대    3016\n",
       "Name: 연령대별, dtype: int64"
      ]
     },
     "execution_count": 25,
     "metadata": {},
     "output_type": "execute_result"
    }
   ],
   "source": [
    "age_df = df['연령대별'].value_counts()\n",
    "age_df"
   ]
  },
  {
   "cell_type": "code",
   "execution_count": 75,
   "metadata": {},
   "outputs": [
    {
     "data": {
      "text/plain": [
       "<Figure size 720x432 with 0 Axes>"
      ]
     },
     "execution_count": 75,
     "metadata": {},
     "output_type": "execute_result"
    },
    {
     "data": {
      "text/plain": [
       "<matplotlib.axes._subplots.AxesSubplot at 0x1a3a73bb080>"
      ]
     },
     "execution_count": 75,
     "metadata": {},
     "output_type": "execute_result"
    },
    {
     "data": {
      "text/plain": [
       "Text(0.5, 1.0, '연령대별 분포')"
      ]
     },
     "execution_count": 75,
     "metadata": {},
     "output_type": "execute_result"
    },
    {
     "data": {
      "image/png": "[encoded data removed]",
      "text/plain": [
       "<Figure size 720x432 with 1 Axes>"
      ]
     },
     "metadata": {
      "needs_background": "light"
     },
     "output_type": "display_data"
    }
   ],
   "source": [
    "plt.figure(figsize=(10, 6))\n",
    "sns.barplot(x=age_df.index, y=age_df.values, palette='Set1')\n",
    "plt.title('연령대별 분포', fontsize=18)\n",
    "plt.show()"
   ]
  },
  {
   "cell_type": "markdown",
   "metadata": {},
   "source": [
    "#### 기본 EDA 완료"
   ]
  },
  {
   "cell_type": "markdown",
   "metadata": {},
   "source": [
    "---"
   ]
  },
  {
   "cell_type": "markdown",
   "metadata": {},
   "source": [
    "#### 년도별 카드이용금액, 이용건수, 건당이용금액 "
   ]
  },
  {
   "cell_type": "code",
   "execution_count": 30,
   "metadata": {},
   "outputs": [
    {
     "data": {
      "text/html": [
       "<div>\n",
       "<style scoped>\n",
       "    .dataframe tbody tr th:only-of-type {\n",
       "        vertical-align: middle;\n",
       "    }\n",
       "\n",
       "    .dataframe tbody tr th {\n",
       "        vertical-align: top;\n",
       "    }\n",
       "\n",
       "    .dataframe thead th {\n",
       "        text-align: right;\n",
       "    }\n",
       "</style>\n",
       "<table border=\"1\" class=\"dataframe\">\n",
       "  <thead>\n",
       "    <tr style=\"text-align: right;\">\n",
       "      <th></th>\n",
       "      <th>년도</th>\n",
       "      <th>카드이용금액</th>\n",
       "      <th>카드이용건수</th>\n",
       "      <th>건당이용금액</th>\n",
       "    </tr>\n",
       "  </thead>\n",
       "  <tbody>\n",
       "    <tr>\n",
       "      <th>0</th>\n",
       "      <td>2014</td>\n",
       "      <td>6618480931</td>\n",
       "      <td>225092</td>\n",
       "      <td>72963884</td>\n",
       "    </tr>\n",
       "    <tr>\n",
       "      <th>1</th>\n",
       "      <td>2015</td>\n",
       "      <td>23783496181</td>\n",
       "      <td>859722</td>\n",
       "      <td>226093659</td>\n",
       "    </tr>\n",
       "    <tr>\n",
       "      <th>2</th>\n",
       "      <td>2016</td>\n",
       "      <td>18201204162</td>\n",
       "      <td>667654</td>\n",
       "      <td>163205920</td>\n",
       "    </tr>\n",
       "  </tbody>\n",
       "</table>\n",
       "</div>"
      ],
      "text/plain": [
       "     년도      카드이용금액    카드이용건수      건당이용금액\n",
       "0  2014   6618480931    225092   72963884\n",
       "1  2015  23783496181    859722  226093659\n",
       "2  2016  18201204162    667654  163205920"
      ]
     },
     "execution_count": 30,
     "metadata": {},
     "output_type": "execute_result"
    }
   ],
   "source": [
    "consum_df = df.groupby('년도').sum().reset_index()\n",
    "consum_df"
   ]
  },
  {
   "cell_type": "markdown",
   "metadata": {},
   "source": [
    "#### 년도, 월별 방문객 수 \n",
    "\n",
    "- 2014년부터 2016년까지 증가 추세를 보이는 것을 알 수 있음\n",
    "- 2015, 2016년 기준 8월달 방문객이 가장 많음"
   ]
  },
  {
   "cell_type": "code",
   "execution_count": 35,
   "metadata": {},
   "outputs": [
    {
     "data": {
      "text/html": [
       "<div>\n",
       "<style scoped>\n",
       "    .dataframe tbody tr th:only-of-type {\n",
       "        vertical-align: middle;\n",
       "    }\n",
       "\n",
       "    .dataframe tbody tr th {\n",
       "        vertical-align: top;\n",
       "    }\n",
       "\n",
       "    .dataframe thead th {\n",
       "        text-align: right;\n",
       "    }\n",
       "</style>\n",
       "<table border=\"1\" class=\"dataframe\">\n",
       "  <thead>\n",
       "    <tr style=\"text-align: right;\">\n",
       "      <th></th>\n",
       "      <th>년도</th>\n",
       "      <th>월</th>\n",
       "      <th>기준년월</th>\n",
       "    </tr>\n",
       "  </thead>\n",
       "  <tbody>\n",
       "    <tr>\n",
       "      <th>0</th>\n",
       "      <td>2014</td>\n",
       "      <td>09</td>\n",
       "      <td>511</td>\n",
       "    </tr>\n",
       "    <tr>\n",
       "      <th>1</th>\n",
       "      <td>2014</td>\n",
       "      <td>10</td>\n",
       "      <td>529</td>\n",
       "    </tr>\n",
       "    <tr>\n",
       "      <th>2</th>\n",
       "      <td>2014</td>\n",
       "      <td>11</td>\n",
       "      <td>505</td>\n",
       "    </tr>\n",
       "    <tr>\n",
       "      <th>3</th>\n",
       "      <td>2014</td>\n",
       "      <td>12</td>\n",
       "      <td>490</td>\n",
       "    </tr>\n",
       "    <tr>\n",
       "      <th>4</th>\n",
       "      <td>2015</td>\n",
       "      <td>01</td>\n",
       "      <td>507</td>\n",
       "    </tr>\n",
       "    <tr>\n",
       "      <th>5</th>\n",
       "      <td>2015</td>\n",
       "      <td>02</td>\n",
       "      <td>498</td>\n",
       "    </tr>\n",
       "    <tr>\n",
       "      <th>6</th>\n",
       "      <td>2015</td>\n",
       "      <td>03</td>\n",
       "      <td>525</td>\n",
       "    </tr>\n",
       "    <tr>\n",
       "      <th>7</th>\n",
       "      <td>2015</td>\n",
       "      <td>04</td>\n",
       "      <td>531</td>\n",
       "    </tr>\n",
       "    <tr>\n",
       "      <th>8</th>\n",
       "      <td>2015</td>\n",
       "      <td>05</td>\n",
       "      <td>550</td>\n",
       "    </tr>\n",
       "    <tr>\n",
       "      <th>9</th>\n",
       "      <td>2015</td>\n",
       "      <td>06</td>\n",
       "      <td>550</td>\n",
       "    </tr>\n",
       "    <tr>\n",
       "      <th>10</th>\n",
       "      <td>2015</td>\n",
       "      <td>07</td>\n",
       "      <td>566</td>\n",
       "    </tr>\n",
       "    <tr>\n",
       "      <th>11</th>\n",
       "      <td>2015</td>\n",
       "      <td>08</td>\n",
       "      <td>587</td>\n",
       "    </tr>\n",
       "    <tr>\n",
       "      <th>12</th>\n",
       "      <td>2015</td>\n",
       "      <td>09</td>\n",
       "      <td>557</td>\n",
       "    </tr>\n",
       "    <tr>\n",
       "      <th>13</th>\n",
       "      <td>2015</td>\n",
       "      <td>10</td>\n",
       "      <td>553</td>\n",
       "    </tr>\n",
       "    <tr>\n",
       "      <th>14</th>\n",
       "      <td>2015</td>\n",
       "      <td>11</td>\n",
       "      <td>537</td>\n",
       "    </tr>\n",
       "    <tr>\n",
       "      <th>15</th>\n",
       "      <td>2015</td>\n",
       "      <td>12</td>\n",
       "      <td>534</td>\n",
       "    </tr>\n",
       "    <tr>\n",
       "      <th>16</th>\n",
       "      <td>2016</td>\n",
       "      <td>01</td>\n",
       "      <td>542</td>\n",
       "    </tr>\n",
       "    <tr>\n",
       "      <th>17</th>\n",
       "      <td>2016</td>\n",
       "      <td>02</td>\n",
       "      <td>534</td>\n",
       "    </tr>\n",
       "    <tr>\n",
       "      <th>18</th>\n",
       "      <td>2016</td>\n",
       "      <td>03</td>\n",
       "      <td>576</td>\n",
       "    </tr>\n",
       "    <tr>\n",
       "      <th>19</th>\n",
       "      <td>2016</td>\n",
       "      <td>04</td>\n",
       "      <td>586</td>\n",
       "    </tr>\n",
       "    <tr>\n",
       "      <th>20</th>\n",
       "      <td>2016</td>\n",
       "      <td>05</td>\n",
       "      <td>596</td>\n",
       "    </tr>\n",
       "    <tr>\n",
       "      <th>21</th>\n",
       "      <td>2016</td>\n",
       "      <td>06</td>\n",
       "      <td>581</td>\n",
       "    </tr>\n",
       "    <tr>\n",
       "      <th>22</th>\n",
       "      <td>2016</td>\n",
       "      <td>07</td>\n",
       "      <td>591</td>\n",
       "    </tr>\n",
       "    <tr>\n",
       "      <th>23</th>\n",
       "      <td>2016</td>\n",
       "      <td>08</td>\n",
       "      <td>610</td>\n",
       "    </tr>\n",
       "  </tbody>\n",
       "</table>\n",
       "</div>"
      ],
      "text/plain": [
       "      년도   월  기준년월\n",
       "0   2014  09   511\n",
       "1   2014  10   529\n",
       "2   2014  11   505\n",
       "3   2014  12   490\n",
       "4   2015  01   507\n",
       "5   2015  02   498\n",
       "6   2015  03   525\n",
       "7   2015  04   531\n",
       "8   2015  05   550\n",
       "9   2015  06   550\n",
       "10  2015  07   566\n",
       "11  2015  08   587\n",
       "12  2015  09   557\n",
       "13  2015  10   553\n",
       "14  2015  11   537\n",
       "15  2015  12   534\n",
       "16  2016  01   542\n",
       "17  2016  02   534\n",
       "18  2016  03   576\n",
       "19  2016  04   586\n",
       "20  2016  05   596\n",
       "21  2016  06   581\n",
       "22  2016  07   591\n",
       "23  2016  08   610"
      ]
     },
     "execution_count": 35,
     "metadata": {},
     "output_type": "execute_result"
    }
   ],
   "source": [
    "year_df = df.groupby(['년도', '월'])['기준년월'].count().reset_index()\n",
    "year_df"
   ]
  },
  {
   "cell_type": "code",
   "execution_count": 74,
   "metadata": {},
   "outputs": [
    {
     "data": {
      "text/plain": [
       "<Figure size 1152x720 with 0 Axes>"
      ]
     },
     "execution_count": 74,
     "metadata": {},
     "output_type": "execute_result"
    },
    {
     "data": {
      "text/plain": [
       "<matplotlib.axes._subplots.AxesSubplot at 0x1a3a6b107f0>"
      ]
     },
     "execution_count": 74,
     "metadata": {},
     "output_type": "execute_result"
    },
    {
     "data": {
      "text/plain": [
       "Text(0.5, 1.0, '월별 방문객 수')"
      ]
     },
     "execution_count": 74,
     "metadata": {},
     "output_type": "execute_result"
    },
    {
     "data": {
      "image/png": "[encoded data removed]",
      "text/plain": [
       "<Figure size 1152x720 with 1 Axes>"
      ]
     },
     "metadata": {
      "needs_background": "light"
     },
     "output_type": "display_data"
    }
   ],
   "source": [
    "plt.figure(figsize=(16, 10))\n",
    "sns.barplot(x='월', y='기준년월', data=year_df, palette='Set1', hue='년도')\n",
    "plt.title('월별 방문객 수', fontsize=18)\n",
    "plt.show()"
   ]
  },
  {
   "cell_type": "markdown",
   "metadata": {},
   "source": [
    "#### 년도, 월별 카드이용금액 \n",
    "\n",
    "- 방문객이 많은 8월에 가장 많은 이용금액을 보임\n",
    "- 방문객 수의 선 그래프와 거의 일치한 흐름을 보임"
   ]
  },
  {
   "cell_type": "code",
   "execution_count": 43,
   "metadata": {},
   "outputs": [
    {
     "data": {
      "text/html": [
       "<div>\n",
       "<style scoped>\n",
       "    .dataframe tbody tr th:only-of-type {\n",
       "        vertical-align: middle;\n",
       "    }\n",
       "\n",
       "    .dataframe tbody tr th {\n",
       "        vertical-align: top;\n",
       "    }\n",
       "\n",
       "    .dataframe thead th {\n",
       "        text-align: right;\n",
       "    }\n",
       "</style>\n",
       "<table border=\"1\" class=\"dataframe\">\n",
       "  <thead>\n",
       "    <tr style=\"text-align: right;\">\n",
       "      <th></th>\n",
       "      <th>년도</th>\n",
       "      <th>월</th>\n",
       "      <th>카드이용금액</th>\n",
       "    </tr>\n",
       "  </thead>\n",
       "  <tbody>\n",
       "    <tr>\n",
       "      <th>0</th>\n",
       "      <td>2014</td>\n",
       "      <td>09</td>\n",
       "      <td>1630695896</td>\n",
       "    </tr>\n",
       "    <tr>\n",
       "      <th>1</th>\n",
       "      <td>2014</td>\n",
       "      <td>10</td>\n",
       "      <td>1913689868</td>\n",
       "    </tr>\n",
       "    <tr>\n",
       "      <th>2</th>\n",
       "      <td>2014</td>\n",
       "      <td>11</td>\n",
       "      <td>1682845294</td>\n",
       "    </tr>\n",
       "    <tr>\n",
       "      <th>3</th>\n",
       "      <td>2014</td>\n",
       "      <td>12</td>\n",
       "      <td>1391249873</td>\n",
       "    </tr>\n",
       "    <tr>\n",
       "      <th>4</th>\n",
       "      <td>2015</td>\n",
       "      <td>01</td>\n",
       "      <td>1637184256</td>\n",
       "    </tr>\n",
       "    <tr>\n",
       "      <th>5</th>\n",
       "      <td>2015</td>\n",
       "      <td>02</td>\n",
       "      <td>1441083309</td>\n",
       "    </tr>\n",
       "    <tr>\n",
       "      <th>6</th>\n",
       "      <td>2015</td>\n",
       "      <td>03</td>\n",
       "      <td>1749752195</td>\n",
       "    </tr>\n",
       "    <tr>\n",
       "      <th>7</th>\n",
       "      <td>2015</td>\n",
       "      <td>04</td>\n",
       "      <td>2070007618</td>\n",
       "    </tr>\n",
       "    <tr>\n",
       "      <th>8</th>\n",
       "      <td>2015</td>\n",
       "      <td>05</td>\n",
       "      <td>2185021183</td>\n",
       "    </tr>\n",
       "    <tr>\n",
       "      <th>9</th>\n",
       "      <td>2015</td>\n",
       "      <td>06</td>\n",
       "      <td>1848564121</td>\n",
       "    </tr>\n",
       "    <tr>\n",
       "      <th>10</th>\n",
       "      <td>2015</td>\n",
       "      <td>07</td>\n",
       "      <td>2016538624</td>\n",
       "    </tr>\n",
       "    <tr>\n",
       "      <th>11</th>\n",
       "      <td>2015</td>\n",
       "      <td>08</td>\n",
       "      <td>2521651684</td>\n",
       "    </tr>\n",
       "    <tr>\n",
       "      <th>12</th>\n",
       "      <td>2015</td>\n",
       "      <td>09</td>\n",
       "      <td>2129318158</td>\n",
       "    </tr>\n",
       "    <tr>\n",
       "      <th>13</th>\n",
       "      <td>2015</td>\n",
       "      <td>10</td>\n",
       "      <td>2270966111</td>\n",
       "    </tr>\n",
       "    <tr>\n",
       "      <th>14</th>\n",
       "      <td>2015</td>\n",
       "      <td>11</td>\n",
       "      <td>2107269740</td>\n",
       "    </tr>\n",
       "    <tr>\n",
       "      <th>15</th>\n",
       "      <td>2015</td>\n",
       "      <td>12</td>\n",
       "      <td>1806139182</td>\n",
       "    </tr>\n",
       "    <tr>\n",
       "      <th>16</th>\n",
       "      <td>2016</td>\n",
       "      <td>01</td>\n",
       "      <td>1986896278</td>\n",
       "    </tr>\n",
       "    <tr>\n",
       "      <th>17</th>\n",
       "      <td>2016</td>\n",
       "      <td>02</td>\n",
       "      <td>1790059222</td>\n",
       "    </tr>\n",
       "    <tr>\n",
       "      <th>18</th>\n",
       "      <td>2016</td>\n",
       "      <td>03</td>\n",
       "      <td>2093094371</td>\n",
       "    </tr>\n",
       "    <tr>\n",
       "      <th>19</th>\n",
       "      <td>2016</td>\n",
       "      <td>04</td>\n",
       "      <td>2365487970</td>\n",
       "    </tr>\n",
       "    <tr>\n",
       "      <th>20</th>\n",
       "      <td>2016</td>\n",
       "      <td>05</td>\n",
       "      <td>2425494343</td>\n",
       "    </tr>\n",
       "    <tr>\n",
       "      <th>21</th>\n",
       "      <td>2016</td>\n",
       "      <td>06</td>\n",
       "      <td>2356634993</td>\n",
       "    </tr>\n",
       "    <tr>\n",
       "      <th>22</th>\n",
       "      <td>2016</td>\n",
       "      <td>07</td>\n",
       "      <td>2425340575</td>\n",
       "    </tr>\n",
       "    <tr>\n",
       "      <th>23</th>\n",
       "      <td>2016</td>\n",
       "      <td>08</td>\n",
       "      <td>2758196410</td>\n",
       "    </tr>\n",
       "  </tbody>\n",
       "</table>\n",
       "</div>"
      ],
      "text/plain": [
       "      년도   월     카드이용금액 \n",
       "0   2014  09  1630695896\n",
       "1   2014  10  1913689868\n",
       "2   2014  11  1682845294\n",
       "3   2014  12  1391249873\n",
       "4   2015  01  1637184256\n",
       "5   2015  02  1441083309\n",
       "6   2015  03  1749752195\n",
       "7   2015  04  2070007618\n",
       "8   2015  05  2185021183\n",
       "9   2015  06  1848564121\n",
       "10  2015  07  2016538624\n",
       "11  2015  08  2521651684\n",
       "12  2015  09  2129318158\n",
       "13  2015  10  2270966111\n",
       "14  2015  11  2107269740\n",
       "15  2015  12  1806139182\n",
       "16  2016  01  1986896278\n",
       "17  2016  02  1790059222\n",
       "18  2016  03  2093094371\n",
       "19  2016  04  2365487970\n",
       "20  2016  05  2425494343\n",
       "21  2016  06  2356634993\n",
       "22  2016  07  2425340575\n",
       "23  2016  08  2758196410"
      ]
     },
     "execution_count": 43,
     "metadata": {},
     "output_type": "execute_result"
    }
   ],
   "source": [
    "money_df = df.groupby(['년도', '월'])[' 카드이용금액 '].sum().reset_index()\n",
    "money_df"
   ]
  },
  {
   "cell_type": "code",
   "execution_count": 71,
   "metadata": {},
   "outputs": [
    {
     "data": {
      "text/plain": [
       "<Figure size 1152x720 with 0 Axes>"
      ]
     },
     "execution_count": 71,
     "metadata": {},
     "output_type": "execute_result"
    },
    {
     "data": {
      "text/plain": [
       "<matplotlib.axes._subplots.AxesSubplot at 0x1a3a0d42208>"
      ]
     },
     "execution_count": 71,
     "metadata": {},
     "output_type": "execute_result"
    },
    {
     "data": {
      "text/plain": [
       "Text(0.5, 1.0, '월별 카드이용금액')"
      ]
     },
     "execution_count": 71,
     "metadata": {},
     "output_type": "execute_result"
    },
    {
     "data": {
      "image/png": "[encoded data removed]",
      "text/plain": [
       "<Figure size 1152x720 with 1 Axes>"
      ]
     },
     "metadata": {
      "needs_background": "light"
     },
     "output_type": "display_data"
    }
   ],
   "source": [
    "plt.figure(figsize=(16, 10))\n",
    "sns.barplot(x='월', y=' 카드이용금액 ', data=money_df, palette='Set2', hue='년도')\n",
    "plt.title('월별 카드이용금액', fontsize=18)\n",
    "plt.show()"
   ]
  },
  {
   "cell_type": "markdown",
   "metadata": {},
   "source": [
    "#### 년도, 월별 카드이용건수\n",
    "- 앞서 본 그래프들과 흐름이 비슷함을 알 수 있음"
   ]
  },
  {
   "cell_type": "code",
   "execution_count": 50,
   "metadata": {},
   "outputs": [
    {
     "data": {
      "text/html": [
       "<div>\n",
       "<style scoped>\n",
       "    .dataframe tbody tr th:only-of-type {\n",
       "        vertical-align: middle;\n",
       "    }\n",
       "\n",
       "    .dataframe tbody tr th {\n",
       "        vertical-align: top;\n",
       "    }\n",
       "\n",
       "    .dataframe thead th {\n",
       "        text-align: right;\n",
       "    }\n",
       "</style>\n",
       "<table border=\"1\" class=\"dataframe\">\n",
       "  <thead>\n",
       "    <tr style=\"text-align: right;\">\n",
       "      <th></th>\n",
       "      <th>년도</th>\n",
       "      <th>월</th>\n",
       "      <th>카드이용건수</th>\n",
       "    </tr>\n",
       "  </thead>\n",
       "  <tbody>\n",
       "    <tr>\n",
       "      <th>0</th>\n",
       "      <td>2014</td>\n",
       "      <td>09</td>\n",
       "      <td>58665</td>\n",
       "    </tr>\n",
       "    <tr>\n",
       "      <th>1</th>\n",
       "      <td>2014</td>\n",
       "      <td>10</td>\n",
       "      <td>62701</td>\n",
       "    </tr>\n",
       "    <tr>\n",
       "      <th>2</th>\n",
       "      <td>2014</td>\n",
       "      <td>11</td>\n",
       "      <td>54270</td>\n",
       "    </tr>\n",
       "    <tr>\n",
       "      <th>3</th>\n",
       "      <td>2014</td>\n",
       "      <td>12</td>\n",
       "      <td>49456</td>\n",
       "    </tr>\n",
       "    <tr>\n",
       "      <th>4</th>\n",
       "      <td>2015</td>\n",
       "      <td>01</td>\n",
       "      <td>58657</td>\n",
       "    </tr>\n",
       "    <tr>\n",
       "      <th>5</th>\n",
       "      <td>2015</td>\n",
       "      <td>02</td>\n",
       "      <td>54043</td>\n",
       "    </tr>\n",
       "    <tr>\n",
       "      <th>6</th>\n",
       "      <td>2015</td>\n",
       "      <td>03</td>\n",
       "      <td>59575</td>\n",
       "    </tr>\n",
       "    <tr>\n",
       "      <th>7</th>\n",
       "      <td>2015</td>\n",
       "      <td>04</td>\n",
       "      <td>67189</td>\n",
       "    </tr>\n",
       "    <tr>\n",
       "      <th>8</th>\n",
       "      <td>2015</td>\n",
       "      <td>05</td>\n",
       "      <td>75573</td>\n",
       "    </tr>\n",
       "    <tr>\n",
       "      <th>9</th>\n",
       "      <td>2015</td>\n",
       "      <td>06</td>\n",
       "      <td>71705</td>\n",
       "    </tr>\n",
       "    <tr>\n",
       "      <th>10</th>\n",
       "      <td>2015</td>\n",
       "      <td>07</td>\n",
       "      <td>84836</td>\n",
       "    </tr>\n",
       "    <tr>\n",
       "      <th>11</th>\n",
       "      <td>2015</td>\n",
       "      <td>08</td>\n",
       "      <td>100236</td>\n",
       "    </tr>\n",
       "    <tr>\n",
       "      <th>12</th>\n",
       "      <td>2015</td>\n",
       "      <td>09</td>\n",
       "      <td>77107</td>\n",
       "    </tr>\n",
       "    <tr>\n",
       "      <th>13</th>\n",
       "      <td>2015</td>\n",
       "      <td>10</td>\n",
       "      <td>76829</td>\n",
       "    </tr>\n",
       "    <tr>\n",
       "      <th>14</th>\n",
       "      <td>2015</td>\n",
       "      <td>11</td>\n",
       "      <td>68847</td>\n",
       "    </tr>\n",
       "    <tr>\n",
       "      <th>15</th>\n",
       "      <td>2015</td>\n",
       "      <td>12</td>\n",
       "      <td>65125</td>\n",
       "    </tr>\n",
       "    <tr>\n",
       "      <th>16</th>\n",
       "      <td>2016</td>\n",
       "      <td>01</td>\n",
       "      <td>70758</td>\n",
       "    </tr>\n",
       "    <tr>\n",
       "      <th>17</th>\n",
       "      <td>2016</td>\n",
       "      <td>02</td>\n",
       "      <td>66343</td>\n",
       "    </tr>\n",
       "    <tr>\n",
       "      <th>18</th>\n",
       "      <td>2016</td>\n",
       "      <td>03</td>\n",
       "      <td>71554</td>\n",
       "    </tr>\n",
       "    <tr>\n",
       "      <th>19</th>\n",
       "      <td>2016</td>\n",
       "      <td>04</td>\n",
       "      <td>79848</td>\n",
       "    </tr>\n",
       "    <tr>\n",
       "      <th>20</th>\n",
       "      <td>2016</td>\n",
       "      <td>05</td>\n",
       "      <td>85292</td>\n",
       "    </tr>\n",
       "    <tr>\n",
       "      <th>21</th>\n",
       "      <td>2016</td>\n",
       "      <td>06</td>\n",
       "      <td>86010</td>\n",
       "    </tr>\n",
       "    <tr>\n",
       "      <th>22</th>\n",
       "      <td>2016</td>\n",
       "      <td>07</td>\n",
       "      <td>98240</td>\n",
       "    </tr>\n",
       "    <tr>\n",
       "      <th>23</th>\n",
       "      <td>2016</td>\n",
       "      <td>08</td>\n",
       "      <td>109609</td>\n",
       "    </tr>\n",
       "  </tbody>\n",
       "</table>\n",
       "</div>"
      ],
      "text/plain": [
       "      년도   월   카드이용건수 \n",
       "0   2014  09     58665\n",
       "1   2014  10     62701\n",
       "2   2014  11     54270\n",
       "3   2014  12     49456\n",
       "4   2015  01     58657\n",
       "5   2015  02     54043\n",
       "6   2015  03     59575\n",
       "7   2015  04     67189\n",
       "8   2015  05     75573\n",
       "9   2015  06     71705\n",
       "10  2015  07     84836\n",
       "11  2015  08    100236\n",
       "12  2015  09     77107\n",
       "13  2015  10     76829\n",
       "14  2015  11     68847\n",
       "15  2015  12     65125\n",
       "16  2016  01     70758\n",
       "17  2016  02     66343\n",
       "18  2016  03     71554\n",
       "19  2016  04     79848\n",
       "20  2016  05     85292\n",
       "21  2016  06     86010\n",
       "22  2016  07     98240\n",
       "23  2016  08    109609"
      ]
     },
     "execution_count": 50,
     "metadata": {},
     "output_type": "execute_result"
    }
   ],
   "source": [
    "money_cnt_df = df.groupby(['년도', '월'])[' 카드이용건수 '].sum().reset_index()\n",
    "money_cnt_df"
   ]
  },
  {
   "cell_type": "code",
   "execution_count": 72,
   "metadata": {},
   "outputs": [
    {
     "data": {
      "text/plain": [
       "<Figure size 1152x720 with 0 Axes>"
      ]
     },
     "execution_count": 72,
     "metadata": {},
     "output_type": "execute_result"
    },
    {
     "data": {
      "text/plain": [
       "<matplotlib.axes._subplots.AxesSubplot at 0x1a3a6386d68>"
      ]
     },
     "execution_count": 72,
     "metadata": {},
     "output_type": "execute_result"
    },
    {
     "data": {
      "text/plain": [
       "Text(0.5, 1.0, '월별 카드이용건수')"
      ]
     },
     "execution_count": 72,
     "metadata": {},
     "output_type": "execute_result"
    },
    {
     "data": {
      "image/png": "[encoded data removed]",
      "text/plain": [
       "<Figure size 1152x720 with 1 Axes>"
      ]
     },
     "metadata": {
      "needs_background": "light"
     },
     "output_type": "display_data"
    }
   ],
   "source": [
    "plt.figure(figsize=(16, 10))\n",
    "sns.barplot(x='월', y=' 카드이용건수 ', data=money_cnt_df, palette='Set3', hue='년도')\n",
    "plt.title('월별 카드이용건수', fontsize=18)\n",
    "plt.show()"
   ]
  },
  {
   "cell_type": "markdown",
   "metadata": {},
   "source": [
    "#### 연령대별 카드이용금액\n",
    "- 30,40대가 가장 많음"
   ]
  },
  {
   "cell_type": "code",
   "execution_count": 63,
   "metadata": {},
   "outputs": [
    {
     "data": {
      "text/html": [
       "<div>\n",
       "<style scoped>\n",
       "    .dataframe tbody tr th:only-of-type {\n",
       "        vertical-align: middle;\n",
       "    }\n",
       "\n",
       "    .dataframe tbody tr th {\n",
       "        vertical-align: top;\n",
       "    }\n",
       "\n",
       "    .dataframe thead th {\n",
       "        text-align: right;\n",
       "    }\n",
       "</style>\n",
       "<table border=\"1\" class=\"dataframe\">\n",
       "  <thead>\n",
       "    <tr style=\"text-align: right;\">\n",
       "      <th></th>\n",
       "      <th>연령대별</th>\n",
       "      <th>카드이용금액</th>\n",
       "    </tr>\n",
       "  </thead>\n",
       "  <tbody>\n",
       "    <tr>\n",
       "      <th>0</th>\n",
       "      <td>20대</td>\n",
       "      <td>7,399,961,053</td>\n",
       "    </tr>\n",
       "    <tr>\n",
       "      <th>1</th>\n",
       "      <td>30대</td>\n",
       "      <td>14,856,286,866</td>\n",
       "    </tr>\n",
       "    <tr>\n",
       "      <th>2</th>\n",
       "      <td>40대</td>\n",
       "      <td>14,370,117,286</td>\n",
       "    </tr>\n",
       "    <tr>\n",
       "      <th>3</th>\n",
       "      <td>50대</td>\n",
       "      <td>11,976,816,069</td>\n",
       "    </tr>\n",
       "  </tbody>\n",
       "</table>\n",
       "</div>"
      ],
      "text/plain": [
       "  연령대별         카드이용금액 \n",
       "0  20대   7,399,961,053\n",
       "1  30대  14,856,286,866\n",
       "2  40대  14,370,117,286\n",
       "3  50대  11,976,816,069"
      ]
     },
     "execution_count": 63,
     "metadata": {},
     "output_type": "execute_result"
    }
   ],
   "source": [
    "result = df.groupby('연령대별')[' 카드이용금액 '].sum().reset_index()\n",
    "result[' 카드이용금액 '] = result[' 카드이용금액 '].apply(lambda x: '{:,.0f}'.format(x))\n",
    "result"
   ]
  },
  {
   "cell_type": "code",
   "execution_count": 65,
   "metadata": {},
   "outputs": [],
   "source": [
    "money_by_year = df.groupby('연령대별')[' 카드이용금액 '].sum().reset_index()"
   ]
  },
  {
   "cell_type": "code",
   "execution_count": 73,
   "metadata": {},
   "outputs": [
    {
     "data": {
      "text/plain": [
       "<Figure size 720x432 with 0 Axes>"
      ]
     },
     "execution_count": 73,
     "metadata": {},
     "output_type": "execute_result"
    },
    {
     "data": {
      "text/plain": [
       "<matplotlib.axes._subplots.AxesSubplot at 0x1a3a69f0ac8>"
      ]
     },
     "execution_count": 73,
     "metadata": {},
     "output_type": "execute_result"
    },
    {
     "data": {
      "text/plain": [
       "Text(0.5, 1.0, '연령대별 카드이용금액')"
      ]
     },
     "execution_count": 73,
     "metadata": {},
     "output_type": "execute_result"
    },
    {
     "data": {
      "image/png": "[encoded data removed]",
      "text/plain": [
       "<Figure size 720x432 with 1 Axes>"
      ]
     },
     "metadata": {
      "needs_background": "light"
     },
     "output_type": "display_data"
    }
   ],
   "source": [
    "plt.figure(figsize=(10, 6))\n",
    "sns.barplot(x='연령대별', y=' 카드이용금액 ', data=money_by_year, palette='muted')\n",
    "plt.title('연령대별 카드이용금액', fontsize=18)\n",
    "plt.show()"
   ]
  },
  {
   "cell_type": "markdown",
   "metadata": {},
   "source": [
    "#### 연령대&성별 카드이용금액\n",
    "- 소비가 많았던 30,40대에 집중해서 보면\n",
    "- 30대는 성별간 큰 차이가 없고 40대는 남자의 소비금액이 여자 소비금액보다 약 21억정도 차이가 나는 것을 알 수 있음 "
   ]
  },
  {
   "cell_type": "code",
   "execution_count": 80,
   "metadata": {},
   "outputs": [
    {
     "data": {
      "text/html": [
       "<div>\n",
       "<style scoped>\n",
       "    .dataframe tbody tr th:only-of-type {\n",
       "        vertical-align: middle;\n",
       "    }\n",
       "\n",
       "    .dataframe tbody tr th {\n",
       "        vertical-align: top;\n",
       "    }\n",
       "\n",
       "    .dataframe thead th {\n",
       "        text-align: right;\n",
       "    }\n",
       "</style>\n",
       "<table border=\"1\" class=\"dataframe\">\n",
       "  <thead>\n",
       "    <tr style=\"text-align: right;\">\n",
       "      <th></th>\n",
       "      <th>연령대별</th>\n",
       "      <th>성별</th>\n",
       "      <th>카드이용금액</th>\n",
       "    </tr>\n",
       "  </thead>\n",
       "  <tbody>\n",
       "    <tr>\n",
       "      <th>0</th>\n",
       "      <td>20대</td>\n",
       "      <td>남</td>\n",
       "      <td>2,934,577,701</td>\n",
       "    </tr>\n",
       "    <tr>\n",
       "      <th>1</th>\n",
       "      <td>20대</td>\n",
       "      <td>여</td>\n",
       "      <td>4,465,383,352</td>\n",
       "    </tr>\n",
       "    <tr>\n",
       "      <th>2</th>\n",
       "      <td>30대</td>\n",
       "      <td>남</td>\n",
       "      <td>7,662,140,790</td>\n",
       "    </tr>\n",
       "    <tr>\n",
       "      <th>3</th>\n",
       "      <td>30대</td>\n",
       "      <td>여</td>\n",
       "      <td>7,194,146,076</td>\n",
       "    </tr>\n",
       "    <tr>\n",
       "      <th>4</th>\n",
       "      <td>40대</td>\n",
       "      <td>남</td>\n",
       "      <td>8,216,762,169</td>\n",
       "    </tr>\n",
       "    <tr>\n",
       "      <th>5</th>\n",
       "      <td>40대</td>\n",
       "      <td>여</td>\n",
       "      <td>6,153,355,117</td>\n",
       "    </tr>\n",
       "    <tr>\n",
       "      <th>6</th>\n",
       "      <td>50대</td>\n",
       "      <td>남</td>\n",
       "      <td>6,901,429,531</td>\n",
       "    </tr>\n",
       "    <tr>\n",
       "      <th>7</th>\n",
       "      <td>50대</td>\n",
       "      <td>여</td>\n",
       "      <td>5,075,386,538</td>\n",
       "    </tr>\n",
       "  </tbody>\n",
       "</table>\n",
       "</div>"
      ],
      "text/plain": [
       "  연령대별 성별        카드이용금액 \n",
       "0  20대  남  2,934,577,701\n",
       "1  20대  여  4,465,383,352\n",
       "2  30대  남  7,662,140,790\n",
       "3  30대  여  7,194,146,076\n",
       "4  40대  남  8,216,762,169\n",
       "5  40대  여  6,153,355,117\n",
       "6  50대  남  6,901,429,531\n",
       "7  50대  여  5,075,386,538"
      ]
     },
     "execution_count": 80,
     "metadata": {},
     "output_type": "execute_result"
    }
   ],
   "source": [
    "result = df.groupby(['연령대별','성별'])[' 카드이용금액 '].sum().reset_index()\n",
    "result[' 카드이용금액 '] = result[' 카드이용금액 '].apply(lambda x: '{:,.0f}'.format(x))\n",
    "result"
   ]
  },
  {
   "cell_type": "code",
   "execution_count": 81,
   "metadata": {},
   "outputs": [],
   "source": [
    "money_by_year_gender = df.groupby(['연령대별','성별'])[' 카드이용금액 '].sum().reset_index()"
   ]
  },
  {
   "cell_type": "code",
   "execution_count": 84,
   "metadata": {},
   "outputs": [
    {
     "data": {
      "text/plain": [
       "<Figure size 720x432 with 0 Axes>"
      ]
     },
     "execution_count": 84,
     "metadata": {},
     "output_type": "execute_result"
    },
    {
     "data": {
      "text/plain": [
       "<matplotlib.axes._subplots.AxesSubplot at 0x1a3a77aae48>"
      ]
     },
     "execution_count": 84,
     "metadata": {},
     "output_type": "execute_result"
    },
    {
     "data": {
      "text/plain": [
       "Text(0.5, 1.0, '연령대&성별 카드이용금액')"
      ]
     },
     "execution_count": 84,
     "metadata": {},
     "output_type": "execute_result"
    },
    {
     "data": {
      "image/png": "[encoded data removed]",
      "text/plain": [
       "<Figure size 720x432 with 1 Axes>"
      ]
     },
     "metadata": {
      "needs_background": "light"
     },
     "output_type": "display_data"
    }
   ],
   "source": [
    "plt.figure(figsize=(10, 6))\n",
    "sns.barplot(x='연령대별', y=' 카드이용금액 ', data=money_by_year_gender, palette='muted', hue='성별')\n",
    "plt.title('연령대&성별 카드이용금액', fontsize=18)\n",
    "plt.show()"
   ]
  },
  {
   "cell_type": "markdown",
   "metadata": {},
   "source": [
    "#### 연령대별 가장 많이 쓴 업종명"
   ]
  },
  {
   "cell_type": "code",
   "execution_count": 85,
   "metadata": {},
   "outputs": [
    {
     "data": {
      "text/html": [
       "<div>\n",
       "<style scoped>\n",
       "    .dataframe tbody tr th:only-of-type {\n",
       "        vertical-align: middle;\n",
       "    }\n",
       "\n",
       "    .dataframe tbody tr th {\n",
       "        vertical-align: top;\n",
       "    }\n",
       "\n",
       "    .dataframe thead th {\n",
       "        text-align: right;\n",
       "    }\n",
       "</style>\n",
       "<table border=\"1\" class=\"dataframe\">\n",
       "  <thead>\n",
       "    <tr style=\"text-align: right;\">\n",
       "      <th></th>\n",
       "      <th>연령대별</th>\n",
       "      <th>업종명</th>\n",
       "      <th>카드이용금액</th>\n",
       "    </tr>\n",
       "  </thead>\n",
       "  <tbody>\n",
       "    <tr>\n",
       "      <th>0</th>\n",
       "      <td>20대</td>\n",
       "      <td>귀 금 속</td>\n",
       "      <td>1,193,100</td>\n",
       "    </tr>\n",
       "    <tr>\n",
       "      <th>1</th>\n",
       "      <td>20대</td>\n",
       "      <td>기념품 점</td>\n",
       "      <td>1,491,000,000</td>\n",
       "    </tr>\n",
       "    <tr>\n",
       "      <th>2</th>\n",
       "      <td>20대</td>\n",
       "      <td>기타음료식품</td>\n",
       "      <td>224,812,970</td>\n",
       "    </tr>\n",
       "    <tr>\n",
       "      <th>3</th>\n",
       "      <td>20대</td>\n",
       "      <td>농축수산품</td>\n",
       "      <td>1,092,047,075</td>\n",
       "    </tr>\n",
       "    <tr>\n",
       "      <th>4</th>\n",
       "      <td>20대</td>\n",
       "      <td>슈퍼 마켓</td>\n",
       "      <td>1,346,774,846</td>\n",
       "    </tr>\n",
       "    <tr>\n",
       "      <th>5</th>\n",
       "      <td>20대</td>\n",
       "      <td>스넥</td>\n",
       "      <td>1,503,180,723</td>\n",
       "    </tr>\n",
       "    <tr>\n",
       "      <th>6</th>\n",
       "      <td>20대</td>\n",
       "      <td>스포츠레져용품</td>\n",
       "      <td>524,771,303</td>\n",
       "    </tr>\n",
       "    <tr>\n",
       "      <th>7</th>\n",
       "      <td>20대</td>\n",
       "      <td>신   발</td>\n",
       "      <td>25,271,300</td>\n",
       "    </tr>\n",
       "    <tr>\n",
       "      <th>8</th>\n",
       "      <td>20대</td>\n",
       "      <td>악세 사리</td>\n",
       "      <td>120,077,170</td>\n",
       "    </tr>\n",
       "    <tr>\n",
       "      <th>9</th>\n",
       "      <td>20대</td>\n",
       "      <td>안경</td>\n",
       "      <td>157,381,360</td>\n",
       "    </tr>\n",
       "    <tr>\n",
       "      <th>10</th>\n",
       "      <td>20대</td>\n",
       "      <td>약국</td>\n",
       "      <td>227,713,850</td>\n",
       "    </tr>\n",
       "    <tr>\n",
       "      <th>11</th>\n",
       "      <td>20대</td>\n",
       "      <td>의원</td>\n",
       "      <td>270,970,236</td>\n",
       "    </tr>\n",
       "    <tr>\n",
       "      <th>12</th>\n",
       "      <td>20대</td>\n",
       "      <td>정장(여성)</td>\n",
       "      <td>414,767,120</td>\n",
       "    </tr>\n",
       "    <tr>\n",
       "      <th>13</th>\n",
       "      <td>30대</td>\n",
       "      <td>귀 금 속</td>\n",
       "      <td>524,000</td>\n",
       "    </tr>\n",
       "    <tr>\n",
       "      <th>14</th>\n",
       "      <td>30대</td>\n",
       "      <td>기념품 점</td>\n",
       "      <td>2,462,131,531</td>\n",
       "    </tr>\n",
       "    <tr>\n",
       "      <th>15</th>\n",
       "      <td>30대</td>\n",
       "      <td>기타음료식품</td>\n",
       "      <td>419,179,171</td>\n",
       "    </tr>\n",
       "    <tr>\n",
       "      <th>16</th>\n",
       "      <td>30대</td>\n",
       "      <td>농축수산품</td>\n",
       "      <td>3,249,185,824</td>\n",
       "    </tr>\n",
       "    <tr>\n",
       "      <th>17</th>\n",
       "      <td>30대</td>\n",
       "      <td>슈퍼 마켓</td>\n",
       "      <td>3,601,002,293</td>\n",
       "    </tr>\n",
       "    <tr>\n",
       "      <th>18</th>\n",
       "      <td>30대</td>\n",
       "      <td>스넥</td>\n",
       "      <td>2,107,524,782</td>\n",
       "    </tr>\n",
       "    <tr>\n",
       "      <th>19</th>\n",
       "      <td>30대</td>\n",
       "      <td>스포츠레져용품</td>\n",
       "      <td>1,010,390,090</td>\n",
       "    </tr>\n",
       "    <tr>\n",
       "      <th>20</th>\n",
       "      <td>30대</td>\n",
       "      <td>신   발</td>\n",
       "      <td>34,083,500</td>\n",
       "    </tr>\n",
       "    <tr>\n",
       "      <th>21</th>\n",
       "      <td>30대</td>\n",
       "      <td>악세 사리</td>\n",
       "      <td>91,721,300</td>\n",
       "    </tr>\n",
       "    <tr>\n",
       "      <th>22</th>\n",
       "      <td>30대</td>\n",
       "      <td>안경</td>\n",
       "      <td>185,559,260</td>\n",
       "    </tr>\n",
       "    <tr>\n",
       "      <th>23</th>\n",
       "      <td>30대</td>\n",
       "      <td>약국</td>\n",
       "      <td>524,143,512</td>\n",
       "    </tr>\n",
       "    <tr>\n",
       "      <th>24</th>\n",
       "      <td>30대</td>\n",
       "      <td>의원</td>\n",
       "      <td>612,539,513</td>\n",
       "    </tr>\n",
       "    <tr>\n",
       "      <th>25</th>\n",
       "      <td>30대</td>\n",
       "      <td>정장(여성)</td>\n",
       "      <td>558,302,090</td>\n",
       "    </tr>\n",
       "    <tr>\n",
       "      <th>26</th>\n",
       "      <td>40대</td>\n",
       "      <td>골프 용품</td>\n",
       "      <td>7,921,500</td>\n",
       "    </tr>\n",
       "    <tr>\n",
       "      <th>27</th>\n",
       "      <td>40대</td>\n",
       "      <td>귀 금 속</td>\n",
       "      <td>463,000</td>\n",
       "    </tr>\n",
       "    <tr>\n",
       "      <th>28</th>\n",
       "      <td>40대</td>\n",
       "      <td>기념품 점</td>\n",
       "      <td>2,211,771,785</td>\n",
       "    </tr>\n",
       "    <tr>\n",
       "      <th>29</th>\n",
       "      <td>40대</td>\n",
       "      <td>기타음료식품</td>\n",
       "      <td>420,346,520</td>\n",
       "    </tr>\n",
       "    <tr>\n",
       "      <th>30</th>\n",
       "      <td>40대</td>\n",
       "      <td>농축수산품</td>\n",
       "      <td>3,911,537,165</td>\n",
       "    </tr>\n",
       "    <tr>\n",
       "      <th>31</th>\n",
       "      <td>40대</td>\n",
       "      <td>슈퍼 마켓</td>\n",
       "      <td>3,932,559,693</td>\n",
       "    </tr>\n",
       "    <tr>\n",
       "      <th>32</th>\n",
       "      <td>40대</td>\n",
       "      <td>스넥</td>\n",
       "      <td>1,251,292,233</td>\n",
       "    </tr>\n",
       "    <tr>\n",
       "      <th>33</th>\n",
       "      <td>40대</td>\n",
       "      <td>스포츠레져용품</td>\n",
       "      <td>1,054,951,340</td>\n",
       "    </tr>\n",
       "    <tr>\n",
       "      <th>34</th>\n",
       "      <td>40대</td>\n",
       "      <td>신   발</td>\n",
       "      <td>14,842,700</td>\n",
       "    </tr>\n",
       "    <tr>\n",
       "      <th>35</th>\n",
       "      <td>40대</td>\n",
       "      <td>악세 사리</td>\n",
       "      <td>71,093,820</td>\n",
       "    </tr>\n",
       "    <tr>\n",
       "      <th>36</th>\n",
       "      <td>40대</td>\n",
       "      <td>안경</td>\n",
       "      <td>91,924,860</td>\n",
       "    </tr>\n",
       "    <tr>\n",
       "      <th>37</th>\n",
       "      <td>40대</td>\n",
       "      <td>약국</td>\n",
       "      <td>462,875,476</td>\n",
       "    </tr>\n",
       "    <tr>\n",
       "      <th>38</th>\n",
       "      <td>40대</td>\n",
       "      <td>의원</td>\n",
       "      <td>469,264,204</td>\n",
       "    </tr>\n",
       "    <tr>\n",
       "      <th>39</th>\n",
       "      <td>40대</td>\n",
       "      <td>정장(여성)</td>\n",
       "      <td>469,272,990</td>\n",
       "    </tr>\n",
       "    <tr>\n",
       "      <th>40</th>\n",
       "      <td>50대</td>\n",
       "      <td>골프 용품</td>\n",
       "      <td>29,292,300</td>\n",
       "    </tr>\n",
       "    <tr>\n",
       "      <th>41</th>\n",
       "      <td>50대</td>\n",
       "      <td>기념품 점</td>\n",
       "      <td>1,699,951,679</td>\n",
       "    </tr>\n",
       "    <tr>\n",
       "      <th>42</th>\n",
       "      <td>50대</td>\n",
       "      <td>기타음료식품</td>\n",
       "      <td>273,761,835</td>\n",
       "    </tr>\n",
       "    <tr>\n",
       "      <th>43</th>\n",
       "      <td>50대</td>\n",
       "      <td>농축수산품</td>\n",
       "      <td>4,839,790,322</td>\n",
       "    </tr>\n",
       "    <tr>\n",
       "      <th>44</th>\n",
       "      <td>50대</td>\n",
       "      <td>슈퍼 마켓</td>\n",
       "      <td>2,810,233,381</td>\n",
       "    </tr>\n",
       "    <tr>\n",
       "      <th>45</th>\n",
       "      <td>50대</td>\n",
       "      <td>스넥</td>\n",
       "      <td>599,165,819</td>\n",
       "    </tr>\n",
       "    <tr>\n",
       "      <th>46</th>\n",
       "      <td>50대</td>\n",
       "      <td>스포츠레져용품</td>\n",
       "      <td>823,325,585</td>\n",
       "    </tr>\n",
       "    <tr>\n",
       "      <th>47</th>\n",
       "      <td>50대</td>\n",
       "      <td>신   발</td>\n",
       "      <td>3,038,100</td>\n",
       "    </tr>\n",
       "    <tr>\n",
       "      <th>48</th>\n",
       "      <td>50대</td>\n",
       "      <td>악세 사리</td>\n",
       "      <td>30,257,700</td>\n",
       "    </tr>\n",
       "    <tr>\n",
       "      <th>49</th>\n",
       "      <td>50대</td>\n",
       "      <td>안경</td>\n",
       "      <td>25,882,050</td>\n",
       "    </tr>\n",
       "    <tr>\n",
       "      <th>50</th>\n",
       "      <td>50대</td>\n",
       "      <td>약국</td>\n",
       "      <td>337,917,007</td>\n",
       "    </tr>\n",
       "    <tr>\n",
       "      <th>51</th>\n",
       "      <td>50대</td>\n",
       "      <td>의원</td>\n",
       "      <td>293,851,931</td>\n",
       "    </tr>\n",
       "    <tr>\n",
       "      <th>52</th>\n",
       "      <td>50대</td>\n",
       "      <td>정장(여성)</td>\n",
       "      <td>210,348,360</td>\n",
       "    </tr>\n",
       "  </tbody>\n",
       "</table>\n",
       "</div>"
      ],
      "text/plain": [
       "   연령대별      업종명        카드이용금액 \n",
       "0   20대    귀 금 속      1,193,100\n",
       "1   20대    기념품 점  1,491,000,000\n",
       "2   20대   기타음료식품    224,812,970\n",
       "3   20대    농축수산품  1,092,047,075\n",
       "4   20대    슈퍼 마켓  1,346,774,846\n",
       "5   20대       스넥  1,503,180,723\n",
       "6   20대  스포츠레져용품    524,771,303\n",
       "7   20대    신   발     25,271,300\n",
       "8   20대    악세 사리    120,077,170\n",
       "9   20대       안경    157,381,360\n",
       "10  20대       약국    227,713,850\n",
       "11  20대       의원    270,970,236\n",
       "12  20대   정장(여성)    414,767,120\n",
       "13  30대    귀 금 속        524,000\n",
       "14  30대    기념품 점  2,462,131,531\n",
       "15  30대   기타음료식품    419,179,171\n",
       "16  30대    농축수산품  3,249,185,824\n",
       "17  30대    슈퍼 마켓  3,601,002,293\n",
       "18  30대       스넥  2,107,524,782\n",
       "19  30대  스포츠레져용품  1,010,390,090\n",
       "20  30대    신   발     34,083,500\n",
       "21  30대    악세 사리     91,721,300\n",
       "22  30대       안경    185,559,260\n",
       "23  30대       약국    524,143,512\n",
       "24  30대       의원    612,539,513\n",
       "25  30대   정장(여성)    558,302,090\n",
       "26  40대    골프 용품      7,921,500\n",
       "27  40대    귀 금 속        463,000\n",
       "28  40대    기념품 점  2,211,771,785\n",
       "29  40대   기타음료식품    420,346,520\n",
       "30  40대    농축수산품  3,911,537,165\n",
       "31  40대    슈퍼 마켓  3,932,559,693\n",
       "32  40대       스넥  1,251,292,233\n",
       "33  40대  스포츠레져용품  1,054,951,340\n",
       "34  40대    신   발     14,842,700\n",
       "35  40대    악세 사리     71,093,820\n",
       "36  40대       안경     91,924,860\n",
       "37  40대       약국    462,875,476\n",
       "38  40대       의원    469,264,204\n",
       "39  40대   정장(여성)    469,272,990\n",
       "40  50대    골프 용품     29,292,300\n",
       "41  50대    기념품 점  1,699,951,679\n",
       "42  50대   기타음료식품    273,761,835\n",
       "43  50대    농축수산품  4,839,790,322\n",
       "44  50대    슈퍼 마켓  2,810,233,381\n",
       "45  50대       스넥    599,165,819\n",
       "46  50대  스포츠레져용품    823,325,585\n",
       "47  50대    신   발      3,038,100\n",
       "48  50대    악세 사리     30,257,700\n",
       "49  50대       안경     25,882,050\n",
       "50  50대       약국    337,917,007\n",
       "51  50대       의원    293,851,931\n",
       "52  50대   정장(여성)    210,348,360"
      ]
     },
     "execution_count": 85,
     "metadata": {},
     "output_type": "execute_result"
    }
   ],
   "source": [
    "result = df.groupby(['연령대별','업종명'])[' 카드이용금액 '].sum().reset_index()\n",
    "result[' 카드이용금액 '] = result[' 카드이용금액 '].apply(lambda x: '{:,.0f}'.format(x))\n",
    "result"
   ]
  },
  {
   "cell_type": "code",
   "execution_count": 96,
   "metadata": {},
   "outputs": [
    {
     "data": {
      "text/html": [
       "<div>\n",
       "<style scoped>\n",
       "    .dataframe tbody tr th:only-of-type {\n",
       "        vertical-align: middle;\n",
       "    }\n",
       "\n",
       "    .dataframe tbody tr th {\n",
       "        vertical-align: top;\n",
       "    }\n",
       "\n",
       "    .dataframe thead th {\n",
       "        text-align: right;\n",
       "    }\n",
       "</style>\n",
       "<table border=\"1\" class=\"dataframe\">\n",
       "  <thead>\n",
       "    <tr style=\"text-align: right;\">\n",
       "      <th></th>\n",
       "      <th>연령대별</th>\n",
       "      <th>업종명</th>\n",
       "      <th>카드이용금액</th>\n",
       "    </tr>\n",
       "  </thead>\n",
       "  <tbody>\n",
       "    <tr>\n",
       "      <th>43</th>\n",
       "      <td>50대</td>\n",
       "      <td>농축수산품</td>\n",
       "      <td>4839790322</td>\n",
       "    </tr>\n",
       "    <tr>\n",
       "      <th>31</th>\n",
       "      <td>40대</td>\n",
       "      <td>슈퍼 마켓</td>\n",
       "      <td>3932559693</td>\n",
       "    </tr>\n",
       "    <tr>\n",
       "      <th>17</th>\n",
       "      <td>30대</td>\n",
       "      <td>슈퍼 마켓</td>\n",
       "      <td>3601002293</td>\n",
       "    </tr>\n",
       "    <tr>\n",
       "      <th>5</th>\n",
       "      <td>20대</td>\n",
       "      <td>스넥</td>\n",
       "      <td>1503180723</td>\n",
       "    </tr>\n",
       "  </tbody>\n",
       "</table>\n",
       "</div>"
      ],
      "text/plain": [
       "   연령대별    업종명     카드이용금액 \n",
       "43  50대  농축수산품  4839790322\n",
       "31  40대  슈퍼 마켓  3932559693\n",
       "17  30대  슈퍼 마켓  3601002293\n",
       "5   20대     스넥  1503180723"
      ]
     },
     "execution_count": 96,
     "metadata": {},
     "output_type": "execute_result"
    }
   ],
   "source": [
    "money_by_ctg = df.groupby(['연령대별','업종명'])[' 카드이용금액 '].sum().reset_index().sort_values(' 카드이용금액 ',ascending=False).drop_duplicates('연령대별',keep='first')\n",
    "money_by_ctg"
   ]
  },
  {
   "cell_type": "code",
   "execution_count": 102,
   "metadata": {},
   "outputs": [
    {
     "data": {
      "text/plain": [
       "<Figure size 864x576 with 0 Axes>"
      ]
     },
     "execution_count": 102,
     "metadata": {},
     "output_type": "execute_result"
    },
    {
     "data": {
      "text/plain": [
       "<matplotlib.axes._subplots.AxesSubplot at 0x1a3a799ccf8>"
      ]
     },
     "execution_count": 102,
     "metadata": {},
     "output_type": "execute_result"
    },
    {
     "data": {
      "text/plain": [
       "Text(0.5, 1.0, '연령대별 가장 많이 쓴 업종')"
      ]
     },
     "execution_count": 102,
     "metadata": {},
     "output_type": "execute_result"
    },
    {
     "data": {
      "image/png": "[encoded data removed]",
      "text/plain": [
       "<Figure size 864x576 with 1 Axes>"
      ]
     },
     "metadata": {
      "needs_background": "light"
     },
     "output_type": "display_data"
    }
   ],
   "source": [
    "plt.figure(figsize=(12, 8))\n",
    "sns.barplot(x='', y=' 카드이용금액 ', data=money_by_ctg, palette='pastel', hue='업종명')\n",
    "plt.title('연령대별 가장 많이 쓴 업종', fontsize=18)\n",
    "plt.show()"
   ]
  },
  {
   "cell_type": "code",
   "execution_count": null,
   "metadata": {},
   "outputs": [],
   "source": []
  },
  {
   "cell_type": "code",
   "execution_count": null,
   "metadata": {},
   "outputs": [],
   "source": []
  },
  {
   "cell_type": "code",
   "execution_count": null,
   "metadata": {},
   "outputs": [],
   "source": []
  },
  {
   "cell_type": "code",
   "execution_count": null,
   "metadata": {},
   "outputs": [],
   "source": []
  },
  {
   "cell_type": "code",
   "execution_count": null,
   "metadata": {},
   "outputs": [],
   "source": []
  }
 ],
 "metadata": {
  "kernelspec": {
   "display_name": "Python 3",
   "language": "python",
   "name": "python3"
  },
  "language_info": {
   "codemirror_mode": {
    "name": "ipython",
    "version": 3
   },
   "file_extension": ".py",
   "mimetype": "text/x-python",
   "name": "python",
   "nbconvert_exporter": "python",
   "pygments_lexer": "ipython3",
   "version": "3.6.10"
  }
 },
 "nbformat": 4,
 "nbformat_minor": 4
}
